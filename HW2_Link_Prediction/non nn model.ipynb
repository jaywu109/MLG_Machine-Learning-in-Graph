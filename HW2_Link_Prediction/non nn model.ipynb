{
 "cells": [
  {
   "cell_type": "code",
   "execution_count": 225,
   "id": "b285a4d8",
   "metadata": {},
   "outputs": [],
   "source": [
    "import xgboost as xgb\n",
    "import pandas as pd \n",
    "import numpy as np\n",
    "\n",
    "from sklearn.utils.extmath import softmax"
   ]
  },
  {
   "cell_type": "code",
   "execution_count": 226,
   "id": "28d3cb57",
   "metadata": {},
   "outputs": [],
   "source": [
    "edge_train = pd.read_csv('train_2.csv')\n",
    "edge_test = pd.read_csv('test_2.csv')\n",
    "u_ex = pd.read_csv('upload_2.csv')\n",
    "str_fea = pd.read_csv('con_100fea2.csv')"
   ]
  },
  {
   "cell_type": "code",
   "execution_count": 227,
   "id": "0bb49481",
   "metadata": {},
   "outputs": [],
   "source": [
    "def edge_sort_train(train):\n",
    "    train_link = train.loc[:,['to', 'from', 'label']]\n",
    "\n",
    "    for i in train_link.index:\n",
    "        t = train_link.loc[i]['to']\n",
    "        f = train_link.loc[i]['from']\n",
    "        if t > f :\n",
    "            train_link.loc[i]['to'] = f\n",
    "            train_link.loc[i]['from'] = t\n",
    "\n",
    "    train_link = train_link.sort_values(by='to')\n",
    "    train_link = train_link[~train_link.duplicated()] # -> with duplicated edge exists\n",
    "    train_link.index = range(train_link.shape[0])\n",
    "\n",
    "    return train_link"
   ]
  },
  {
   "cell_type": "code",
   "execution_count": 228,
   "id": "b8b448f6",
   "metadata": {},
   "outputs": [],
   "source": [
    "def edge_sort_test(train):\n",
    "    train_link = train.loc[:,['id', 'to', 'from']]\n",
    "\n",
    "    for i in train_link.index:\n",
    "        t = train_link.loc[i]['to']\n",
    "        f = train_link.loc[i]['from']\n",
    "        if t > f :\n",
    "            train_link.loc[i]['to'] = f\n",
    "            train_link.loc[i]['from'] = t\n",
    "\n",
    "    train_link = train_link.sort_values(by='to')\n",
    "    train_link.index = range(train_link.shape[0])\n",
    "\n",
    "    return train_link"
   ]
  },
  {
   "cell_type": "code",
   "execution_count": 229,
   "id": "12ca4315",
   "metadata": {},
   "outputs": [],
   "source": [
    "# np.concatenate((t, f), axis=0)"
   ]
  },
  {
   "cell_type": "code",
   "execution_count": 230,
   "id": "4dfb2781",
   "metadata": {},
   "outputs": [],
   "source": [
    "t = str_fea.loc[edge_train.loc[i, 'to'], :].values\n",
    "f = str_fea.loc[edge_train.loc[i, 'from'], :].values"
   ]
  },
  {
   "cell_type": "code",
   "execution_count": 231,
   "id": "c521abca",
   "metadata": {},
   "outputs": [
    {
     "data": {
      "text/plain": [
       "(100,)"
      ]
     },
     "execution_count": 231,
     "metadata": {},
     "output_type": "execute_result"
    }
   ],
   "source": [
    "(t * f).shape"
   ]
  },
  {
   "cell_type": "code",
   "execution_count": 232,
   "id": "aaf4f897",
   "metadata": {},
   "outputs": [],
   "source": [
    "def get_fea(e_sort, str_fea):\n",
    "    \n",
    "    fea = []\n",
    "    for i in e_sort.index:\n",
    "\n",
    "        t = str_fea.loc[e_sort.loc[i, 'to'], :].values\n",
    "        f = str_fea.loc[e_sort.loc[i, 'from'], :].values\n",
    "        fea.append(np.dot(t,f))\n",
    "\n",
    "    fea = np.array(fea)\n",
    "    \n",
    "    return fea"
   ]
  },
  {
   "cell_type": "code",
   "execution_count": 233,
   "id": "8451e494",
   "metadata": {
    "scrolled": true
   },
   "outputs": [
    {
     "name": "stderr",
     "output_type": "stream",
     "text": [
      "<ipython-input-228-2e4738421c7f>:8: SettingWithCopyWarning: \n",
      "A value is trying to be set on a copy of a slice from a DataFrame\n",
      "\n",
      "See the caveats in the documentation: https://pandas.pydata.org/pandas-docs/stable/user_guide/indexing.html#returning-a-view-versus-a-copy\n",
      "  train_link.loc[i]['to'] = f\n",
      "<ipython-input-228-2e4738421c7f>:9: SettingWithCopyWarning: \n",
      "A value is trying to be set on a copy of a slice from a DataFrame\n",
      "\n",
      "See the caveats in the documentation: https://pandas.pydata.org/pandas-docs/stable/user_guide/indexing.html#returning-a-view-versus-a-copy\n",
      "  train_link.loc[i]['from'] = t\n"
     ]
    }
   ],
   "source": [
    "e_sort_train = edge_sort_train(edge_train)\n",
    "e_sort_test = edge_sort_test(edge_test)\n",
    "y_train = e_sort_train.label.values\n"
   ]
  },
  {
   "cell_type": "code",
   "execution_count": 234,
   "id": "bf9dc31c",
   "metadata": {},
   "outputs": [],
   "source": [
    "x_train = get_fea(e_sort_train, str_fea)\n",
    "x_test = get_fea(e_sort_test, str_fea)"
   ]
  },
  {
   "cell_type": "code",
   "execution_count": 145,
   "id": "f6385a99",
   "metadata": {},
   "outputs": [
    {
     "data": {
      "text/plain": [
       "RandomForestClassifier(random_state=0)"
      ]
     },
     "execution_count": 145,
     "metadata": {},
     "output_type": "execute_result"
    }
   ],
   "source": [
    "from sklearn.ensemble import RandomForestClassifier\n",
    "\n",
    "rf = RandomForestClassifier(random_state=0)\n",
    "rf.fit(x_train, y_train)\n"
   ]
  },
  {
   "cell_type": "code",
   "execution_count": 235,
   "id": "0a08e70e",
   "metadata": {},
   "outputs": [
    {
     "data": {
      "text/plain": [
       "RidgeClassifier()"
      ]
     },
     "execution_count": 235,
     "metadata": {},
     "output_type": "execute_result"
    }
   ],
   "source": [
    "from sklearn.linear_model import RidgeClassifier\n",
    "\n",
    "ridge = RidgeClassifier()\n",
    "ridge.fit(x_train.reshape(-1, 1), y_train)\n"
   ]
  },
  {
   "cell_type": "code",
   "execution_count": 214,
   "id": "0a61a879",
   "metadata": {},
   "outputs": [
    {
     "data": {
      "text/plain": [
       "array([0, 0, 0, ..., 1, 1, 1], dtype=int64)"
      ]
     },
     "execution_count": 214,
     "metadata": {},
     "output_type": "execute_result"
    }
   ],
   "source": [
    "ridge.predict(x_train.reshape(-1, 1))"
   ]
  },
  {
   "cell_type": "code",
   "execution_count": 185,
   "id": "d7357b5e",
   "metadata": {},
   "outputs": [
    {
     "data": {
      "text/plain": [
       "LGBMClassifier(random_state=0)"
      ]
     },
     "execution_count": 185,
     "metadata": {},
     "output_type": "execute_result"
    }
   ],
   "source": [
    "import lightgbm as lgbm\n",
    "\n",
    "lgb = lgbm.LGBMClassifier(random_state=0)\n",
    "lgb.fit(x_train, y_train)\n"
   ]
  },
  {
   "cell_type": "code",
   "execution_count": 147,
   "id": "32313389",
   "metadata": {},
   "outputs": [
    {
     "name": "stderr",
     "output_type": "stream",
     "text": [
      "C:\\Users\\bbb50\\anaconda3\\envs\\graph\\lib\\site-packages\\xgboost\\sklearn.py:1146: UserWarning: The use of label encoder in XGBClassifier is deprecated and will be removed in a future release. To remove this warning, do the following: 1) Pass option use_label_encoder=False when constructing XGBClassifier object; and 2) Encode your labels (y) as integers starting with 0, i.e. 0, 1, 2, ..., [num_class - 1].\n",
      "  warnings.warn(label_encoder_deprecation_msg, UserWarning)\n"
     ]
    },
    {
     "name": "stdout",
     "output_type": "stream",
     "text": [
      "[17:42:58] WARNING: C:/Users/Administrator/workspace/xgboost-win64_release_1.4.0/src/learner.cc:1095: Starting in XGBoost 1.3.0, the default evaluation metric used with the objective 'binary:logistic' was changed from 'error' to 'logloss'. Explicitly set eval_metric if you'd like to restore the old behavior.\n"
     ]
    },
    {
     "data": {
      "text/plain": [
       "XGBClassifier(base_score=0.5, booster='gbtree', colsample_bylevel=1,\n",
       "              colsample_bynode=1, colsample_bytree=1, gamma=0, gpu_id=-1,\n",
       "              importance_type='gain', interaction_constraints='',\n",
       "              learning_rate=0.300000012, max_delta_step=0, max_depth=6,\n",
       "              min_child_weight=1, missing=nan, monotone_constraints='()',\n",
       "              n_estimators=100, n_jobs=8, num_parallel_tree=1, random_state=0,\n",
       "              reg_alpha=0, reg_lambda=1, scale_pos_weight=1, subsample=1,\n",
       "              tree_method='exact', validate_parameters=1, verbosity=None)"
      ]
     },
     "execution_count": 147,
     "metadata": {},
     "output_type": "execute_result"
    }
   ],
   "source": [
    "import xgboost as xgb\n",
    "xgb_model = xgb.XGBClassifier()\n",
    "xgb_model.fit(x_train, y_train)"
   ]
  },
  {
   "cell_type": "code",
   "execution_count": null,
   "id": "f1996829",
   "metadata": {},
   "outputs": [],
   "source": []
  },
  {
   "cell_type": "code",
   "execution_count": 237,
   "id": "c2d7bbcb",
   "metadata": {},
   "outputs": [
    {
     "data": {
      "text/plain": [
       "(1886,)"
      ]
     },
     "execution_count": 237,
     "metadata": {},
     "output_type": "execute_result"
    }
   ],
   "source": []
  },
  {
   "cell_type": "code",
   "execution_count": 240,
   "id": "ebbfb20c",
   "metadata": {},
   "outputs": [],
   "source": [
    "d = ridge.decision_function(x_test.reshape(-1, 1))\n",
    "d_2d = np.c_[-d, d]\n",
    "d = {'id': e_sort_test.id.values, 'prob': softmax(d_2d)[:, 1]}\n",
    "pred = pd.DataFrame(d)"
   ]
  },
  {
   "cell_type": "code",
   "execution_count": 246,
   "id": "c78f3737",
   "metadata": {},
   "outputs": [
    {
     "data": {
      "text/plain": [
       "(1886,)"
      ]
     },
     "execution_count": 246,
     "metadata": {},
     "output_type": "execute_result"
    }
   ],
   "source": [
    " softmax(d_2d)[:, 1].shape"
   ]
  },
  {
   "cell_type": "code",
   "execution_count": 186,
   "id": "1f60e0a7",
   "metadata": {},
   "outputs": [],
   "source": [
    "d = {'id': e_sort_test.id.values, 'prob': lgb.predict_proba(x_test)[:,1]}\n",
    "pred = pd.DataFrame(d)\n"
   ]
  },
  {
   "cell_type": "code",
   "execution_count": 241,
   "id": "6907b196",
   "metadata": {},
   "outputs": [],
   "source": [
    "for i in u_ex.index:\n",
    "    u_ex.loc[i, 'prob'] = pred[pred.id == u_ex.loc[i, 'id']].prob.values"
   ]
  },
  {
   "cell_type": "code",
   "execution_count": 242,
   "id": "e3a068bb",
   "metadata": {},
   "outputs": [],
   "source": [
    "u_ex.to_csv('u2.csv', index= False)"
   ]
  },
  {
   "cell_type": "code",
   "execution_count": null,
   "id": "42a9b6f5",
   "metadata": {},
   "outputs": [],
   "source": []
  }
 ],
 "metadata": {
  "kernelspec": {
   "display_name": "Python 3",
   "language": "python",
   "name": "python3"
  },
  "language_info": {
   "codemirror_mode": {
    "name": "ipython",
    "version": 3
   },
   "file_extension": ".py",
   "mimetype": "text/x-python",
   "name": "python",
   "nbconvert_exporter": "python",
   "pygments_lexer": "ipython3",
   "version": "3.8.8"
  }
 },
 "nbformat": 4,
 "nbformat_minor": 5
}
