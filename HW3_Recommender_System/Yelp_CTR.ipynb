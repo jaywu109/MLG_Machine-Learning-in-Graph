{
 "cells": [
  {
   "cell_type": "code",
   "execution_count": 13,
   "id": "e7209b6d",
   "metadata": {},
   "outputs": [],
   "source": [
    "from scipy.sparse import coo_matrix, csr_matrix, lil_matrix, vstack, hstack\n",
    "from scipy import sparse"
   ]
  },
  {
   "cell_type": "code",
   "execution_count": 14,
   "id": "0ac2d199",
   "metadata": {},
   "outputs": [],
   "source": [
    "import numpy as np\n",
    "import pandas as pd\n",
    "import torch\n",
    "from sklearn.preprocessing import LabelEncoder\n",
    "from tensorflow.python.keras.preprocessing.sequence import pad_sequences\n",
    "\n",
    "from torch.optim import Adam\n",
    "\n",
    "from deepctr_torch.inputs import SparseFeat, VarLenSparseFeat, get_feature_names, build_input_features\n",
    "\n",
    "from deepctr_torch.callbacks import EarlyStopping, ModelCheckpoint\n"
   ]
  },
  {
   "cell_type": "code",
   "execution_count": 15,
   "id": "7b5f072e",
   "metadata": {},
   "outputs": [],
   "source": [
    "import os"
   ]
  },
  {
   "cell_type": "code",
   "execution_count": 16,
   "id": "f5096e6d",
   "metadata": {},
   "outputs": [],
   "source": [
    "def sparse2tensor(sparse_mat):\n",
    "    \n",
    "    coo = sparse_mat.tocoo()\n",
    "\n",
    "    values = coo.data\n",
    "    indices = np.vstack((coo.row, coo.col))\n",
    "\n",
    "    i = torch.LongTensor(indices)\n",
    "    v = torch.FloatTensor(values)\n",
    "    shape = coo.shape\n",
    "\n",
    "    return torch.sparse.FloatTensor(i, v, torch.Size(shape)).to_dense()\n"
   ]
  },
  {
   "cell_type": "code",
   "execution_count": 17,
   "id": "8ad792f5",
   "metadata": {},
   "outputs": [],
   "source": [
    "root = 'C:/Users/bbb50/Desktop/Python/hw3/Yelp'"
   ]
  },
  {
   "cell_type": "code",
   "execution_count": 18,
   "id": "a6ccb648",
   "metadata": {},
   "outputs": [],
   "source": [
    "\n",
    "\n",
    "user_business = pd.read_feather(os.path.join(root, 'user_business_fea.ftr'), use_threads=True)\n",
    "user_business = user_business[user_business.columns[1:]]\n",
    "user_list = user_business.user.value_counts().index.to_numpy()\n",
    "user_list = np.sort(user_list)\n",
    "\n",
    "business_list = user_business.business.value_counts().index.to_numpy()\n",
    "business_list = np.sort(business_list).astype(str)\n",
    "\n",
    "n_users = user_list.shape[0]\n",
    "n_businesss = business_list.shape[0]"
   ]
  },
  {
   "cell_type": "code",
   "execution_count": 19,
   "id": "819b6f09",
   "metadata": {},
   "outputs": [
    {
     "data": {
      "text/plain": [
       "8533"
      ]
     },
     "execution_count": 19,
     "metadata": {},
     "output_type": "execute_result"
    }
   ],
   "source": [
    "n_users"
   ]
  },
  {
   "cell_type": "code",
   "execution_count": 20,
   "id": "454811d3",
   "metadata": {},
   "outputs": [],
   "source": [
    "data = user_business"
   ]
  },
  {
   "cell_type": "code",
   "execution_count": 21,
   "id": "cbc929c8",
   "metadata": {},
   "outputs": [
    {
     "data": {
      "text/html": [
       "<div>\n",
       "<style scoped>\n",
       "    .dataframe tbody tr th:only-of-type {\n",
       "        vertical-align: middle;\n",
       "    }\n",
       "\n",
       "    .dataframe tbody tr th {\n",
       "        vertical-align: top;\n",
       "    }\n",
       "\n",
       "    .dataframe thead th {\n",
       "        text-align: right;\n",
       "    }\n",
       "</style>\n",
       "<table border=\"1\" class=\"dataframe\">\n",
       "  <thead>\n",
       "    <tr style=\"text-align: right;\">\n",
       "      <th></th>\n",
       "      <th>user</th>\n",
       "      <th>business</th>\n",
       "      <th>rate</th>\n",
       "      <th>city</th>\n",
       "      <th>category</th>\n",
       "      <th>user_inter</th>\n",
       "      <th>compliment</th>\n",
       "    </tr>\n",
       "  </thead>\n",
       "  <tbody>\n",
       "    <tr>\n",
       "      <th>0</th>\n",
       "      <td>0</td>\n",
       "      <td>182</td>\n",
       "      <td>5</td>\n",
       "      <td>30</td>\n",
       "      <td>30</td>\n",
       "      <td>[26, 99, 166, 182, 216, 227, 258, 263, 363, 46...</td>\n",
       "      <td>[0, 1, 2, 3, 4, 5, 6, 7, 8, 10]</td>\n",
       "    </tr>\n",
       "    <tr>\n",
       "      <th>1</th>\n",
       "      <td>0</td>\n",
       "      <td>200</td>\n",
       "      <td>5</td>\n",
       "      <td>30</td>\n",
       "      <td>30</td>\n",
       "      <td>[26, 99, 166, 182, 216, 227, 258, 263, 363, 46...</td>\n",
       "      <td>[0, 1, 2, 3, 4, 5, 6, 7, 8, 10]</td>\n",
       "    </tr>\n",
       "    <tr>\n",
       "      <th>2</th>\n",
       "      <td>0</td>\n",
       "      <td>204</td>\n",
       "      <td>4</td>\n",
       "      <td>30</td>\n",
       "      <td>17</td>\n",
       "      <td>[26, 99, 166, 182, 216, 227, 258, 263, 363, 46...</td>\n",
       "      <td>[0, 1, 2, 3, 4, 5, 6, 7, 8, 10]</td>\n",
       "    </tr>\n",
       "    <tr>\n",
       "      <th>3</th>\n",
       "      <td>0</td>\n",
       "      <td>453</td>\n",
       "      <td>3</td>\n",
       "      <td>30</td>\n",
       "      <td>34</td>\n",
       "      <td>[26, 99, 166, 182, 216, 227, 258, 263, 363, 46...</td>\n",
       "      <td>[0, 1, 2, 3, 4, 5, 6, 7, 8, 10]</td>\n",
       "    </tr>\n",
       "    <tr>\n",
       "      <th>4</th>\n",
       "      <td>0</td>\n",
       "      <td>491</td>\n",
       "      <td>2</td>\n",
       "      <td>30</td>\n",
       "      <td>40</td>\n",
       "      <td>[26, 99, 166, 182, 216, 227, 258, 263, 363, 46...</td>\n",
       "      <td>[0, 1, 2, 3, 4, 5, 6, 7, 8, 10]</td>\n",
       "    </tr>\n",
       "    <tr>\n",
       "      <th>...</th>\n",
       "      <td>...</td>\n",
       "      <td>...</td>\n",
       "      <td>...</td>\n",
       "      <td>...</td>\n",
       "      <td>...</td>\n",
       "      <td>...</td>\n",
       "      <td>...</td>\n",
       "    </tr>\n",
       "    <tr>\n",
       "      <th>188451</th>\n",
       "      <td>8531</td>\n",
       "      <td>13150</td>\n",
       "      <td>5</td>\n",
       "      <td>25</td>\n",
       "      <td>39</td>\n",
       "      <td>[1906, 6381]</td>\n",
       "      <td>[6, 8, 10]</td>\n",
       "    </tr>\n",
       "    <tr>\n",
       "      <th>188452</th>\n",
       "      <td>8532</td>\n",
       "      <td>2554</td>\n",
       "      <td>4</td>\n",
       "      <td>34</td>\n",
       "      <td>34</td>\n",
       "      <td>[8533]</td>\n",
       "      <td>[11]</td>\n",
       "    </tr>\n",
       "    <tr>\n",
       "      <th>188453</th>\n",
       "      <td>8532</td>\n",
       "      <td>10435</td>\n",
       "      <td>1</td>\n",
       "      <td>34</td>\n",
       "      <td>28</td>\n",
       "      <td>[8533]</td>\n",
       "      <td>[11]</td>\n",
       "    </tr>\n",
       "    <tr>\n",
       "      <th>188454</th>\n",
       "      <td>8532</td>\n",
       "      <td>12614</td>\n",
       "      <td>4</td>\n",
       "      <td>34</td>\n",
       "      <td>30</td>\n",
       "      <td>[8533]</td>\n",
       "      <td>[11]</td>\n",
       "    </tr>\n",
       "    <tr>\n",
       "      <th>188455</th>\n",
       "      <td>8532</td>\n",
       "      <td>13396</td>\n",
       "      <td>1</td>\n",
       "      <td>34</td>\n",
       "      <td>28</td>\n",
       "      <td>[8533]</td>\n",
       "      <td>[11]</td>\n",
       "    </tr>\n",
       "  </tbody>\n",
       "</table>\n",
       "<p>188456 rows × 7 columns</p>\n",
       "</div>"
      ],
      "text/plain": [
       "        user  business  rate  city  category  \\\n",
       "0          0       182     5    30        30   \n",
       "1          0       200     5    30        30   \n",
       "2          0       204     4    30        17   \n",
       "3          0       453     3    30        34   \n",
       "4          0       491     2    30        40   \n",
       "...      ...       ...   ...   ...       ...   \n",
       "188451  8531     13150     5    25        39   \n",
       "188452  8532      2554     4    34        34   \n",
       "188453  8532     10435     1    34        28   \n",
       "188454  8532     12614     4    34        30   \n",
       "188455  8532     13396     1    34        28   \n",
       "\n",
       "                                               user_inter  \\\n",
       "0       [26, 99, 166, 182, 216, 227, 258, 263, 363, 46...   \n",
       "1       [26, 99, 166, 182, 216, 227, 258, 263, 363, 46...   \n",
       "2       [26, 99, 166, 182, 216, 227, 258, 263, 363, 46...   \n",
       "3       [26, 99, 166, 182, 216, 227, 258, 263, 363, 46...   \n",
       "4       [26, 99, 166, 182, 216, 227, 258, 263, 363, 46...   \n",
       "...                                                   ...   \n",
       "188451                                       [1906, 6381]   \n",
       "188452                                             [8533]   \n",
       "188453                                             [8533]   \n",
       "188454                                             [8533]   \n",
       "188455                                             [8533]   \n",
       "\n",
       "                             compliment  \n",
       "0       [0, 1, 2, 3, 4, 5, 6, 7, 8, 10]  \n",
       "1       [0, 1, 2, 3, 4, 5, 6, 7, 8, 10]  \n",
       "2       [0, 1, 2, 3, 4, 5, 6, 7, 8, 10]  \n",
       "3       [0, 1, 2, 3, 4, 5, 6, 7, 8, 10]  \n",
       "4       [0, 1, 2, 3, 4, 5, 6, 7, 8, 10]  \n",
       "...                                 ...  \n",
       "188451                       [6, 8, 10]  \n",
       "188452                             [11]  \n",
       "188453                             [11]  \n",
       "188454                             [11]  \n",
       "188455                             [11]  \n",
       "\n",
       "[188456 rows x 7 columns]"
      ]
     },
     "execution_count": 21,
     "metadata": {},
     "output_type": "execute_result"
    }
   ],
   "source": [
    "data "
   ]
  },
  {
   "cell_type": "code",
   "execution_count": 22,
   "id": "0f77a2b3",
   "metadata": {},
   "outputs": [],
   "source": [
    "def compliment_split(x):\n",
    "    key_ans = x\n",
    "    for key in key_ans:\n",
    "        if key not in compliment_key2index:\n",
    "            compliment_key2index[key] = len(compliment_key2index) + 1\n",
    "    return list(map(lambda x: compliment_key2index[x], key_ans))\n",
    "\n",
    "def user_inter_split(x):\n",
    "    key_ans = x\n",
    "    for key in key_ans:\n",
    "        if key not in user_inter_key2index:\n",
    "            user_inter_key2index[key] = len(user_inter_key2index) + 1\n",
    "    return list(map(lambda x: user_inter_key2index[x], key_ans))"
   ]
  },
  {
   "cell_type": "code",
   "execution_count": 23,
   "id": "72e4ec39",
   "metadata": {},
   "outputs": [],
   "source": [
    "compliment_key2index = {}\n",
    "compliment_list = list(map(compliment_split, data['compliment'].values))\n",
    "compliment_length = np.array(list(map(len, compliment_list)))\n",
    "compliment_max_len = max(compliment_length)\n",
    "compliment_list = pad_sequences(compliment_list, maxlen=compliment_max_len, padding='post', )"
   ]
  },
  {
   "cell_type": "code",
   "execution_count": 24,
   "id": "c5de13c7",
   "metadata": {},
   "outputs": [],
   "source": [
    "user_inter_key2index = {}\n",
    "user_inter_list = list(map(user_inter_split, data['user_inter'].values))\n",
    "user_inter_length = np.array(list(map(len, user_inter_list)))\n",
    "user_inter_max_len = max(user_inter_length)\n",
    "user_inter_list = pad_sequences(user_inter_list, maxlen=user_inter_max_len, padding='post', )"
   ]
  },
  {
   "cell_type": "code",
   "execution_count": 25,
   "id": "ba735eac",
   "metadata": {},
   "outputs": [
    {
     "data": {
      "text/html": [
       "<div>\n",
       "<style scoped>\n",
       "    .dataframe tbody tr th:only-of-type {\n",
       "        vertical-align: middle;\n",
       "    }\n",
       "\n",
       "    .dataframe tbody tr th {\n",
       "        vertical-align: top;\n",
       "    }\n",
       "\n",
       "    .dataframe thead th {\n",
       "        text-align: right;\n",
       "    }\n",
       "</style>\n",
       "<table border=\"1\" class=\"dataframe\">\n",
       "  <thead>\n",
       "    <tr style=\"text-align: right;\">\n",
       "      <th></th>\n",
       "      <th>user</th>\n",
       "      <th>business</th>\n",
       "      <th>rate</th>\n",
       "      <th>city</th>\n",
       "      <th>category</th>\n",
       "      <th>user_inter</th>\n",
       "      <th>compliment</th>\n",
       "    </tr>\n",
       "  </thead>\n",
       "  <tbody>\n",
       "    <tr>\n",
       "      <th>0</th>\n",
       "      <td>0</td>\n",
       "      <td>182</td>\n",
       "      <td>5</td>\n",
       "      <td>30</td>\n",
       "      <td>30</td>\n",
       "      <td>[26, 99, 166, 182, 216, 227, 258, 263, 363, 46...</td>\n",
       "      <td>[0, 1, 2, 3, 4, 5, 6, 7, 8, 10]</td>\n",
       "    </tr>\n",
       "    <tr>\n",
       "      <th>1</th>\n",
       "      <td>0</td>\n",
       "      <td>200</td>\n",
       "      <td>5</td>\n",
       "      <td>30</td>\n",
       "      <td>30</td>\n",
       "      <td>[26, 99, 166, 182, 216, 227, 258, 263, 363, 46...</td>\n",
       "      <td>[0, 1, 2, 3, 4, 5, 6, 7, 8, 10]</td>\n",
       "    </tr>\n",
       "    <tr>\n",
       "      <th>2</th>\n",
       "      <td>0</td>\n",
       "      <td>204</td>\n",
       "      <td>4</td>\n",
       "      <td>30</td>\n",
       "      <td>17</td>\n",
       "      <td>[26, 99, 166, 182, 216, 227, 258, 263, 363, 46...</td>\n",
       "      <td>[0, 1, 2, 3, 4, 5, 6, 7, 8, 10]</td>\n",
       "    </tr>\n",
       "    <tr>\n",
       "      <th>3</th>\n",
       "      <td>0</td>\n",
       "      <td>453</td>\n",
       "      <td>3</td>\n",
       "      <td>30</td>\n",
       "      <td>34</td>\n",
       "      <td>[26, 99, 166, 182, 216, 227, 258, 263, 363, 46...</td>\n",
       "      <td>[0, 1, 2, 3, 4, 5, 6, 7, 8, 10]</td>\n",
       "    </tr>\n",
       "    <tr>\n",
       "      <th>4</th>\n",
       "      <td>0</td>\n",
       "      <td>491</td>\n",
       "      <td>2</td>\n",
       "      <td>30</td>\n",
       "      <td>40</td>\n",
       "      <td>[26, 99, 166, 182, 216, 227, 258, 263, 363, 46...</td>\n",
       "      <td>[0, 1, 2, 3, 4, 5, 6, 7, 8, 10]</td>\n",
       "    </tr>\n",
       "    <tr>\n",
       "      <th>...</th>\n",
       "      <td>...</td>\n",
       "      <td>...</td>\n",
       "      <td>...</td>\n",
       "      <td>...</td>\n",
       "      <td>...</td>\n",
       "      <td>...</td>\n",
       "      <td>...</td>\n",
       "    </tr>\n",
       "    <tr>\n",
       "      <th>188451</th>\n",
       "      <td>8531</td>\n",
       "      <td>13150</td>\n",
       "      <td>5</td>\n",
       "      <td>25</td>\n",
       "      <td>39</td>\n",
       "      <td>[1906, 6381]</td>\n",
       "      <td>[6, 8, 10]</td>\n",
       "    </tr>\n",
       "    <tr>\n",
       "      <th>188452</th>\n",
       "      <td>8532</td>\n",
       "      <td>2554</td>\n",
       "      <td>4</td>\n",
       "      <td>34</td>\n",
       "      <td>34</td>\n",
       "      <td>[8533]</td>\n",
       "      <td>[11]</td>\n",
       "    </tr>\n",
       "    <tr>\n",
       "      <th>188453</th>\n",
       "      <td>8532</td>\n",
       "      <td>10435</td>\n",
       "      <td>1</td>\n",
       "      <td>34</td>\n",
       "      <td>28</td>\n",
       "      <td>[8533]</td>\n",
       "      <td>[11]</td>\n",
       "    </tr>\n",
       "    <tr>\n",
       "      <th>188454</th>\n",
       "      <td>8532</td>\n",
       "      <td>12614</td>\n",
       "      <td>4</td>\n",
       "      <td>34</td>\n",
       "      <td>30</td>\n",
       "      <td>[8533]</td>\n",
       "      <td>[11]</td>\n",
       "    </tr>\n",
       "    <tr>\n",
       "      <th>188455</th>\n",
       "      <td>8532</td>\n",
       "      <td>13396</td>\n",
       "      <td>1</td>\n",
       "      <td>34</td>\n",
       "      <td>28</td>\n",
       "      <td>[8533]</td>\n",
       "      <td>[11]</td>\n",
       "    </tr>\n",
       "  </tbody>\n",
       "</table>\n",
       "<p>188456 rows × 7 columns</p>\n",
       "</div>"
      ],
      "text/plain": [
       "        user  business  rate  city  category  \\\n",
       "0          0       182     5    30        30   \n",
       "1          0       200     5    30        30   \n",
       "2          0       204     4    30        17   \n",
       "3          0       453     3    30        34   \n",
       "4          0       491     2    30        40   \n",
       "...      ...       ...   ...   ...       ...   \n",
       "188451  8531     13150     5    25        39   \n",
       "188452  8532      2554     4    34        34   \n",
       "188453  8532     10435     1    34        28   \n",
       "188454  8532     12614     4    34        30   \n",
       "188455  8532     13396     1    34        28   \n",
       "\n",
       "                                               user_inter  \\\n",
       "0       [26, 99, 166, 182, 216, 227, 258, 263, 363, 46...   \n",
       "1       [26, 99, 166, 182, 216, 227, 258, 263, 363, 46...   \n",
       "2       [26, 99, 166, 182, 216, 227, 258, 263, 363, 46...   \n",
       "3       [26, 99, 166, 182, 216, 227, 258, 263, 363, 46...   \n",
       "4       [26, 99, 166, 182, 216, 227, 258, 263, 363, 46...   \n",
       "...                                                   ...   \n",
       "188451                                       [1906, 6381]   \n",
       "188452                                             [8533]   \n",
       "188453                                             [8533]   \n",
       "188454                                             [8533]   \n",
       "188455                                             [8533]   \n",
       "\n",
       "                             compliment  \n",
       "0       [0, 1, 2, 3, 4, 5, 6, 7, 8, 10]  \n",
       "1       [0, 1, 2, 3, 4, 5, 6, 7, 8, 10]  \n",
       "2       [0, 1, 2, 3, 4, 5, 6, 7, 8, 10]  \n",
       "3       [0, 1, 2, 3, 4, 5, 6, 7, 8, 10]  \n",
       "4       [0, 1, 2, 3, 4, 5, 6, 7, 8, 10]  \n",
       "...                                 ...  \n",
       "188451                       [6, 8, 10]  \n",
       "188452                             [11]  \n",
       "188453                             [11]  \n",
       "188454                             [11]  \n",
       "188455                             [11]  \n",
       "\n",
       "[188456 rows x 7 columns]"
      ]
     },
     "execution_count": 25,
     "metadata": {},
     "output_type": "execute_result"
    }
   ],
   "source": [
    "data"
   ]
  },
  {
   "cell_type": "code",
   "execution_count": 26,
   "id": "2a732827",
   "metadata": {},
   "outputs": [],
   "source": [
    "fixlen_feature_columns_1 = [SparseFeat(feat, data[feat].nunique(), embedding_dim=50) for feat in data.columns[:2]]\n",
    "fixlen_feature_columns_2 = [SparseFeat(feat, data[feat].nunique(), embedding_dim=50) for feat in data.columns[3:5]]\n",
    "fixlen_feature_columns = fixlen_feature_columns_1 + fixlen_feature_columns_2\n",
    "\n",
    "varlen_feature_columns = [VarLenSparseFeat(SparseFeat('compliment', vocabulary_size=len(\n",
    "    compliment_key2index) + 1, embedding_dim=50), maxlen=compliment_max_len, combiner='mean'),\n",
    "                          VarLenSparseFeat(SparseFeat('user_inter', vocabulary_size=len(\n",
    "    user_inter_key2index) + 1, embedding_dim=50), maxlen=user_inter_max_len, combiner='mean'),\n",
    "                         ] \n",
    "\n",
    "linear_feature_columns = fixlen_feature_columns + varlen_feature_columns\n",
    "dnn_feature_columns = fixlen_feature_columns + varlen_feature_columns\n",
    "\n",
    "feature_names = get_feature_names(linear_feature_columns + dnn_feature_columns)"
   ]
  },
  {
   "cell_type": "code",
   "execution_count": 27,
   "id": "fc995d67",
   "metadata": {},
   "outputs": [],
   "source": [
    "model_input = {name: data[name] for name in data.columns[:5] if name !='rate'}  #\n",
    "model_input[\"compliment\"] = compliment_list\n",
    "model_input[\"user_inter\"] = user_inter_list"
   ]
  },
  {
   "cell_type": "code",
   "execution_count": 28,
   "id": "b3ae1c05",
   "metadata": {},
   "outputs": [],
   "source": [
    "compliment_list =[]\n",
    "user_inter_list = []\n"
   ]
  },
  {
   "cell_type": "code",
   "execution_count": 29,
   "id": "5294a0b8",
   "metadata": {},
   "outputs": [
    {
     "name": "stdout",
     "output_type": "stream",
     "text": [
      "cuda ready...\n"
     ]
    }
   ],
   "source": [
    "device = 'cpu'\n",
    "use_cuda = True\n",
    "if use_cuda and torch.cuda.is_available():\n",
    "    print('cuda ready...')\n",
    "    device = 'cuda:0'"
   ]
  },
  {
   "cell_type": "code",
   "execution_count": 29,
   "id": "d560764a",
   "metadata": {},
   "outputs": [],
   "source": [
    "# feature_index = build_input_features(linear_feature_columns + dnn_feature_columns)\n",
    "# x = [model_input[feature] for feature in feature_index]\n",
    "# for i in range(len(x)):\n",
    "#     if len(x[i].shape) == 1:\n",
    "#         x[i] = np.expand_dims(x[i], axis=1)\n",
    "# sparse_x = [sparse.csr_matrix(fea) for fea in x]\n",
    "# sparse_x = hstack(sparse_x)\n",
    "# sparse_x = sparse_x.tocsr()\n",
    "# sparse.save_npz('C:/Users/bbb50/Desktop/Python/hw3/Yelp/dctr_x.npz', sparse_x, True) "
   ]
  },
  {
   "cell_type": "code",
   "execution_count": 35,
   "id": "0d33ce16",
   "metadata": {},
   "outputs": [],
   "source": [
    "sparse_x = sparse.load_npz('C:/Users/bbb50/Desktop/Python/hw3/Yelp/dctr_x.npz').astype(np.int64)"
   ]
  },
  {
   "cell_type": "code",
   "execution_count": 36,
   "id": "35107256",
   "metadata": {},
   "outputs": [],
   "source": [
    "target = data.rate.values"
   ]
  },
  {
   "cell_type": "code",
   "execution_count": 37,
   "id": "8b0fc200",
   "metadata": {},
   "outputs": [],
   "source": [
    "\n",
    "train_path = os.path.join(root, 'train')\n",
    "val_path = os.path.join(root, 'val')\n",
    "test_path = os.path.join(root, 'test')\n"
   ]
  },
  {
   "cell_type": "code",
   "execution_count": null,
   "id": "96e14117",
   "metadata": {},
   "outputs": [],
   "source": []
  },
  {
   "cell_type": "code",
   "execution_count": 56,
   "id": "2f26827f",
   "metadata": {},
   "outputs": [],
   "source": [
    "from deepctr_torch.models import DeepFM\n",
    "def DeepFM_train(train_x_tensor, train_y, val_x_tensor, val_y):\n",
    "    \n",
    "    model = DeepFM(linear_feature_columns, dnn_feature_columns, dnn_dropout=0.2, l2_reg_dnn = 0.0005, dnn_use_bn=True, task='regression', device=device)\n",
    "    model.compile(Adam(model.parameters(),0.00001), \"mse\", metrics=['mse'])\n",
    "    s_p = 'C:/Users/bbb50/Desktop/Python/hw3/Yelp/model/deepfm/' + str(i) + '/deepfm_{epoch}-{val_mse:.3f}.ckpt'\n",
    "    es = EarlyStopping(monitor='val_mse', min_delta=0, verbose=1, patience=10, mode='min')\n",
    "    mdckpt = ModelCheckpoint(filepath = s_p,monitor=\"val_mse\",mode=\"min\",  save_best_only= True)\n",
    "    history = model.fit(train_x=train_x_tensor, train_y=train_y, val_x=val_x_tensor, val_y=val_y , batch_size=256, epochs=100, verbose=2,callbacks=[es,mdckpt])    \n",
    "    train_mse = history.history['mse']\n",
    "    val_mse = history.history['val_mse']\n",
    "    values = np.arange(1, len(history.history['mse'])+1)\n",
    "\n",
    "    with plt.style.context('fivethirtyeight'):\n",
    "\n",
    "        plt.plot(values, train_mse, label='train_mse', linestyle='--')\n",
    "        plt.plot(values, val_mse, label='val_mse', ls='--')\n",
    "    plt.legend()\n",
    "    plt.savefig('C:/Users/bbb50/Desktop/Python/hw3/Yelp/model/deepfm/' + str(i) +'/mse.png')\n",
    "    plt.show()\n",
    "    fig = plt.gcf() \n",
    "\n",
    "    plt.close(fig) "
   ]
  },
  {
   "cell_type": "code",
   "execution_count": 57,
   "id": "7486cc0a",
   "metadata": {},
   "outputs": [],
   "source": [
    "from deepctr_torch.models.afm import AFM\n",
    "def AFM_train(train_x_tensor, train_y, val_x_tensor, val_y):\n",
    "    model = AFM(linear_feature_columns, dnn_feature_columns, afm_dropout=0.2, task='regression', device=device)\n",
    "    model.compile(Adam(model.parameters(),0.0001), \"mse\", metrics=['mse'])\n",
    "    s_p = 'C:/Users/bbb50/Desktop/Python/hw3/Yelp/model/AFM/' + str(i) + '/AFM_{epoch}-{val_mse:.3f}.ckpt'\n",
    "\n",
    "    es = EarlyStopping(monitor='val_mse', min_delta=0, verbose=1, patience=10, mode='min')\n",
    "    mdckpt = ModelCheckpoint(filepath = s_p,monitor=\"val_mse\",mode=\"min\",  save_best_only= True)\n",
    "    history = model.fit(train_x=train_x_tensor, train_y=train_y, val_x=val_x_tensor, val_y=val_y , batch_size=256, epochs=100, verbose=2,callbacks=[es,mdckpt])\n",
    "    train_mse = history.history['mse']\n",
    "    val_mse = history.history['val_mse']\n",
    "    values = np.arange(1, len(history.history['mse'])+1)\n",
    "\n",
    "    with plt.style.context('fivethirtyeight'):\n",
    "\n",
    "        plt.plot(values, train_mse, label='train_mse', linestyle='--')\n",
    "        plt.plot(values, val_mse, label='val_mse', ls='--')\n",
    "    plt.legend()\n",
    "    plt.savefig('C:/Users/bbb50/Desktop/Python/hw3/Yelp/model/AFM/' + str(i) +'/mse.png')\n",
    "    plt.show()\n",
    "    fig = plt.gcf() \n",
    "\n",
    "    plt.close(fig) "
   ]
  },
  {
   "cell_type": "code",
   "execution_count": 58,
   "id": "bee3dd25",
   "metadata": {},
   "outputs": [],
   "source": [
    "from deepctr_torch.models.ccpm import CCPM\n",
    "def CCPM_train(train_x_tensor, train_y, val_x_tensor, val_y):\n",
    "    model = CCPM(linear_feature_columns, dnn_feature_columns, dnn_dropout=0.2, l2_reg_dnn = 0.0005, dnn_use_bn=True, task='regression', device=device)\n",
    "    model.compile(Adam(model.parameters(),0.00001), \"mse\", metrics=['mse'])\n",
    "    s_p = 'C:/Users/bbb50/Desktop/Python/hw3/Yelp/model/CCPM/' + str(i) + '/CCPM_{epoch}-{val_mse:.3f}.ckpt'\n",
    "    es = EarlyStopping(monitor='val_mse', min_delta=0, verbose=1, patience=10, mode='min')\n",
    "    mdckpt = ModelCheckpoint(filepath = s_p,monitor=\"val_mse\",mode=\"min\",  save_best_only= True)\n",
    "    history = model.fit(train_x=train_x_tensor, train_y=train_y, val_x=val_x_tensor, val_y=val_y , batch_size=256, epochs=100, verbose=2,callbacks=[es,mdckpt])\n",
    "    train_mse = history.history['mse']\n",
    "    val_mse = history.history['val_mse']\n",
    "    values = np.arange(1, len(history.history['mse'])+1)\n",
    "\n",
    "    with plt.style.context('fivethirtyeight'):\n",
    "\n",
    "        plt.plot(values, train_mse, label='train_mse', linestyle='--')\n",
    "        plt.plot(values, val_mse, label='val_mse', ls='--')\n",
    "    plt.legend()\n",
    "    plt.savefig('C:/Users/bbb50/Desktop/Python/hw3/Yelp/model/CCPM/' + str(i) +'/mse.png')\n",
    "    plt.show()\n",
    "    fig = plt.gcf() \n",
    "\n",
    "    plt.close(fig) "
   ]
  },
  {
   "cell_type": "code",
   "execution_count": 59,
   "id": "df06c17b",
   "metadata": {},
   "outputs": [],
   "source": [
    "from deepctr_torch.models.pnn import PNN\n",
    "def IPNN_train(train_x_tensor, train_y, val_x_tensor, val_y):\n",
    "    model = PNN( dnn_feature_columns, dnn_dropout=0.2, l2_reg_dnn = 0.0005, use_inner=True, use_outter=False,  task='regression', device=device)\n",
    "    model.compile(Adam(model.parameters(),0.0001), \"mse\", metrics=['mse'])\n",
    "    s_p = 'C:/Users/bbb50/Desktop/Python/hw3/Yelp/model/IPNN/' + str(i) + '/IPNN_{epoch}-{val_mse:.3f}.ckpt'\n",
    "    es = EarlyStopping(monitor='val_mse', min_delta=0, verbose=1, patience=10, mode='min')\n",
    "    mdckpt = ModelCheckpoint(filepath = s_p,monitor=\"val_mse\",mode=\"min\",  save_best_only= True)\n",
    "    history = model.fit(train_x=train_x_tensor, train_y=train_y, val_x=val_x_tensor, val_y=val_y  , batch_size=256, epochs=100, verbose=2,callbacks=[es,mdckpt])\n",
    "    train_mse = history.history['mse']\n",
    "    val_mse = history.history['val_mse']\n",
    "    values = np.arange(1, len(history.history['mse'])+1)\n",
    "\n",
    "    with plt.style.context('fivethirtyeight'):\n",
    "\n",
    "        plt.plot(values, train_mse, label='train_mse', linestyle='--')\n",
    "        plt.plot(values, val_mse, label='val_mse', ls='--')\n",
    "    plt.legend()\n",
    "    plt.savefig('C:/Users/bbb50/Desktop/Python/hw3/Yelp/model/IPNN/' + str(i) +'/mse.png')\n",
    "    plt.show()\n",
    "    fig = plt.gcf() \n",
    "\n",
    "    plt.close(fig) "
   ]
  },
  {
   "cell_type": "code",
   "execution_count": 60,
   "id": "5cc8f445",
   "metadata": {},
   "outputs": [],
   "source": [
    "from deepctr_torch.models.pnn import PNN\n",
    "def OPNN_train(train_x_tensor, train_y, val_x_tensor, val_y):\n",
    "    model = PNN( dnn_feature_columns, dnn_dropout=0.2, l2_reg_dnn = 0.0005,use_inner=False, use_outter=True,  task='regression', device=device)\n",
    "    model.compile(Adam(model.parameters(),0.0001), \"mse\", metrics=['mse'])\n",
    "    s_p = 'C:/Users/bbb50/Desktop/Python/hw3/Yelp/model/OPNN/' + str(i) + '/OPNN_{epoch}-{val_mse:.3f}.ckpt'\n",
    "    es = EarlyStopping(monitor='val_mse', min_delta=0, verbose=1, patience=10, mode='min')\n",
    "    mdckpt = ModelCheckpoint(filepath = s_p,monitor=\"val_mse\",mode=\"min\",  save_best_only= True)\n",
    "    history = model.fit(train_x=train_x_tensor, train_y=train_y, val_x=val_x_tensor, val_y=val_y , batch_size=256, epochs=100, verbose=2,callbacks=[es,mdckpt])\n",
    "    train_mse = history.history['mse']\n",
    "    val_mse = history.history['val_mse']\n",
    "    values = np.arange(1, len(history.history['mse'])+1)\n",
    "\n",
    "    with plt.style.context('fivethirtyeight'):\n",
    "\n",
    "        plt.plot(values, train_mse, label='train_mse', linestyle='--')\n",
    "        plt.plot(values, val_mse, label='val_mse', ls='--')\n",
    "    plt.legend()\n",
    "    plt.savefig('C:/Users/bbb50/Desktop/Python/hw3/Yelp/model/OPNN/' + str(i) +'/mse.png')\n",
    "    plt.show()\n",
    "    fig = plt.gcf() \n",
    "\n",
    "    plt.close(fig) "
   ]
  },
  {
   "cell_type": "code",
   "execution_count": null,
   "id": "d9e3cdbf",
   "metadata": {},
   "outputs": [],
   "source": []
  },
  {
   "cell_type": "code",
   "execution_count": 61,
   "id": "08d41104",
   "metadata": {},
   "outputs": [],
   "source": [
    "from deepctr_torch.models.wdl import WDL\n",
    "def WDL_train(train_x_tensor, train_y, val_x_tensor, val_y):\n",
    "    model = WDL(linear_feature_columns, dnn_feature_columns, dnn_dropout=0.2, l2_reg_dnn = 0.0005, task='regression', device=device)\n",
    "    model.compile(Adam(model.parameters(),0.0001), \"mse\", metrics=['mse'])\n",
    "    s_p = 'C:/Users/bbb50/Desktop/Python/hw3/Yelp/model/wide_deep/' + str(i) + '/wide_deep_{epoch}-{val_mse:.3f}.ckpt'\n",
    "    es = EarlyStopping(monitor='val_mse', min_delta=0, verbose=1, patience=10, mode='min')\n",
    "    mdckpt = ModelCheckpoint(filepath = s_p,monitor=\"val_mse\",mode=\"min\",  save_best_only= True)\n",
    "    history = model.fit(train_x=train_x_tensor, train_y=train_y, val_x=val_x_tensor, val_y=val_y, batch_size=256, epochs=100, verbose=2,callbacks=[es,mdckpt])\n",
    "    train_mse = history.history['mse']\n",
    "    val_mse = history.history['val_mse']\n",
    "    values = np.arange(1, len(history.history['mse'])+1)\n",
    "\n",
    "    with plt.style.context('fivethirtyeight'):\n",
    "\n",
    "        plt.plot(values, train_mse, label='train_mse', linestyle='--')\n",
    "        plt.plot(values, val_mse, label='val_mse', ls='--')\n",
    "    plt.legend()\n",
    "    plt.savefig('C:/Users/bbb50/Desktop/Python/hw3/Yelp/model/wide_deep/' + str(i) +'/mse.png')\n",
    "    plt.show()\n",
    "    fig = plt.gcf() \n",
    "\n",
    "    plt.close(fig) "
   ]
  },
  {
   "cell_type": "code",
   "execution_count": 62,
   "id": "30184794",
   "metadata": {},
   "outputs": [],
   "source": [
    "from  deepctr_torch.models.nfm import NFM\n",
    "def NFM_train(train_x_tensor, train_y, val_x_tensor, val_y):\n",
    "    model = NFM(linear_feature_columns, dnn_feature_columns, dnn_dropout=0.2, l2_reg_dnn = 0.0005, task='regression', device=device)\n",
    "    model.compile(Adam(model.parameters(),0.0001), \"mse\", metrics=['mse'])\n",
    "    s_p = 'C:/Users/bbb50/Desktop/Python/hw3/Yelp/model/NFM/' + str(i) + '/NFM_{epoch}-{val_mse:.3f}.ckpt'\n",
    "    es = EarlyStopping(monitor='val_mse', min_delta=0, verbose=1, patience=10, mode='min')\n",
    "    mdckpt = ModelCheckpoint(filepath = s_p,monitor=\"val_mse\",mode=\"min\",  save_best_only= True)\n",
    "    history = model.fit(train_x=train_x_tensor, train_y=train_y, val_x=val_x_tensor, val_y=val_y, batch_size=256, epochs=100, verbose=2,callbacks=[es,mdckpt])\n",
    "    train_mse = history.history['mse']\n",
    "    val_mse = history.history['val_mse']\n",
    "    values = np.arange(1, len(history.history['mse'])+1)\n",
    "\n",
    "    with plt.style.context('fivethirtyeight'):\n",
    "\n",
    "        plt.plot(values, train_mse, label='train_mse', linestyle='--')\n",
    "        plt.plot(values, val_mse, label='val_mse', ls='--')\n",
    "    plt.legend()\n",
    "    plt.savefig('C:/Users/bbb50/Desktop/Python/hw3/Yelp/model/NFM/' + str(i) +'/mse.png')\n",
    "    plt.show()\n",
    "    fig = plt.gcf() \n",
    "\n",
    "    plt.close(fig) "
   ]
  },
  {
   "cell_type": "code",
   "execution_count": 63,
   "id": "54529551",
   "metadata": {},
   "outputs": [],
   "source": [
    "from deepctr_torch.models.dcn import DCN\n",
    "def DCN_train(train_x_tensor, train_y, val_x_tensor, val_y):\n",
    "    model = DCN(linear_feature_columns, dnn_feature_columns, dnn_dropout=0.2, l2_reg_dnn = 0.0005, dnn_use_bn=True, task='regression', device=device)\n",
    "    model.compile(Adam(model.parameters(),0.00001), \"mse\", metrics=['mse'])\n",
    "    s_p = 'C:/Users/bbb50/Desktop/Python/hw3/Yelp/model/DCN/' + str(i) + '/DCN_{epoch}-{val_mse:.3f}.ckpt'\n",
    "    es = EarlyStopping(monitor='val_mse', min_delta=0, verbose=1, patience=10, mode='min')\n",
    "    mdckpt = ModelCheckpoint(filepath = s_p,monitor=\"val_mse\",mode=\"min\",  save_best_only= True)\n",
    "    history = model.fit(train_x=train_x_tensor, train_y=train_y, val_x=val_x_tensor, val_y=val_y, batch_size=256, epochs=100, verbose=2,callbacks=[es,mdckpt])\n",
    "    train_mse = history.history['mse']\n",
    "    val_mse = history.history['val_mse']\n",
    "    values = np.arange(1, len(history.history['mse'])+1)\n",
    "\n",
    "    with plt.style.context('fivethirtyeight'):\n",
    "\n",
    "        plt.plot(values, train_mse, label='train_mse', linestyle='--')\n",
    "        plt.plot(values, val_mse, label='val_mse', ls='--')\n",
    "    plt.legend()\n",
    "    plt.savefig('C:/Users/bbb50/Desktop/Python/hw3/Yelp/model/DCN/' + str(i) +'/mse.png')\n",
    "    plt.show()\n",
    "    fig = plt.gcf() \n",
    "\n",
    "    plt.close(fig) "
   ]
  },
  {
   "cell_type": "code",
   "execution_count": 64,
   "id": "130348df",
   "metadata": {},
   "outputs": [],
   "source": [
    "from deepctr_torch.models.xdeepfm import xDeepFM\n",
    "def xDeepFM_train(train_x_tensor, train_y, val_x_tensor, val_y):\n",
    "    model = xDeepFM(linear_feature_columns, dnn_feature_columns, dnn_dropout=0.2, l2_reg_dnn = 0.0005, dnn_use_bn=True, task='regression', device=device)\n",
    "    model.compile(Adam(model.parameters(),0.000005), \"mse\", metrics=['mse'])\n",
    "    s_p = 'C:/Users/bbb50/Desktop/Python/hw3/Yelp/model/xDeepFM/' + str(i) + '/xDeepFM_{epoch}-{val_mse:.3f}.ckpt'\n",
    "    es = EarlyStopping(monitor='val_mse', min_delta=0, verbose=1, patience=10, mode='min')\n",
    "    mdckpt = ModelCheckpoint(filepath = s_p,monitor=\"val_mse\",mode=\"min\",  save_best_only= True)\n",
    "    history = model.fit(train_x=train_x_tensor, train_y=train_y, val_x=val_x_tensor, val_y=val_y, batch_size=256, epochs=100, verbose=2,callbacks=[es,mdckpt])\n",
    "    train_mse = history.history['mse']\n",
    "    val_mse = history.history['val_mse']\n",
    "    values = np.arange(1, len(history.history['mse'])+1)\n",
    "\n",
    "    with plt.style.context('fivethirtyeight'):\n",
    "\n",
    "        plt.plot(values, train_mse, label='train_mse', linestyle='--')\n",
    "        plt.plot(values, val_mse, label='val_mse', ls='--')\n",
    "    plt.legend()\n",
    "    plt.savefig('C:/Users/bbb50/Desktop/Python/hw3/Yelp/model/xDeepFM/' + str(i) +'/mse.png')\n",
    "    plt.show()\n",
    "    fig = plt.gcf() \n",
    "\n",
    "    plt.close(fig) "
   ]
  },
  {
   "cell_type": "code",
   "execution_count": 65,
   "id": "99a31f4b",
   "metadata": {},
   "outputs": [],
   "source": [
    "from deepctr_torch.models.difm import DIFM\n",
    "def DIFM_train(train_x_tensor, train_y, val_x_tensor, val_y):\n",
    "    model = DIFM(linear_feature_columns, dnn_feature_columns, dnn_dropout=0.2, l2_reg_dnn = 0.0005, dnn_use_bn=True, task='regression', device=device)\n",
    "    model.compile(Adam(model.parameters(),0.00001), \"mse\", metrics=['mse'])\n",
    "    s_p = 'C:/Users/bbb50/Desktop/Python/hw3/Yelp/model/DIFM/' + str(i) + '/DIFM_{epoch}-{val_mse:.3f}.ckpt'\n",
    "    es = EarlyStopping(monitor='val_mse', min_delta=0, verbose=1, patience=10, mode='min')\n",
    "    mdckpt = ModelCheckpoint(filepath = s_p,monitor=\"val_mse\",mode=\"min\",  save_best_only= True)\n",
    "    history = model.fit(train_x=train_x_tensor, train_y=train_y, val_x=val_x_tensor, val_y=val_y, batch_size=256, epochs=100, verbose=2,callbacks=[es,mdckpt])\n",
    "    train_mse = history.history['mse']\n",
    "    val_mse = history.history['val_mse']\n",
    "    values = np.arange(1, len(history.history['mse'])+1)\n",
    "\n",
    "    with plt.style.context('fivethirtyeight'):\n",
    "\n",
    "        plt.plot(values, train_mse, label='train_mse', linestyle='--')\n",
    "        plt.plot(values, val_mse, label='val_mse', ls='--')\n",
    "    plt.legend()\n",
    "    plt.savefig('C:/Users/bbb50/Desktop/Python/hw3/Yelp/model/DIFM/' + str(i) +'/mse.png')\n",
    "    plt.show()\n",
    "    fig = plt.gcf() \n",
    "\n",
    "    plt.close(fig) "
   ]
  },
  {
   "cell_type": "code",
   "execution_count": 47,
   "id": "e9375972",
   "metadata": {},
   "outputs": [],
   "source": [
    "i = 0\n",
    "train_ind = np.load(os.path.join(train_path, 'train_ind'+ str(i) +'.npy'))\n",
    "val_ind = np.load(os.path.join(val_path, 'val_ind'+ str(i) +'.npy'))\n",
    "test_ind = np.load(os.path.join(test_path, 'test_ind'+ str(i) +'.npy'))\n",
    "\n",
    "train_x = sparse_x[train_ind]\n",
    "val_x = sparse_x[val_ind]\n",
    "test_x = sparse_x[test_ind]\n",
    "\n",
    "train_y=target[train_ind]\n",
    "val_y=target[val_ind]\n",
    "test_y=target[test_ind]\n",
    "\n",
    "train_x_tensor = sparse2tensor(train_x)\n",
    "val_x_tensor = sparse2tensor(val_x)\n",
    "test_x_tensor = sparse2tensor(test_x)"
   ]
  },
  {
   "cell_type": "code",
   "execution_count": 43,
   "id": "a605bc39",
   "metadata": {},
   "outputs": [],
   "source": [
    "from matplotlib import pyplot as plt"
   ]
  },
  {
   "cell_type": "code",
   "execution_count": 67,
   "id": "5ddc8f07",
   "metadata": {},
   "outputs": [
    {
     "name": "stdout",
     "output_type": "stream",
     "text": [
      "==================================================\n",
      "number: 1\n",
      "DeepFM\n",
      "cuda:0\n",
      "Train on 131919 samples, validate on 18846 samples, 516 steps per epoch\n",
      "Epoch 1/100\n",
      "11s - loss:  7.3089 - mse:  7.3051 - val_mse:  5.3341\n",
      "Epoch 2/100\n",
      "11s - loss:  1.1035 - mse:  1.1034 - val_mse:  1.1253\n",
      "Epoch 3/100\n",
      "11s - loss:  0.9565 - mse:  0.9565 - val_mse:  1.1190\n",
      "Epoch 4/100\n",
      "11s - loss:  0.8928 - mse:  0.8927 - val_mse:  1.1011\n",
      "Epoch 5/100\n",
      "11s - loss:  0.8522 - mse:  0.8522 - val_mse:  1.1165\n",
      "Epoch 6/100\n",
      "11s - loss:  0.8279 - mse:  0.8276 - val_mse:  1.1193\n",
      "Epoch 7/100\n",
      "11s - loss:  0.8135 - mse:  0.8135 - val_mse:  1.1377\n",
      "Epoch 8/100\n",
      "11s - loss:  0.8037 - mse:  0.8036 - val_mse:  1.1304\n",
      "Epoch 9/100\n",
      "11s - loss:  0.7963 - mse:  0.7963 - val_mse:  1.1461\n",
      "Epoch 10/100\n",
      "11s - loss:  0.7919 - mse:  0.7922 - val_mse:  1.1542\n",
      "Epoch 11/100\n",
      "11s - loss:  0.7862 - mse:  0.7865 - val_mse:  1.1477\n",
      "Epoch 12/100\n",
      "11s - loss:  0.7824 - mse:  0.7824 - val_mse:  1.1550\n",
      "Epoch 13/100\n",
      "11s - loss:  0.7784 - mse:  0.7782 - val_mse:  1.1519\n",
      "Epoch 14/100\n",
      "11s - loss:  0.7749 - mse:  0.7751 - val_mse:  1.1568\n",
      "Epoch 00014: early stopping\n"
     ]
    },
    {
     "data": {
      "image/png": "[encoded data removed]",
      "text/plain": [
       "<Figure size 432x288 with 1 Axes>"
      ]
     },
     "metadata": {},
     "output_type": "display_data"
    },
    {
     "name": "stdout",
     "output_type": "stream",
     "text": [
      "AFM\n",
      "cuda:0\n",
      "Train on 131919 samples, validate on 18846 samples, 516 steps per epoch\n",
      "Epoch 1/100\n",
      "11s - loss:  14.4410 - mse:  14.4381 - val_mse:  13.3909\n",
      "Epoch 2/100\n",
      "11s - loss:  12.0855 - mse:  12.0841 - val_mse:  10.5891\n",
      "Epoch 3/100\n",
      "10s - loss:  7.9728 - mse:  7.9678 - val_mse:  4.4118\n",
      "Epoch 4/100\n",
      "10s - loss:  2.2344 - mse:  2.2328 - val_mse:  1.4106\n",
      "Epoch 5/100\n",
      "10s - loss:  1.3352 - mse:  1.3349 - val_mse:  1.3160\n",
      "Epoch 6/100\n",
      "10s - loss:  1.2859 - mse:  1.2854 - val_mse:  1.2882\n",
      "Epoch 7/100\n",
      "10s - loss:  1.2614 - mse:  1.2612 - val_mse:  1.2709\n",
      "Epoch 8/100\n",
      "10s - loss:  1.2440 - mse:  1.2436 - val_mse:  1.2579\n",
      "Epoch 9/100\n",
      "10s - loss:  1.2299 - mse:  1.2294 - val_mse:  1.2471\n",
      "Epoch 10/100\n",
      "10s - loss:  1.2174 - mse:  1.2175 - val_mse:  1.2375\n",
      "Epoch 11/100\n",
      "10s - loss:  1.2057 - mse:  1.2056 - val_mse:  1.2282\n",
      "Epoch 12/100\n",
      "10s - loss:  1.1941 - mse:  1.1936 - val_mse:  1.2197\n",
      "Epoch 13/100\n",
      "10s - loss:  1.1826 - mse:  1.1818 - val_mse:  1.2107\n",
      "Epoch 14/100\n",
      "10s - loss:  1.1703 - mse:  1.1697 - val_mse:  1.2012\n",
      "Epoch 15/100\n",
      "10s - loss:  1.1570 - mse:  1.1567 - val_mse:  1.1914\n",
      "Epoch 16/100\n",
      "10s - loss:  1.1422 - mse:  1.1417 - val_mse:  1.1801\n",
      "Epoch 17/100\n",
      "10s - loss:  1.1252 - mse:  1.1250 - val_mse:  1.1686\n",
      "Epoch 18/100\n",
      "10s - loss:  1.1054 - mse:  1.1049 - val_mse:  1.1549\n",
      "Epoch 19/100\n",
      "10s - loss:  1.0828 - mse:  1.0824 - val_mse:  1.1403\n",
      "Epoch 20/100\n",
      "10s - loss:  1.0570 - mse:  1.0570 - val_mse:  1.1252\n",
      "Epoch 21/100\n",
      "10s - loss:  1.0286 - mse:  1.0281 - val_mse:  1.1106\n",
      "Epoch 22/100\n",
      "11s - loss:  0.9984 - mse:  0.9978 - val_mse:  1.0981\n",
      "Epoch 23/100\n",
      "10s - loss:  0.9693 - mse:  0.9691 - val_mse:  1.0894\n",
      "Epoch 24/100\n",
      "10s - loss:  0.9441 - mse:  0.9438 - val_mse:  1.0850\n",
      "Epoch 25/100\n",
      "10s - loss:  0.9235 - mse:  0.9230 - val_mse:  1.0840\n",
      "Epoch 26/100\n",
      "10s - loss:  0.9072 - mse:  0.9068 - val_mse:  1.0854\n",
      "Epoch 27/100\n",
      "10s - loss:  0.8941 - mse:  0.8942 - val_mse:  1.0863\n",
      "Epoch 28/100\n",
      "10s - loss:  0.8831 - mse:  0.8831 - val_mse:  1.0873\n",
      "Epoch 29/100\n",
      "10s - loss:  0.8739 - mse:  0.8736 - val_mse:  1.0886\n",
      "Epoch 30/100\n",
      "10s - loss:  0.8657 - mse:  0.8655 - val_mse:  1.0899\n",
      "Epoch 31/100\n",
      "10s - loss:  0.8585 - mse:  0.8583 - val_mse:  1.0908\n",
      "Epoch 32/100\n",
      "10s - loss:  0.8518 - mse:  0.8522 - val_mse:  1.0933\n",
      "Epoch 33/100\n",
      "10s - loss:  0.8458 - mse:  0.8458 - val_mse:  1.0933\n",
      "Epoch 34/100\n",
      "10s - loss:  0.8400 - mse:  0.8398 - val_mse:  1.0942\n",
      "Epoch 35/100\n",
      "10s - loss:  0.8347 - mse:  0.8344 - val_mse:  1.0947\n",
      "Epoch 00035: early stopping\n"
     ]
    },
    {
     "data": {
      "image/png": "[encoded data removed]",
      "text/plain": [
       "<Figure size 432x288 with 1 Axes>"
      ]
     },
     "metadata": {},
     "output_type": "display_data"
    },
    {
     "name": "stdout",
     "output_type": "stream",
     "text": [
      "CCPM\n",
      "cuda:0\n",
      "Train on 131919 samples, validate on 18846 samples, 516 steps per epoch\n",
      "Epoch 1/100\n",
      "13s - loss:  9.1565 - mse:  9.1514 - val_mse:  3.1929\n",
      "Epoch 2/100\n",
      "12s - loss:  1.2446 - mse:  1.2446 - val_mse:  1.2584\n",
      "Epoch 3/100\n",
      "12s - loss:  1.1567 - mse:  1.1563 - val_mse:  1.1848\n",
      "Epoch 4/100\n",
      "12s - loss:  1.0955 - mse:  1.0956 - val_mse:  1.1684\n",
      "Epoch 5/100\n",
      "12s - loss:  1.0495 - mse:  1.0497 - val_mse:  1.1524\n",
      "Epoch 6/100\n",
      "12s - loss:  1.0142 - mse:  1.0143 - val_mse:  1.1449\n",
      "Epoch 7/100\n",
      "12s - loss:  0.9854 - mse:  0.9851 - val_mse:  1.1566\n",
      "Epoch 8/100\n",
      "12s - loss:  0.9607 - mse:  0.9610 - val_mse:  1.1603\n",
      "Epoch 9/100\n",
      "13s - loss:  0.9359 - mse:  0.9362 - val_mse:  1.1642\n",
      "Epoch 10/100\n",
      "12s - loss:  0.9162 - mse:  0.9161 - val_mse:  1.1393\n",
      "Epoch 11/100\n",
      "13s - loss:  0.8952 - mse:  0.8952 - val_mse:  1.1310\n",
      "Epoch 12/100\n",
      "12s - loss:  0.8746 - mse:  0.8747 - val_mse:  1.1435\n",
      "Epoch 13/100\n",
      "12s - loss:  0.8581 - mse:  0.8580 - val_mse:  1.1326\n",
      "Epoch 14/100\n",
      "13s - loss:  0.8420 - mse:  0.8422 - val_mse:  1.1819\n",
      "Epoch 15/100\n",
      "12s - loss:  0.8298 - mse:  0.8299 - val_mse:  1.1473\n",
      "Epoch 16/100\n",
      "12s - loss:  0.8193 - mse:  0.8190 - val_mse:  1.1610\n",
      "Epoch 17/100\n",
      "13s - loss:  0.8091 - mse:  0.8091 - val_mse:  1.1465\n",
      "Epoch 18/100\n",
      "12s - loss:  0.7968 - mse:  0.7971 - val_mse:  1.1562\n",
      "Epoch 19/100\n",
      "12s - loss:  0.7910 - mse:  0.7910 - val_mse:  1.1526\n",
      "Epoch 20/100\n",
      "13s - loss:  0.7838 - mse:  0.7837 - val_mse:  1.1681\n",
      "Epoch 21/100\n",
      "12s - loss:  0.7775 - mse:  0.7774 - val_mse:  1.1532\n",
      "Epoch 00021: early stopping\n"
     ]
    },
    {
     "data": {
      "image/png": "[encoded data removed]",
      "text/plain": [
       "<Figure size 432x288 with 1 Axes>"
      ]
     },
     "metadata": {},
     "output_type": "display_data"
    },
    {
     "name": "stdout",
     "output_type": "stream",
     "text": [
      "IPNN\n",
      "cuda:0\n",
      "Train on 131919 samples, validate on 18846 samples, 516 steps per epoch\n",
      "Epoch 1/100\n",
      "7s - loss:  5.9772 - mse:  5.9711 - val_mse:  1.2238\n",
      "Epoch 2/100\n",
      "7s - loss:  1.1346 - mse:  1.1344 - val_mse:  1.1268\n",
      "Epoch 3/100\n",
      "7s - loss:  1.0064 - mse:  1.0061 - val_mse:  1.0780\n",
      "Epoch 4/100\n",
      "7s - loss:  0.9235 - mse:  0.9236 - val_mse:  1.0729\n",
      "Epoch 5/100\n",
      "7s - loss:  0.8794 - mse:  0.8788 - val_mse:  1.0777\n",
      "Epoch 6/100\n",
      "7s - loss:  0.8543 - mse:  0.8542 - val_mse:  1.0832\n",
      "Epoch 7/100\n",
      "7s - loss:  0.8386 - mse:  0.8382 - val_mse:  1.0908\n",
      "Epoch 8/100\n",
      "7s - loss:  0.8281 - mse:  0.8280 - val_mse:  1.0956\n",
      "Epoch 9/100\n",
      "7s - loss:  0.8206 - mse:  0.8204 - val_mse:  1.0994\n",
      "Epoch 10/100\n",
      "7s - loss:  0.8156 - mse:  0.8155 - val_mse:  1.1029\n",
      "Epoch 11/100\n",
      "7s - loss:  0.8114 - mse:  0.8111 - val_mse:  1.1063\n",
      "Epoch 12/100\n",
      "7s - loss:  0.8085 - mse:  0.8086 - val_mse:  1.1090\n",
      "Epoch 13/100\n",
      "7s - loss:  0.8060 - mse:  0.8059 - val_mse:  1.1134\n",
      "Epoch 14/100\n",
      "7s - loss:  0.8046 - mse:  0.8044 - val_mse:  1.1145\n",
      "Epoch 00014: early stopping\n"
     ]
    },
    {
     "data": {
      "image/png": "[encoded data removed]",
      "text/plain": [
       "<Figure size 432x288 with 1 Axes>"
      ]
     },
     "metadata": {},
     "output_type": "display_data"
    },
    {
     "name": "stdout",
     "output_type": "stream",
     "text": [
      "OPNN\n",
      "cuda:0\n",
      "Train on 131919 samples, validate on 18846 samples, 516 steps per epoch\n",
      "Epoch 1/100\n",
      "8s - loss:  6.0371 - mse:  6.0306 - val_mse:  1.2206\n",
      "Epoch 2/100\n",
      "8s - loss:  1.1158 - mse:  1.1156 - val_mse:  1.1124\n",
      "Epoch 3/100\n",
      "8s - loss:  0.9782 - mse:  0.9784 - val_mse:  1.0777\n",
      "Epoch 4/100\n",
      "8s - loss:  0.9051 - mse:  0.9052 - val_mse:  1.0783\n",
      "Epoch 5/100\n",
      "8s - loss:  0.8687 - mse:  0.8687 - val_mse:  1.0819\n",
      "Epoch 6/100\n",
      "8s - loss:  0.8479 - mse:  0.8482 - val_mse:  1.0898\n",
      "Epoch 7/100\n",
      "8s - loss:  0.8347 - mse:  0.8347 - val_mse:  1.0953\n",
      "Epoch 8/100\n",
      "8s - loss:  0.8264 - mse:  0.8261 - val_mse:  1.0982\n",
      "Epoch 9/100\n",
      "8s - loss:  0.8205 - mse:  0.8200 - val_mse:  1.1008\n",
      "Epoch 10/100\n",
      "8s - loss:  0.8162 - mse:  0.8163 - val_mse:  1.1050\n",
      "Epoch 11/100\n",
      "8s - loss:  0.8124 - mse:  0.8124 - val_mse:  1.1116\n",
      "Epoch 12/100\n",
      "7s - loss:  0.8102 - mse:  0.8101 - val_mse:  1.1157\n",
      "Epoch 13/100\n",
      "7s - loss:  0.8082 - mse:  0.8082 - val_mse:  1.1160\n",
      "Epoch 00013: early stopping\n"
     ]
    },
    {
     "data": {
      "image/png": "[encoded data removed]",
      "text/plain": [
       "<Figure size 432x288 with 1 Axes>"
      ]
     },
     "metadata": {},
     "output_type": "display_data"
    },
    {
     "name": "stdout",
     "output_type": "stream",
     "text": [
      "WDL\n",
      "cuda:0\n",
      "Train on 131919 samples, validate on 18846 samples, 516 steps per epoch\n",
      "Epoch 1/100\n",
      "10s - loss:  5.2246 - mse:  5.2193 - val_mse:  1.2067\n",
      "Epoch 2/100\n",
      "10s - loss:  1.1041 - mse:  1.1040 - val_mse:  1.1045\n",
      "Epoch 3/100\n",
      "10s - loss:  0.9730 - mse:  0.9728 - val_mse:  1.0718\n",
      "Epoch 4/100\n",
      "10s - loss:  0.9030 - mse:  0.9025 - val_mse:  1.0741\n",
      "Epoch 5/100\n",
      "10s - loss:  0.8680 - mse:  0.8678 - val_mse:  1.0822\n",
      "Epoch 6/100\n",
      "10s - loss:  0.8472 - mse:  0.8468 - val_mse:  1.0877\n",
      "Epoch 7/100\n",
      "10s - loss:  0.8348 - mse:  0.8346 - val_mse:  1.0932\n",
      "Epoch 8/100\n",
      "10s - loss:  0.8263 - mse:  0.8258 - val_mse:  1.0995\n",
      "Epoch 9/100\n",
      "11s - loss:  0.8205 - mse:  0.8203 - val_mse:  1.1032\n",
      "Epoch 10/100\n",
      "11s - loss:  0.8160 - mse:  0.8158 - val_mse:  1.1086\n",
      "Epoch 11/100\n",
      "18s - loss:  0.8126 - mse:  0.8126 - val_mse:  1.1092\n",
      "Epoch 12/100\n",
      "12s - loss:  0.8102 - mse:  0.8098 - val_mse:  1.1142\n",
      "Epoch 13/100\n",
      "11s - loss:  0.8083 - mse:  0.8079 - val_mse:  1.1165\n",
      "Epoch 00013: early stopping\n"
     ]
    },
    {
     "data": {
      "image/png": "[encoded data removed]",
      "text/plain": [
       "<Figure size 432x288 with 1 Axes>"
      ]
     },
     "metadata": {},
     "output_type": "display_data"
    },
    {
     "name": "stdout",
     "output_type": "stream",
     "text": [
      "NFM\n",
      "cuda:0\n",
      "Train on 131919 samples, validate on 18846 samples, 516 steps per epoch\n",
      "Epoch 1/100\n",
      "15s - loss:  8.6421 - mse:  8.6328 - val_mse:  1.3031\n",
      "Epoch 2/100\n",
      "11s - loss:  1.2252 - mse:  1.2254 - val_mse:  1.2075\n",
      "Epoch 3/100\n",
      "10s - loss:  1.1338 - mse:  1.1337 - val_mse:  1.1575\n",
      "Epoch 4/100\n",
      "14s - loss:  1.0691 - mse:  1.0686 - val_mse:  1.1209\n",
      "Epoch 5/100\n",
      "11s - loss:  1.0122 - mse:  1.0122 - val_mse:  1.0936\n",
      "Epoch 6/100\n",
      "10s - loss:  0.9599 - mse:  0.9595 - val_mse:  1.0775\n",
      "Epoch 7/100\n",
      "16s - loss:  0.9155 - mse:  0.9161 - val_mse:  1.0741\n",
      "Epoch 8/100\n",
      "11s - loss:  0.8840 - mse:  0.8839 - val_mse:  1.0774\n",
      "Epoch 9/100\n",
      "11s - loss:  0.8621 - mse:  0.8621 - val_mse:  1.0801\n",
      "Epoch 10/100\n",
      "10s - loss:  0.8460 - mse:  0.8458 - val_mse:  1.0844\n",
      "Epoch 11/100\n",
      "10s - loss:  0.8343 - mse:  0.8344 - val_mse:  1.0868\n",
      "Epoch 12/100\n",
      "10s - loss:  0.8248 - mse:  0.8248 - val_mse:  1.0897\n",
      "Epoch 13/100\n",
      "10s - loss:  0.8170 - mse:  0.8165 - val_mse:  1.0929\n",
      "Epoch 14/100\n",
      "10s - loss:  0.8105 - mse:  0.8107 - val_mse:  1.0978\n",
      "Epoch 15/100\n",
      "11s - loss:  0.8056 - mse:  0.8056 - val_mse:  1.0993\n",
      "Epoch 16/100\n",
      "10s - loss:  0.8009 - mse:  0.8007 - val_mse:  1.1025\n",
      "Epoch 17/100\n",
      "12s - loss:  0.7971 - mse:  0.7969 - val_mse:  1.1035\n",
      "Epoch 00017: early stopping\n"
     ]
    },
    {
     "data": {
      "image/png": "[encoded data removed]",
      "text/plain": [
       "<Figure size 432x288 with 1 Axes>"
      ]
     },
     "metadata": {},
     "output_type": "display_data"
    },
    {
     "name": "stdout",
     "output_type": "stream",
     "text": [
      "DCN\n",
      "cuda:0\n",
      "Train on 131919 samples, validate on 18846 samples, 516 steps per epoch\n",
      "Epoch 1/100\n",
      "22s - loss:  11.0052 - mse:  11.0019 - val_mse:  9.1138\n",
      "Epoch 2/100\n",
      "13s - loss:  1.2352 - mse:  1.2350 - val_mse:  1.1314\n",
      "Epoch 3/100\n",
      "11s - loss:  0.9778 - mse:  0.9779 - val_mse:  1.1297\n",
      "Epoch 4/100\n",
      "33s - loss:  0.9345 - mse:  0.9350 - val_mse:  1.1500\n",
      "Epoch 5/100\n",
      "11s - loss:  0.9074 - mse:  0.9075 - val_mse:  1.1469\n",
      "Epoch 6/100\n",
      "10s - loss:  0.8709 - mse:  0.8712 - val_mse:  1.1155\n",
      "Epoch 7/100\n",
      "13s - loss:  0.8344 - mse:  0.8346 - val_mse:  1.1187\n",
      "Epoch 8/100\n",
      "11s - loss:  0.8141 - mse:  0.8144 - val_mse:  1.1277\n",
      "Epoch 9/100\n",
      "14s - loss:  0.8020 - mse:  0.8023 - val_mse:  1.1339\n",
      "Epoch 10/100\n",
      "17s - loss:  0.7926 - mse:  0.7930 - val_mse:  1.1406\n",
      "Epoch 11/100\n",
      "11s - loss:  0.7860 - mse:  0.7860 - val_mse:  1.1435\n",
      "Epoch 12/100\n",
      "14s - loss:  0.7824 - mse:  0.7826 - val_mse:  1.1490\n",
      "Epoch 13/100\n",
      "10s - loss:  0.7776 - mse:  0.7776 - val_mse:  1.1576\n",
      "Epoch 14/100\n",
      "11s - loss:  0.7743 - mse:  0.7745 - val_mse:  1.1613\n",
      "Epoch 15/100\n",
      "13s - loss:  0.7712 - mse:  0.7713 - val_mse:  1.1593\n",
      "Epoch 16/100\n",
      "12s - loss:  0.7676 - mse:  0.7677 - val_mse:  1.1624\n",
      "Epoch 00016: early stopping\n"
     ]
    },
    {
     "data": {
      "image/png": "[encoded data removed]",
      "text/plain": [
       "<Figure size 432x288 with 1 Axes>"
      ]
     },
     "metadata": {},
     "output_type": "display_data"
    },
    {
     "name": "stdout",
     "output_type": "stream",
     "text": [
      "xDeepFM\n",
      "cuda:0\n",
      "Train on 131919 samples, validate on 18846 samples, 516 steps per epoch\n",
      "Epoch 1/100\n",
      "14s - loss:  1.6555 - mse:  1.6548 - val_mse:  1.1033\n",
      "Epoch 2/100\n",
      "19s - loss:  0.9806 - mse:  0.9805 - val_mse:  1.0760\n",
      "Epoch 3/100\n",
      "14s - loss:  0.8886 - mse:  0.8886 - val_mse:  1.0841\n",
      "Epoch 4/100\n",
      "14s - loss:  0.8473 - mse:  0.8476 - val_mse:  1.1017\n",
      "Epoch 5/100\n",
      "19s - loss:  0.8249 - mse:  0.8251 - val_mse:  1.1191\n",
      "Epoch 6/100\n",
      "13s - loss:  0.8093 - mse:  0.8091 - val_mse:  1.1263\n",
      "Epoch 7/100\n",
      "22s - loss:  0.7976 - mse:  0.7977 - val_mse:  1.1377\n",
      "Epoch 8/100\n",
      "17s - loss:  0.7894 - mse:  0.7901 - val_mse:  1.1369\n",
      "Epoch 9/100\n",
      "14s - loss:  0.7840 - mse:  0.7839 - val_mse:  1.1468\n",
      "Epoch 10/100\n",
      "16s - loss:  0.7787 - mse:  0.7785 - val_mse:  1.1561\n",
      "Epoch 11/100\n",
      "14s - loss:  0.7721 - mse:  0.7721 - val_mse:  1.1722\n",
      "Epoch 12/100\n",
      "14s - loss:  0.7688 - mse:  0.7693 - val_mse:  1.1716\n",
      "Epoch 00012: early stopping\n"
     ]
    },
    {
     "data": {
      "image/png": "[encoded data removed]",
      "text/plain": [
       "<Figure size 432x288 with 1 Axes>"
      ]
     },
     "metadata": {},
     "output_type": "display_data"
    },
    {
     "name": "stdout",
     "output_type": "stream",
     "text": [
      "DIFM\n",
      "cuda:0\n",
      "Train on 131919 samples, validate on 18846 samples, 516 steps per epoch\n",
      "Epoch 1/100\n",
      "15s - loss:  15.1468 - mse:  15.1444 - val_mse:  14.4234\n",
      "Epoch 2/100\n",
      "13s - loss:  1.7251 - mse:  1.7243 - val_mse:  1.1601\n",
      "Epoch 3/100\n",
      "12s - loss:  0.9783 - mse:  0.9786 - val_mse:  1.1104\n",
      "Epoch 4/100\n",
      "14s - loss:  0.8976 - mse:  0.8977 - val_mse:  1.0902\n",
      "Epoch 5/100\n",
      "13s - loss:  0.8551 - mse:  0.8549 - val_mse:  1.1053\n",
      "Epoch 6/100\n",
      "12s - loss:  0.8254 - mse:  0.8254 - val_mse:  1.1195\n",
      "Epoch 7/100\n",
      "13s - loss:  0.8030 - mse:  0.8035 - val_mse:  1.1210\n",
      "Epoch 8/100\n",
      "12s - loss:  0.7815 - mse:  0.7816 - val_mse:  1.1484\n",
      "Epoch 9/100\n",
      "12s - loss:  0.7659 - mse:  0.7660 - val_mse:  1.1660\n",
      "Epoch 10/100\n",
      "12s - loss:  0.7501 - mse:  0.7503 - val_mse:  1.1716\n",
      "Epoch 11/100\n",
      "12s - loss:  0.7384 - mse:  0.7385 - val_mse:  1.1825\n",
      "Epoch 12/100\n",
      "13s - loss:  0.7278 - mse:  0.7280 - val_mse:  1.2025\n",
      "Epoch 13/100\n",
      "14s - loss:  0.7198 - mse:  0.7199 - val_mse:  1.1984\n",
      "Epoch 14/100\n",
      "12s - loss:  0.7118 - mse:  0.7121 - val_mse:  1.2092\n",
      "Epoch 00014: early stopping\n"
     ]
    },
    {
     "data": {
      "image/png": "[encoded data removed]",
      "text/plain": [
       "<Figure size 432x288 with 1 Axes>"
      ]
     },
     "metadata": {},
     "output_type": "display_data"
    },
    {
     "name": "stdout",
     "output_type": "stream",
     "text": [
      "==================================================\n",
      "number: 2\n",
      "DeepFM\n",
      "cuda:0\n",
      "Train on 131919 samples, validate on 18846 samples, 516 steps per epoch\n",
      "Epoch 1/100\n",
      "15s - loss:  7.3354 - mse:  7.3325 - val_mse:  5.3032\n",
      "Epoch 2/100\n",
      "11s - loss:  1.1028 - mse:  1.1028 - val_mse:  1.1269\n",
      "Epoch 3/100\n",
      "11s - loss:  0.9724 - mse:  0.9721 - val_mse:  1.1340\n",
      "Epoch 4/100\n",
      "13s - loss:  0.9267 - mse:  0.9266 - val_mse:  1.1330\n",
      "Epoch 5/100\n",
      "11s - loss:  0.8777 - mse:  0.8777 - val_mse:  1.1063\n",
      "Epoch 6/100\n",
      "10s - loss:  0.8409 - mse:  0.8410 - val_mse:  1.1144\n",
      "Epoch 7/100\n",
      "15s - loss:  0.8218 - mse:  0.8217 - val_mse:  1.1138\n",
      "Epoch 8/100\n",
      "11s - loss:  0.8096 - mse:  0.8096 - val_mse:  1.1203\n",
      "Epoch 9/100\n",
      "11s - loss:  0.8015 - mse:  0.8014 - val_mse:  1.1301\n",
      "Epoch 10/100\n",
      "11s - loss:  0.7951 - mse:  0.7955 - val_mse:  1.1487\n",
      "Epoch 11/100\n",
      "11s - loss:  0.7899 - mse:  0.7897 - val_mse:  1.1415\n",
      "Epoch 12/100\n",
      "11s - loss:  0.7859 - mse:  0.7859 - val_mse:  1.1447\n",
      "Epoch 13/100\n",
      "11s - loss:  0.7831 - mse:  0.7833 - val_mse:  1.1490\n",
      "Epoch 14/100\n",
      "11s - loss:  0.7799 - mse:  0.7798 - val_mse:  1.1398\n",
      "Epoch 15/100\n",
      "11s - loss:  0.7758 - mse:  0.7760 - val_mse:  1.1445\n",
      "Epoch 00015: early stopping\n"
     ]
    },
    {
     "data": {
      "image/png": "[encoded data removed]",
      "text/plain": [
       "<Figure size 432x288 with 1 Axes>"
      ]
     },
     "metadata": {},
     "output_type": "display_data"
    },
    {
     "name": "stdout",
     "output_type": "stream",
     "text": [
      "AFM\n",
      "cuda:0\n",
      "Train on 131919 samples, validate on 18846 samples, 516 steps per epoch\n",
      "Epoch 1/100\n",
      "12s - loss:  14.4311 - mse:  14.4309 - val_mse:  13.3048\n",
      "Epoch 2/100\n",
      "11s - loss:  12.0560 - mse:  12.0522 - val_mse:  10.4449\n",
      "Epoch 3/100\n",
      "13s - loss:  7.9007 - mse:  7.8969 - val_mse:  4.5639\n",
      "Epoch 4/100\n",
      "11s - loss:  2.4965 - mse:  2.4950 - val_mse:  1.5012\n",
      "Epoch 5/100\n",
      "10s - loss:  1.3631 - mse:  1.3631 - val_mse:  1.3247\n",
      "Epoch 6/100\n",
      "13s - loss:  1.2924 - mse:  1.2926 - val_mse:  1.2916\n",
      "Epoch 7/100\n",
      "10s - loss:  1.2663 - mse:  1.2662 - val_mse:  1.2708\n",
      "Epoch 8/100\n",
      "10s - loss:  1.2480 - mse:  1.2478 - val_mse:  1.2555\n",
      "Epoch 9/100\n",
      "12s - loss:  1.2334 - mse:  1.2333 - val_mse:  1.2436\n",
      "Epoch 10/100\n",
      "10s - loss:  1.2206 - mse:  1.2207 - val_mse:  1.2330\n",
      "Epoch 11/100\n",
      "10s - loss:  1.2087 - mse:  1.2079 - val_mse:  1.2235\n",
      "Epoch 12/100\n",
      "17s - loss:  1.1972 - mse:  1.1965 - val_mse:  1.2151\n",
      "Epoch 13/100\n",
      "11s - loss:  1.1860 - mse:  1.1858 - val_mse:  1.2061\n",
      "Epoch 14/100\n",
      "13s - loss:  1.1746 - mse:  1.1745 - val_mse:  1.1973\n",
      "Epoch 15/100\n",
      "11s - loss:  1.1624 - mse:  1.1621 - val_mse:  1.1884\n",
      "Epoch 16/100\n",
      "10s - loss:  1.1491 - mse:  1.1484 - val_mse:  1.1787\n",
      "Epoch 17/100\n",
      "16s - loss:  1.1343 - mse:  1.1341 - val_mse:  1.1685\n",
      "Epoch 18/100\n",
      "11s - loss:  1.1177 - mse:  1.1172 - val_mse:  1.1574\n",
      "Epoch 19/100\n",
      "10s - loss:  1.0992 - mse:  1.0987 - val_mse:  1.1460\n",
      "Epoch 20/100\n",
      "14s - loss:  1.0792 - mse:  1.0787 - val_mse:  1.1330\n",
      "Epoch 21/100\n",
      "11s - loss:  1.0573 - mse:  1.0575 - val_mse:  1.1201\n",
      "Epoch 22/100\n",
      "10s - loss:  1.0341 - mse:  1.0339 - val_mse:  1.1068\n",
      "Epoch 23/100\n",
      "13s - loss:  1.0098 - mse:  1.0093 - val_mse:  1.0952\n",
      "Epoch 24/100\n",
      "10s - loss:  0.9850 - mse:  0.9849 - val_mse:  1.0842\n",
      "Epoch 25/100\n",
      "10s - loss:  0.9608 - mse:  0.9605 - val_mse:  1.0758\n",
      "Epoch 26/100\n",
      "14s - loss:  0.9382 - mse:  0.9380 - val_mse:  1.0704\n",
      "Epoch 27/100\n",
      "10s - loss:  0.9182 - mse:  0.9179 - val_mse:  1.0679\n",
      "Epoch 28/100\n",
      "15s - loss:  0.9019 - mse:  0.9015 - val_mse:  1.0681\n",
      "Epoch 29/100\n",
      "15s - loss:  0.8889 - mse:  0.8887 - val_mse:  1.0695\n",
      "Epoch 30/100\n",
      "11s - loss:  0.8784 - mse:  0.8780 - val_mse:  1.0720\n",
      "Epoch 31/100\n",
      "14s - loss:  0.8697 - mse:  0.8692 - val_mse:  1.0732\n",
      "Epoch 32/100\n",
      "12s - loss:  0.8620 - mse:  0.8614 - val_mse:  1.0751\n",
      "Epoch 33/100\n",
      "11s - loss:  0.8553 - mse:  0.8552 - val_mse:  1.0759\n",
      "Epoch 34/100\n",
      "15s - loss:  0.8492 - mse:  0.8489 - val_mse:  1.0779\n",
      "Epoch 35/100\n",
      "11s - loss:  0.8436 - mse:  0.8439 - val_mse:  1.0798\n",
      "Epoch 36/100\n",
      "11s - loss:  0.8384 - mse:  0.8382 - val_mse:  1.0812\n",
      "Epoch 37/100\n",
      "12s - loss:  0.8338 - mse:  0.8334 - val_mse:  1.0808\n",
      "Epoch 00037: early stopping\n"
     ]
    },
    {
     "data": {
      "image/png": "[encoded data removed]",
      "text/plain": [
       "<Figure size 432x288 with 1 Axes>"
      ]
     },
     "metadata": {},
     "output_type": "display_data"
    },
    {
     "name": "stdout",
     "output_type": "stream",
     "text": [
      "CCPM\n",
      "cuda:0\n",
      "Train on 131919 samples, validate on 18846 samples, 516 steps per epoch\n",
      "Epoch 1/100\n",
      "16s - loss:  9.1919 - mse:  9.1850 - val_mse:  3.5765\n",
      "Epoch 2/100\n",
      "13s - loss:  1.2735 - mse:  1.2734 - val_mse:  1.2260\n",
      "Epoch 3/100\n",
      "15s - loss:  1.1925 - mse:  1.1925 - val_mse:  1.2092\n",
      "Epoch 4/100\n",
      "15s - loss:  1.1619 - mse:  1.1613 - val_mse:  1.2439\n",
      "Epoch 5/100\n",
      "13s - loss:  1.1297 - mse:  1.1294 - val_mse:  1.2671\n",
      "Epoch 6/100\n",
      "13s - loss:  1.1050 - mse:  1.1048 - val_mse:  1.2572\n",
      "Epoch 7/100\n",
      "13s - loss:  1.0804 - mse:  1.0809 - val_mse:  1.1830\n",
      "Epoch 8/100\n",
      "13s - loss:  1.0632 - mse:  1.0634 - val_mse:  1.1668\n",
      "Epoch 9/100\n",
      "12s - loss:  1.0368 - mse:  1.0369 - val_mse:  1.1958\n",
      "Epoch 10/100\n",
      "13s - loss:  1.0138 - mse:  1.0137 - val_mse:  1.1860\n",
      "Epoch 11/100\n",
      "12s - loss:  0.9851 - mse:  0.9849 - val_mse:  1.1542\n",
      "Epoch 12/100\n",
      "13s - loss:  0.9641 - mse:  0.9639 - val_mse:  1.1741\n",
      "Epoch 13/100\n",
      "13s - loss:  0.9390 - mse:  0.9389 - val_mse:  1.1490\n",
      "Epoch 14/100\n",
      "15s - loss:  0.9193 - mse:  0.9192 - val_mse:  1.1513\n",
      "Epoch 15/100\n",
      "14s - loss:  0.9020 - mse:  0.9020 - val_mse:  1.1488\n",
      "Epoch 16/100\n",
      "12s - loss:  0.8909 - mse:  0.8910 - val_mse:  1.1564\n",
      "Epoch 17/100\n",
      "15s - loss:  0.8767 - mse:  0.8768 - val_mse:  1.1597\n",
      "Epoch 18/100\n",
      "13s - loss:  0.8670 - mse:  0.8673 - val_mse:  1.1814\n",
      "Epoch 19/100\n",
      "13s - loss:  0.8593 - mse:  0.8592 - val_mse:  1.1618\n",
      "Epoch 20/100\n",
      "18s - loss:  0.8449 - mse:  0.8448 - val_mse:  1.1903\n",
      "Epoch 21/100\n",
      "12s - loss:  0.8383 - mse:  0.8382 - val_mse:  1.2406\n",
      "Epoch 22/100\n",
      "13s - loss:  0.8321 - mse:  0.8321 - val_mse:  1.1578\n",
      "Epoch 23/100\n",
      "13s - loss:  0.8205 - mse:  0.8204 - val_mse:  1.1609\n",
      "Epoch 24/100\n",
      "12s - loss:  0.8148 - mse:  0.8146 - val_mse:  1.1727\n",
      "Epoch 25/100\n",
      "12s - loss:  0.8078 - mse:  0.8078 - val_mse:  1.1685\n",
      "Epoch 00025: early stopping\n"
     ]
    },
    {
     "data": {
      "image/png": "[encoded data removed]",
      "text/plain": [
       "<Figure size 432x288 with 1 Axes>"
      ]
     },
     "metadata": {},
     "output_type": "display_data"
    },
    {
     "name": "stdout",
     "output_type": "stream",
     "text": [
      "IPNN\n",
      "cuda:0\n",
      "Train on 131919 samples, validate on 18846 samples, 516 steps per epoch\n",
      "Epoch 1/100\n",
      "7s - loss:  5.9768 - mse:  5.9708 - val_mse:  1.2150\n",
      "Epoch 2/100\n",
      "7s - loss:  1.1348 - mse:  1.1346 - val_mse:  1.1156\n",
      "Epoch 3/100\n",
      "7s - loss:  1.0070 - mse:  1.0071 - val_mse:  1.0646\n",
      "Epoch 4/100\n",
      "7s - loss:  0.9248 - mse:  0.9246 - val_mse:  1.0577\n",
      "Epoch 5/100\n",
      "7s - loss:  0.8809 - mse:  0.8809 - val_mse:  1.0638\n",
      "Epoch 6/100\n",
      "11s - loss:  0.8555 - mse:  0.8554 - val_mse:  1.0720\n",
      "Epoch 7/100\n",
      "8s - loss:  0.8393 - mse:  0.8390 - val_mse:  1.0803\n",
      "Epoch 8/100\n",
      "7s - loss:  0.8283 - mse:  0.8283 - val_mse:  1.0834\n",
      "Epoch 9/100\n",
      "12s - loss:  0.8209 - mse:  0.8206 - val_mse:  1.0893\n",
      "Epoch 10/100\n",
      "9s - loss:  0.8155 - mse:  0.8154 - val_mse:  1.0959\n",
      "Epoch 11/100\n",
      "7s - loss:  0.8119 - mse:  0.8119 - val_mse:  1.0998\n",
      "Epoch 12/100\n",
      "12s - loss:  0.8086 - mse:  0.8082 - val_mse:  1.1014\n",
      "Epoch 13/100\n",
      "7s - loss:  0.8061 - mse:  0.8062 - val_mse:  1.1014\n",
      "Epoch 14/100\n",
      "7s - loss:  0.8047 - mse:  0.8044 - val_mse:  1.1062\n",
      "Epoch 00014: early stopping\n"
     ]
    },
    {
     "data": {
      "image/png": "[encoded data removed]",
      "text/plain": [
       "<Figure size 432x288 with 1 Axes>"
      ]
     },
     "metadata": {},
     "output_type": "display_data"
    },
    {
     "name": "stdout",
     "output_type": "stream",
     "text": [
      "OPNN\n",
      "cuda:0\n",
      "Train on 131919 samples, validate on 18846 samples, 516 steps per epoch\n",
      "Epoch 1/100\n",
      "9s - loss:  6.0171 - mse:  6.0105 - val_mse:  1.2126\n",
      "Epoch 2/100\n",
      "8s - loss:  1.1165 - mse:  1.1162 - val_mse:  1.1012\n",
      "Epoch 3/100\n",
      "12s - loss:  0.9798 - mse:  0.9795 - val_mse:  1.0632\n",
      "Epoch 4/100\n",
      "8s - loss:  0.9069 - mse:  0.9070 - val_mse:  1.0628\n",
      "Epoch 5/100\n",
      "9s - loss:  0.8703 - mse:  0.8701 - val_mse:  1.0726\n",
      "Epoch 6/100\n",
      "10s - loss:  0.8485 - mse:  0.8483 - val_mse:  1.0825\n",
      "Epoch 7/100\n",
      "10s - loss:  0.8355 - mse:  0.8354 - val_mse:  1.0844\n",
      "Epoch 8/100\n",
      "8s - loss:  0.8267 - mse:  0.8264 - val_mse:  1.0879\n",
      "Epoch 9/100\n",
      "12s - loss:  0.8204 - mse:  0.8202 - val_mse:  1.0939\n",
      "Epoch 10/100\n",
      "8s - loss:  0.8159 - mse:  0.8159 - val_mse:  1.0996\n",
      "Epoch 11/100\n",
      "8s - loss:  0.8128 - mse:  0.8126 - val_mse:  1.1007\n",
      "Epoch 12/100\n",
      "11s - loss:  0.8100 - mse:  0.8099 - val_mse:  1.1050\n",
      "Epoch 13/100\n",
      "9s - loss:  0.8083 - mse:  0.8085 - val_mse:  1.1115\n",
      "Epoch 14/100\n",
      "8s - loss:  0.8067 - mse:  0.8067 - val_mse:  1.1087\n",
      "Epoch 00014: early stopping\n"
     ]
    },
    {
     "data": {
      "image/png": "[encoded data removed]",
      "text/plain": [
       "<Figure size 432x288 with 1 Axes>"
      ]
     },
     "metadata": {},
     "output_type": "display_data"
    },
    {
     "name": "stdout",
     "output_type": "stream",
     "text": [
      "WDL\n",
      "cuda:0\n",
      "Train on 131919 samples, validate on 18846 samples, 516 steps per epoch\n",
      "Epoch 1/100\n",
      "14s - loss:  5.2309 - mse:  5.2251 - val_mse:  1.1968\n",
      "Epoch 2/100\n",
      "10s - loss:  1.1043 - mse:  1.1041 - val_mse:  1.0927\n",
      "Epoch 3/100\n",
      "13s - loss:  0.9741 - mse:  0.9735 - val_mse:  1.0577\n",
      "Epoch 4/100\n",
      "11s - loss:  0.9040 - mse:  0.9036 - val_mse:  1.0614\n",
      "Epoch 5/100\n",
      "10s - loss:  0.8687 - mse:  0.8683 - val_mse:  1.0699\n",
      "Epoch 6/100\n",
      "12s - loss:  0.8479 - mse:  0.8478 - val_mse:  1.0760\n",
      "Epoch 7/100\n",
      "12s - loss:  0.8351 - mse:  0.8347 - val_mse:  1.0879\n",
      "Epoch 8/100\n",
      "10s - loss:  0.8263 - mse:  0.8260 - val_mse:  1.0899\n",
      "Epoch 9/100\n",
      "15s - loss:  0.8204 - mse:  0.8200 - val_mse:  1.0914\n",
      "Epoch 10/100\n",
      "11s - loss:  0.8164 - mse:  0.8164 - val_mse:  1.0975\n",
      "Epoch 11/100\n",
      "11s - loss:  0.8128 - mse:  0.8124 - val_mse:  1.1015\n",
      "Epoch 12/100\n",
      "17s - loss:  0.8102 - mse:  0.8100 - val_mse:  1.1048\n",
      "Epoch 13/100\n",
      "16s - loss:  0.8082 - mse:  0.8082 - val_mse:  1.1075\n",
      "Epoch 00013: early stopping\n"
     ]
    },
    {
     "data": {
      "image/png": "[encoded data removed]",
      "text/plain": [
       "<Figure size 432x288 with 1 Axes>"
      ]
     },
     "metadata": {},
     "output_type": "display_data"
    },
    {
     "name": "stdout",
     "output_type": "stream",
     "text": [
      "NFM\n",
      "cuda:0\n",
      "Train on 131919 samples, validate on 18846 samples, 516 steps per epoch\n",
      "Epoch 1/100\n",
      "11s - loss:  8.5952 - mse:  8.5858 - val_mse:  1.2931\n",
      "Epoch 2/100\n",
      "16s - loss:  1.2233 - mse:  1.2232 - val_mse:  1.1958\n",
      "Epoch 3/100\n",
      "11s - loss:  1.1306 - mse:  1.1305 - val_mse:  1.1448\n",
      "Epoch 4/100\n",
      "11s - loss:  1.0662 - mse:  1.0661 - val_mse:  1.1095\n",
      "Epoch 5/100\n",
      "13s - loss:  1.0115 - mse:  1.0115 - val_mse:  1.0816\n",
      "Epoch 6/100\n",
      "12s - loss:  0.9619 - mse:  0.9615 - val_mse:  1.0653\n",
      "Epoch 7/100\n",
      "14s - loss:  0.9193 - mse:  0.9192 - val_mse:  1.0603\n",
      "Epoch 8/100\n",
      "13s - loss:  0.8875 - mse:  0.8869 - val_mse:  1.0629\n",
      "Epoch 9/100\n",
      "11s - loss:  0.8649 - mse:  0.8644 - val_mse:  1.0667\n",
      "Epoch 10/100\n",
      "14s - loss:  0.8487 - mse:  0.8484 - val_mse:  1.0720\n",
      "Epoch 11/100\n",
      "11s - loss:  0.8362 - mse:  0.8362 - val_mse:  1.0752\n",
      "Epoch 12/100\n",
      "10s - loss:  0.8263 - mse:  0.8260 - val_mse:  1.0788\n",
      "Epoch 13/100\n",
      "11s - loss:  0.8183 - mse:  0.8181 - val_mse:  1.0819\n",
      "Epoch 14/100\n",
      "10s - loss:  0.8119 - mse:  0.8114 - val_mse:  1.0849\n",
      "Epoch 15/100\n",
      "10s - loss:  0.8064 - mse:  0.8060 - val_mse:  1.0894\n",
      "Epoch 16/100\n",
      "11s - loss:  0.8018 - mse:  0.8017 - val_mse:  1.0909\n",
      "Epoch 17/100\n",
      "11s - loss:  0.7974 - mse:  0.7975 - val_mse:  1.0955\n",
      "Epoch 00017: early stopping\n"
     ]
    },
    {
     "data": {
      "image/png": "[encoded data removed]",
      "text/plain": [
       "<Figure size 432x288 with 1 Axes>"
      ]
     },
     "metadata": {},
     "output_type": "display_data"
    },
    {
     "name": "stdout",
     "output_type": "stream",
     "text": [
      "DCN\n",
      "cuda:0\n",
      "Train on 131919 samples, validate on 18846 samples, 516 steps per epoch\n",
      "Epoch 1/100\n",
      "11s - loss:  11.2290 - mse:  11.2270 - val_mse:  9.2979\n",
      "Epoch 2/100\n",
      "14s - loss:  1.3870 - mse:  1.3863 - val_mse:  1.1355\n",
      "Epoch 3/100\n",
      "11s - loss:  0.9906 - mse:  0.9908 - val_mse:  1.0968\n",
      "Epoch 4/100\n",
      "14s - loss:  0.9012 - mse:  0.9013 - val_mse:  1.0933\n",
      "Epoch 5/100\n",
      "12s - loss:  0.8514 - mse:  0.8512 - val_mse:  1.1074\n",
      "Epoch 6/100\n",
      "11s - loss:  0.8241 - mse:  0.8244 - val_mse:  1.1166\n",
      "Epoch 7/100\n",
      "13s - loss:  0.8075 - mse:  0.8075 - val_mse:  1.1240\n",
      "Epoch 8/100\n",
      "11s - loss:  0.7963 - mse:  0.7963 - val_mse:  1.1391\n",
      "Epoch 9/100\n",
      "11s - loss:  0.7887 - mse:  0.7887 - val_mse:  1.1397\n",
      "Epoch 10/100\n",
      "15s - loss:  0.7817 - mse:  0.7818 - val_mse:  1.1492\n",
      "Epoch 11/100\n",
      "12s - loss:  0.7764 - mse:  0.7767 - val_mse:  1.1607\n",
      "Epoch 12/100\n",
      "11s - loss:  0.7723 - mse:  0.7723 - val_mse:  1.1652\n",
      "Epoch 13/100\n",
      "12s - loss:  0.7688 - mse:  0.7687 - val_mse:  1.1631\n",
      "Epoch 14/100\n",
      "11s - loss:  0.7662 - mse:  0.7662 - val_mse:  1.1654\n",
      "Epoch 00014: early stopping\n"
     ]
    },
    {
     "data": {
      "image/png": "[encoded data removed]",
      "text/plain": [
       "<Figure size 432x288 with 1 Axes>"
      ]
     },
     "metadata": {},
     "output_type": "display_data"
    },
    {
     "name": "stdout",
     "output_type": "stream",
     "text": [
      "xDeepFM\n",
      "cuda:0\n",
      "Train on 131919 samples, validate on 18846 samples, 516 steps per epoch\n",
      "Epoch 1/100\n",
      "14s - loss:  1.6779 - mse:  1.6767 - val_mse:  1.0986\n",
      "Epoch 2/100\n",
      "14s - loss:  0.9870 - mse:  0.9868 - val_mse:  1.0609\n",
      "Epoch 3/100\n",
      "14s - loss:  0.8900 - mse:  0.8899 - val_mse:  1.0834\n",
      "Epoch 4/100\n",
      "14s - loss:  0.8504 - mse:  0.8507 - val_mse:  1.1107\n",
      "Epoch 5/100\n",
      "15s - loss:  0.8262 - mse:  0.8262 - val_mse:  1.1086\n",
      "Epoch 6/100\n",
      "15s - loss:  0.8107 - mse:  0.8108 - val_mse:  1.1173\n",
      "Epoch 7/100\n",
      "17s - loss:  0.7994 - mse:  0.7994 - val_mse:  1.1282\n",
      "Epoch 8/100\n",
      "19s - loss:  0.7921 - mse:  0.7922 - val_mse:  1.1414\n",
      "Epoch 9/100\n",
      "15s - loss:  0.7841 - mse:  0.7842 - val_mse:  1.1440\n",
      "Epoch 10/100\n",
      "17s - loss:  0.7777 - mse:  0.7782 - val_mse:  1.1530\n",
      "Epoch 11/100\n",
      "16s - loss:  0.7715 - mse:  0.7715 - val_mse:  1.1613\n",
      "Epoch 12/100\n",
      "14s - loss:  0.7653 - mse:  0.7653 - val_mse:  1.1558\n",
      "Epoch 00012: early stopping\n"
     ]
    },
    {
     "data": {
      "image/png": "[encoded data removed]",
      "text/plain": [
       "<Figure size 432x288 with 1 Axes>"
      ]
     },
     "metadata": {},
     "output_type": "display_data"
    },
    {
     "name": "stdout",
     "output_type": "stream",
     "text": [
      "DIFM\n",
      "cuda:0\n",
      "Train on 131919 samples, validate on 18846 samples, 516 steps per epoch\n",
      "Epoch 1/100\n",
      "16s - loss:  15.1011 - mse:  15.0996 - val_mse:  14.2749\n",
      "Epoch 2/100\n",
      "13s - loss:  1.7542 - mse:  1.7533 - val_mse:  1.1415\n",
      "Epoch 3/100\n",
      "12s - loss:  0.9982 - mse:  0.9982 - val_mse:  1.0836\n",
      "Epoch 4/100\n",
      "16s - loss:  0.9108 - mse:  0.9112 - val_mse:  1.0759\n",
      "Epoch 5/100\n",
      "13s - loss:  0.8669 - mse:  0.8667 - val_mse:  1.0847\n",
      "Epoch 6/100\n",
      "12s - loss:  0.8374 - mse:  0.8374 - val_mse:  1.0980\n",
      "Epoch 7/100\n",
      "20s - loss:  0.8150 - mse:  0.8150 - val_mse:  1.1017\n",
      "Epoch 8/100\n",
      "12s - loss:  0.7944 - mse:  0.7943 - val_mse:  1.1186\n",
      "Epoch 9/100\n",
      "15s - loss:  0.7778 - mse:  0.7778 - val_mse:  1.1329\n",
      "Epoch 10/100\n",
      "20s - loss:  0.7625 - mse:  0.7622 - val_mse:  1.1388\n",
      "Epoch 11/100\n",
      "12s - loss:  0.7478 - mse:  0.7476 - val_mse:  1.1448\n",
      "Epoch 12/100\n",
      "14s - loss:  0.7378 - mse:  0.7381 - val_mse:  1.1666\n",
      "Epoch 13/100\n",
      "14s - loss:  0.7275 - mse:  0.7273 - val_mse:  1.1822\n",
      "Epoch 14/100\n",
      "12s - loss:  0.7176 - mse:  0.7174 - val_mse:  1.2059\n",
      "Epoch 00014: early stopping\n"
     ]
    },
    {
     "data": {
      "image/png": "[encoded data removed]",
      "text/plain": [
       "<Figure size 432x288 with 1 Axes>"
      ]
     },
     "metadata": {},
     "output_type": "display_data"
    },
    {
     "name": "stdout",
     "output_type": "stream",
     "text": [
      "==================================================\n",
      "number: 3\n",
      "DeepFM\n",
      "cuda:0\n",
      "Train on 131919 samples, validate on 18846 samples, 516 steps per epoch\n",
      "Epoch 1/100\n",
      "15s - loss:  7.4507 - mse:  7.4483 - val_mse:  5.4354\n",
      "Epoch 2/100\n",
      "11s - loss:  1.1116 - mse:  1.1116 - val_mse:  1.1297\n",
      "Epoch 3/100\n",
      "10s - loss:  0.9670 - mse:  0.9665 - val_mse:  1.1226\n",
      "Epoch 4/100\n",
      "13s - loss:  0.8975 - mse:  0.8979 - val_mse:  1.1031\n",
      "Epoch 5/100\n",
      "11s - loss:  0.8542 - mse:  0.8543 - val_mse:  1.1067\n",
      "Epoch 6/100\n",
      "11s - loss:  0.8303 - mse:  0.8305 - val_mse:  1.1144\n",
      "Epoch 7/100\n",
      "15s - loss:  0.8173 - mse:  0.8175 - val_mse:  1.1258\n",
      "Epoch 8/100\n",
      "11s - loss:  0.8078 - mse:  0.8079 - val_mse:  1.1227\n",
      "Epoch 9/100\n",
      "11s - loss:  0.8026 - mse:  0.8027 - val_mse:  1.1337\n",
      "Epoch 10/100\n",
      "13s - loss:  0.7962 - mse:  0.7961 - val_mse:  1.1580\n",
      "Epoch 11/100\n",
      "11s - loss:  0.7915 - mse:  0.7917 - val_mse:  1.1478\n",
      "Epoch 12/100\n",
      "11s - loss:  0.7883 - mse:  0.7886 - val_mse:  1.1498\n",
      "Epoch 13/100\n",
      "11s - loss:  0.7856 - mse:  0.7858 - val_mse:  1.1531\n",
      "Epoch 14/100\n",
      "11s - loss:  0.7811 - mse:  0.7811 - val_mse:  1.1500\n",
      "Epoch 00014: early stopping\n"
     ]
    },
    {
     "data": {
      "image/png": "[encoded data removed]",
      "text/plain": [
       "<Figure size 432x288 with 1 Axes>"
      ]
     },
     "metadata": {},
     "output_type": "display_data"
    },
    {
     "name": "stdout",
     "output_type": "stream",
     "text": [
      "AFM\n",
      "cuda:0\n",
      "Train on 131919 samples, validate on 18846 samples, 516 steps per epoch\n",
      "Epoch 1/100\n",
      "14s - loss:  14.4609 - mse:  14.4586 - val_mse:  13.3497\n",
      "Epoch 2/100\n",
      "11s - loss:  12.0855 - mse:  12.0829 - val_mse:  10.4683\n",
      "Epoch 3/100\n",
      "10s - loss:  7.5853 - mse:  7.5801 - val_mse:  3.9707\n",
      "Epoch 4/100\n",
      "11s - loss:  2.1302 - mse:  2.1288 - val_mse:  1.4204\n",
      "Epoch 5/100\n",
      "10s - loss:  1.3331 - mse:  1.3328 - val_mse:  1.3270\n",
      "Epoch 6/100\n",
      "10s - loss:  1.2853 - mse:  1.2847 - val_mse:  1.2977\n",
      "Epoch 7/100\n",
      "10s - loss:  1.2614 - mse:  1.2612 - val_mse:  1.2781\n",
      "Epoch 8/100\n",
      "11s - loss:  1.2441 - mse:  1.2438 - val_mse:  1.2632\n",
      "Epoch 9/100\n",
      "10s - loss:  1.2298 - mse:  1.2294 - val_mse:  1.2504\n",
      "Epoch 10/100\n",
      "10s - loss:  1.2169 - mse:  1.2170 - val_mse:  1.2391\n",
      "Epoch 11/100\n",
      "10s - loss:  1.2046 - mse:  1.2046 - val_mse:  1.2283\n",
      "Epoch 12/100\n",
      "13s - loss:  1.1926 - mse:  1.1920 - val_mse:  1.2183\n",
      "Epoch 13/100\n",
      "11s - loss:  1.1806 - mse:  1.1805 - val_mse:  1.2087\n",
      "Epoch 14/100\n",
      "10s - loss:  1.1680 - mse:  1.1678 - val_mse:  1.1981\n",
      "Epoch 15/100\n",
      "13s - loss:  1.1537 - mse:  1.1539 - val_mse:  1.1866\n",
      "Epoch 16/100\n",
      "11s - loss:  1.1366 - mse:  1.1366 - val_mse:  1.1731\n",
      "Epoch 17/100\n",
      "10s - loss:  1.1154 - mse:  1.1149 - val_mse:  1.1572\n",
      "Epoch 18/100\n",
      "11s - loss:  1.0894 - mse:  1.0890 - val_mse:  1.1390\n",
      "Epoch 19/100\n",
      "11s - loss:  1.0597 - mse:  1.0597 - val_mse:  1.1215\n",
      "Epoch 20/100\n",
      "10s - loss:  1.0290 - mse:  1.0287 - val_mse:  1.1059\n",
      "Epoch 21/100\n",
      "23s - loss:  0.9985 - mse:  0.9981 - val_mse:  1.0931\n",
      "Epoch 22/100\n",
      "11s - loss:  0.9704 - mse:  0.9700 - val_mse:  1.0853\n",
      "Epoch 23/100\n",
      "12s - loss:  0.9470 - mse:  0.9469 - val_mse:  1.0810\n",
      "Epoch 24/100\n",
      "12s - loss:  0.9279 - mse:  0.9276 - val_mse:  1.0787\n",
      "Epoch 25/100\n",
      "12s - loss:  0.9123 - mse:  0.9119 - val_mse:  1.0781\n",
      "Epoch 26/100\n",
      "11s - loss:  0.8990 - mse:  0.8985 - val_mse:  1.0777\n",
      "Epoch 27/100\n",
      "11s - loss:  0.8874 - mse:  0.8872 - val_mse:  1.0780\n",
      "Epoch 28/100\n",
      "10s - loss:  0.8774 - mse:  0.8775 - val_mse:  1.0788\n",
      "Epoch 29/100\n",
      "11s - loss:  0.8683 - mse:  0.8681 - val_mse:  1.0805\n",
      "Epoch 30/100\n",
      "15s - loss:  0.8604 - mse:  0.8601 - val_mse:  1.0806\n",
      "Epoch 31/100\n",
      "13s - loss:  0.8533 - mse:  0.8531 - val_mse:  1.0825\n",
      "Epoch 32/100\n",
      "17s - loss:  0.8469 - mse:  0.8468 - val_mse:  1.0835\n",
      "Epoch 33/100\n",
      "15s - loss:  0.8409 - mse:  0.8407 - val_mse:  1.0845\n",
      "Epoch 34/100\n",
      "13s - loss:  0.8355 - mse:  0.8350 - val_mse:  1.0866\n",
      "Epoch 35/100\n",
      "15s - loss:  0.8305 - mse:  0.8299 - val_mse:  1.0882\n",
      "Epoch 36/100\n",
      "14s - loss:  0.8257 - mse:  0.8252 - val_mse:  1.0906\n",
      "Epoch 00036: early stopping\n"
     ]
    },
    {
     "data": {
      "image/png": "[encoded data removed]",
      "text/plain": [
       "<Figure size 432x288 with 1 Axes>"
      ]
     },
     "metadata": {},
     "output_type": "display_data"
    },
    {
     "name": "stdout",
     "output_type": "stream",
     "text": [
      "CCPM\n",
      "cuda:0\n",
      "Train on 131919 samples, validate on 18846 samples, 516 steps per epoch\n",
      "Epoch 1/100\n",
      "15s - loss:  8.9241 - mse:  8.9178 - val_mse:  3.2553\n",
      "Epoch 2/100\n",
      "21s - loss:  1.2126 - mse:  1.2126 - val_mse:  1.2950\n",
      "Epoch 3/100\n",
      "15s - loss:  1.1196 - mse:  1.1195 - val_mse:  1.1790\n",
      "Epoch 4/100\n",
      "14s - loss:  1.0652 - mse:  1.0653 - val_mse:  1.1682\n",
      "Epoch 5/100\n",
      "19s - loss:  1.0304 - mse:  1.0304 - val_mse:  1.1576\n",
      "Epoch 6/100\n",
      "15s - loss:  0.9972 - mse:  0.9975 - val_mse:  1.1297\n",
      "Epoch 7/100\n",
      "19s - loss:  0.9663 - mse:  0.9662 - val_mse:  1.1227\n",
      "Epoch 8/100\n",
      "20s - loss:  0.9431 - mse:  0.9433 - val_mse:  1.1454\n",
      "Epoch 9/100\n",
      "15s - loss:  0.9196 - mse:  0.9201 - val_mse:  1.1719\n",
      "Epoch 10/100\n",
      "20s - loss:  0.8983 - mse:  0.8984 - val_mse:  1.1192\n",
      "Epoch 11/100\n",
      "16s - loss:  0.8783 - mse:  0.8784 - val_mse:  1.1333\n",
      "Epoch 12/100\n",
      "13s - loss:  0.8578 - mse:  0.8577 - val_mse:  1.1216\n",
      "Epoch 13/100\n",
      "21s - loss:  0.8427 - mse:  0.8424 - val_mse:  1.1560\n",
      "Epoch 14/100\n",
      "15s - loss:  0.8319 - mse:  0.8316 - val_mse:  1.1651\n",
      "Epoch 15/100\n",
      "13s - loss:  0.8159 - mse:  0.8159 - val_mse:  1.1545\n",
      "Epoch 16/100\n",
      "20s - loss:  0.8100 - mse:  0.8100 - val_mse:  1.1685\n",
      "Epoch 17/100\n",
      "13s - loss:  0.7951 - mse:  0.7953 - val_mse:  1.1695\n",
      "Epoch 18/100\n",
      "13s - loss:  0.7880 - mse:  0.7878 - val_mse:  1.1633\n",
      "Epoch 19/100\n",
      "22s - loss:  0.7835 - mse:  0.7836 - val_mse:  1.2277\n",
      "Epoch 20/100\n",
      "16s - loss:  0.7745 - mse:  0.7746 - val_mse:  1.1572\n",
      "Epoch 00020: early stopping\n"
     ]
    },
    {
     "data": {
      "image/png": "[encoded data removed]",
      "text/plain": [
       "<Figure size 432x288 with 1 Axes>"
      ]
     },
     "metadata": {},
     "output_type": "display_data"
    },
    {
     "name": "stdout",
     "output_type": "stream",
     "text": [
      "IPNN\n",
      "cuda:0\n",
      "Train on 131919 samples, validate on 18846 samples, 516 steps per epoch\n",
      "Epoch 1/100\n",
      "8s - loss:  5.9940 - mse:  5.9877 - val_mse:  1.2162\n",
      "Epoch 2/100\n",
      "13s - loss:  1.1340 - mse:  1.1340 - val_mse:  1.1180\n",
      "Epoch 3/100\n",
      "10s - loss:  1.0088 - mse:  1.0086 - val_mse:  1.0680\n",
      "Epoch 4/100\n",
      "13s - loss:  0.9276 - mse:  0.9277 - val_mse:  1.0614\n",
      "Epoch 5/100\n",
      "9s - loss:  0.8835 - mse:  0.8833 - val_mse:  1.0678\n",
      "Epoch 6/100\n",
      "7s - loss:  0.8581 - mse:  0.8577 - val_mse:  1.0759\n",
      "Epoch 7/100\n",
      "10s - loss:  0.8420 - mse:  0.8418 - val_mse:  1.0829\n",
      "Epoch 8/100\n",
      "8s - loss:  0.8312 - mse:  0.8309 - val_mse:  1.0890\n",
      "Epoch 9/100\n",
      "9s - loss:  0.8240 - mse:  0.8238 - val_mse:  1.0945\n",
      "Epoch 10/100\n",
      "10s - loss:  0.8186 - mse:  0.8185 - val_mse:  1.0992\n",
      "Epoch 11/100\n",
      "8s - loss:  0.8147 - mse:  0.8145 - val_mse:  1.1027\n",
      "Epoch 12/100\n",
      "7s - loss:  0.8117 - mse:  0.8114 - val_mse:  1.1055\n",
      "Epoch 13/100\n",
      "12s - loss:  0.8091 - mse:  0.8087 - val_mse:  1.1069\n",
      "Epoch 14/100\n",
      "8s - loss:  0.8069 - mse:  0.8067 - val_mse:  1.1169\n",
      "Epoch 00014: early stopping\n"
     ]
    },
    {
     "data": {
      "image/png": "[encoded data removed]",
      "text/plain": [
       "<Figure size 432x288 with 1 Axes>"
      ]
     },
     "metadata": {},
     "output_type": "display_data"
    },
    {
     "name": "stdout",
     "output_type": "stream",
     "text": [
      "OPNN\n",
      "cuda:0\n",
      "Train on 131919 samples, validate on 18846 samples, 516 steps per epoch\n",
      "Epoch 1/100\n",
      "8s - loss:  6.0516 - mse:  6.0454 - val_mse:  1.2098\n",
      "Epoch 2/100\n",
      "11s - loss:  1.1160 - mse:  1.1157 - val_mse:  1.1015\n",
      "Epoch 3/100\n",
      "8s - loss:  0.9812 - mse:  0.9811 - val_mse:  1.0657\n",
      "Epoch 4/100\n",
      "8s - loss:  0.9091 - mse:  0.9092 - val_mse:  1.0672\n",
      "Epoch 5/100\n",
      "8s - loss:  0.8725 - mse:  0.8724 - val_mse:  1.0766\n",
      "Epoch 6/100\n",
      "8s - loss:  0.8512 - mse:  0.8513 - val_mse:  1.0840\n",
      "Epoch 7/100\n",
      "11s - loss:  0.8384 - mse:  0.8382 - val_mse:  1.0885\n",
      "Epoch 8/100\n",
      "10s - loss:  0.8297 - mse:  0.8296 - val_mse:  1.0966\n",
      "Epoch 9/100\n",
      "8s - loss:  0.8233 - mse:  0.8231 - val_mse:  1.1002\n",
      "Epoch 10/100\n",
      "10s - loss:  0.8189 - mse:  0.8189 - val_mse:  1.1076\n",
      "Epoch 11/100\n",
      "9s - loss:  0.8158 - mse:  0.8159 - val_mse:  1.1109\n",
      "Epoch 12/100\n",
      "8s - loss:  0.8134 - mse:  0.8132 - val_mse:  1.1112\n",
      "Epoch 13/100\n",
      "11s - loss:  0.8111 - mse:  0.8111 - val_mse:  1.1119\n",
      "Epoch 00013: early stopping\n"
     ]
    },
    {
     "data": {
      "image/png": "[encoded data removed]",
      "text/plain": [
       "<Figure size 432x288 with 1 Axes>"
      ]
     },
     "metadata": {},
     "output_type": "display_data"
    },
    {
     "name": "stdout",
     "output_type": "stream",
     "text": [
      "WDL\n",
      "cuda:0\n",
      "Train on 131919 samples, validate on 18846 samples, 516 steps per epoch\n",
      "Epoch 1/100\n",
      "11s - loss:  5.2546 - mse:  5.2493 - val_mse:  1.1996\n",
      "Epoch 2/100\n",
      "11s - loss:  1.1039 - mse:  1.1035 - val_mse:  1.0952\n",
      "Epoch 3/100\n",
      "11s - loss:  0.9763 - mse:  0.9756 - val_mse:  1.0634\n",
      "Epoch 4/100\n",
      "10s - loss:  0.9071 - mse:  0.9072 - val_mse:  1.0642\n",
      "Epoch 5/100\n",
      "10s - loss:  0.8716 - mse:  0.8715 - val_mse:  1.0722\n",
      "Epoch 6/100\n",
      "10s - loss:  0.8511 - mse:  0.8510 - val_mse:  1.0813\n",
      "Epoch 7/100\n",
      "10s - loss:  0.8380 - mse:  0.8379 - val_mse:  1.0865\n",
      "Epoch 8/100\n",
      "9s - loss:  0.8294 - mse:  0.8291 - val_mse:  1.0930\n",
      "Epoch 9/100\n",
      "9s - loss:  0.8234 - mse:  0.8233 - val_mse:  1.0997\n",
      "Epoch 10/100\n",
      "9s - loss:  0.8193 - mse:  0.8190 - val_mse:  1.1010\n",
      "Epoch 11/100\n",
      "9s - loss:  0.8159 - mse:  0.8158 - val_mse:  1.1060\n",
      "Epoch 12/100\n",
      "9s - loss:  0.8132 - mse:  0.8132 - val_mse:  1.1121\n",
      "Epoch 13/100\n",
      "9s - loss:  0.8115 - mse:  0.8114 - val_mse:  1.1121\n",
      "Epoch 00013: early stopping\n"
     ]
    },
    {
     "data": {
      "image/png": "[encoded data removed]",
      "text/plain": [
       "<Figure size 432x288 with 1 Axes>"
      ]
     },
     "metadata": {},
     "output_type": "display_data"
    },
    {
     "name": "stdout",
     "output_type": "stream",
     "text": [
      "NFM\n",
      "cuda:0\n",
      "Train on 131919 samples, validate on 18846 samples, 516 steps per epoch\n",
      "Epoch 1/100\n",
      "9s - loss:  8.6672 - mse:  8.6576 - val_mse:  1.2905\n",
      "Epoch 2/100\n",
      "9s - loss:  1.2226 - mse:  1.2225 - val_mse:  1.1989\n",
      "Epoch 3/100\n",
      "9s - loss:  1.1348 - mse:  1.1346 - val_mse:  1.1503\n",
      "Epoch 4/100\n",
      "9s - loss:  1.0710 - mse:  1.0709 - val_mse:  1.1138\n",
      "Epoch 5/100\n",
      "9s - loss:  1.0127 - mse:  1.0127 - val_mse:  1.0857\n",
      "Epoch 6/100\n",
      "9s - loss:  0.9588 - mse:  0.9590 - val_mse:  1.0710\n",
      "Epoch 7/100\n",
      "9s - loss:  0.9151 - mse:  0.9148 - val_mse:  1.0698\n",
      "Epoch 8/100\n",
      "9s - loss:  0.8848 - mse:  0.8845 - val_mse:  1.0732\n",
      "Epoch 9/100\n",
      "9s - loss:  0.8637 - mse:  0.8635 - val_mse:  1.0770\n",
      "Epoch 10/100\n",
      "9s - loss:  0.8483 - mse:  0.8484 - val_mse:  1.0812\n",
      "Epoch 11/100\n",
      "9s - loss:  0.8364 - mse:  0.8364 - val_mse:  1.0844\n",
      "Epoch 12/100\n",
      "9s - loss:  0.8272 - mse:  0.8269 - val_mse:  1.0875\n",
      "Epoch 13/100\n",
      "9s - loss:  0.8197 - mse:  0.8194 - val_mse:  1.0918\n",
      "Epoch 14/100\n",
      "9s - loss:  0.8137 - mse:  0.8136 - val_mse:  1.0940\n",
      "Epoch 15/100\n",
      "9s - loss:  0.8086 - mse:  0.8085 - val_mse:  1.0988\n",
      "Epoch 16/100\n",
      "9s - loss:  0.8042 - mse:  0.8037 - val_mse:  1.1004\n",
      "Epoch 17/100\n",
      "9s - loss:  0.8005 - mse:  0.8002 - val_mse:  1.1048\n",
      "Epoch 00017: early stopping\n"
     ]
    },
    {
     "data": {
      "image/png": "[encoded data removed]",
      "text/plain": [
       "<Figure size 432x288 with 1 Axes>"
      ]
     },
     "metadata": {},
     "output_type": "display_data"
    },
    {
     "name": "stdout",
     "output_type": "stream",
     "text": [
      "DCN\n",
      "cuda:0\n",
      "Train on 131919 samples, validate on 18846 samples, 516 steps per epoch\n",
      "Epoch 1/100\n",
      "10s - loss:  11.2168 - mse:  11.2135 - val_mse:  9.2720\n",
      "Epoch 2/100\n",
      "9s - loss:  1.3626 - mse:  1.3621 - val_mse:  1.1384\n",
      "Epoch 3/100\n",
      "9s - loss:  0.9958 - mse:  0.9965 - val_mse:  1.1021\n",
      "Epoch 4/100\n",
      "9s - loss:  0.8986 - mse:  0.8987 - val_mse:  1.1107\n",
      "Epoch 5/100\n",
      "9s - loss:  0.8511 - mse:  0.8512 - val_mse:  1.1173\n",
      "Epoch 6/100\n",
      "9s - loss:  0.8244 - mse:  0.8244 - val_mse:  1.1290\n",
      "Epoch 7/100\n",
      "9s - loss:  0.8093 - mse:  0.8094 - val_mse:  1.1388\n",
      "Epoch 8/100\n",
      "9s - loss:  0.7979 - mse:  0.7975 - val_mse:  1.1532\n",
      "Epoch 9/100\n",
      "9s - loss:  0.7903 - mse:  0.7903 - val_mse:  1.1642\n",
      "Epoch 10/100\n",
      "9s - loss:  0.7834 - mse:  0.7831 - val_mse:  1.1678\n",
      "Epoch 11/100\n",
      "9s - loss:  0.7782 - mse:  0.7783 - val_mse:  1.1722\n",
      "Epoch 12/100\n",
      "9s - loss:  0.7737 - mse:  0.7737 - val_mse:  1.1668\n",
      "Epoch 13/100\n",
      "9s - loss:  0.7694 - mse:  0.7692 - val_mse:  1.1739\n",
      "Epoch 00013: early stopping\n"
     ]
    },
    {
     "data": {
      "image/png": "[encoded data removed]",
      "text/plain": [
       "<Figure size 432x288 with 1 Axes>"
      ]
     },
     "metadata": {},
     "output_type": "display_data"
    },
    {
     "name": "stdout",
     "output_type": "stream",
     "text": [
      "xDeepFM\n",
      "cuda:0\n",
      "Train on 131919 samples, validate on 18846 samples, 516 steps per epoch\n",
      "Epoch 1/100\n",
      "13s - loss:  1.6546 - mse:  1.6538 - val_mse:  1.0947\n",
      "Epoch 2/100\n",
      "13s - loss:  0.9858 - mse:  0.9855 - val_mse:  1.0817\n",
      "Epoch 3/100\n",
      "13s - loss:  0.8920 - mse:  0.8919 - val_mse:  1.0814\n",
      "Epoch 4/100\n",
      "13s - loss:  0.8523 - mse:  0.8525 - val_mse:  1.1008\n",
      "Epoch 5/100\n",
      "13s - loss:  0.8282 - mse:  0.8286 - val_mse:  1.1130\n",
      "Epoch 6/100\n",
      "13s - loss:  0.8134 - mse:  0.8133 - val_mse:  1.1173\n",
      "Epoch 7/100\n",
      "14s - loss:  0.8013 - mse:  0.8016 - val_mse:  1.1361\n",
      "Epoch 8/100\n",
      "14s - loss:  0.7933 - mse:  0.7935 - val_mse:  1.1351\n",
      "Epoch 9/100\n",
      "14s - loss:  0.7867 - mse:  0.7869 - val_mse:  1.1328\n",
      "Epoch 10/100\n",
      "13s - loss:  0.7811 - mse:  0.7810 - val_mse:  1.1436\n",
      "Epoch 11/100\n",
      "13s - loss:  0.7756 - mse:  0.7760 - val_mse:  1.1574\n",
      "Epoch 12/100\n",
      "13s - loss:  0.7702 - mse:  0.7703 - val_mse:  1.1678\n",
      "Epoch 13/100\n",
      "13s - loss:  0.7639 - mse:  0.7639 - val_mse:  1.1628\n",
      "Epoch 00013: early stopping\n"
     ]
    },
    {
     "data": {
      "image/png": "[encoded data removed]",
      "text/plain": [
       "<Figure size 432x288 with 1 Axes>"
      ]
     },
     "metadata": {},
     "output_type": "display_data"
    },
    {
     "name": "stdout",
     "output_type": "stream",
     "text": [
      "DIFM\n",
      "cuda:0\n",
      "Train on 131919 samples, validate on 18846 samples, 516 steps per epoch\n",
      "Epoch 1/100\n",
      "11s - loss:  15.1654 - mse:  15.1638 - val_mse:  14.4442\n",
      "Epoch 2/100\n",
      "11s - loss:  1.7311 - mse:  1.7306 - val_mse:  1.1312\n",
      "Epoch 3/100\n",
      "12s - loss:  0.9788 - mse:  0.9792 - val_mse:  1.0889\n",
      "Epoch 4/100\n",
      "11s - loss:  0.9016 - mse:  0.9013 - val_mse:  1.0942\n",
      "Epoch 5/100\n",
      "11s - loss:  0.8604 - mse:  0.8604 - val_mse:  1.0900\n",
      "Epoch 6/100\n",
      "11s - loss:  0.8274 - mse:  0.8277 - val_mse:  1.1032\n",
      "Epoch 7/100\n",
      "11s - loss:  0.8021 - mse:  0.8022 - val_mse:  1.1137\n",
      "Epoch 8/100\n",
      "10s - loss:  0.7803 - mse:  0.7808 - val_mse:  1.1434\n",
      "Epoch 9/100\n",
      "10s - loss:  0.7648 - mse:  0.7648 - val_mse:  1.1517\n",
      "Epoch 10/100\n",
      "12s - loss:  0.7515 - mse:  0.7513 - val_mse:  1.1714\n",
      "Epoch 11/100\n",
      "11s - loss:  0.7397 - mse:  0.7399 - val_mse:  1.1853\n",
      "Epoch 12/100\n",
      "12s - loss:  0.7313 - mse:  0.7317 - val_mse:  1.1973\n",
      "Epoch 13/100\n",
      "11s - loss:  0.7238 - mse:  0.7241 - val_mse:  1.2046\n",
      "Epoch 00013: early stopping\n"
     ]
    },
    {
     "data": {
      "image/png": "[encoded data removed]",
      "text/plain": [
       "<Figure size 432x288 with 1 Axes>"
      ]
     },
     "metadata": {},
     "output_type": "display_data"
    },
    {
     "name": "stdout",
     "output_type": "stream",
     "text": [
      "==================================================\n",
      "number: 4\n",
      "DeepFM\n",
      "cuda:0\n",
      "Train on 131919 samples, validate on 18846 samples, 516 steps per epoch\n",
      "Epoch 1/100\n",
      "10s - loss:  7.3638 - mse:  7.3622 - val_mse:  5.3665\n",
      "Epoch 2/100\n",
      "10s - loss:  1.1274 - mse:  1.1277 - val_mse:  1.1239\n",
      "Epoch 3/100\n",
      "10s - loss:  0.9876 - mse:  0.9872 - val_mse:  1.1223\n",
      "Epoch 4/100\n",
      "10s - loss:  0.9275 - mse:  0.9270 - val_mse:  1.0939\n",
      "Epoch 5/100\n",
      "10s - loss:  0.8842 - mse:  0.8842 - val_mse:  1.1059\n",
      "Epoch 6/100\n",
      "10s - loss:  0.8599 - mse:  0.8599 - val_mse:  1.0983\n",
      "Epoch 7/100\n",
      "10s - loss:  0.8439 - mse:  0.8436 - val_mse:  1.1178\n",
      "Epoch 8/100\n",
      "9s - loss:  0.8341 - mse:  0.8342 - val_mse:  1.1242\n",
      "Epoch 9/100\n",
      "10s - loss:  0.8273 - mse:  0.8275 - val_mse:  1.1544\n",
      "Epoch 10/100\n",
      "10s - loss:  0.8224 - mse:  0.8224 - val_mse:  1.1272\n",
      "Epoch 11/100\n",
      "12s - loss:  0.8172 - mse:  0.8169 - val_mse:  1.1414\n",
      "Epoch 12/100\n",
      "12s - loss:  0.8134 - mse:  0.8134 - val_mse:  1.1374\n",
      "Epoch 13/100\n",
      "10s - loss:  0.8100 - mse:  0.8101 - val_mse:  1.1486\n",
      "Epoch 14/100\n",
      "10s - loss:  0.8069 - mse:  0.8069 - val_mse:  1.1475\n",
      "Epoch 00014: early stopping\n"
     ]
    },
    {
     "data": {
      "image/png": "[encoded data removed]",
      "text/plain": [
       "<Figure size 432x288 with 1 Axes>"
      ]
     },
     "metadata": {},
     "output_type": "display_data"
    },
    {
     "name": "stdout",
     "output_type": "stream",
     "text": [
      "AFM\n",
      "cuda:0\n",
      "Train on 131919 samples, validate on 18846 samples, 516 steps per epoch\n",
      "Epoch 1/100\n",
      "10s - loss:  14.4772 - mse:  14.4752 - val_mse:  13.4142\n",
      "Epoch 2/100\n",
      "9s - loss:  12.0939 - mse:  12.0918 - val_mse:  10.5316\n",
      "Epoch 3/100\n",
      "10s - loss:  7.6562 - mse:  7.6510 - val_mse:  3.9437\n",
      "Epoch 4/100\n",
      "10s - loss:  2.0934 - mse:  2.0921 - val_mse:  1.4098\n",
      "Epoch 5/100\n",
      "9s - loss:  1.3365 - mse:  1.3364 - val_mse:  1.3162\n",
      "Epoch 6/100\n",
      "10s - loss:  1.2889 - mse:  1.2893 - val_mse:  1.2875\n",
      "Epoch 7/100\n",
      "10s - loss:  1.2643 - mse:  1.2640 - val_mse:  1.2683\n",
      "Epoch 8/100\n",
      "9s - loss:  1.2464 - mse:  1.2467 - val_mse:  1.2539\n",
      "Epoch 9/100\n",
      "11s - loss:  1.2319 - mse:  1.2317 - val_mse:  1.2418\n",
      "Epoch 10/100\n",
      "10s - loss:  1.2191 - mse:  1.2186 - val_mse:  1.2313\n",
      "Epoch 11/100\n",
      "10s - loss:  1.2071 - mse:  1.2071 - val_mse:  1.2217\n",
      "Epoch 12/100\n",
      "9s - loss:  1.1955 - mse:  1.1955 - val_mse:  1.2123\n",
      "Epoch 13/100\n",
      "9s - loss:  1.1839 - mse:  1.1837 - val_mse:  1.2030\n",
      "Epoch 14/100\n",
      "9s - loss:  1.1717 - mse:  1.1714 - val_mse:  1.1934\n",
      "Epoch 15/100\n",
      "9s - loss:  1.1585 - mse:  1.1582 - val_mse:  1.1832\n",
      "Epoch 16/100\n",
      "10s - loss:  1.1439 - mse:  1.1431 - val_mse:  1.1724\n",
      "Epoch 17/100\n",
      "10s - loss:  1.1277 - mse:  1.1273 - val_mse:  1.1607\n",
      "Epoch 18/100\n",
      "9s - loss:  1.1095 - mse:  1.1096 - val_mse:  1.1482\n",
      "Epoch 19/100\n",
      "10s - loss:  1.0895 - mse:  1.0894 - val_mse:  1.1352\n",
      "Epoch 20/100\n",
      "9s - loss:  1.0678 - mse:  1.0678 - val_mse:  1.1224\n",
      "Epoch 21/100\n",
      "10s - loss:  1.0450 - mse:  1.0453 - val_mse:  1.1090\n",
      "Epoch 22/100\n",
      "9s - loss:  1.0213 - mse:  1.0213 - val_mse:  1.0966\n",
      "Epoch 23/100\n",
      "9s - loss:  0.9980 - mse:  0.9976 - val_mse:  1.0859\n",
      "Epoch 24/100\n",
      "10s - loss:  0.9759 - mse:  0.9758 - val_mse:  1.0781\n",
      "Epoch 25/100\n",
      "9s - loss:  0.9559 - mse:  0.9557 - val_mse:  1.0719\n",
      "Epoch 26/100\n",
      "10s - loss:  0.9386 - mse:  0.9385 - val_mse:  1.0678\n",
      "Epoch 27/100\n",
      "10s - loss:  0.9234 - mse:  0.9231 - val_mse:  1.0660\n",
      "Epoch 28/100\n",
      "9s - loss:  0.9105 - mse:  0.9099 - val_mse:  1.0647\n",
      "Epoch 29/100\n",
      "9s - loss:  0.8992 - mse:  0.8987 - val_mse:  1.0646\n",
      "Epoch 30/100\n",
      "9s - loss:  0.8894 - mse:  0.8894 - val_mse:  1.0649\n",
      "Epoch 31/100\n",
      "9s - loss:  0.8807 - mse:  0.8804 - val_mse:  1.0652\n",
      "Epoch 32/100\n",
      "9s - loss:  0.8728 - mse:  0.8725 - val_mse:  1.0658\n",
      "Epoch 33/100\n",
      "9s - loss:  0.8656 - mse:  0.8650 - val_mse:  1.0661\n",
      "Epoch 34/100\n",
      "9s - loss:  0.8590 - mse:  0.8588 - val_mse:  1.0667\n",
      "Epoch 35/100\n",
      "10s - loss:  0.8527 - mse:  0.8522 - val_mse:  1.0678\n",
      "Epoch 36/100\n",
      "9s - loss:  0.8467 - mse:  0.8465 - val_mse:  1.0684\n",
      "Epoch 37/100\n",
      "9s - loss:  0.8411 - mse:  0.8407 - val_mse:  1.0686\n",
      "Epoch 38/100\n",
      "9s - loss:  0.8357 - mse:  0.8356 - val_mse:  1.0695\n",
      "Epoch 39/100\n",
      "10s - loss:  0.8305 - mse:  0.8299 - val_mse:  1.0705\n",
      "Epoch 00039: early stopping\n"
     ]
    },
    {
     "data": {
      "image/png": "[encoded data removed]",
      "text/plain": [
       "<Figure size 432x288 with 1 Axes>"
      ]
     },
     "metadata": {},
     "output_type": "display_data"
    },
    {
     "name": "stdout",
     "output_type": "stream",
     "text": [
      "CCPM\n",
      "cuda:0\n",
      "Train on 131919 samples, validate on 18846 samples, 516 steps per epoch\n",
      "Epoch 1/100\n",
      "12s - loss:  9.1997 - mse:  9.1920 - val_mse:  3.5855\n",
      "Epoch 2/100\n",
      "12s - loss:  1.2740 - mse:  1.2741 - val_mse:  1.2337\n",
      "Epoch 3/100\n",
      "12s - loss:  1.2018 - mse:  1.2015 - val_mse:  1.2040\n",
      "Epoch 4/100\n",
      "11s - loss:  1.1648 - mse:  1.1651 - val_mse:  1.2285\n",
      "Epoch 5/100\n",
      "11s - loss:  1.1393 - mse:  1.1395 - val_mse:  1.1882\n",
      "Epoch 6/100\n",
      "12s - loss:  1.1137 - mse:  1.1136 - val_mse:  1.1904\n",
      "Epoch 7/100\n",
      "12s - loss:  1.0947 - mse:  1.0942 - val_mse:  1.1798\n",
      "Epoch 8/100\n",
      "12s - loss:  1.0713 - mse:  1.0712 - val_mse:  1.1548\n",
      "Epoch 9/100\n",
      "13s - loss:  1.0486 - mse:  1.0488 - val_mse:  1.1802\n",
      "Epoch 10/100\n",
      "17s - loss:  1.0194 - mse:  1.0193 - val_mse:  1.1610\n",
      "Epoch 11/100\n",
      "17s - loss:  0.9945 - mse:  0.9945 - val_mse:  1.1333\n",
      "Epoch 12/100\n",
      "17s - loss:  0.9648 - mse:  0.9643 - val_mse:  1.1337\n",
      "Epoch 13/100\n",
      "17s - loss:  0.9381 - mse:  0.9379 - val_mse:  1.1433\n",
      "Epoch 14/100\n",
      "17s - loss:  0.9185 - mse:  0.9186 - val_mse:  1.1982\n",
      "Epoch 15/100\n",
      "16s - loss:  0.9080 - mse:  0.9085 - val_mse:  1.2747\n",
      "Epoch 16/100\n",
      "16s - loss:  0.8958 - mse:  0.8960 - val_mse:  1.1669\n",
      "Epoch 17/100\n",
      "17s - loss:  0.8789 - mse:  0.8791 - val_mse:  1.1469\n",
      "Epoch 18/100\n",
      "17s - loss:  0.8722 - mse:  0.8726 - val_mse:  1.1416\n",
      "Epoch 19/100\n",
      "17s - loss:  0.8590 - mse:  0.8589 - val_mse:  1.1679\n",
      "Epoch 20/100\n",
      "17s - loss:  0.8516 - mse:  0.8513 - val_mse:  1.1799\n",
      "Epoch 21/100\n",
      "17s - loss:  0.8417 - mse:  0.8415 - val_mse:  1.2208\n",
      "Epoch 00021: early stopping\n"
     ]
    },
    {
     "data": {
      "image/png": "[encoded data removed]",
      "text/plain": [
       "<Figure size 432x288 with 1 Axes>"
      ]
     },
     "metadata": {},
     "output_type": "display_data"
    },
    {
     "name": "stdout",
     "output_type": "stream",
     "text": [
      "IPNN\n",
      "cuda:0\n",
      "Train on 131919 samples, validate on 18846 samples, 516 steps per epoch\n",
      "Epoch 1/100\n",
      "9s - loss:  6.0042 - mse:  5.9977 - val_mse:  1.2155\n",
      "Epoch 2/100\n",
      "10s - loss:  1.1364 - mse:  1.1362 - val_mse:  1.1170\n",
      "Epoch 3/100\n",
      "10s - loss:  1.0111 - mse:  1.0108 - val_mse:  1.0628\n",
      "Epoch 4/100\n",
      "9s - loss:  0.9302 - mse:  0.9297 - val_mse:  1.0513\n",
      "Epoch 5/100\n",
      "10s - loss:  0.8868 - mse:  0.8865 - val_mse:  1.0535\n",
      "Epoch 6/100\n",
      "10s - loss:  0.8620 - mse:  0.8626 - val_mse:  1.0571\n",
      "Epoch 7/100\n",
      "9s - loss:  0.8464 - mse:  0.8461 - val_mse:  1.0628\n",
      "Epoch 8/100\n",
      "9s - loss:  0.8362 - mse:  0.8363 - val_mse:  1.0662\n",
      "Epoch 9/100\n",
      "9s - loss:  0.8288 - mse:  0.8286 - val_mse:  1.0702\n",
      "Epoch 10/100\n",
      "10s - loss:  0.8235 - mse:  0.8231 - val_mse:  1.0738\n",
      "Epoch 11/100\n",
      "9s - loss:  0.8195 - mse:  0.8195 - val_mse:  1.0766\n",
      "Epoch 12/100\n",
      "10s - loss:  0.8161 - mse:  0.8158 - val_mse:  1.0812\n",
      "Epoch 13/100\n",
      "10s - loss:  0.8134 - mse:  0.8132 - val_mse:  1.0845\n",
      "Epoch 14/100\n",
      "10s - loss:  0.8112 - mse:  0.8108 - val_mse:  1.0847\n",
      "Epoch 00014: early stopping\n"
     ]
    },
    {
     "data": {
      "image/png": "[encoded data removed]",
      "text/plain": [
       "<Figure size 432x288 with 1 Axes>"
      ]
     },
     "metadata": {},
     "output_type": "display_data"
    },
    {
     "name": "stdout",
     "output_type": "stream",
     "text": [
      "OPNN\n",
      "cuda:0\n",
      "Train on 131919 samples, validate on 18846 samples, 516 steps per epoch\n",
      "Epoch 1/100\n",
      "10s - loss:  6.0553 - mse:  6.0490 - val_mse:  1.2084\n",
      "Epoch 2/100\n",
      "10s - loss:  1.1173 - mse:  1.1171 - val_mse:  1.0996\n",
      "Epoch 3/100\n",
      "10s - loss:  0.9849 - mse:  0.9851 - val_mse:  1.0583\n",
      "Epoch 4/100\n",
      "10s - loss:  0.9130 - mse:  0.9134 - val_mse:  1.0552\n",
      "Epoch 5/100\n",
      "10s - loss:  0.8763 - mse:  0.8761 - val_mse:  1.0585\n",
      "Epoch 6/100\n",
      "10s - loss:  0.8560 - mse:  0.8559 - val_mse:  1.0623\n",
      "Epoch 7/100\n",
      "10s - loss:  0.8434 - mse:  0.8432 - val_mse:  1.0653\n",
      "Epoch 8/100\n",
      "10s - loss:  0.8345 - mse:  0.8345 - val_mse:  1.0707\n",
      "Epoch 9/100\n",
      "10s - loss:  0.8288 - mse:  0.8288 - val_mse:  1.0744\n",
      "Epoch 10/100\n",
      "10s - loss:  0.8242 - mse:  0.8246 - val_mse:  1.0799\n",
      "Epoch 11/100\n",
      "10s - loss:  0.8214 - mse:  0.8214 - val_mse:  1.0820\n",
      "Epoch 12/100\n",
      "10s - loss:  0.8184 - mse:  0.8187 - val_mse:  1.0837\n",
      "Epoch 13/100\n",
      "10s - loss:  0.8166 - mse:  0.8167 - val_mse:  1.0898\n",
      "Epoch 14/100\n",
      "10s - loss:  0.8148 - mse:  0.8145 - val_mse:  1.0923\n",
      "Epoch 00014: early stopping\n"
     ]
    },
    {
     "data": {
      "image/png": "[encoded data removed]",
      "text/plain": [
       "<Figure size 432x288 with 1 Axes>"
      ]
     },
     "metadata": {},
     "output_type": "display_data"
    },
    {
     "name": "stdout",
     "output_type": "stream",
     "text": [
      "WDL\n",
      "cuda:0\n",
      "Train on 131919 samples, validate on 18846 samples, 516 steps per epoch\n",
      "Epoch 1/100\n",
      "14s - loss:  5.2517 - mse:  5.2464 - val_mse:  1.1944\n",
      "Epoch 2/100\n",
      "14s - loss:  1.1062 - mse:  1.1062 - val_mse:  1.0909\n",
      "Epoch 3/100\n",
      "14s - loss:  0.9785 - mse:  0.9780 - val_mse:  1.0548\n",
      "Epoch 4/100\n",
      "14s - loss:  0.9100 - mse:  0.9093 - val_mse:  1.0521\n",
      "Epoch 5/100\n",
      "14s - loss:  0.8751 - mse:  0.8748 - val_mse:  1.0560\n",
      "Epoch 6/100\n",
      "14s - loss:  0.8551 - mse:  0.8549 - val_mse:  1.0588\n",
      "Epoch 7/100\n",
      "14s - loss:  0.8423 - mse:  0.8417 - val_mse:  1.0662\n",
      "Epoch 8/100\n",
      "14s - loss:  0.8345 - mse:  0.8343 - val_mse:  1.0700\n",
      "Epoch 9/100\n",
      "14s - loss:  0.8282 - mse:  0.8283 - val_mse:  1.0718\n",
      "Epoch 10/100\n",
      "14s - loss:  0.8241 - mse:  0.8239 - val_mse:  1.0780\n",
      "Epoch 11/100\n",
      "15s - loss:  0.8209 - mse:  0.8204 - val_mse:  1.0817\n",
      "Epoch 12/100\n",
      "14s - loss:  0.8184 - mse:  0.8181 - val_mse:  1.0830\n",
      "Epoch 13/100\n",
      "14s - loss:  0.8167 - mse:  0.8164 - val_mse:  1.0839\n",
      "Epoch 14/100\n",
      "14s - loss:  0.8152 - mse:  0.8147 - val_mse:  1.0871\n",
      "Epoch 00014: early stopping\n"
     ]
    },
    {
     "data": {
      "image/png": "[encoded data removed]",
      "text/plain": [
       "<Figure size 432x288 with 1 Axes>"
      ]
     },
     "metadata": {},
     "output_type": "display_data"
    },
    {
     "name": "stdout",
     "output_type": "stream",
     "text": [
      "NFM\n",
      "cuda:0\n",
      "Train on 131919 samples, validate on 18846 samples, 516 steps per epoch\n",
      "Epoch 1/100\n",
      "14s - loss:  8.6185 - mse:  8.6086 - val_mse:  1.2924\n",
      "Epoch 2/100\n",
      "15s - loss:  1.2229 - mse:  1.2229 - val_mse:  1.1960\n",
      "Epoch 3/100\n",
      "14s - loss:  1.1313 - mse:  1.1315 - val_mse:  1.1445\n",
      "Epoch 4/100\n",
      "14s - loss:  1.0670 - mse:  1.0666 - val_mse:  1.1076\n",
      "Epoch 5/100\n",
      "14s - loss:  1.0112 - mse:  1.0110 - val_mse:  1.0785\n",
      "Epoch 6/100\n",
      "14s - loss:  0.9605 - mse:  0.9603 - val_mse:  1.0604\n",
      "Epoch 7/100\n",
      "14s - loss:  0.9184 - mse:  0.9184 - val_mse:  1.0558\n",
      "Epoch 8/100\n",
      "14s - loss:  0.8882 - mse:  0.8878 - val_mse:  1.0574\n",
      "Epoch 9/100\n",
      "14s - loss:  0.8675 - mse:  0.8677 - val_mse:  1.0584\n",
      "Epoch 10/100\n",
      "14s - loss:  0.8524 - mse:  0.8523 - val_mse:  1.0598\n",
      "Epoch 11/100\n",
      "14s - loss:  0.8406 - mse:  0.8403 - val_mse:  1.0618\n",
      "Epoch 12/100\n",
      "14s - loss:  0.8318 - mse:  0.8318 - val_mse:  1.0669\n",
      "Epoch 13/100\n",
      "14s - loss:  0.8245 - mse:  0.8243 - val_mse:  1.0693\n",
      "Epoch 14/100\n",
      "13s - loss:  0.8188 - mse:  0.8187 - val_mse:  1.0690\n",
      "Epoch 15/100\n",
      "10s - loss:  0.8141 - mse:  0.8141 - val_mse:  1.0714\n",
      "Epoch 16/100\n",
      "10s - loss:  0.8098 - mse:  0.8096 - val_mse:  1.0742\n",
      "Epoch 17/100\n",
      "9s - loss:  0.8061 - mse:  0.8058 - val_mse:  1.0758\n",
      "Epoch 00017: early stopping\n"
     ]
    },
    {
     "data": {
      "image/png": "[encoded data removed]",
      "text/plain": [
       "<Figure size 432x288 with 1 Axes>"
      ]
     },
     "metadata": {},
     "output_type": "display_data"
    },
    {
     "name": "stdout",
     "output_type": "stream",
     "text": [
      "DCN\n",
      "cuda:0\n",
      "Train on 131919 samples, validate on 18846 samples, 516 steps per epoch\n",
      "Epoch 1/100\n",
      "10s - loss:  11.1958 - mse:  11.1935 - val_mse:  9.1793\n",
      "Epoch 2/100\n",
      "9s - loss:  1.3085 - mse:  1.3083 - val_mse:  1.1341\n",
      "Epoch 3/100\n",
      "10s - loss:  1.0189 - mse:  1.0193 - val_mse:  1.1362\n",
      "Epoch 4/100\n",
      "9s - loss:  0.9585 - mse:  0.9583 - val_mse:  1.1151\n",
      "Epoch 5/100\n",
      "9s - loss:  0.9026 - mse:  0.9031 - val_mse:  1.0987\n",
      "Epoch 6/100\n",
      "9s - loss:  0.8614 - mse:  0.8611 - val_mse:  1.0988\n",
      "Epoch 7/100\n",
      "10s - loss:  0.8377 - mse:  0.8378 - val_mse:  1.1032\n",
      "Epoch 8/100\n",
      "10s - loss:  0.8241 - mse:  0.8240 - val_mse:  1.1153\n",
      "Epoch 9/100\n",
      "9s - loss:  0.8134 - mse:  0.8135 - val_mse:  1.1104\n",
      "Epoch 10/100\n",
      "9s - loss:  0.8057 - mse:  0.8060 - val_mse:  1.1212\n",
      "Epoch 11/100\n",
      "10s - loss:  0.7997 - mse:  0.7997 - val_mse:  1.1288\n",
      "Epoch 12/100\n",
      "10s - loss:  0.7947 - mse:  0.7949 - val_mse:  1.1285\n",
      "Epoch 13/100\n",
      "10s - loss:  0.7901 - mse:  0.7898 - val_mse:  1.1337\n",
      "Epoch 14/100\n",
      "10s - loss:  0.7857 - mse:  0.7855 - val_mse:  1.1329\n",
      "Epoch 15/100\n",
      "9s - loss:  0.7819 - mse:  0.7821 - val_mse:  1.1348\n",
      "Epoch 00015: early stopping\n"
     ]
    },
    {
     "data": {
      "image/png": "[encoded data removed]",
      "text/plain": [
       "<Figure size 432x288 with 1 Axes>"
      ]
     },
     "metadata": {},
     "output_type": "display_data"
    },
    {
     "name": "stdout",
     "output_type": "stream",
     "text": [
      "xDeepFM\n",
      "cuda:0\n",
      "Train on 131919 samples, validate on 18846 samples, 516 steps per epoch\n",
      "Epoch 1/100\n",
      "13s - loss:  1.6628 - mse:  1.6620 - val_mse:  1.0946\n",
      "Epoch 2/100\n",
      "13s - loss:  0.9865 - mse:  0.9866 - val_mse:  1.0630\n",
      "Epoch 3/100\n",
      "12s - loss:  0.8939 - mse:  0.8938 - val_mse:  1.0658\n",
      "Epoch 4/100\n",
      "15s - loss:  0.8556 - mse:  0.8560 - val_mse:  1.0879\n",
      "Epoch 5/100\n",
      "18s - loss:  0.8338 - mse:  0.8340 - val_mse:  1.0785\n",
      "Epoch 6/100\n",
      "18s - loss:  0.8173 - mse:  0.8171 - val_mse:  1.1015\n",
      "Epoch 7/100\n",
      "18s - loss:  0.8066 - mse:  0.8064 - val_mse:  1.1137\n",
      "Epoch 8/100\n",
      "18s - loss:  0.8004 - mse:  0.8004 - val_mse:  1.1090\n",
      "Epoch 9/100\n",
      "18s - loss:  0.7922 - mse:  0.7921 - val_mse:  1.1218\n",
      "Epoch 10/100\n",
      "18s - loss:  0.7875 - mse:  0.7873 - val_mse:  1.1215\n",
      "Epoch 11/100\n",
      "18s - loss:  0.7823 - mse:  0.7824 - val_mse:  1.1404\n",
      "Epoch 12/100\n",
      "19s - loss:  0.7765 - mse:  0.7768 - val_mse:  1.1288\n",
      "Epoch 00012: early stopping\n"
     ]
    },
    {
     "data": {
      "image/png": "[encoded data removed]",
      "text/plain": [
       "<Figure size 432x288 with 1 Axes>"
      ]
     },
     "metadata": {},
     "output_type": "display_data"
    },
    {
     "name": "stdout",
     "output_type": "stream",
     "text": [
      "DIFM\n",
      "cuda:0\n",
      "Train on 131919 samples, validate on 18846 samples, 516 steps per epoch\n",
      "Epoch 1/100\n",
      "18s - loss:  15.1558 - mse:  15.1550 - val_mse:  14.3679\n",
      "Epoch 2/100\n",
      "17s - loss:  1.7629 - mse:  1.7618 - val_mse:  1.1615\n",
      "Epoch 3/100\n",
      "17s - loss:  0.9971 - mse:  0.9970 - val_mse:  1.0725\n",
      "Epoch 4/100\n",
      "16s - loss:  0.9146 - mse:  0.9145 - val_mse:  1.0613\n",
      "Epoch 5/100\n",
      "16s - loss:  0.8728 - mse:  0.8728 - val_mse:  1.0637\n",
      "Epoch 6/100\n",
      "16s - loss:  0.8434 - mse:  0.8437 - val_mse:  1.0758\n",
      "Epoch 7/100\n",
      "16s - loss:  0.8197 - mse:  0.8196 - val_mse:  1.0884\n",
      "Epoch 8/100\n",
      "16s - loss:  0.7970 - mse:  0.7973 - val_mse:  1.1010\n",
      "Epoch 9/100\n",
      "16s - loss:  0.7765 - mse:  0.7765 - val_mse:  1.1190\n",
      "Epoch 10/100\n",
      "15s - loss:  0.7613 - mse:  0.7616 - val_mse:  1.1304\n",
      "Epoch 11/100\n",
      "16s - loss:  0.7460 - mse:  0.7461 - val_mse:  1.1489\n",
      "Epoch 12/100\n",
      "16s - loss:  0.7341 - mse:  0.7341 - val_mse:  1.1622\n",
      "Epoch 13/100\n",
      "17s - loss:  0.7254 - mse:  0.7257 - val_mse:  1.1751\n",
      "Epoch 14/100\n",
      "17s - loss:  0.7157 - mse:  0.7157 - val_mse:  1.1878\n",
      "Epoch 00014: early stopping\n"
     ]
    },
    {
     "data": {
      "image/png": "[encoded data removed]",
      "text/plain": [
       "<Figure size 432x288 with 1 Axes>"
      ]
     },
     "metadata": {},
     "output_type": "display_data"
    }
   ],
   "source": [
    "\n",
    "#================================# \n",
    "for i in range(1, 5):\n",
    "    train_ind = np.load(os.path.join(train_path, 'train_ind'+ str(i) +'.npy'))\n",
    "    val_ind = np.load(os.path.join(val_path, 'val_ind'+ str(i) +'.npy'))\n",
    "    test_ind = np.load(os.path.join(test_path, 'test_ind'+ str(i) +'.npy'))\n",
    "    \n",
    "    train_x = sparse_x[train_ind]\n",
    "    val_x = sparse_x[val_ind]\n",
    "    test_x = sparse_x[test_ind]\n",
    "\n",
    "    train_y=target[train_ind]\n",
    "    val_y=target[val_ind]\n",
    "    test_y=target[test_ind]\n",
    "    \n",
    "    train_x_tensor = sparse2tensor(train_x)\n",
    "    val_x_tensor = sparse2tensor(val_x)\n",
    "    test_x_tensor = sparse2tensor(test_x)\n",
    "    \n",
    "    print('==================================================')\n",
    "    print('number:', i)\n",
    "    print('DeepFM')\n",
    "    DeepFM_train(train_x_tensor, train_y, val_x_tensor, val_y)\n",
    "    print('AFM')\n",
    "    AFM_train(train_x_tensor, train_y, val_x_tensor, val_y)\n",
    "    print('CCPM')\n",
    "    CCPM_train(train_x_tensor, train_y, val_x_tensor, val_y)\n",
    "    print('IPNN')\n",
    "    IPNN_train(train_x_tensor, train_y, val_x_tensor, val_y)\n",
    "    print('OPNN')\n",
    "    OPNN_train(train_x_tensor, train_y, val_x_tensor, val_y)\n",
    "    print('WDL')\n",
    "    WDL_train(train_x_tensor, train_y, val_x_tensor, val_y)\n",
    "    print('NFM')\n",
    "    NFM_train(train_x_tensor, train_y, val_x_tensor, val_y)\n",
    "    print('DCN')\n",
    "    DCN_train(train_x_tensor, train_y, val_x_tensor, val_y)\n",
    "    print('xDeepFM')\n",
    "    xDeepFM_train(train_x_tensor, train_y, val_x_tensor, val_y)\n",
    "    print('DIFM')\n",
    "    DIFM_train(train_x_tensor, train_y, val_x_tensor, val_y)"
   ]
  },
  {
   "cell_type": "code",
   "execution_count": 30,
   "id": "2e9e7085",
   "metadata": {},
   "outputs": [],
   "source": [
    "model_list = ['deepfm', 'AFM', 'CCPM',\n",
    "             'OPNN', 'IPNN', 'wide_deep',\n",
    "             'NFM', 'DCN', 'xDeepFM', 'DIFM']"
   ]
  },
  {
   "cell_type": "code",
   "execution_count": 31,
   "id": "34a2d079",
   "metadata": {},
   "outputs": [],
   "source": [
    "def get_train(data, train_ind):\n",
    "    \n",
    "    train_data = data.loc[train_ind][data.columns[:3]]\n",
    "    train_data = train_data.rename(columns={train_data.columns[1]: \"item\"})\n",
    "    train_user = train_data.user.value_counts().index.to_numpy()\n",
    "    train_user = np.sort(train_user)\n",
    "    \n",
    "    return train_data, train_user\n",
    "\n",
    "def get_test_val(data, test_ind):\n",
    "\n",
    "    test_data = data.loc[test_ind][data.columns[:3]]\n",
    "    test_data = test_data.rename(columns={test_data.columns[1]: \"item\"})\n",
    "    test_user = test_data.user.value_counts().index.to_numpy()\n",
    "    test_user = np.sort(test_user)\n",
    "\n",
    "    #count interation in test set\n",
    "    test_inter_count ={} \n",
    "    interaction = test_data.user.value_counts()\n",
    "\n",
    "    for i, count in enumerate(interaction):\n",
    "        if count >= 10:\n",
    "            test_inter_count[interaction.index[i]] = 10\n",
    "        else:\n",
    "            test_inter_count[interaction.index[i]] = count\n",
    "            \n",
    "    return test_data, test_user, test_inter_count"
   ]
  },
  {
   "cell_type": "code",
   "execution_count": 32,
   "id": "45fbb29d",
   "metadata": {},
   "outputs": [],
   "source": [
    "def ctr(m_path):\n",
    "\n",
    "    model = torch.load(m_path)\n",
    "    model.to(device)\n",
    "    torch.backends.cudnn.benchmark = True\n",
    "    \n",
    "    rate = model.predict(test_x_tensor.to(device))\n",
    "    rate = rate.reshape(rate.shape[0], )\n",
    "\n",
    "    test_data['rate_pred'] = rate\n",
    "    \n",
    "    rmse = mean_squared_error(test_data.rate, test_data.rate_pred, squared=False)\n",
    "    recall = []\n",
    "    ndcg = []\n",
    "\n",
    "    for tu in tqdm(test_user):\n",
    "\n",
    "        top = test_data[test_data.user == tu].sort_values(by=['rate_pred'], ascending=False)[:test_inter_count[tu]]\n",
    "        den = top[top.rate > 3.5].shape[0]\n",
    "        num = top[(top.rate > 3.5) & (top.rate_pred > 3.5)].shape[0]\n",
    "\n",
    "        if den == 0:\n",
    "            recall.append(0)\n",
    "        else:\n",
    "            recall.append(num/den)\n",
    "\n",
    "        if test_inter_count[tu] != 1:\n",
    "            ndcg.append(ndcg_score(top.rate.values.reshape(1, -1), top.rate_pred.values.reshape(1, -1)))\n",
    "        else:\n",
    "            ndcg.append(ndcg_score(np.append(top.rate.values, 0).reshape(1, -1), np.append(top.rate_pred.values, 0).reshape(1, -1)))\n",
    "\n",
    "    return rmse, np.array(recall).mean(), np.array(ndcg).mean()"
   ]
  },
  {
   "cell_type": "code",
   "execution_count": 41,
   "id": "a0a958a3",
   "metadata": {},
   "outputs": [],
   "source": [
    "model_list = ['deepfm', 'AFM', 'CCPM',\n",
    "             'OPNN', 'IPNN', 'wide_deep',\n",
    "             'NFM', 'DCN', 'xDeepFM', 'DIFM']"
   ]
  },
  {
   "cell_type": "code",
   "execution_count": 42,
   "id": "036f3506",
   "metadata": {},
   "outputs": [
    {
     "name": "stdout",
     "output_type": "stream",
     "text": [
      "=================================================================\n",
      "num: 0\n",
      "=================================================================\n",
      "deepfm\n"
     ]
    },
    {
     "name": "stderr",
     "output_type": "stream",
     "text": [
      "100%|█████████████████████████████████████████████████████████████████████████████| 7857/7857 [00:13<00:00, 601.56it/s]\n"
     ]
    },
    {
     "name": "stdout",
     "output_type": "stream",
     "text": [
      "=================================================================\n",
      "AFM\n"
     ]
    },
    {
     "name": "stderr",
     "output_type": "stream",
     "text": [
      "100%|█████████████████████████████████████████████████████████████████████████████| 7857/7857 [00:12<00:00, 628.94it/s]\n"
     ]
    },
    {
     "name": "stdout",
     "output_type": "stream",
     "text": [
      "=================================================================\n",
      "CCPM\n"
     ]
    },
    {
     "name": "stderr",
     "output_type": "stream",
     "text": [
      "100%|█████████████████████████████████████████████████████████████████████████████| 7857/7857 [00:12<00:00, 615.13it/s]\n"
     ]
    },
    {
     "name": "stdout",
     "output_type": "stream",
     "text": [
      "=================================================================\n",
      "OPNN\n"
     ]
    },
    {
     "name": "stderr",
     "output_type": "stream",
     "text": [
      "100%|█████████████████████████████████████████████████████████████████████████████| 7857/7857 [00:12<00:00, 624.06it/s]\n"
     ]
    },
    {
     "name": "stdout",
     "output_type": "stream",
     "text": [
      "=================================================================\n",
      "IPNN\n"
     ]
    },
    {
     "name": "stderr",
     "output_type": "stream",
     "text": [
      "100%|█████████████████████████████████████████████████████████████████████████████| 7857/7857 [00:11<00:00, 698.81it/s]\n"
     ]
    },
    {
     "name": "stdout",
     "output_type": "stream",
     "text": [
      "=================================================================\n",
      "wide_deep\n"
     ]
    },
    {
     "name": "stderr",
     "output_type": "stream",
     "text": [
      "100%|█████████████████████████████████████████████████████████████████████████████| 7857/7857 [00:10<00:00, 721.88it/s]\n"
     ]
    },
    {
     "name": "stdout",
     "output_type": "stream",
     "text": [
      "=================================================================\n",
      "NFM\n"
     ]
    },
    {
     "name": "stderr",
     "output_type": "stream",
     "text": [
      "100%|█████████████████████████████████████████████████████████████████████████████| 7857/7857 [00:11<00:00, 686.08it/s]\n"
     ]
    },
    {
     "name": "stdout",
     "output_type": "stream",
     "text": [
      "=================================================================\n",
      "DCN\n"
     ]
    },
    {
     "name": "stderr",
     "output_type": "stream",
     "text": [
      "100%|█████████████████████████████████████████████████████████████████████████████| 7857/7857 [00:11<00:00, 705.56it/s]\n"
     ]
    },
    {
     "name": "stdout",
     "output_type": "stream",
     "text": [
      "=================================================================\n",
      "xDeepFM\n"
     ]
    },
    {
     "name": "stderr",
     "output_type": "stream",
     "text": [
      "100%|█████████████████████████████████████████████████████████████████████████████| 7857/7857 [00:11<00:00, 676.50it/s]\n"
     ]
    },
    {
     "name": "stdout",
     "output_type": "stream",
     "text": [
      "=================================================================\n",
      "DIFM\n"
     ]
    },
    {
     "name": "stderr",
     "output_type": "stream",
     "text": [
      "100%|█████████████████████████████████████████████████████████████████████████████| 7857/7857 [00:11<00:00, 702.58it/s]\n"
     ]
    },
    {
     "name": "stdout",
     "output_type": "stream",
     "text": [
      "=================================================================\n",
      "num: 1\n",
      "=================================================================\n",
      "deepfm\n"
     ]
    },
    {
     "name": "stderr",
     "output_type": "stream",
     "text": [
      "100%|█████████████████████████████████████████████████████████████████████████████| 7900/7900 [00:10<00:00, 728.97it/s]\n"
     ]
    },
    {
     "name": "stdout",
     "output_type": "stream",
     "text": [
      "=================================================================\n",
      "AFM\n"
     ]
    },
    {
     "name": "stderr",
     "output_type": "stream",
     "text": [
      "100%|█████████████████████████████████████████████████████████████████████████████| 7900/7900 [00:10<00:00, 757.66it/s]\n"
     ]
    },
    {
     "name": "stdout",
     "output_type": "stream",
     "text": [
      "=================================================================\n",
      "CCPM\n"
     ]
    },
    {
     "name": "stderr",
     "output_type": "stream",
     "text": [
      "100%|█████████████████████████████████████████████████████████████████████████████| 7900/7900 [00:10<00:00, 739.80it/s]\n"
     ]
    },
    {
     "name": "stdout",
     "output_type": "stream",
     "text": [
      "=================================================================\n",
      "OPNN\n"
     ]
    },
    {
     "name": "stderr",
     "output_type": "stream",
     "text": [
      "100%|█████████████████████████████████████████████████████████████████████████████| 7900/7900 [00:10<00:00, 753.55it/s]\n"
     ]
    },
    {
     "name": "stdout",
     "output_type": "stream",
     "text": [
      "=================================================================\n",
      "IPNN\n"
     ]
    },
    {
     "name": "stderr",
     "output_type": "stream",
     "text": [
      "100%|█████████████████████████████████████████████████████████████████████████████| 7900/7900 [00:10<00:00, 754.96it/s]\n"
     ]
    },
    {
     "name": "stdout",
     "output_type": "stream",
     "text": [
      "=================================================================\n",
      "wide_deep\n"
     ]
    },
    {
     "name": "stderr",
     "output_type": "stream",
     "text": [
      "100%|█████████████████████████████████████████████████████████████████████████████| 7900/7900 [00:10<00:00, 751.74it/s]\n"
     ]
    },
    {
     "name": "stdout",
     "output_type": "stream",
     "text": [
      "=================================================================\n",
      "NFM\n"
     ]
    },
    {
     "name": "stderr",
     "output_type": "stream",
     "text": [
      "100%|█████████████████████████████████████████████████████████████████████████████| 7900/7900 [00:10<00:00, 749.25it/s]\n"
     ]
    },
    {
     "name": "stdout",
     "output_type": "stream",
     "text": [
      "=================================================================\n",
      "DCN\n"
     ]
    },
    {
     "name": "stderr",
     "output_type": "stream",
     "text": [
      "100%|█████████████████████████████████████████████████████████████████████████████| 7900/7900 [00:10<00:00, 758.76it/s]\n"
     ]
    },
    {
     "name": "stdout",
     "output_type": "stream",
     "text": [
      "=================================================================\n",
      "xDeepFM\n"
     ]
    },
    {
     "name": "stderr",
     "output_type": "stream",
     "text": [
      "100%|█████████████████████████████████████████████████████████████████████████████| 7900/7900 [00:10<00:00, 758.60it/s]\n"
     ]
    },
    {
     "name": "stdout",
     "output_type": "stream",
     "text": [
      "=================================================================\n",
      "DIFM\n"
     ]
    },
    {
     "name": "stderr",
     "output_type": "stream",
     "text": [
      "100%|█████████████████████████████████████████████████████████████████████████████| 7900/7900 [00:10<00:00, 753.19it/s]\n"
     ]
    },
    {
     "name": "stdout",
     "output_type": "stream",
     "text": [
      "=================================================================\n",
      "num: 2\n",
      "=================================================================\n",
      "deepfm\n"
     ]
    },
    {
     "name": "stderr",
     "output_type": "stream",
     "text": [
      "100%|█████████████████████████████████████████████████████████████████████████████| 7920/7920 [00:10<00:00, 754.66it/s]\n"
     ]
    },
    {
     "name": "stdout",
     "output_type": "stream",
     "text": [
      "=================================================================\n",
      "AFM\n"
     ]
    },
    {
     "name": "stderr",
     "output_type": "stream",
     "text": [
      "100%|█████████████████████████████████████████████████████████████████████████████| 7920/7920 [00:10<00:00, 732.52it/s]\n"
     ]
    },
    {
     "name": "stdout",
     "output_type": "stream",
     "text": [
      "=================================================================\n",
      "CCPM\n"
     ]
    },
    {
     "name": "stderr",
     "output_type": "stream",
     "text": [
      "100%|█████████████████████████████████████████████████████████████████████████████| 7920/7920 [00:10<00:00, 757.19it/s]\n"
     ]
    },
    {
     "name": "stdout",
     "output_type": "stream",
     "text": [
      "=================================================================\n",
      "OPNN\n"
     ]
    },
    {
     "name": "stderr",
     "output_type": "stream",
     "text": [
      "100%|█████████████████████████████████████████████████████████████████████████████| 7920/7920 [00:10<00:00, 747.13it/s]\n"
     ]
    },
    {
     "name": "stdout",
     "output_type": "stream",
     "text": [
      "=================================================================\n",
      "IPNN\n"
     ]
    },
    {
     "name": "stderr",
     "output_type": "stream",
     "text": [
      "100%|█████████████████████████████████████████████████████████████████████████████| 7920/7920 [00:11<00:00, 670.06it/s]\n"
     ]
    },
    {
     "name": "stdout",
     "output_type": "stream",
     "text": [
      "=================================================================\n",
      "wide_deep\n"
     ]
    },
    {
     "name": "stderr",
     "output_type": "stream",
     "text": [
      "100%|█████████████████████████████████████████████████████████████████████████████| 7920/7920 [00:10<00:00, 741.65it/s]\n"
     ]
    },
    {
     "name": "stdout",
     "output_type": "stream",
     "text": [
      "=================================================================\n",
      "NFM\n"
     ]
    },
    {
     "name": "stderr",
     "output_type": "stream",
     "text": [
      "100%|█████████████████████████████████████████████████████████████████████████████| 7920/7920 [00:10<00:00, 734.50it/s]\n"
     ]
    },
    {
     "name": "stdout",
     "output_type": "stream",
     "text": [
      "=================================================================\n",
      "DCN\n"
     ]
    },
    {
     "name": "stderr",
     "output_type": "stream",
     "text": [
      "100%|█████████████████████████████████████████████████████████████████████████████| 7920/7920 [00:10<00:00, 749.23it/s]\n"
     ]
    },
    {
     "name": "stdout",
     "output_type": "stream",
     "text": [
      "=================================================================\n",
      "xDeepFM\n"
     ]
    },
    {
     "name": "stderr",
     "output_type": "stream",
     "text": [
      "100%|█████████████████████████████████████████████████████████████████████████████| 7920/7920 [00:10<00:00, 750.57it/s]\n"
     ]
    },
    {
     "name": "stdout",
     "output_type": "stream",
     "text": [
      "=================================================================\n",
      "DIFM\n"
     ]
    },
    {
     "name": "stderr",
     "output_type": "stream",
     "text": [
      "100%|█████████████████████████████████████████████████████████████████████████████| 7920/7920 [00:10<00:00, 745.55it/s]\n"
     ]
    },
    {
     "name": "stdout",
     "output_type": "stream",
     "text": [
      "=================================================================\n",
      "num: 3\n",
      "=================================================================\n",
      "deepfm\n"
     ]
    },
    {
     "name": "stderr",
     "output_type": "stream",
     "text": [
      "100%|█████████████████████████████████████████████████████████████████████████████| 7884/7884 [00:10<00:00, 744.63it/s]\n"
     ]
    },
    {
     "name": "stdout",
     "output_type": "stream",
     "text": [
      "=================================================================\n",
      "AFM\n"
     ]
    },
    {
     "name": "stderr",
     "output_type": "stream",
     "text": [
      "100%|█████████████████████████████████████████████████████████████████████████████| 7884/7884 [00:10<00:00, 752.78it/s]\n"
     ]
    },
    {
     "name": "stdout",
     "output_type": "stream",
     "text": [
      "=================================================================\n",
      "CCPM\n"
     ]
    },
    {
     "name": "stderr",
     "output_type": "stream",
     "text": [
      "100%|█████████████████████████████████████████████████████████████████████████████| 7884/7884 [00:10<00:00, 756.71it/s]\n"
     ]
    },
    {
     "name": "stdout",
     "output_type": "stream",
     "text": [
      "=================================================================\n",
      "OPNN\n"
     ]
    },
    {
     "name": "stderr",
     "output_type": "stream",
     "text": [
      "100%|█████████████████████████████████████████████████████████████████████████████| 7884/7884 [00:10<00:00, 746.99it/s]\n"
     ]
    },
    {
     "name": "stdout",
     "output_type": "stream",
     "text": [
      "=================================================================\n",
      "IPNN\n"
     ]
    },
    {
     "name": "stderr",
     "output_type": "stream",
     "text": [
      "100%|█████████████████████████████████████████████████████████████████████████████| 7884/7884 [00:10<00:00, 754.95it/s]\n"
     ]
    },
    {
     "name": "stdout",
     "output_type": "stream",
     "text": [
      "=================================================================\n",
      "wide_deep\n"
     ]
    },
    {
     "name": "stderr",
     "output_type": "stream",
     "text": [
      "100%|█████████████████████████████████████████████████████████████████████████████| 7884/7884 [00:10<00:00, 746.53it/s]\n"
     ]
    },
    {
     "name": "stdout",
     "output_type": "stream",
     "text": [
      "=================================================================\n",
      "NFM\n"
     ]
    },
    {
     "name": "stderr",
     "output_type": "stream",
     "text": [
      "100%|█████████████████████████████████████████████████████████████████████████████| 7884/7884 [00:10<00:00, 745.79it/s]\n"
     ]
    },
    {
     "name": "stdout",
     "output_type": "stream",
     "text": [
      "=================================================================\n",
      "DCN\n"
     ]
    },
    {
     "name": "stderr",
     "output_type": "stream",
     "text": [
      "100%|█████████████████████████████████████████████████████████████████████████████| 7884/7884 [00:10<00:00, 748.14it/s]\n"
     ]
    },
    {
     "name": "stdout",
     "output_type": "stream",
     "text": [
      "=================================================================\n",
      "xDeepFM\n"
     ]
    },
    {
     "name": "stderr",
     "output_type": "stream",
     "text": [
      "100%|█████████████████████████████████████████████████████████████████████████████| 7884/7884 [00:10<00:00, 756.70it/s]\n"
     ]
    },
    {
     "name": "stdout",
     "output_type": "stream",
     "text": [
      "=================================================================\n",
      "DIFM\n"
     ]
    },
    {
     "name": "stderr",
     "output_type": "stream",
     "text": [
      "100%|█████████████████████████████████████████████████████████████████████████████| 7884/7884 [00:10<00:00, 748.52it/s]\n"
     ]
    },
    {
     "name": "stdout",
     "output_type": "stream",
     "text": [
      "=================================================================\n",
      "num: 4\n",
      "=================================================================\n",
      "deepfm\n"
     ]
    },
    {
     "name": "stderr",
     "output_type": "stream",
     "text": [
      "100%|█████████████████████████████████████████████████████████████████████████████| 7883/7883 [00:11<00:00, 701.95it/s]\n"
     ]
    },
    {
     "name": "stdout",
     "output_type": "stream",
     "text": [
      "=================================================================\n",
      "AFM\n"
     ]
    },
    {
     "name": "stderr",
     "output_type": "stream",
     "text": [
      "100%|█████████████████████████████████████████████████████████████████████████████| 7883/7883 [00:10<00:00, 748.34it/s]\n"
     ]
    },
    {
     "name": "stdout",
     "output_type": "stream",
     "text": [
      "=================================================================\n",
      "CCPM\n"
     ]
    },
    {
     "name": "stderr",
     "output_type": "stream",
     "text": [
      "100%|█████████████████████████████████████████████████████████████████████████████| 7883/7883 [00:10<00:00, 748.83it/s]\n"
     ]
    },
    {
     "name": "stdout",
     "output_type": "stream",
     "text": [
      "=================================================================\n",
      "OPNN\n"
     ]
    },
    {
     "name": "stderr",
     "output_type": "stream",
     "text": [
      "100%|█████████████████████████████████████████████████████████████████████████████| 7883/7883 [00:10<00:00, 741.40it/s]\n"
     ]
    },
    {
     "name": "stdout",
     "output_type": "stream",
     "text": [
      "=================================================================\n",
      "IPNN\n"
     ]
    },
    {
     "name": "stderr",
     "output_type": "stream",
     "text": [
      "100%|█████████████████████████████████████████████████████████████████████████████| 7883/7883 [00:10<00:00, 747.96it/s]\n"
     ]
    },
    {
     "name": "stdout",
     "output_type": "stream",
     "text": [
      "=================================================================\n",
      "wide_deep\n"
     ]
    },
    {
     "name": "stderr",
     "output_type": "stream",
     "text": [
      "100%|█████████████████████████████████████████████████████████████████████████████| 7883/7883 [00:10<00:00, 749.89it/s]\n"
     ]
    },
    {
     "name": "stdout",
     "output_type": "stream",
     "text": [
      "=================================================================\n",
      "NFM\n"
     ]
    },
    {
     "name": "stderr",
     "output_type": "stream",
     "text": [
      "100%|█████████████████████████████████████████████████████████████████████████████| 7883/7883 [00:10<00:00, 738.22it/s]\n"
     ]
    },
    {
     "name": "stdout",
     "output_type": "stream",
     "text": [
      "=================================================================\n",
      "DCN\n"
     ]
    },
    {
     "name": "stderr",
     "output_type": "stream",
     "text": [
      "100%|█████████████████████████████████████████████████████████████████████████████| 7883/7883 [00:10<00:00, 747.75it/s]\n"
     ]
    },
    {
     "name": "stdout",
     "output_type": "stream",
     "text": [
      "=================================================================\n",
      "xDeepFM\n"
     ]
    },
    {
     "name": "stderr",
     "output_type": "stream",
     "text": [
      "100%|█████████████████████████████████████████████████████████████████████████████| 7883/7883 [00:10<00:00, 753.06it/s]\n"
     ]
    },
    {
     "name": "stdout",
     "output_type": "stream",
     "text": [
      "=================================================================\n",
      "DIFM\n"
     ]
    },
    {
     "name": "stderr",
     "output_type": "stream",
     "text": [
      "100%|█████████████████████████████████████████████████████████████████████████████| 7883/7883 [00:10<00:00, 737.08it/s]\n"
     ]
    }
   ],
   "source": [
    "result_dict = {}\n",
    "for name in model_list:\n",
    "    result_dict[name] = []\n",
    "    \n",
    "model_root = 'C:/Users/bbb50/Desktop/Python/hw3/Yelp/model/'   \n",
    "\n",
    "for i in range(5):\n",
    "    \n",
    "    print('=================================================================')\n",
    "    print('num:', i)\n",
    "    test_ind = np.load(os.path.join(test_path, 'test_ind'+ str(i) +'.npy'))\n",
    "    \n",
    "    test_data, test_user, test_inter_count = get_test_val(data, test_ind)\n",
    "    test_x = sparse_x[test_ind]\n",
    "    test_y=target[test_ind]\n",
    "    test_x_tensor = sparse2tensor(test_x)\n",
    "    \n",
    "    for model_name in model_list: \n",
    "        print('=================================================================')\n",
    "        print(model_name)\n",
    "        model_path = os.path.join(model_root, model_name, str(i))\n",
    "        fil_arr = [list(map(lambda x: model_name in x, listdir(model_path)))]\n",
    "        model_file = np.array(listdir(model_path))[fil_arr]\n",
    "        mfile_ind = list(map(lambda x: int(x.split('-')[0].split('_')[-1]), model_file))\n",
    "        m_path = os.path.join(model_path, model_file[np.argmax(np.array(mfile_ind))])\n",
    "        rmse, recall, ndcg = ctr(m_path)\n",
    "        result_dict[model_name] = result_dict[model_name] + [[rmse, recall, ndcg]]\n"
   ]
  },
  {
   "cell_type": "code",
   "execution_count": 43,
   "id": "0854cd6d",
   "metadata": {},
   "outputs": [
    {
     "name": "stdout",
     "output_type": "stream",
     "text": [
      "deepfm [1.08869747 0.65755432 0.97132602]\n",
      "AFM [1.05712362 0.68794643 0.97224163]\n",
      "CCPM [1.09226295 0.66650808 0.9713633 ]\n",
      "OPNN [1.0646202  0.6228628  0.97269988]\n",
      "IPNN [1.05888801 0.63579841 0.97272646]\n",
      "wide_deep [1.0587608  0.64893352 0.97259471]\n",
      "NFM [1.05758413 0.64521356 0.97254469]\n",
      "DCN [1.09169872 0.65308284 0.97184643]\n",
      "xDeepFM [1.06549393 0.65520324 0.97242734]\n",
      "DIFM [1.07418404 0.64232084 0.97217629]\n"
     ]
    }
   ],
   "source": [
    "for name in model_list:\n",
    "    print(name, np.array(result_dict[name]).mean(axis=0))\n",
    "    "
   ]
  },
  {
   "cell_type": "code",
   "execution_count": null,
   "id": "832c3f69",
   "metadata": {},
   "outputs": [],
   "source": []
  },
  {
   "cell_type": "code",
   "execution_count": null,
   "id": "27a05065",
   "metadata": {},
   "outputs": [],
   "source": []
  },
  {
   "cell_type": "code",
   "execution_count": null,
   "id": "22fdef70",
   "metadata": {},
   "outputs": [],
   "source": []
  },
  {
   "cell_type": "code",
   "execution_count": 68,
   "id": "068832d5",
   "metadata": {},
   "outputs": [],
   "source": []
  },
  {
   "cell_type": "code",
   "execution_count": 70,
   "id": "da62372f",
   "metadata": {},
   "outputs": [],
   "source": []
  },
  {
   "cell_type": "code",
   "execution_count": 39,
   "id": "bda9ebb8",
   "metadata": {},
   "outputs": [],
   "source": [
    "from os import listdir\n",
    "from sklearn.metrics import mean_squared_error\n",
    "from sklearn.metrics import ndcg_score\n",
    "from tqdm import tqdm\n",
    "import warnings\n",
    "warnings.simplefilter(action='ignore', category=FutureWarning)"
   ]
  },
  {
   "cell_type": "code",
   "execution_count": null,
   "id": "16b05118",
   "metadata": {},
   "outputs": [],
   "source": []
  },
  {
   "cell_type": "code",
   "execution_count": null,
   "id": "9f568012",
   "metadata": {},
   "outputs": [],
   "source": []
  },
  {
   "cell_type": "code",
   "execution_count": null,
   "id": "43d1826f",
   "metadata": {},
   "outputs": [],
   "source": []
  },
  {
   "cell_type": "code",
   "execution_count": null,
   "id": "9fd67257",
   "metadata": {},
   "outputs": [],
   "source": []
  },
  {
   "cell_type": "code",
   "execution_count": null,
   "id": "4d099694",
   "metadata": {},
   "outputs": [],
   "source": []
  },
  {
   "cell_type": "code",
   "execution_count": null,
   "id": "13bf227c",
   "metadata": {},
   "outputs": [],
   "source": []
  },
  {
   "cell_type": "code",
   "execution_count": null,
   "id": "b86da69a",
   "metadata": {},
   "outputs": [],
   "source": []
  },
  {
   "cell_type": "code",
   "execution_count": null,
   "id": "30fded38",
   "metadata": {},
   "outputs": [],
   "source": []
  },
  {
   "cell_type": "code",
   "execution_count": null,
   "id": "c7393fce",
   "metadata": {},
   "outputs": [],
   "source": []
  },
  {
   "cell_type": "code",
   "execution_count": 15,
   "id": "77191772",
   "metadata": {},
   "outputs": [],
   "source": []
  },
  {
   "cell_type": "code",
   "execution_count": null,
   "id": "3224e619",
   "metadata": {},
   "outputs": [],
   "source": []
  },
  {
   "cell_type": "code",
   "execution_count": null,
   "id": "61aeb40f",
   "metadata": {},
   "outputs": [],
   "source": []
  },
  {
   "cell_type": "code",
   "execution_count": 45,
   "id": "941841ab",
   "metadata": {},
   "outputs": [],
   "source": []
  }
 ],
 "metadata": {
  "kernelspec": {
   "display_name": "Python 3",
   "language": "python",
   "name": "python3"
  },
  "language_info": {
   "codemirror_mode": {
    "name": "ipython",
    "version": 3
   },
   "file_extension": ".py",
   "mimetype": "text/x-python",
   "name": "python",
   "nbconvert_exporter": "python",
   "pygments_lexer": "ipython3",
   "version": "3.8.8"
  }
 },
 "nbformat": 4,
 "nbformat_minor": 5
}
