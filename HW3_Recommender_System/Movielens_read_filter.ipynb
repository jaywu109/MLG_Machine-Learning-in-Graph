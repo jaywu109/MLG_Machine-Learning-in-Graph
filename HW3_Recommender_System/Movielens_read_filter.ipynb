{
 "cells": [
  {
   "cell_type": "code",
   "execution_count": 25,
   "id": "96b89066",
   "metadata": {},
   "outputs": [],
   "source": [
    "import pandas as pd\n",
    "import numpy as np\n",
    "\n",
    "from tqdm import tqdm\n",
    "\n",
    "import random\n",
    "import math\n",
    "from random import sample\n",
    "import os \n",
    "from sklearn.model_selection import KFold\n",
    "from sklearn.model_selection import StratifiedKFold\n",
    "from sklearn.model_selection import train_test_split\n",
    "from sklearn import preprocessing\n",
    "\n",
    "from scipy.sparse import coo_matrix, csr_matrix, lil_matrix, vstack, hstack\n",
    "from scipy import sparse\n",
    "\n",
    "random.seed(10)"
   ]
  },
  {
   "cell_type": "code",
   "execution_count": 2,
   "id": "0ce6f92b",
   "metadata": {},
   "outputs": [],
   "source": [
    "def read_txt(path):\n",
    "    data_list = []\n",
    "    with open(path) as f:\n",
    "        for line in tqdm(f):\n",
    "            line_data = []\n",
    "            for word in line.split():\n",
    "                line_data.append(float(word))\n",
    "            data_list.append(line_data)\n",
    "    return data_list"
   ]
  },
  {
   "cell_type": "code",
   "execution_count": 3,
   "id": "fea0ca37",
   "metadata": {},
   "outputs": [],
   "source": [
    "# import os\n",
    "\n",
    "\n",
    "# path = 'C:/Users/bbb50/Desktop/Python/hw3/Movielens/'\n",
    "# files = os.listdir(path)\n",
    "\n",
    "# for filename in files:\n",
    "#     portion = os.path.splitext(filename)\n",
    "#     # 如果后缀是.dat\n",
    "#     if portion[1] == \".dat\":  \n",
    "#         # 重新组合文件名和后缀名\n",
    "#         newname = portion[0] + \".txt\"   \n",
    "#         os.rename(os.path.join(path, filename),os.path.join(path, newname))\n"
   ]
  },
  {
   "cell_type": "code",
   "execution_count": 4,
   "id": "4f131915",
   "metadata": {},
   "outputs": [
    {
     "name": "stderr",
     "output_type": "stream",
     "text": [
      "100000it [00:00, 602416.96it/s]\n"
     ]
    }
   ],
   "source": [
    "user_movie = read_txt('C:/Users/bbb50/Desktop/Python/hw3/Movielens/user_movie.txt')\n",
    "user_movie = pd.DataFrame(np.array(user_movie)[:, :3].astype(int))\n",
    "user_movie.columns = ['user', 'movie', 'rate']\n",
    "user_movie = user_movie.groupby(\"user\").filter(lambda x: len(x) > 3)\n",
    "\n",
    "user_movie.movie = user_movie.movie -1\n",
    "user_movie.user = user_movie.user -1\n",
    "\n",
    "user_list = user_movie.user.value_counts().index.to_numpy()\n",
    "user_list = np.sort(user_list)\n",
    "\n",
    "movie_list = user_movie.movie.value_counts().index.to_numpy()\n",
    "movie_list = np.sort(movie_list)"
   ]
  },
  {
   "cell_type": "code",
   "execution_count": 5,
   "id": "1c3b8074",
   "metadata": {},
   "outputs": [
    {
     "name": "stderr",
     "output_type": "stream",
     "text": [
      "943it [00:00, 528420.66it/s]\n"
     ]
    }
   ],
   "source": [
    "user_age = read_txt('C:/Users/bbb50/Desktop/Python/hw3/Movielens/user_age.txt')\n",
    "user_age = pd.DataFrame(np.array(user_age).astype(int))\n",
    "user_age.columns = ['user', 'age']\n",
    "\n",
    "user_age.user = user_age.user -1\n",
    "user_age.age = user_age.age -1\n",
    "\n",
    "age_list = user_age.age.value_counts().index.to_numpy()\n",
    "age_list = np.sort(age_list)"
   ]
  },
  {
   "cell_type": "code",
   "execution_count": 6,
   "id": "e63d9c76",
   "metadata": {},
   "outputs": [
    {
     "name": "stderr",
     "output_type": "stream",
     "text": [
      "943it [00:00, 1138195.30it/s]\n"
     ]
    }
   ],
   "source": [
    "user_occupation = read_txt('C:/Users/bbb50/Desktop/Python/hw3/Movielens/user_occupation.txt')\n",
    "user_occupation = pd.DataFrame(np.array(user_occupation).astype(int))\n",
    "user_occupation.columns = ['user', 'occupation']\n",
    "\n",
    "user_occupation.user = user_occupation.user - 1\n",
    "user_occupation.occupation = user_occupation.occupation - 1\n",
    "\n",
    "occ_list = user_occupation.occupation.value_counts().index.to_numpy()\n",
    "occ_list = np.sort(occ_list)"
   ]
  },
  {
   "cell_type": "code",
   "execution_count": 7,
   "id": "8bff0a23",
   "metadata": {},
   "outputs": [
    {
     "name": "stderr",
     "output_type": "stream",
     "text": [
      "47150it [00:00, 477692.70it/s]\n"
     ]
    }
   ],
   "source": [
    "user_user = read_txt('C:/Users/bbb50/Desktop/Python/hw3/Movielens/user_user(knn).txt')\n",
    "user_user = pd.DataFrame(np.array(user_user)[:, :2].astype(int))\n",
    "user_user.columns = ['user1', 'user2']\n",
    "\n",
    "user_user.user1 = user_user.user1 -1\n",
    "user_user.user2 = user_user.user2 -1"
   ]
  },
  {
   "cell_type": "code",
   "execution_count": 8,
   "id": "fb881072",
   "metadata": {},
   "outputs": [
    {
     "name": "stderr",
     "output_type": "stream",
     "text": [
      "2891it [00:00, 952232.83it/s]\n"
     ]
    }
   ],
   "source": [
    "movie_genre = read_txt('C:/Users/bbb50/Desktop/Python/hw3/Movielens/movie_genre.txt')\n",
    "movie_genre = pd.DataFrame(np.array(movie_genre).astype(int))\n",
    "movie_genre.columns = ['movie', 'genre']\n",
    "\n",
    "movie_genre.movie = movie_genre.movie - 1\n",
    "movie_genre.genre = movie_genre.genre - 1\n",
    "\n",
    "genre_list = movie_genre.genre.value_counts().index.to_numpy()\n",
    "genre_list = np.sort(genre_list)"
   ]
  },
  {
   "cell_type": "code",
   "execution_count": 9,
   "id": "a609621f",
   "metadata": {},
   "outputs": [
    {
     "name": "stderr",
     "output_type": "stream",
     "text": [
      "47150it [00:00, 772122.55it/s]\n"
     ]
    }
   ],
   "source": [
    "movie_movie = read_txt('C:/Users/bbb50/Desktop/Python/hw3/Movielens/user_user(knn).txt')\n",
    "movie_movie = pd.DataFrame(np.array(movie_movie)[:, :2].astype(int))\n",
    "movie_movie.columns = ['movie1', 'movie2']\n",
    "\n",
    "movie_movie.movie1 = movie_movie.movie1 -1\n",
    "movie_movie.movie2 = movie_movie.movie2 -1"
   ]
  },
  {
   "cell_type": "code",
   "execution_count": 10,
   "id": "37ae5e92",
   "metadata": {},
   "outputs": [],
   "source": [
    "user_movie.to_feather('C:/Users/bbb50/Desktop/Python/hw3/Movielens/user_book.ftr')\n",
    "user_age.to_feather('C:/Users/bbb50/Desktop/Python/hw3/Movielens/user_age.ftr')\n",
    "user_occupation.to_feather('C:/Users/bbb50/Desktop/Python/hw3/Movielens/user_occupation.ftr')\n",
    "user_user.to_feather('C:/Users/bbb50/Desktop/Python/hw3/Movielens/user_user.ftr')\n",
    "movie_genre.to_feather('C:/Users/bbb50/Desktop/Python/hw3/Movielens/movie_genre.ftr')\n",
    "movie_movie.to_feather('C:/Users/bbb50/Desktop/Python/hw3/Movielens/movie_movie.ftr')\n"
   ]
  },
  {
   "cell_type": "code",
   "execution_count": 11,
   "id": "d1eaa297",
   "metadata": {},
   "outputs": [],
   "source": [
    "n_users = user_list.shape[0]\n",
    "n_movies = movie_list.shape[0]\n",
    "n_occs = occ_list.shape[0]\n",
    "n_genres = genre_list.shape[0]\n",
    "n_ages = age_list.shape[0]"
   ]
  },
  {
   "cell_type": "code",
   "execution_count": null,
   "id": "f7bc6a6d",
   "metadata": {},
   "outputs": [],
   "source": []
  },
  {
   "cell_type": "code",
   "execution_count": 12,
   "id": "19cb8eb5",
   "metadata": {},
   "outputs": [
    {
     "name": "stderr",
     "output_type": "stream",
     "text": [
      "100%|██████████████████████████████████████████████████████████████████████████████| 943/943 [00:00<00:00, 4223.83it/s]\n",
      "100%|█████████████████████████████████████████████████████████████████████| 100000/100000 [00:00<00:00, 2172426.58it/s]\n"
     ]
    }
   ],
   "source": [
    "u_o_dict = {}\n",
    "for u in tqdm(user_list):\n",
    "    if u in user_occupation.user.values:\n",
    "        u_o = user_occupation[user_occupation.user == u].occupation.values[0]\n",
    "        u_o_dict[u] = u_o\n",
    "    else:\n",
    "        u_o_dict[u] = n_occs\n",
    "        \n",
    "occupation = []\n",
    "\n",
    "for u in tqdm(user_movie.user):\n",
    "    occupation.append(u_o_dict[u])"
   ]
  },
  {
   "cell_type": "code",
   "execution_count": 13,
   "id": "f884e57f",
   "metadata": {},
   "outputs": [
    {
     "name": "stderr",
     "output_type": "stream",
     "text": [
      "100%|██████████████████████████████████████████████████████████████████████████████| 943/943 [00:00<00:00, 4019.09it/s]\n",
      "100%|█████████████████████████████████████████████████████████████████████| 100000/100000 [00:00<00:00, 2038930.34it/s]\n"
     ]
    }
   ],
   "source": [
    "u_a_dict = {}\n",
    "for u in tqdm(user_list):\n",
    "    if u in user_age.user.values:\n",
    "        u_a = user_age[user_age.user == u].age.values[0]\n",
    "        u_a_dict[u] = u_a\n",
    "    else:\n",
    "        u_a_dict[u] = n_ages\n",
    "        \n",
    "age = []\n",
    "\n",
    "for u in tqdm(user_movie.user):\n",
    "    age.append(u_a_dict[u])"
   ]
  },
  {
   "cell_type": "code",
   "execution_count": 14,
   "id": "d86b8b96",
   "metadata": {},
   "outputs": [
    {
     "name": "stderr",
     "output_type": "stream",
     "text": [
      "100%|██████████████████████████████████████████████████████████████████████████████| 943/943 [00:00<00:00, 3087.41it/s]\n",
      "100%|█████████████████████████████████████████████████████████████████████| 100000/100000 [00:00<00:00, 2081158.30it/s]\n"
     ]
    }
   ],
   "source": [
    "u_u_dict = {}\n",
    "for u in tqdm(user_list):\n",
    "    if u in user_user.user1.values:\n",
    "        u_u = user_user[user_user.user1 == u].user2.values\n",
    "        u_u_dict[u] = np.sort(u_u)\n",
    "    else:\n",
    "        u_u_dict[u] = [n_users]\n",
    "user = []\n",
    "\n",
    "for u in tqdm(user_movie.user):\n",
    "    user.append(u_u_dict[u])"
   ]
  },
  {
   "cell_type": "code",
   "execution_count": 15,
   "id": "da3bbcac",
   "metadata": {
    "scrolled": true
   },
   "outputs": [
    {
     "name": "stderr",
     "output_type": "stream",
     "text": [
      "100%|████████████████████████████████████████████████████████████████████████████| 1682/1682 [00:00<00:00, 5591.50it/s]\n",
      "100%|█████████████████████████████████████████████████████████████████████| 100000/100000 [00:00<00:00, 2127123.17it/s]\n"
     ]
    }
   ],
   "source": [
    "m_m_dict = {}\n",
    "for m in tqdm(movie_list):\n",
    "    if m in movie_movie.movie1.values:\n",
    "        m_m = movie_movie[movie_movie.movie1 == m].movie2.values\n",
    "        m_m_dict[m] = np.sort(m_m)\n",
    "    else:\n",
    "        m_m_dict[m] = [n_movies]\n",
    "        \n",
    "movie = []\n",
    "\n",
    "for m in tqdm(user_movie.movie):\n",
    "    movie.append(m_m_dict[m])"
   ]
  },
  {
   "cell_type": "code",
   "execution_count": 16,
   "id": "a8108d3c",
   "metadata": {},
   "outputs": [
    {
     "name": "stderr",
     "output_type": "stream",
     "text": [
      "100%|████████████████████████████████████████████████████████████████████████████| 1682/1682 [00:00<00:00, 4446.90it/s]\n",
      "100%|█████████████████████████████████████████████████████████████████████| 100000/100000 [00:00<00:00, 2224575.70it/s]\n"
     ]
    }
   ],
   "source": [
    "m_g_dict = {}\n",
    "for m in tqdm(movie_list):\n",
    "    if m in movie_genre.movie.values:\n",
    "        m_g = movie_genre[movie_genre.movie == m].genre.values\n",
    "        m_g_dict[m] = np.sort(m_g)\n",
    "    else:\n",
    "        m_g_dict[m] = [n_genres]\n",
    "        \n",
    "genre = []\n",
    "\n",
    "for m in tqdm(user_movie.movie):\n",
    "    genre.append(m_g_dict[m])"
   ]
  },
  {
   "cell_type": "code",
   "execution_count": 17,
   "id": "d2b3e960",
   "metadata": {},
   "outputs": [],
   "source": [
    "user_movie['age'] = age\n",
    "user_movie['occupation'] = occupation\n",
    "user_movie['genre'] = genre\n",
    "user_movie['movie_inter'] = movie\n",
    "user_movie['user_inter'] = user"
   ]
  },
  {
   "cell_type": "code",
   "execution_count": 18,
   "id": "6f1698ee",
   "metadata": {},
   "outputs": [],
   "source": [
    "user_movie.to_feather('C:/Users/bbb50/Desktop/Python/hw3/Movielens/user_movie_fea.ftr')"
   ]
  },
  {
   "cell_type": "code",
   "execution_count": 19,
   "id": "63ab87ae",
   "metadata": {},
   "outputs": [
    {
     "data": {
      "text/html": [
       "<div>\n",
       "<style scoped>\n",
       "    .dataframe tbody tr th:only-of-type {\n",
       "        vertical-align: middle;\n",
       "    }\n",
       "\n",
       "    .dataframe tbody tr th {\n",
       "        vertical-align: top;\n",
       "    }\n",
       "\n",
       "    .dataframe thead th {\n",
       "        text-align: right;\n",
       "    }\n",
       "</style>\n",
       "<table border=\"1\" class=\"dataframe\">\n",
       "  <thead>\n",
       "    <tr style=\"text-align: right;\">\n",
       "      <th></th>\n",
       "      <th>user</th>\n",
       "      <th>movie</th>\n",
       "      <th>rate</th>\n",
       "      <th>age</th>\n",
       "      <th>occupation</th>\n",
       "      <th>genre</th>\n",
       "      <th>movie_inter</th>\n",
       "      <th>user_inter</th>\n",
       "    </tr>\n",
       "  </thead>\n",
       "  <tbody>\n",
       "    <tr>\n",
       "      <th>0</th>\n",
       "      <td>195</td>\n",
       "      <td>241</td>\n",
       "      <td>3</td>\n",
       "      <td>4</td>\n",
       "      <td>2</td>\n",
       "      <td>[4]</td>\n",
       "      <td>[14, 16, 25, 31, 65, 74, 83, 149, 156, 175, 19...</td>\n",
       "      <td>[1, 13, 18, 57, 62, 64, 77, 78, 86, 97, 173, 1...</td>\n",
       "    </tr>\n",
       "    <tr>\n",
       "      <th>1</th>\n",
       "      <td>185</td>\n",
       "      <td>301</td>\n",
       "      <td>3</td>\n",
       "      <td>3</td>\n",
       "      <td>3</td>\n",
       "      <td>[5, 9, 12, 15]</td>\n",
       "      <td>[35, 38, 39, 46, 110, 111, 133, 139, 169, 172,...</td>\n",
       "      <td>[14, 53, 55, 83, 108, 129, 134, 140, 144, 158,...</td>\n",
       "    </tr>\n",
       "    <tr>\n",
       "      <th>2</th>\n",
       "      <td>21</td>\n",
       "      <td>376</td>\n",
       "      <td>1</td>\n",
       "      <td>2</td>\n",
       "      <td>2</td>\n",
       "      <td>[3, 4]</td>\n",
       "      <td>[27, 32, 60, 98, 99, 104, 116, 133, 177, 189, ...</td>\n",
       "      <td>[4, 7, 55, 63, 94, 101, 102, 124, 157, 196, 19...</td>\n",
       "    </tr>\n",
       "    <tr>\n",
       "      <th>3</th>\n",
       "      <td>243</td>\n",
       "      <td>50</td>\n",
       "      <td>2</td>\n",
       "      <td>2</td>\n",
       "      <td>0</td>\n",
       "      <td>[7, 13, 16, 17]</td>\n",
       "      <td>[22, 41, 63, 90, 113, 123, 124, 127, 174, 181,...</td>\n",
       "      <td>[42, 61, 91, 93, 108, 127, 173, 177, 183, 193,...</td>\n",
       "    </tr>\n",
       "    <tr>\n",
       "      <th>4</th>\n",
       "      <td>165</td>\n",
       "      <td>345</td>\n",
       "      <td>1</td>\n",
       "      <td>4</td>\n",
       "      <td>7</td>\n",
       "      <td>[5, 7]</td>\n",
       "      <td>[7, 63, 93, 108, 177, 196, 221, 266, 267, 275,...</td>\n",
       "      <td>[32, 38, 60, 106, 125, 126, 128, 142, 169, 204...</td>\n",
       "    </tr>\n",
       "    <tr>\n",
       "      <th>...</th>\n",
       "      <td>...</td>\n",
       "      <td>...</td>\n",
       "      <td>...</td>\n",
       "      <td>...</td>\n",
       "      <td>...</td>\n",
       "      <td>...</td>\n",
       "      <td>...</td>\n",
       "      <td>...</td>\n",
       "    </tr>\n",
       "    <tr>\n",
       "      <th>99995</th>\n",
       "      <td>879</td>\n",
       "      <td>475</td>\n",
       "      <td>3</td>\n",
       "      <td>1</td>\n",
       "      <td>5</td>\n",
       "      <td>[4]</td>\n",
       "      <td>[10, 18, 21, 55, 86, 108, 109, 124, 207, 209, ...</td>\n",
       "      <td>[55, 86, 91, 93, 108, 129, 177, 220, 221, 248,...</td>\n",
       "    </tr>\n",
       "    <tr>\n",
       "      <th>99996</th>\n",
       "      <td>715</td>\n",
       "      <td>203</td>\n",
       "      <td>5</td>\n",
       "      <td>3</td>\n",
       "      <td>4</td>\n",
       "      <td>[4, 14]</td>\n",
       "      <td>[2, 34, 39, 46, 106, 110, 112, 132, 133, 139, ...</td>\n",
       "      <td>[5, 6, 17, 58, 59, 84, 127, 150, 193, 209, 229...</td>\n",
       "    </tr>\n",
       "    <tr>\n",
       "      <th>99997</th>\n",
       "      <td>275</td>\n",
       "      <td>1089</td>\n",
       "      <td>1</td>\n",
       "      <td>2</td>\n",
       "      <td>5</td>\n",
       "      <td>[15]</td>\n",
       "      <td>[1682]</td>\n",
       "      <td>[55, 91, 93, 108, 129, 177, 221, 266, 267, 279...</td>\n",
       "    </tr>\n",
       "    <tr>\n",
       "      <th>99998</th>\n",
       "      <td>12</td>\n",
       "      <td>224</td>\n",
       "      <td>2</td>\n",
       "      <td>4</td>\n",
       "      <td>7</td>\n",
       "      <td>[3, 4]</td>\n",
       "      <td>[5, 15, 17, 47, 50, 59, 89, 90, 122, 127, 227,...</td>\n",
       "      <td>[6, 58, 63, 93, 94, 101, 150, 177, 193, 200, 2...</td>\n",
       "    </tr>\n",
       "    <tr>\n",
       "      <th>99999</th>\n",
       "      <td>11</td>\n",
       "      <td>202</td>\n",
       "      <td>3</td>\n",
       "      <td>2</td>\n",
       "      <td>1</td>\n",
       "      <td>[17]</td>\n",
       "      <td>[16, 25, 31, 53, 56, 65, 83, 149, 189, 264, 27...</td>\n",
       "      <td>[15, 17, 23, 40, 41, 42, 55, 63, 94, 127, 160,...</td>\n",
       "    </tr>\n",
       "  </tbody>\n",
       "</table>\n",
       "<p>100000 rows × 8 columns</p>\n",
       "</div>"
      ],
      "text/plain": [
       "       user  movie  rate  age  occupation            genre  \\\n",
       "0       195    241     3    4           2              [4]   \n",
       "1       185    301     3    3           3   [5, 9, 12, 15]   \n",
       "2        21    376     1    2           2           [3, 4]   \n",
       "3       243     50     2    2           0  [7, 13, 16, 17]   \n",
       "4       165    345     1    4           7           [5, 7]   \n",
       "...     ...    ...   ...  ...         ...              ...   \n",
       "99995   879    475     3    1           5              [4]   \n",
       "99996   715    203     5    3           4          [4, 14]   \n",
       "99997   275   1089     1    2           5             [15]   \n",
       "99998    12    224     2    4           7           [3, 4]   \n",
       "99999    11    202     3    2           1             [17]   \n",
       "\n",
       "                                             movie_inter  \\\n",
       "0      [14, 16, 25, 31, 65, 74, 83, 149, 156, 175, 19...   \n",
       "1      [35, 38, 39, 46, 110, 111, 133, 139, 169, 172,...   \n",
       "2      [27, 32, 60, 98, 99, 104, 116, 133, 177, 189, ...   \n",
       "3      [22, 41, 63, 90, 113, 123, 124, 127, 174, 181,...   \n",
       "4      [7, 63, 93, 108, 177, 196, 221, 266, 267, 275,...   \n",
       "...                                                  ...   \n",
       "99995  [10, 18, 21, 55, 86, 108, 109, 124, 207, 209, ...   \n",
       "99996  [2, 34, 39, 46, 106, 110, 112, 132, 133, 139, ...   \n",
       "99997                                             [1682]   \n",
       "99998  [5, 15, 17, 47, 50, 59, 89, 90, 122, 127, 227,...   \n",
       "99999  [16, 25, 31, 53, 56, 65, 83, 149, 189, 264, 27...   \n",
       "\n",
       "                                              user_inter  \n",
       "0      [1, 13, 18, 57, 62, 64, 77, 78, 86, 97, 173, 1...  \n",
       "1      [14, 53, 55, 83, 108, 129, 134, 140, 144, 158,...  \n",
       "2      [4, 7, 55, 63, 94, 101, 102, 124, 157, 196, 19...  \n",
       "3      [42, 61, 91, 93, 108, 127, 173, 177, 183, 193,...  \n",
       "4      [32, 38, 60, 106, 125, 126, 128, 142, 169, 204...  \n",
       "...                                                  ...  \n",
       "99995  [55, 86, 91, 93, 108, 129, 177, 220, 221, 248,...  \n",
       "99996  [5, 6, 17, 58, 59, 84, 127, 150, 193, 209, 229...  \n",
       "99997  [55, 91, 93, 108, 129, 177, 221, 266, 267, 279...  \n",
       "99998  [6, 58, 63, 93, 94, 101, 150, 177, 193, 200, 2...  \n",
       "99999  [15, 17, 23, 40, 41, 42, 55, 63, 94, 127, 160,...  \n",
       "\n",
       "[100000 rows x 8 columns]"
      ]
     },
     "execution_count": 19,
     "metadata": {},
     "output_type": "execute_result"
    }
   ],
   "source": [
    "user_movie"
   ]
  },
  {
   "cell_type": "code",
   "execution_count": 26,
   "id": "cb1cb8e8",
   "metadata": {},
   "outputs": [
    {
     "name": "stderr",
     "output_type": "stream",
     "text": [
      "100%|███████████████████████████████████████████████████████████████████████| 100000/100000 [00:05<00:00, 19169.38it/s]\n"
     ]
    }
   ],
   "source": [
    "genre_mat = lil_matrix((user_movie.shape[0], (n_genres+1)), dtype=int)\n",
    "for ind in tqdm(user_movie.index.to_numpy()):\n",
    "    genre_mat[ind, user_movie.genre[ind]] = 1\n",
    "    \n",
    "genre_mat = genre_mat.tocsr()"
   ]
  },
  {
   "cell_type": "code",
   "execution_count": 27,
   "id": "591a7778",
   "metadata": {},
   "outputs": [
    {
     "name": "stderr",
     "output_type": "stream",
     "text": [
      "100%|███████████████████████████████████████████████████████████████████████| 100000/100000 [00:06<00:00, 16471.37it/s]\n"
     ]
    }
   ],
   "source": [
    "mi_mat = lil_matrix((user_movie.shape[0], (n_movies+1)), dtype=int)\n",
    "for ind in tqdm(user_movie.index.to_numpy()):\n",
    "    mi_mat[ind, user_movie.movie_inter[ind]] = 1\n",
    "    \n",
    "mi_mat = mi_mat.tocsr()"
   ]
  },
  {
   "cell_type": "code",
   "execution_count": 30,
   "id": "5cf7bc26",
   "metadata": {},
   "outputs": [
    {
     "name": "stderr",
     "output_type": "stream",
     "text": [
      "100%|███████████████████████████████████████████████████████████████████████| 100000/100000 [00:06<00:00, 15087.02it/s]\n"
     ]
    }
   ],
   "source": [
    "ui_mat = lil_matrix((user_movie.shape[0], (n_users+1)), dtype=int)\n",
    "for ind in tqdm(user_movie.index.to_numpy()):\n",
    "    ui_mat[ind, user_movie.user_inter[ind]] = 1\n",
    "    \n",
    "ui_mat = ui_mat.tocsr()"
   ]
  },
  {
   "cell_type": "code",
   "execution_count": 34,
   "id": "d07bf962",
   "metadata": {},
   "outputs": [],
   "source": [
    "row  = user_movie.user.index.to_numpy()\n",
    "data = np.ones(user_movie.shape[0]).astype(int)\n",
    "\n",
    "col  = user_movie.user.values\n",
    "user_mat = csr_matrix((data, (row, col)), shape=(user_movie.shape[0], n_users))\n",
    "\n",
    "col  = user_movie.movie.values\n",
    "movie_mat = csr_matrix((data, (row, col)), shape=(user_movie.shape[0], n_movies))\n",
    "\n",
    "col  = user_movie.age.values\n",
    "age_mat = csr_matrix((data, (row, col)), shape=(user_movie.shape[0], (n_ages+1)))\n",
    "\n",
    "col  = user_movie.occupation.values\n",
    "occ_mat = csr_matrix((data, (row, col)), shape=(user_movie.shape[0], (n_occs+1)))\n",
    "\n"
   ]
  },
  {
   "cell_type": "code",
   "execution_count": null,
   "id": "ed332c1b",
   "metadata": {},
   "outputs": [],
   "source": []
  },
  {
   "cell_type": "code",
   "execution_count": 40,
   "id": "1fefcafd",
   "metadata": {},
   "outputs": [],
   "source": [
    "um_fea_mat = hstack([user_mat, movie_mat, age_mat, occ_mat, genre_mat, ui_mat, mi_mat])\n",
    "um_fea_mat = um_fea_mat.tocsr()\n",
    "sparse.save_npz('C:/Users/bbb50/Desktop/Python/hw3/Movielens/um_fea_mat.npz', um_fea_mat, True) "
   ]
  },
  {
   "cell_type": "code",
   "execution_count": null,
   "id": "b4f1216d",
   "metadata": {},
   "outputs": [],
   "source": []
  },
  {
   "cell_type": "code",
   "execution_count": 43,
   "id": "513d01bf",
   "metadata": {},
   "outputs": [],
   "source": [
    "root = 'C:/Users/bbb50/Desktop/Python/hw3/Movielens'\n",
    "\n",
    "train_val_list, test_list = [], []\n",
    "test_ind_list = []\n",
    "\n",
    "skf = StratifiedKFold(n_splits=5)\n",
    "um_i = user_movie.index.to_numpy()\n",
    "\n",
    "for train_index, test_index in skf.split(um_i, user_movie.user.to_numpy()):\n",
    "    train, test =um_i[train_index], um_i[test_index]\n",
    "    test_ind_list.append(test_index)\n",
    "    train_val_list.append(user_movie.loc[train])\n",
    "    test_list.append(user_movie.loc[test])\n",
    "    \n",
    "train_list, val_list = [], []\n",
    "train_ind_list, val_ind_list = [], []\n",
    "\n",
    "for df in train_val_list:\n",
    "    train_ind, val_ind, _ , _ = train_test_split(df.index.to_numpy(), df.user.to_numpy(), stratify = df.user.to_numpy(), test_size = 1/8)\n",
    "    \n",
    "    val_list.append(df.loc[val_ind])\n",
    "    train_list.append(df.loc[train_ind])    \n",
    "\n",
    "    val_ind_list.append(val_ind)\n",
    "    train_ind_list.append(train_ind)    \n",
    "    "
   ]
  },
  {
   "cell_type": "code",
   "execution_count": 44,
   "id": "db3ce4eb",
   "metadata": {},
   "outputs": [],
   "source": [
    "sub_dir =  os.path.join(root, 'train')\n",
    "if not(os.path.isdir(sub_dir)):\n",
    "    os.makedirs(sub_dir)\n",
    "for i, ind in enumerate(train_ind_list):\n",
    "    \n",
    "    path = os.path.join(sub_dir, 'train_ind'+str(i)+'.npy')\n",
    "    np.save(path, ind)\n",
    "\n",
    "sub_dir =  os.path.join(root, 'test')\n",
    "if not(os.path.isdir(sub_dir)):\n",
    "    os.makedirs(sub_dir)\n",
    "for i, ind in enumerate(test_ind_list):\n",
    "    \n",
    "    path = os.path.join(sub_dir, 'test_ind'+str(i)+'.npy')\n",
    "    np.save(path, ind)\n",
    "    \n",
    "sub_dir =  os.path.join(root, 'val')\n",
    "if not(os.path.isdir(sub_dir)):\n",
    "    os.makedirs(sub_dir)\n",
    "for i, ind in enumerate(val_ind_list):\n",
    "    \n",
    "    path = os.path.join(sub_dir, 'val_ind'+str(i)+'.npy')\n",
    "    np.save(path, ind)"
   ]
  },
  {
   "cell_type": "code",
   "execution_count": null,
   "id": "886b4cff",
   "metadata": {},
   "outputs": [],
   "source": []
  }
 ],
 "metadata": {
  "kernelspec": {
   "display_name": "Python 3",
   "language": "python",
   "name": "python3"
  },
  "language_info": {
   "codemirror_mode": {
    "name": "ipython",
    "version": 3
   },
   "file_extension": ".py",
   "mimetype": "text/x-python",
   "name": "python",
   "nbconvert_exporter": "python",
   "pygments_lexer": "ipython3",
   "version": "3.8.8"
  }
 },
 "nbformat": 4,
 "nbformat_minor": 5
}
