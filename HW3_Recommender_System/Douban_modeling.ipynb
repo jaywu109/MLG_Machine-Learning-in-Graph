{
 "cells": [
  {
   "cell_type": "code",
   "execution_count": 1,
   "id": "001783ac",
   "metadata": {},
   "outputs": [],
   "source": [
    "import pandas as pd\n",
    "import numpy as np\n",
    "\n",
    "from tqdm import tqdm\n",
    "import torch\n",
    "from torch import nn"
   ]
  },
  {
   "cell_type": "code",
   "execution_count": 2,
   "id": "962f9fc0",
   "metadata": {},
   "outputs": [],
   "source": [
    "import os"
   ]
  },
  {
   "cell_type": "code",
   "execution_count": 3,
   "id": "2afa875e",
   "metadata": {},
   "outputs": [],
   "source": [
    "from surprise import SVD\n",
    "from surprise import Dataset\n",
    "from surprise import Reader\n",
    "from surprise.model_selection import cross_validate\n",
    "from surprise import KNNWithMeans\n"
   ]
  },
  {
   "cell_type": "code",
   "execution_count": 4,
   "id": "207af178",
   "metadata": {},
   "outputs": [],
   "source": [
    "from sklearn.metrics import mean_squared_error\n",
    "from sklearn.metrics import ndcg_score"
   ]
  },
  {
   "cell_type": "code",
   "execution_count": 5,
   "id": "b9b238c7",
   "metadata": {},
   "outputs": [],
   "source": [
    "import torch\n",
    "\n",
    "from spotlight.factorization.explicit import ExplicitFactorizationModel\n",
    "from spotlight.interactions import Interactions\n",
    "from spotlight.evaluation import rmse_score\n"
   ]
  },
  {
   "cell_type": "code",
   "execution_count": 6,
   "id": "ffd44fe8",
   "metadata": {},
   "outputs": [],
   "source": [
    "import optuna \n",
    "from scipy.sparse import coo_matrix, csr_matrix, lil_matrix, vstack, hstack\n",
    "from scipy import sparse\n"
   ]
  },
  {
   "cell_type": "code",
   "execution_count": 7,
   "id": "ac2918b3",
   "metadata": {},
   "outputs": [],
   "source": [
    "def get_train(data, train_ind):\n",
    "    \n",
    "    train_data = data.loc[train_ind][data.columns[:3]]\n",
    "    train_data = train_data.rename(columns={train_data.columns[1]: \"item\"})\n",
    "    train_user = train_data.user.value_counts().index.to_numpy()\n",
    "    train_user = np.sort(train_user)\n",
    "    \n",
    "    return train_data, train_user\n",
    "\n",
    "def get_test_val(data, test_ind):\n",
    "\n",
    "    test_data = data.loc[test_ind][data.columns[:3]]\n",
    "    test_data = test_data.rename(columns={test_data.columns[1]: \"item\"})\n",
    "    test_data = test_data.sort_values(by=['user'])\n",
    "    test_user = test_data.user.value_counts().index.to_numpy()\n",
    "    test_user = np.sort(test_user)\n",
    "\n",
    "    #count interation in test set\n",
    "    test_inter_count ={} \n",
    "    interaction = test_data.user.value_counts()\n",
    "\n",
    "    for i, count in enumerate(interaction):\n",
    "        if count >= 10:\n",
    "            test_inter_count[interaction.index[i]] = 10\n",
    "        else:\n",
    "            test_inter_count[interaction.index[i]] = count\n",
    "            \n",
    "    return test_data, test_user, test_inter_count"
   ]
  },
  {
   "cell_type": "markdown",
   "id": "387b52bc",
   "metadata": {},
   "source": [
    "### Reading Data"
   ]
  },
  {
   "cell_type": "code",
   "execution_count": 8,
   "id": "d3073e58",
   "metadata": {},
   "outputs": [],
   "source": [
    "root = 'C:/Users/bbb50/Desktop/Python/hw3/DoubanBook'"
   ]
  },
  {
   "cell_type": "code",
   "execution_count": 9,
   "id": "873f0636",
   "metadata": {},
   "outputs": [],
   "source": [
    "user_book = pd.read_feather(os.path.join(root, 'user_book_fea.ftr'), use_threads=True)\n",
    "user_book = user_book[user_book.columns[1:4]]\n",
    "user_list = user_book.user.value_counts().index.to_numpy()\n",
    "user_list = np.sort(user_list)\n",
    "\n",
    "book_list = user_book.book.value_counts().index.to_numpy()\n",
    "book_list = np.sort(book_list).astype(str)\n",
    "\n",
    "n_users = user_list.shape[0]\n",
    "n_items = book_list.shape[0]\n",
    "\n",
    "data = user_book"
   ]
  },
  {
   "cell_type": "code",
   "execution_count": 10,
   "id": "6038cb60",
   "metadata": {},
   "outputs": [],
   "source": [
    "train_path = os.path.join(root, 'train')\n",
    "val_path = os.path.join(root, 'val')\n",
    "test_path = os.path.join(root, 'test')"
   ]
  },
  {
   "cell_type": "code",
   "execution_count": 11,
   "id": "8a57f70f",
   "metadata": {},
   "outputs": [],
   "source": [
    "def cf(name , user_based ):\n",
    "    sim_options = {'name': name, 'user_based': user_based}\n",
    "    model = KNNWithMeans(sim_options=sim_options)\n",
    "    model.fit(train_)\n",
    "    \n",
    "    rate = []\n",
    "    for ind in tqdm(range(test_data.shape[0])):\n",
    "\n",
    "        uid = test_data.iloc[ind].user\n",
    "        iid = test_data.iloc[ind]['item']\n",
    "        est = model.predict(uid, iid, verbose=False).est\n",
    "        rate.append(est)\n",
    "\n",
    "    test_data['rate_pred'] = rate\n",
    "    \n",
    "    rmse = mean_squared_error(test_data.rate, test_data.rate_pred, squared=False)\n",
    "    recall = []\n",
    "    ndcg = []\n",
    "\n",
    "    for tu in tqdm(test_user):\n",
    "\n",
    "        top = test_data[test_data.user == tu].sort_values(by=['rate_pred'], ascending=False)[:test_inter_count[tu]]\n",
    "        den = top[top.rate > 3.5].shape[0]\n",
    "        num = top[(top.rate > 3.5) & (top.rate_pred > 3.5)].shape[0]\n",
    "\n",
    "        if den == 0:\n",
    "            recall.append(0)\n",
    "        else:\n",
    "            recall.append(num/den)\n",
    "\n",
    "        if test_inter_count[tu] != 1:\n",
    "            ndcg.append(ndcg_score(top.rate.values.reshape(1, -1), top.rate_pred.values.reshape(1, -1)))\n",
    "        else:\n",
    "            ndcg.append(ndcg_score(np.append(top.rate.values, 0).reshape(1, -1), np.append(top.rate_pred.values, 0).reshape(1, -1)))\n",
    "\n",
    "    return rmse, np.array(recall).mean(), np.array(ndcg).mean()"
   ]
  },
  {
   "cell_type": "code",
   "execution_count": 12,
   "id": "c357baf6",
   "metadata": {},
   "outputs": [
    {
     "name": "stdout",
     "output_type": "stream",
     "text": [
      "=================================================================\n",
      "num: 0\n",
      "Computing the cosine similarity matrix...\n",
      "Done computing similarity matrix.\n"
     ]
    },
    {
     "name": "stderr",
     "output_type": "stream",
     "text": [
      "100%|████████████████████████████████████████████████████████████████████████| 158040/158040 [00:54<00:00, 2881.71it/s]\n",
      "100%|███████████████████████████████████████████████████████████████████████████| 11444/11444 [00:23<00:00, 496.78it/s]\n"
     ]
    },
    {
     "name": "stdout",
     "output_type": "stream",
     "text": [
      "Computing the pearson similarity matrix...\n",
      "Done computing similarity matrix.\n"
     ]
    },
    {
     "name": "stderr",
     "output_type": "stream",
     "text": [
      "100%|████████████████████████████████████████████████████████████████████████| 158040/158040 [00:54<00:00, 2888.93it/s]\n",
      "100%|███████████████████████████████████████████████████████████████████████████| 11444/11444 [00:22<00:00, 497.77it/s]\n"
     ]
    },
    {
     "name": "stdout",
     "output_type": "stream",
     "text": [
      "=================================================================\n",
      "num: 1\n",
      "Computing the cosine similarity matrix...\n",
      "Done computing similarity matrix.\n"
     ]
    },
    {
     "name": "stderr",
     "output_type": "stream",
     "text": [
      "100%|████████████████████████████████████████████████████████████████████████| 158040/158040 [00:54<00:00, 2906.47it/s]\n",
      "100%|███████████████████████████████████████████████████████████████████████████| 11446/11446 [00:22<00:00, 507.05it/s]\n"
     ]
    },
    {
     "name": "stdout",
     "output_type": "stream",
     "text": [
      "Computing the pearson similarity matrix...\n",
      "Done computing similarity matrix.\n"
     ]
    },
    {
     "name": "stderr",
     "output_type": "stream",
     "text": [
      "100%|████████████████████████████████████████████████████████████████████████| 158040/158040 [00:53<00:00, 2938.05it/s]\n",
      "100%|███████████████████████████████████████████████████████████████████████████| 11446/11446 [00:21<00:00, 522.87it/s]\n"
     ]
    },
    {
     "name": "stdout",
     "output_type": "stream",
     "text": [
      "=================================================================\n",
      "num: 2\n",
      "Computing the cosine similarity matrix...\n",
      "Done computing similarity matrix.\n"
     ]
    },
    {
     "name": "stderr",
     "output_type": "stream",
     "text": [
      "100%|████████████████████████████████████████████████████████████████████████| 158039/158039 [00:51<00:00, 3065.67it/s]\n",
      "100%|███████████████████████████████████████████████████████████████████████████| 11438/11438 [00:21<00:00, 540.60it/s]\n"
     ]
    },
    {
     "name": "stdout",
     "output_type": "stream",
     "text": [
      "Computing the pearson similarity matrix...\n",
      "Done computing similarity matrix.\n"
     ]
    },
    {
     "name": "stderr",
     "output_type": "stream",
     "text": [
      "100%|████████████████████████████████████████████████████████████████████████| 158039/158039 [00:52<00:00, 3006.18it/s]\n",
      "100%|███████████████████████████████████████████████████████████████████████████| 11438/11438 [00:22<00:00, 510.11it/s]\n"
     ]
    },
    {
     "name": "stdout",
     "output_type": "stream",
     "text": [
      "=================================================================\n",
      "num: 3\n",
      "Computing the cosine similarity matrix...\n",
      "Done computing similarity matrix.\n"
     ]
    },
    {
     "name": "stderr",
     "output_type": "stream",
     "text": [
      "100%|████████████████████████████████████████████████████████████████████████| 158039/158039 [00:55<00:00, 2828.76it/s]\n",
      "100%|███████████████████████████████████████████████████████████████████████████| 11450/11450 [00:22<00:00, 502.15it/s]\n"
     ]
    },
    {
     "name": "stdout",
     "output_type": "stream",
     "text": [
      "Computing the pearson similarity matrix...\n",
      "Done computing similarity matrix.\n"
     ]
    },
    {
     "name": "stderr",
     "output_type": "stream",
     "text": [
      "100%|████████████████████████████████████████████████████████████████████████| 158039/158039 [00:51<00:00, 3083.96it/s]\n",
      "100%|███████████████████████████████████████████████████████████████████████████| 11450/11450 [00:22<00:00, 504.40it/s]\n"
     ]
    },
    {
     "name": "stdout",
     "output_type": "stream",
     "text": [
      "=================================================================\n",
      "num: 4\n",
      "Computing the cosine similarity matrix...\n",
      "Done computing similarity matrix.\n"
     ]
    },
    {
     "name": "stderr",
     "output_type": "stream",
     "text": [
      "100%|████████████████████████████████████████████████████████████████████████| 158039/158039 [01:05<00:00, 2401.89it/s]\n",
      "100%|███████████████████████████████████████████████████████████████████████████| 11449/11449 [00:23<00:00, 487.75it/s]\n"
     ]
    },
    {
     "name": "stdout",
     "output_type": "stream",
     "text": [
      "Computing the pearson similarity matrix...\n",
      "Done computing similarity matrix.\n"
     ]
    },
    {
     "name": "stderr",
     "output_type": "stream",
     "text": [
      "100%|████████████████████████████████████████████████████████████████████████| 158039/158039 [00:57<00:00, 2737.35it/s]\n",
      "100%|███████████████████████████████████████████████████████████████████████████| 11449/11449 [00:22<00:00, 500.21it/s]\n"
     ]
    }
   ],
   "source": [
    "u_b_c = []\n",
    "u_b_p = []\n",
    "i_b_c = []\n",
    "i_b_p = []\n",
    "for i in range(5):\n",
    "    \n",
    "    print('=================================================================')\n",
    "    print('num:', i)\n",
    "    train_ind = np.load(os.path.join(train_path, 'train_ind'+ str(i) +'.npy'))\n",
    "    val_ind = np.load(os.path.join(val_path, 'val_ind'+ str(i) +'.npy'))\n",
    "    test_ind = np.load(os.path.join(test_path, 'test_ind'+ str(i) +'.npy'))\n",
    "\n",
    "    train_data, train_user = get_train(data, train_ind)    \n",
    "    test_data, test_user, test_inter_count = get_test_val(data, test_ind)\n",
    "    val_data, val_user, val_inter_count = get_test_val(data, val_ind)\n",
    "    \n",
    "    reader = Reader(rating_scale=(1, 5))\n",
    "    train_ = Dataset.load_from_df(train_data[['user', 'item', 'rate']], reader) \n",
    "    train_ = train_.build_full_trainset()\n",
    "    train_.n_users = n_users\n",
    "    train_.n_items = n_items \n",
    "\n",
    "#     rmse, recall, ndcg = cf(name = 'cosine', user_based = True)\n",
    "#     u_b_c.append([rmse, recall, ndcg])\n",
    "#     rmse, recall, ndcg = cf(name = 'pearson', user_based = True)\n",
    "#     u_b_p.append([rmse, recall, ndcg])\n",
    "    rmse, recall, ndcg = cf(name = 'cosine', user_based = False)\n",
    "    i_b_c.append([rmse, recall, ndcg])\n",
    "    rmse, recall, ndcg = cf(name = 'pearson', user_based = False)\n",
    "    i_b_p.append([rmse, recall, ndcg])"
   ]
  },
  {
   "cell_type": "code",
   "execution_count": 14,
   "id": "3f718244",
   "metadata": {},
   "outputs": [
    {
     "name": "stdout",
     "output_type": "stream",
     "text": [
      "i_b_c [0.7102492  0.91658232 0.97947698]\n",
      "i_b_p [0.73077828 0.9062726  0.97772133]\n"
     ]
    }
   ],
   "source": [
    "print('i_b_c', np.array(i_b_c).mean(axis=0))\n",
    "print('i_b_p', np.array(i_b_p).mean(axis=0))"
   ]
  },
  {
   "cell_type": "code",
   "execution_count": null,
   "id": "f4f29862",
   "metadata": {},
   "outputs": [],
   "source": []
  },
  {
   "cell_type": "code",
   "execution_count": null,
   "id": "e3f39b17",
   "metadata": {},
   "outputs": [],
   "source": []
  },
  {
   "cell_type": "code",
   "execution_count": null,
   "id": "bf5773f2",
   "metadata": {},
   "outputs": [],
   "source": []
  },
  {
   "cell_type": "markdown",
   "id": "50a0a564",
   "metadata": {},
   "source": [
    "### MF"
   ]
  },
  {
   "cell_type": "code",
   "execution_count": 43,
   "id": "a91c7288",
   "metadata": {},
   "outputs": [],
   "source": [
    "torch.backends.cudnn.benchmark = True"
   ]
  },
  {
   "cell_type": "code",
   "execution_count": 58,
   "id": "ac91267b",
   "metadata": {},
   "outputs": [],
   "source": [
    "def mf_explicit(epoch, embedding_dim, l2, lr):\n",
    "\n",
    "    model = ExplicitFactorizationModel(loss='regression',\n",
    "                                       embedding_dim = 32,  # latent dimensionality\n",
    "                                       n_iter=epoch,  # number of epochs of training\n",
    "                                       batch_size=1024,  # minibatch size\n",
    "                                       l2 = l2,  # strength of L2 regularization\n",
    "                                       learning_rate = lr,\n",
    "                                       use_cuda=torch.cuda.is_available())\n",
    "    model.fit(train_inter, verbose=False)\n",
    "    \n",
    "    rate = []\n",
    "    for ind in tqdm(range(test_data.shape[0])):\n",
    "\n",
    "        uid = test_data.iloc[ind].user\n",
    "        iid = test_data.iloc[ind]['item']\n",
    "        est = model.predict(user_ids=np.array([uid]))[iid]\n",
    "        rate.append(est)\n",
    "\n",
    "    test_data['rate_pred'] = rate\n",
    "    \n",
    "    rmse = mean_squared_error(test_data.rate, test_data.rate_pred, squared=False)\n",
    "    recall = []\n",
    "    ndcg = []\n",
    "\n",
    "    for tu in tqdm(test_user):\n",
    "\n",
    "        top = test_data[test_data.user == tu].sort_values(by=['rate_pred'], ascending=False)[:test_inter_count[tu]]\n",
    "        den = top[top.rate > 3.5].shape[0]\n",
    "        num = top[(top.rate > 3.5) & (top.rate_pred > 3.5)].shape[0]\n",
    "\n",
    "        if den == 0:\n",
    "            recall.append(0)\n",
    "        else:\n",
    "            recall.append(num/den)\n",
    "\n",
    "        if test_inter_count[tu] != 1:\n",
    "            ndcg.append(ndcg_score(top.rate.values.reshape(1, -1), top.rate_pred.values.reshape(1, -1)))\n",
    "        else:\n",
    "            ndcg.append(ndcg_score(np.append(top.rate.values, 0).reshape(1, -1), np.append(top.rate_pred.values, 0).reshape(1, -1)))\n",
    "\n",
    "    return rmse, np.array(recall).mean(), np.array(ndcg).mean()"
   ]
  },
  {
   "cell_type": "code",
   "execution_count": 59,
   "id": "ed8883e2",
   "metadata": {},
   "outputs": [
    {
     "name": "stdout",
     "output_type": "stream",
     "text": [
      "=================================================================\n",
      "num: 0\n"
     ]
    },
    {
     "name": "stderr",
     "output_type": "stream",
     "text": [
      "100%|████████████████████████████████████████████████████████████████████████| 158040/158040 [02:16<00:00, 1155.46it/s]\n",
      "100%|███████████████████████████████████████████████████████████████████████████| 11444/11444 [00:17<00:00, 670.50it/s]\n"
     ]
    },
    {
     "name": "stdout",
     "output_type": "stream",
     "text": [
      "=================================================================\n",
      "num: 1\n"
     ]
    },
    {
     "name": "stderr",
     "output_type": "stream",
     "text": [
      "100%|████████████████████████████████████████████████████████████████████████| 158040/158040 [02:26<00:00, 1076.83it/s]\n",
      "100%|███████████████████████████████████████████████████████████████████████████| 11446/11446 [00:17<00:00, 659.38it/s]\n"
     ]
    },
    {
     "name": "stdout",
     "output_type": "stream",
     "text": [
      "=================================================================\n",
      "num: 2\n"
     ]
    },
    {
     "name": "stderr",
     "output_type": "stream",
     "text": [
      "100%|████████████████████████████████████████████████████████████████████████| 158039/158039 [02:15<00:00, 1165.35it/s]\n",
      "100%|███████████████████████████████████████████████████████████████████████████| 11438/11438 [00:16<00:00, 678.94it/s]\n"
     ]
    },
    {
     "name": "stdout",
     "output_type": "stream",
     "text": [
      "=================================================================\n",
      "num: 3\n"
     ]
    },
    {
     "name": "stderr",
     "output_type": "stream",
     "text": [
      "100%|████████████████████████████████████████████████████████████████████████| 158039/158039 [02:32<00:00, 1038.67it/s]\n",
      "100%|███████████████████████████████████████████████████████████████████████████| 11450/11450 [00:17<00:00, 652.30it/s]\n"
     ]
    },
    {
     "name": "stdout",
     "output_type": "stream",
     "text": [
      "=================================================================\n",
      "num: 4\n"
     ]
    },
    {
     "name": "stderr",
     "output_type": "stream",
     "text": [
      "100%|████████████████████████████████████████████████████████████████████████| 158039/158039 [02:23<00:00, 1100.60it/s]\n",
      "100%|███████████████████████████████████████████████████████████████████████████| 11449/11449 [00:17<00:00, 666.32it/s]\n"
     ]
    }
   ],
   "source": [
    "mf_exp = []\n",
    "\n",
    "for i in range(5):\n",
    "    \n",
    "    print('=================================================================')\n",
    "    print('num:', i)\n",
    "    train_ind = np.load(os.path.join(train_path, 'train_ind'+ str(i) +'.npy'))\n",
    "    val_ind = np.load(os.path.join(val_path, 'val_ind'+ str(i) +'.npy'))\n",
    "    test_ind = np.load(os.path.join(test_path, 'test_ind'+ str(i) +'.npy'))\n",
    "\n",
    "    train_data, train_user = get_train(data, train_ind)    \n",
    "    test_data, test_user, test_inter_count = get_test_val(data, test_ind)\n",
    "    val_data, val_user, val_inter_count = get_test_val(data, val_ind)\n",
    "    \n",
    "    train_inter = Interactions(user_ids = train_data[train_data.columns[0]].values,\n",
    "                           item_ids=train_data[train_data.columns[1]].values,\n",
    "                           ratings=train_data[train_data.columns[2]].values,\n",
    "                              num_users=n_users,\n",
    "                              num_items=n_items)\n",
    "    \n",
    "    rmse, recall, ndcg = mf_explicit(16, 32, 1e-10, 0.001)\n",
    "    mf_exp.append([rmse, recall, ndcg])"
   ]
  },
  {
   "cell_type": "code",
   "execution_count": 62,
   "id": "9ace46a9",
   "metadata": {},
   "outputs": [
    {
     "name": "stdout",
     "output_type": "stream",
     "text": [
      "mf_exp [0.70910206 0.90361192 0.98006789]\n"
     ]
    }
   ],
   "source": [
    "print('mf_exp', np.array(mf_exp).mean(axis=0))"
   ]
  },
  {
   "cell_type": "code",
   "execution_count": null,
   "id": "6175d2a6",
   "metadata": {},
   "outputs": [],
   "source": []
  },
  {
   "cell_type": "code",
   "execution_count": null,
   "id": "d4f912e2",
   "metadata": {},
   "outputs": [],
   "source": []
  },
  {
   "cell_type": "code",
   "execution_count": null,
   "id": "15e18eaf",
   "metadata": {},
   "outputs": [],
   "source": []
  },
  {
   "cell_type": "code",
   "execution_count": 42,
   "id": "7e20e8de",
   "metadata": {},
   "outputs": [],
   "source": [
    "i = 1\n",
    "\n",
    "train_ind = np.load(os.path.join(train_path, 'train_ind'+ str(i) +'.npy'))\n",
    "val_ind = np.load(os.path.join(val_path, 'val_ind'+ str(i) +'.npy'))\n",
    "test_ind = np.load(os.path.join(test_path, 'test_ind'+ str(i) +'.npy'))\n",
    "\n",
    "train_data, train_user = get_train(data, train_ind)    \n",
    "test_data, test_user, test_inter_count = get_test_val(data, test_ind)\n",
    "val_data, val_user, val_inter_count = get_test_val(data, val_ind)\n"
   ]
  },
  {
   "cell_type": "code",
   "execution_count": 40,
   "id": "949b2d7f",
   "metadata": {},
   "outputs": [],
   "source": [
    "train_inter = Interactions(user_ids = train_data[train_data.columns[0]].values,\n",
    "                       item_ids=train_data[train_data.columns[1]].values,\n",
    "                       ratings=train_data[train_data.columns[2]].values,\n",
    "                          num_users=n_users,\n",
    "                          num_items=n_items)\n",
    "\n",
    "val_inter = Interactions(user_ids = val_data[train_data.columns[0]].values,\n",
    "                       item_ids=val_data[train_data.columns[1]].values,\n",
    "                       ratings=val_data[train_data.columns[2]].values)\n",
    "\n",
    "test_inter = Interactions(user_ids = test_data[train_data.columns[0]].values,\n",
    "                       item_ids=test_data[train_data.columns[1]].values,\n",
    "                       ratings=test_data[train_data.columns[2]].values)"
   ]
  },
  {
   "cell_type": "code",
   "execution_count": 44,
   "id": "816e6a4c",
   "metadata": {},
   "outputs": [],
   "source": [
    "model = ExplicitFactorizationModel(loss='regression',\n",
    "                                   embedding_dim = 32,  # latent dimensionality\n",
    "                                   n_iter=16,  # number of epochs of training\n",
    "                                   batch_size=1024,  # minibatch size\n",
    "                                   l2 = 1e-10,  # strength of L2 regularization\n",
    "                                   learning_rate = 1e-3,\n",
    "                                   use_cuda=torch.cuda.is_available())\n",
    "model.fit(train_inter, verbose=False)"
   ]
  },
  {
   "cell_type": "code",
   "execution_count": 57,
   "id": "2c0edabb",
   "metadata": {},
   "outputs": [
    {
     "data": {
      "text/plain": [
       "3.6649718"
      ]
     },
     "execution_count": 57,
     "metadata": {},
     "output_type": "execute_result"
    }
   ],
   "source": [
    "model.predict(user_ids=np.array([0]))[0]"
   ]
  },
  {
   "cell_type": "code",
   "execution_count": null,
   "id": "51743976",
   "metadata": {},
   "outputs": [],
   "source": [
    "32, 'l2': 1e-10, 'learning_rate': 0.001"
   ]
  },
  {
   "cell_type": "code",
   "execution_count": null,
   "id": "02b4c33c",
   "metadata": {},
   "outputs": [],
   "source": []
  },
  {
   "cell_type": "code",
   "execution_count": 25,
   "id": "64891d6c",
   "metadata": {},
   "outputs": [
    {
     "name": "stderr",
     "output_type": "stream",
     "text": [
      " 51%|██████████████████████████████████████████                                        | 20/39 [15:02<14:17, 45.14s/it]\n"
     ]
    },
    {
     "ename": "KeyboardInterrupt",
     "evalue": "",
     "output_type": "error",
     "traceback": [
      "\u001b[1;31m---------------------------------------------------------------------------\u001b[0m",
      "\u001b[1;31mKeyboardInterrupt\u001b[0m                         Traceback (most recent call last)",
      "\u001b[1;32m<ipython-input-25-431e01128957>\u001b[0m in \u001b[0;36m<module>\u001b[1;34m\u001b[0m\n\u001b[0;32m     13\u001b[0m                                        \u001b[0mlearning_rate\u001b[0m \u001b[1;33m=\u001b[0m \u001b[1;36m1e-3\u001b[0m\u001b[1;33m,\u001b[0m\u001b[1;33m\u001b[0m\u001b[1;33m\u001b[0m\u001b[0m\n\u001b[0;32m     14\u001b[0m                                        use_cuda=torch.cuda.is_available())\n\u001b[1;32m---> 15\u001b[1;33m     \u001b[0mmodel\u001b[0m\u001b[1;33m.\u001b[0m\u001b[0mfit\u001b[0m\u001b[1;33m(\u001b[0m\u001b[0mtrain_inter\u001b[0m\u001b[1;33m,\u001b[0m \u001b[0mverbose\u001b[0m\u001b[1;33m=\u001b[0m\u001b[1;32mFalse\u001b[0m\u001b[1;33m)\u001b[0m\u001b[1;33m\u001b[0m\u001b[1;33m\u001b[0m\u001b[0m\n\u001b[0m\u001b[0;32m     16\u001b[0m     \u001b[0mrmse_test_re\u001b[0m\u001b[1;33m.\u001b[0m\u001b[0mappend\u001b[0m\u001b[1;33m(\u001b[0m\u001b[0mrmse_score\u001b[0m\u001b[1;33m(\u001b[0m\u001b[0mmodel\u001b[0m\u001b[1;33m,\u001b[0m \u001b[0mval_inter\u001b[0m\u001b[1;33m)\u001b[0m\u001b[1;33m)\u001b[0m\u001b[1;33m\u001b[0m\u001b[1;33m\u001b[0m\u001b[0m\n\u001b[0;32m     17\u001b[0m     \u001b[0mrmse_train_re\u001b[0m\u001b[1;33m.\u001b[0m\u001b[0mappend\u001b[0m\u001b[1;33m(\u001b[0m\u001b[0mrmse_score\u001b[0m\u001b[1;33m(\u001b[0m\u001b[0mmodel\u001b[0m\u001b[1;33m,\u001b[0m \u001b[0mtrain_inter\u001b[0m\u001b[1;33m)\u001b[0m\u001b[1;33m)\u001b[0m\u001b[1;33m\u001b[0m\u001b[1;33m\u001b[0m\u001b[0m\n",
      "\u001b[1;32m~\\Desktop\\Python\\hw3\\spotlight\\factorization\\explicit.py\u001b[0m in \u001b[0;36mfit\u001b[1;34m(self, interactions, verbose)\u001b[0m\n\u001b[0;32m    231\u001b[0m                 \u001b[0mepoch_loss\u001b[0m \u001b[1;33m+=\u001b[0m \u001b[0mloss\u001b[0m\u001b[1;33m.\u001b[0m\u001b[0mitem\u001b[0m\u001b[1;33m(\u001b[0m\u001b[1;33m)\u001b[0m\u001b[1;33m\u001b[0m\u001b[1;33m\u001b[0m\u001b[0m\n\u001b[0;32m    232\u001b[0m \u001b[1;33m\u001b[0m\u001b[0m\n\u001b[1;32m--> 233\u001b[1;33m                 \u001b[0mloss\u001b[0m\u001b[1;33m.\u001b[0m\u001b[0mbackward\u001b[0m\u001b[1;33m(\u001b[0m\u001b[1;33m)\u001b[0m\u001b[1;33m\u001b[0m\u001b[1;33m\u001b[0m\u001b[0m\n\u001b[0m\u001b[0;32m    234\u001b[0m                 \u001b[0mself\u001b[0m\u001b[1;33m.\u001b[0m\u001b[0m_optimizer\u001b[0m\u001b[1;33m.\u001b[0m\u001b[0mstep\u001b[0m\u001b[1;33m(\u001b[0m\u001b[1;33m)\u001b[0m\u001b[1;33m\u001b[0m\u001b[1;33m\u001b[0m\u001b[0m\n\u001b[0;32m    235\u001b[0m \u001b[1;33m\u001b[0m\u001b[0m\n",
      "\u001b[1;32m~\\anaconda3\\envs\\graph\\lib\\site-packages\\torch\\tensor.py\u001b[0m in \u001b[0;36mbackward\u001b[1;34m(self, gradient, retain_graph, create_graph, inputs)\u001b[0m\n\u001b[0;32m    243\u001b[0m                 \u001b[0mcreate_graph\u001b[0m\u001b[1;33m=\u001b[0m\u001b[0mcreate_graph\u001b[0m\u001b[1;33m,\u001b[0m\u001b[1;33m\u001b[0m\u001b[1;33m\u001b[0m\u001b[0m\n\u001b[0;32m    244\u001b[0m                 inputs=inputs)\n\u001b[1;32m--> 245\u001b[1;33m         \u001b[0mtorch\u001b[0m\u001b[1;33m.\u001b[0m\u001b[0mautograd\u001b[0m\u001b[1;33m.\u001b[0m\u001b[0mbackward\u001b[0m\u001b[1;33m(\u001b[0m\u001b[0mself\u001b[0m\u001b[1;33m,\u001b[0m \u001b[0mgradient\u001b[0m\u001b[1;33m,\u001b[0m \u001b[0mretain_graph\u001b[0m\u001b[1;33m,\u001b[0m \u001b[0mcreate_graph\u001b[0m\u001b[1;33m,\u001b[0m \u001b[0minputs\u001b[0m\u001b[1;33m=\u001b[0m\u001b[0minputs\u001b[0m\u001b[1;33m)\u001b[0m\u001b[1;33m\u001b[0m\u001b[1;33m\u001b[0m\u001b[0m\n\u001b[0m\u001b[0;32m    246\u001b[0m \u001b[1;33m\u001b[0m\u001b[0m\n\u001b[0;32m    247\u001b[0m     \u001b[1;32mdef\u001b[0m \u001b[0mregister_hook\u001b[0m\u001b[1;33m(\u001b[0m\u001b[0mself\u001b[0m\u001b[1;33m,\u001b[0m \u001b[0mhook\u001b[0m\u001b[1;33m)\u001b[0m\u001b[1;33m:\u001b[0m\u001b[1;33m\u001b[0m\u001b[1;33m\u001b[0m\u001b[0m\n",
      "\u001b[1;32m~\\anaconda3\\envs\\graph\\lib\\site-packages\\torch\\autograd\\__init__.py\u001b[0m in \u001b[0;36mbackward\u001b[1;34m(tensors, grad_tensors, retain_graph, create_graph, grad_variables, inputs)\u001b[0m\n\u001b[0;32m    143\u001b[0m         \u001b[0mretain_graph\u001b[0m \u001b[1;33m=\u001b[0m \u001b[0mcreate_graph\u001b[0m\u001b[1;33m\u001b[0m\u001b[1;33m\u001b[0m\u001b[0m\n\u001b[0;32m    144\u001b[0m \u001b[1;33m\u001b[0m\u001b[0m\n\u001b[1;32m--> 145\u001b[1;33m     Variable._execution_engine.run_backward(\n\u001b[0m\u001b[0;32m    146\u001b[0m         \u001b[0mtensors\u001b[0m\u001b[1;33m,\u001b[0m \u001b[0mgrad_tensors_\u001b[0m\u001b[1;33m,\u001b[0m \u001b[0mretain_graph\u001b[0m\u001b[1;33m,\u001b[0m \u001b[0mcreate_graph\u001b[0m\u001b[1;33m,\u001b[0m \u001b[0minputs\u001b[0m\u001b[1;33m,\u001b[0m\u001b[1;33m\u001b[0m\u001b[1;33m\u001b[0m\u001b[0m\n\u001b[0;32m    147\u001b[0m         allow_unreachable=True, accumulate_grad=True)  # allow_unreachable flag\n",
      "\u001b[1;31mKeyboardInterrupt\u001b[0m: "
     ]
    }
   ],
   "source": [
    "\n",
    "\n",
    "n_iter = 40\n",
    "step_size = 1\n",
    "\n",
    "values = np.arange(1, n_iter)\n",
    "rmse_test_re = []\n",
    "rmse_train_re = []\n",
    "for i in tqdm(values):\n",
    "    model = ExplicitFactorizationModel(loss='regression',\n",
    "                                       embedding_dim = 32,  # latent dimensionality\n",
    "                                       n_iter=i,  # number of epochs of training\n",
    "                                       batch_size=1024,  # minibatch size\n",
    "                                       l2 = 1e-9,  # strength of L2 regularization\n",
    "                                       learning_rate = 1e-3,\n",
    "                                       use_cuda=torch.cuda.is_available())\n",
    "    model.fit(train_inter, verbose=False)\n",
    "    rmse_test_re.append(rmse_score(model, val_inter))\n",
    "    rmse_train_re.append(rmse_score(model, train_inter))\n",
    "    \n"
   ]
  },
  {
   "cell_type": "code",
   "execution_count": 36,
   "id": "b9fd701b",
   "metadata": {},
   "outputs": [
    {
     "data": {
      "image/png": "[encoded data removed]",
      "text/plain": [
       "<Figure size 432x288 with 1 Axes>"
      ]
     },
     "metadata": {},
     "output_type": "display_data"
    }
   ],
   "source": [
    "from matplotlib import pyplot as plt\n",
    "\n",
    "x = np.arange(1, 21) * step_size\n",
    "\n",
    "with plt.style.context('fivethirtyeight'):\n",
    " \n",
    "    plt.plot(values, rmse_train_re, label='train re', linestyle='--')\n",
    "    plt.plot(values, rmse_test_re, label='test re', ls='--')\n",
    "plt.legend()\n",
    "plt.show()"
   ]
  },
  {
   "cell_type": "code",
   "execution_count": null,
   "id": "8bae313d",
   "metadata": {},
   "outputs": [],
   "source": []
  },
  {
   "cell_type": "code",
   "execution_count": null,
   "id": "5198e5ce",
   "metadata": {},
   "outputs": [],
   "source": []
  },
  {
   "cell_type": "code",
   "execution_count": 45,
   "id": "d8474791",
   "metadata": {
    "scrolled": true
   },
   "outputs": [
    {
     "name": "stdout",
     "output_type": "stream",
     "text": [
      "Epoch 0: loss 15.411975238941334\n",
      "Epoch 1: loss 7.082794332945788\n",
      "Epoch 2: loss 2.2817861283266985\n",
      "Epoch 3: loss 1.1494567533334097\n",
      "Epoch 4: loss 0.7487117486971396\n",
      "Epoch 5: loss 0.5836408485968908\n",
      "Epoch 6: loss 0.5090760074831822\n",
      "Epoch 7: loss 0.4715567482290445\n",
      "Epoch 8: loss 0.449571759391714\n",
      "Epoch 9: loss 0.43424551326919486\n",
      "0.7099987080373674\n"
     ]
    }
   ],
   "source": [
    "model = ExplicitFactorizationModel(loss='regression',\n",
    "                                   embedding_dim = 32,  # latent dimensionality\n",
    "                                   n_iter=10,  # number of epochs of training\n",
    "                                   batch_size=1024,  # minibatch size\n",
    "                                   l2 = 1e-9,  # strength of L2 regularization\n",
    "                                   learning_rate = 1e-3,\n",
    "                                   use_cuda=torch.cuda.is_available())\n",
    "\n",
    "\n",
    "model.fit(train, verbose=True)\n",
    "print(rmse_score(model, val))"
   ]
  },
  {
   "cell_type": "code",
   "execution_count": null,
   "id": "961c9546",
   "metadata": {},
   "outputs": [],
   "source": []
  },
  {
   "cell_type": "code",
   "execution_count": null,
   "id": "1bedcb28",
   "metadata": {},
   "outputs": [],
   "source": []
  },
  {
   "cell_type": "code",
   "execution_count": null,
   "id": "258ceb40",
   "metadata": {},
   "outputs": [],
   "source": []
  },
  {
   "cell_type": "code",
   "execution_count": null,
   "id": "0fa8296d",
   "metadata": {},
   "outputs": [],
   "source": [
    "model.predict(user_ids=1)"
   ]
  },
  {
   "cell_type": "code",
   "execution_count": null,
   "id": "99ea1f5f",
   "metadata": {},
   "outputs": [],
   "source": []
  },
  {
   "cell_type": "code",
   "execution_count": null,
   "id": "21f00135",
   "metadata": {},
   "outputs": [],
   "source": []
  },
  {
   "cell_type": "code",
   "execution_count": null,
   "id": "742bb53c",
   "metadata": {},
   "outputs": [],
   "source": []
  },
  {
   "cell_type": "code",
   "execution_count": null,
   "id": "abae35ca",
   "metadata": {},
   "outputs": [],
   "source": [
    "    rmse_test_re.append(rmse_score(model, val_inter))\n",
    "    rmse_train_re.append(rmse_score(model, train_inter))"
   ]
  },
  {
   "cell_type": "code",
   "execution_count": 37,
   "id": "5b264f44",
   "metadata": {},
   "outputs": [],
   "source": [
    "def objective(trial):\n",
    "\n",
    "    param = {\n",
    "            \"embedding_dim\" : trial.suggest_categorical(\"embedding_dim\", [32, 16, 64]),\n",
    "            \"l2\" : trial.suggest_categorical(\"l2\", [1e-8, 1e-9, 1e-10]),            \n",
    "            \"learning_rate\" : trial.suggest_categorical(\"learning_rate\", [1e-3, 1e-4, 1e-2]),\n",
    "        }\n",
    "    \n",
    "    model = ExplicitFactorizationModel(loss='regression',\n",
    "                                       embedding_dim = param['embedding_dim'],  # latent dimensionality\n",
    "                                       n_iter=16,  # number of epochs of training\n",
    "                                       batch_size=1024,  # minibatch size\n",
    "                                       l2 = param['l2'],  # strength of L2 regularization\n",
    "                                       learning_rate = param['learning_rate'],\n",
    "                                       use_cuda=torch.cuda.is_available())\n",
    "\n",
    "\n",
    "    model.fit(train_inter, verbose=False)\n",
    "\n",
    "\n",
    "    \n",
    "\n",
    "    return rmse_score(model, val_inter)"
   ]
  },
  {
   "cell_type": "code",
   "execution_count": 41,
   "id": "c5a3c4e8",
   "metadata": {},
   "outputs": [
    {
     "name": "stderr",
     "output_type": "stream",
     "text": [
      "\u001b[32m[I 2021-06-10 21:34:46,161]\u001b[0m A new study created in memory with name: no-name-90c71535-99cf-46b7-94df-76f17b32c523\u001b[0m\n",
      "\u001b[32m[I 2021-06-10 21:35:10,933]\u001b[0m Trial 0 finished with value: 0.7087756229580199 and parameters: {'embedding_dim': 16, 'l2': 1e-10, 'learning_rate': 0.001}. Best is trial 0 with value: 0.7087756229580199.\u001b[0m\n",
      "\u001b[32m[I 2021-06-10 21:35:40,736]\u001b[0m Trial 1 finished with value: 0.7225405145397921 and parameters: {'embedding_dim': 64, 'l2': 1e-08, 'learning_rate': 0.001}. Best is trial 0 with value: 0.7087756229580199.\u001b[0m\n",
      "\u001b[32m[I 2021-06-10 21:36:10,643]\u001b[0m Trial 2 finished with value: 1.7113145238235654 and parameters: {'embedding_dim': 64, 'l2': 1e-09, 'learning_rate': 0.0001}. Best is trial 0 with value: 0.7087756229580199.\u001b[0m\n",
      "\u001b[32m[I 2021-06-10 21:36:39,855]\u001b[0m Trial 3 finished with value: 1.7156730069057433 and parameters: {'embedding_dim': 64, 'l2': 1e-08, 'learning_rate': 0.0001}. Best is trial 0 with value: 0.7087756229580199.\u001b[0m\n",
      "\u001b[32m[I 2021-06-10 21:37:04,536]\u001b[0m Trial 4 finished with value: 3.411801161257658 and parameters: {'embedding_dim': 16, 'l2': 1e-09, 'learning_rate': 0.0001}. Best is trial 0 with value: 0.7087756229580199.\u001b[0m\n",
      "\u001b[32m[I 2021-06-10 21:37:29,106]\u001b[0m Trial 5 finished with value: 0.9105086969725573 and parameters: {'embedding_dim': 16, 'l2': 1e-08, 'learning_rate': 0.01}. Best is trial 0 with value: 0.7087756229580199.\u001b[0m\n",
      "\u001b[32m[I 2021-06-10 21:37:54,865]\u001b[0m Trial 6 finished with value: 0.9160695597899516 and parameters: {'embedding_dim': 32, 'l2': 1e-10, 'learning_rate': 0.01}. Best is trial 0 with value: 0.7087756229580199.\u001b[0m\n",
      "\u001b[32m[I 2021-06-10 21:38:19,342]\u001b[0m Trial 7 finished with value: 0.9137902261348537 and parameters: {'embedding_dim': 16, 'l2': 1e-08, 'learning_rate': 0.01}. Best is trial 0 with value: 0.7087756229580199.\u001b[0m\n",
      "\u001b[32m[I 2021-06-10 21:38:48,261]\u001b[0m Trial 8 finished with value: 0.8872853939508245 and parameters: {'embedding_dim': 64, 'l2': 1e-09, 'learning_rate': 0.01}. Best is trial 0 with value: 0.7087756229580199.\u001b[0m\n",
      "\u001b[32m[I 2021-06-10 21:39:12,250]\u001b[0m Trial 9 finished with value: 0.7108524046167258 and parameters: {'embedding_dim': 16, 'l2': 1e-08, 'learning_rate': 0.001}. Best is trial 0 with value: 0.7087756229580199.\u001b[0m\n",
      "\u001b[32m[I 2021-06-10 21:39:38,230]\u001b[0m Trial 10 finished with value: 0.7057445482067156 and parameters: {'embedding_dim': 32, 'l2': 1e-10, 'learning_rate': 0.001}. Best is trial 10 with value: 0.7057445482067156.\u001b[0m\n",
      "\u001b[32m[I 2021-06-10 21:40:04,158]\u001b[0m Trial 11 finished with value: 0.7078548291073833 and parameters: {'embedding_dim': 32, 'l2': 1e-10, 'learning_rate': 0.001}. Best is trial 10 with value: 0.7057445482067156.\u001b[0m\n",
      "\u001b[32m[I 2021-06-10 21:40:30,254]\u001b[0m Trial 12 finished with value: 0.7092108010352092 and parameters: {'embedding_dim': 32, 'l2': 1e-10, 'learning_rate': 0.001}. Best is trial 10 with value: 0.7057445482067156.\u001b[0m\n",
      "\u001b[32m[I 2021-06-10 21:40:56,144]\u001b[0m Trial 13 finished with value: 0.7063440817268275 and parameters: {'embedding_dim': 32, 'l2': 1e-10, 'learning_rate': 0.001}. Best is trial 10 with value: 0.7057445482067156.\u001b[0m\n",
      "\u001b[32m[I 2021-06-10 21:41:22,316]\u001b[0m Trial 14 finished with value: 0.7068704973634252 and parameters: {'embedding_dim': 32, 'l2': 1e-10, 'learning_rate': 0.001}. Best is trial 10 with value: 0.7057445482067156.\u001b[0m\n",
      "\u001b[32m[I 2021-06-10 21:41:48,342]\u001b[0m Trial 15 finished with value: 0.7083015401940924 and parameters: {'embedding_dim': 32, 'l2': 1e-10, 'learning_rate': 0.001}. Best is trial 10 with value: 0.7057445482067156.\u001b[0m\n",
      "\u001b[32m[I 2021-06-10 21:42:14,264]\u001b[0m Trial 16 finished with value: 0.7127994292876957 and parameters: {'embedding_dim': 32, 'l2': 1e-10, 'learning_rate': 0.001}. Best is trial 10 with value: 0.7057445482067156.\u001b[0m\n",
      "\u001b[32m[I 2021-06-10 21:42:40,142]\u001b[0m Trial 17 finished with value: 0.7109541635330752 and parameters: {'embedding_dim': 32, 'l2': 1e-10, 'learning_rate': 0.001}. Best is trial 10 with value: 0.7057445482067156.\u001b[0m\n",
      "\u001b[32m[I 2021-06-10 21:43:06,048]\u001b[0m Trial 18 finished with value: 0.7098495412765414 and parameters: {'embedding_dim': 32, 'l2': 1e-10, 'learning_rate': 0.001}. Best is trial 10 with value: 0.7057445482067156.\u001b[0m\n",
      "\u001b[32m[I 2021-06-10 21:43:31,923]\u001b[0m Trial 19 finished with value: 0.7120914535625813 and parameters: {'embedding_dim': 32, 'l2': 1e-10, 'learning_rate': 0.001}. Best is trial 10 with value: 0.7057445482067156.\u001b[0m\n",
      "\u001b[32m[I 2021-06-10 21:43:57,925]\u001b[0m Trial 20 finished with value: 2.6337826461511313 and parameters: {'embedding_dim': 32, 'l2': 1e-10, 'learning_rate': 0.0001}. Best is trial 10 with value: 0.7057445482067156.\u001b[0m\n",
      "\u001b[32m[I 2021-06-10 21:44:23,335]\u001b[0m Trial 21 finished with value: 0.707468928823991 and parameters: {'embedding_dim': 32, 'l2': 1e-10, 'learning_rate': 0.001}. Best is trial 10 with value: 0.7057445482067156.\u001b[0m\n",
      "\u001b[32m[I 2021-06-10 21:44:48,984]\u001b[0m Trial 22 finished with value: 0.7120433596573972 and parameters: {'embedding_dim': 32, 'l2': 1e-10, 'learning_rate': 0.001}. Best is trial 10 with value: 0.7057445482067156.\u001b[0m\n",
      "\u001b[32m[I 2021-06-10 21:45:15,252]\u001b[0m Trial 23 finished with value: 0.7093988945001709 and parameters: {'embedding_dim': 32, 'l2': 1e-10, 'learning_rate': 0.001}. Best is trial 10 with value: 0.7057445482067156.\u001b[0m\n",
      "\u001b[32m[I 2021-06-10 21:45:41,148]\u001b[0m Trial 24 finished with value: 0.7118711990229113 and parameters: {'embedding_dim': 32, 'l2': 1e-10, 'learning_rate': 0.001}. Best is trial 10 with value: 0.7057445482067156.\u001b[0m\n"
     ]
    }
   ],
   "source": [
    "# i =1\n",
    "study = optuna.create_study(direction=\"minimize\") # Create a new study.\n",
    "study.optimize(objective, n_trials=25)"
   ]
  },
  {
   "cell_type": "code",
   "execution_count": 38,
   "id": "ba47c0bb",
   "metadata": {},
   "outputs": [
    {
     "name": "stderr",
     "output_type": "stream",
     "text": [
      "\u001b[32m[I 2021-06-10 21:18:36,362]\u001b[0m A new study created in memory with name: no-name-fa10479b-cc17-4f7c-8af6-30b9407ac36e\u001b[0m\n",
      "\u001b[32m[I 2021-06-10 21:19:46,101]\u001b[0m Trial 0 finished with value: 3.39475763383081 and parameters: {'embedding_dim': 16, 'l2': 1e-08, 'learning_rate': 0.0001}. Best is trial 0 with value: 3.39475763383081.\u001b[0m\n",
      "\u001b[32m[I 2021-06-10 21:20:55,788]\u001b[0m Trial 1 finished with value: 0.9148578444442506 and parameters: {'embedding_dim': 16, 'l2': 1e-08, 'learning_rate': 0.01}. Best is trial 1 with value: 0.9148578444442506.\u001b[0m\n",
      "\u001b[32m[I 2021-06-10 21:22:08,055]\u001b[0m Trial 2 finished with value: 1.7100490524879692 and parameters: {'embedding_dim': 64, 'l2': 1e-09, 'learning_rate': 0.0001}. Best is trial 1 with value: 0.9148578444442506.\u001b[0m\n",
      "\u001b[32m[I 2021-06-10 21:23:11,910]\u001b[0m Trial 3 finished with value: 2.6247974954518676 and parameters: {'embedding_dim': 32, 'l2': 1e-08, 'learning_rate': 0.0001}. Best is trial 1 with value: 0.9148578444442506.\u001b[0m\n",
      "\u001b[32m[I 2021-06-10 21:24:13,294]\u001b[0m Trial 4 finished with value: 0.9155235018213733 and parameters: {'embedding_dim': 16, 'l2': 1e-10, 'learning_rate': 0.01}. Best is trial 1 with value: 0.9148578444442506.\u001b[0m\n",
      "\u001b[32m[I 2021-06-10 21:25:16,158]\u001b[0m Trial 5 finished with value: 0.8824458192676643 and parameters: {'embedding_dim': 64, 'l2': 1e-10, 'learning_rate': 0.01}. Best is trial 5 with value: 0.8824458192676643.\u001b[0m\n",
      "\u001b[32m[I 2021-06-10 21:25:41,148]\u001b[0m Trial 6 finished with value: 0.708170847812501 and parameters: {'embedding_dim': 16, 'l2': 1e-10, 'learning_rate': 0.001}. Best is trial 6 with value: 0.708170847812501.\u001b[0m\n",
      "\u001b[32m[I 2021-06-10 21:26:06,519]\u001b[0m Trial 7 finished with value: 0.9122879987053504 and parameters: {'embedding_dim': 32, 'l2': 1e-10, 'learning_rate': 0.01}. Best is trial 6 with value: 0.708170847812501.\u001b[0m\n",
      "\u001b[32m[I 2021-06-10 21:26:35,987]\u001b[0m Trial 8 finished with value: 0.7179159121485573 and parameters: {'embedding_dim': 64, 'l2': 1e-10, 'learning_rate': 0.001}. Best is trial 6 with value: 0.708170847812501.\u001b[0m\n",
      "\u001b[32m[I 2021-06-10 21:27:02,024]\u001b[0m Trial 9 finished with value: 0.9099316877552546 and parameters: {'embedding_dim': 32, 'l2': 1e-09, 'learning_rate': 0.01}. Best is trial 6 with value: 0.708170847812501.\u001b[0m\n",
      "\u001b[32m[I 2021-06-10 21:27:28,233]\u001b[0m Trial 10 finished with value: 0.7174020051895461 and parameters: {'embedding_dim': 16, 'l2': 1e-10, 'learning_rate': 0.001}. Best is trial 6 with value: 0.708170847812501.\u001b[0m\n",
      "\u001b[32m[I 2021-06-10 21:27:53,381]\u001b[0m Trial 11 finished with value: 0.7095793235909601 and parameters: {'embedding_dim': 16, 'l2': 1e-10, 'learning_rate': 0.001}. Best is trial 6 with value: 0.708170847812501.\u001b[0m\n",
      "\u001b[32m[I 2021-06-10 21:28:19,121]\u001b[0m Trial 12 finished with value: 0.7099705389248638 and parameters: {'embedding_dim': 16, 'l2': 1e-10, 'learning_rate': 0.001}. Best is trial 6 with value: 0.708170847812501.\u001b[0m\n",
      "\u001b[32m[I 2021-06-10 21:28:44,388]\u001b[0m Trial 13 finished with value: 0.7136752001449315 and parameters: {'embedding_dim': 16, 'l2': 1e-10, 'learning_rate': 0.001}. Best is trial 6 with value: 0.708170847812501.\u001b[0m\n",
      "\u001b[32m[I 2021-06-10 21:29:09,970]\u001b[0m Trial 14 finished with value: 0.7133082738496622 and parameters: {'embedding_dim': 16, 'l2': 1e-10, 'learning_rate': 0.001}. Best is trial 6 with value: 0.708170847812501.\u001b[0m\n",
      "\u001b[32m[I 2021-06-10 21:29:35,815]\u001b[0m Trial 15 finished with value: 0.7152359703963398 and parameters: {'embedding_dim': 16, 'l2': 1e-09, 'learning_rate': 0.001}. Best is trial 6 with value: 0.708170847812501.\u001b[0m\n",
      "\u001b[32m[I 2021-06-10 21:30:01,610]\u001b[0m Trial 16 finished with value: 0.7109436238196856 and parameters: {'embedding_dim': 16, 'l2': 1e-10, 'learning_rate': 0.001}. Best is trial 6 with value: 0.708170847812501.\u001b[0m\n",
      "\u001b[32m[I 2021-06-10 21:30:25,811]\u001b[0m Trial 17 finished with value: 0.7101370361601318 and parameters: {'embedding_dim': 16, 'l2': 1e-10, 'learning_rate': 0.001}. Best is trial 6 with value: 0.708170847812501.\u001b[0m\n",
      "\u001b[32m[I 2021-06-10 21:30:50,140]\u001b[0m Trial 18 finished with value: 0.7085418601980052 and parameters: {'embedding_dim': 16, 'l2': 1e-10, 'learning_rate': 0.001}. Best is trial 6 with value: 0.708170847812501.\u001b[0m\n",
      "\u001b[32m[I 2021-06-10 21:31:15,020]\u001b[0m Trial 19 finished with value: 0.7151478251855887 and parameters: {'embedding_dim': 16, 'l2': 1e-08, 'learning_rate': 0.001}. Best is trial 6 with value: 0.708170847812501.\u001b[0m\n",
      "\u001b[32m[I 2021-06-10 21:31:44,389]\u001b[0m Trial 20 finished with value: 0.7132830861299273 and parameters: {'embedding_dim': 64, 'l2': 1e-09, 'learning_rate': 0.001}. Best is trial 6 with value: 0.708170847812501.\u001b[0m\n",
      "\u001b[32m[I 2021-06-10 21:32:10,870]\u001b[0m Trial 21 finished with value: 0.7095943394410058 and parameters: {'embedding_dim': 16, 'l2': 1e-10, 'learning_rate': 0.001}. Best is trial 6 with value: 0.708170847812501.\u001b[0m\n",
      "\u001b[32m[I 2021-06-10 21:32:36,381]\u001b[0m Trial 22 finished with value: 0.7104227932228088 and parameters: {'embedding_dim': 16, 'l2': 1e-10, 'learning_rate': 0.001}. Best is trial 6 with value: 0.708170847812501.\u001b[0m\n",
      "\u001b[32m[I 2021-06-10 21:33:02,236]\u001b[0m Trial 23 finished with value: 0.7135947641657279 and parameters: {'embedding_dim': 16, 'l2': 1e-10, 'learning_rate': 0.001}. Best is trial 6 with value: 0.708170847812501.\u001b[0m\n",
      "\u001b[32m[I 2021-06-10 21:33:27,280]\u001b[0m Trial 24 finished with value: 0.7065921371911449 and parameters: {'embedding_dim': 16, 'l2': 1e-10, 'learning_rate': 0.001}. Best is trial 24 with value: 0.7065921371911449.\u001b[0m\n"
     ]
    }
   ],
   "source": [
    "# i =0\n",
    "study = optuna.create_study(direction=\"minimize\") # Create a new study.\n",
    "study.optimize(objective, n_trials=25)"
   ]
  },
  {
   "cell_type": "code",
   "execution_count": null,
   "id": "b67186cb",
   "metadata": {},
   "outputs": [],
   "source": []
  },
  {
   "cell_type": "code",
   "execution_count": null,
   "id": "a8e528a7",
   "metadata": {},
   "outputs": [],
   "source": []
  },
  {
   "cell_type": "code",
   "execution_count": null,
   "id": "8188a439",
   "metadata": {},
   "outputs": [],
   "source": []
  },
  {
   "cell_type": "code",
   "execution_count": 49,
   "id": "76ef923b",
   "metadata": {},
   "outputs": [],
   "source": [
    "def objective(trial):\n",
    "\n",
    "    param = {\n",
    "            \"embedding_dim\" : trial.suggest_categorical(\"embedding_dim\", [32, 128, 64]),\n",
    "            \"l2\" : trial.suggest_categorical(\"l2\", [1e-8, 5e-8, 1e-7]),            \n",
    "            \"learning_rate\" : trial.suggest_categorical(\"learning_rate\", [1e-3, 5e-3, 1e-2]),\n",
    "        }\n",
    "    \n",
    "    model = ExplicitFactorizationModel(loss='regression',\n",
    "                                       embedding_dim = param['embedding_dim'],  # latent dimensionality\n",
    "                                       n_iter=20,  # number of epochs of training\n",
    "                                       batch_size=1024,  # minibatch size\n",
    "                                       l2 = param['l2'],  # strength of L2 regularization\n",
    "                                       learning_rate = param['learning_rate'],\n",
    "                                       use_cuda=torch.cuda.is_available())\n",
    "\n",
    "\n",
    "    model.fit(train, verbose=False)\n",
    "\n",
    "\n",
    "    \n",
    "\n",
    "    return rmse_score(model, val)"
   ]
  },
  {
   "cell_type": "code",
   "execution_count": 50,
   "id": "d31caa61",
   "metadata": {
    "scrolled": true
   },
   "outputs": [
    {
     "name": "stderr",
     "output_type": "stream",
     "text": [
      "\u001b[32m[I 2021-06-04 14:57:59,660]\u001b[0m A new study created in memory with name: no-name-0c00bba0-4fcf-42c9-9d9d-39c950ebd374\u001b[0m\n",
      "\u001b[32m[I 2021-06-04 14:58:06,981]\u001b[0m Trial 0 finished with value: 1.374014160987807 and parameters: {'embedding_dim': 32, 'l2': 5e-08, 'learning_rate': 0.005}. Best is trial 0 with value: 1.374014160987807.\u001b[0m\n",
      "\u001b[32m[I 2021-06-04 14:58:15,095]\u001b[0m Trial 1 finished with value: 1.3471676855469734 and parameters: {'embedding_dim': 64, 'l2': 5e-08, 'learning_rate': 0.005}. Best is trial 1 with value: 1.3471676855469734.\u001b[0m\n",
      "\u001b[32m[I 2021-06-04 14:58:23,201]\u001b[0m Trial 2 finished with value: 1.3194021815954926 and parameters: {'embedding_dim': 64, 'l2': 1e-07, 'learning_rate': 0.01}. Best is trial 2 with value: 1.3194021815954926.\u001b[0m\n",
      "\u001b[32m[I 2021-06-04 14:58:31,290]\u001b[0m Trial 3 finished with value: 1.314506221052152 and parameters: {'embedding_dim': 64, 'l2': 1e-08, 'learning_rate': 0.01}. Best is trial 3 with value: 1.314506221052152.\u001b[0m\n",
      "\u001b[32m[I 2021-06-04 14:58:38,837]\u001b[0m Trial 4 finished with value: 1.2238909658660935 and parameters: {'embedding_dim': 32, 'l2': 1e-08, 'learning_rate': 0.001}. Best is trial 4 with value: 1.2238909658660935.\u001b[0m\n",
      "\u001b[32m[I 2021-06-04 14:58:46,344]\u001b[0m Trial 5 finished with value: 1.2323356154696368 and parameters: {'embedding_dim': 32, 'l2': 1e-07, 'learning_rate': 0.001}. Best is trial 4 with value: 1.2238909658660935.\u001b[0m\n",
      "\u001b[32m[I 2021-06-04 14:58:55,600]\u001b[0m Trial 6 finished with value: 1.346891793910105 and parameters: {'embedding_dim': 64, 'l2': 1e-07, 'learning_rate': 0.005}. Best is trial 4 with value: 1.2238909658660935.\u001b[0m\n",
      "\u001b[32m[I 2021-06-04 14:59:04,859]\u001b[0m Trial 7 finished with value: 1.3125276247794637 and parameters: {'embedding_dim': 64, 'l2': 1e-08, 'learning_rate': 0.01}. Best is trial 4 with value: 1.2238909658660935.\u001b[0m\n",
      "\u001b[32m[I 2021-06-04 14:59:15,356]\u001b[0m Trial 8 finished with value: 1.2036222177477884 and parameters: {'embedding_dim': 128, 'l2': 1e-07, 'learning_rate': 0.001}. Best is trial 8 with value: 1.2036222177477884.\u001b[0m\n",
      "\u001b[32m[I 2021-06-04 14:59:23,684]\u001b[0m Trial 9 finished with value: 1.383345227913046 and parameters: {'embedding_dim': 32, 'l2': 1e-08, 'learning_rate': 0.005}. Best is trial 8 with value: 1.2036222177477884.\u001b[0m\n",
      "\u001b[32m[I 2021-06-04 14:59:33,302]\u001b[0m Trial 10 finished with value: 1.2047709580230048 and parameters: {'embedding_dim': 128, 'l2': 1e-07, 'learning_rate': 0.001}. Best is trial 8 with value: 1.2036222177477884.\u001b[0m\n",
      "\u001b[32m[I 2021-06-04 14:59:42,862]\u001b[0m Trial 11 finished with value: 1.1957632693204903 and parameters: {'embedding_dim': 128, 'l2': 1e-07, 'learning_rate': 0.001}. Best is trial 11 with value: 1.1957632693204903.\u001b[0m\n",
      "\u001b[32m[I 2021-06-04 14:59:52,805]\u001b[0m Trial 12 finished with value: 1.2071521925398143 and parameters: {'embedding_dim': 128, 'l2': 1e-07, 'learning_rate': 0.001}. Best is trial 11 with value: 1.1957632693204903.\u001b[0m\n",
      "\u001b[32m[I 2021-06-04 15:00:02,401]\u001b[0m Trial 13 finished with value: 1.2006775386302397 and parameters: {'embedding_dim': 128, 'l2': 1e-07, 'learning_rate': 0.001}. Best is trial 11 with value: 1.1957632693204903.\u001b[0m\n",
      "\u001b[32m[I 2021-06-04 15:00:12,446]\u001b[0m Trial 14 finished with value: 1.1957315272577598 and parameters: {'embedding_dim': 128, 'l2': 1e-07, 'learning_rate': 0.001}. Best is trial 14 with value: 1.1957315272577598.\u001b[0m\n",
      "\u001b[32m[I 2021-06-04 15:00:22,365]\u001b[0m Trial 15 finished with value: 1.2005473573648942 and parameters: {'embedding_dim': 128, 'l2': 1e-07, 'learning_rate': 0.001}. Best is trial 14 with value: 1.1957315272577598.\u001b[0m\n",
      "\u001b[32m[I 2021-06-04 15:00:32,230]\u001b[0m Trial 16 finished with value: 1.2060531578398346 and parameters: {'embedding_dim': 128, 'l2': 5e-08, 'learning_rate': 0.001}. Best is trial 14 with value: 1.1957315272577598.\u001b[0m\n",
      "\u001b[32m[I 2021-06-04 15:00:42,041]\u001b[0m Trial 17 finished with value: 1.1958603402691743 and parameters: {'embedding_dim': 128, 'l2': 1e-07, 'learning_rate': 0.001}. Best is trial 14 with value: 1.1957315272577598.\u001b[0m\n",
      "\u001b[32m[I 2021-06-04 15:00:51,925]\u001b[0m Trial 18 finished with value: 1.2127564140611071 and parameters: {'embedding_dim': 128, 'l2': 1e-07, 'learning_rate': 0.001}. Best is trial 14 with value: 1.1957315272577598.\u001b[0m\n",
      "\u001b[32m[I 2021-06-04 15:01:01,499]\u001b[0m Trial 19 finished with value: 1.1959951123479708 and parameters: {'embedding_dim': 128, 'l2': 1e-07, 'learning_rate': 0.001}. Best is trial 14 with value: 1.1957315272577598.\u001b[0m\n"
     ]
    }
   ],
   "source": [
    "study = optuna.create_study(direction=\"minimize\") # Create a new study.\n",
    "study.optimize(objective, n_trials=20)"
   ]
  },
  {
   "cell_type": "code",
   "execution_count": 51,
   "id": "166ae893",
   "metadata": {},
   "outputs": [
    {
     "data": {
      "text/plain": [
       "{'embedding_dim': 128, 'l2': 1e-07, 'learning_rate': 0.001}"
      ]
     },
     "execution_count": 51,
     "metadata": {},
     "output_type": "execute_result"
    }
   ],
   "source": [
    "study.best_trial.params"
   ]
  },
  {
   "cell_type": "code",
   "execution_count": null,
   "id": "8ff04a14",
   "metadata": {},
   "outputs": [],
   "source": []
  },
  {
   "cell_type": "code",
   "execution_count": null,
   "id": "fffb16fe",
   "metadata": {},
   "outputs": [],
   "source": []
  },
  {
   "cell_type": "code",
   "execution_count": 52,
   "id": "6baddf39",
   "metadata": {},
   "outputs": [],
   "source": [
    "  \n",
    "import numpy as np\n",
    "import pandas as pd\n",
    "import torch\n",
    "from sklearn.preprocessing import LabelEncoder\n",
    "from tensorflow.python.keras.preprocessing.sequence import pad_sequences\n",
    "\n",
    "from deepctr_torch.inputs import SparseFeat, VarLenSparseFeat, get_feature_names\n",
    "from deepctr_torch.models import DeepFM\n",
    "\n",
    "\n",
    "def split(x):\n",
    "    key_ans = x.split('|')\n",
    "    for key in key_ans:\n",
    "        if key not in key2index:\n",
    "            # Notice : input value 0 is a special \"padding\",so we do not use 0 to encode valid feature for sequence input\n",
    "            key2index[key] = len(key2index) + 1\n",
    "    return list(map(lambda x: key2index[x], key_ans))\n",
    "\n",
    "\n",
    "if __name__ == \"__main__\":\n",
    "    data = pd.read_csv(\"./movielens_sample.txt\")\n",
    "    sparse_features = [\"movie_id\", \"user_id\",\n",
    "                       \"gender\", \"age\", \"occupation\", \"zip\", ]\n",
    "    target = ['rating']\n",
    "\n",
    "    # 1.Label Encoding for sparse features,and process sequence features\n",
    "    for feat in sparse_features:\n",
    "        lbe = LabelEncoder()\n",
    "        data[feat] = lbe.fit_transform(data[feat])\n",
    "    # preprocess the sequence feature\n",
    "\n",
    "    key2index = {}\n",
    "    genres_list = list(map(split, data['genres'].values))\n",
    "    genres_length = np.array(list(map(len, genres_list)))\n",
    "    max_len = max(genres_length)\n",
    "    # Notice : padding=`post`\n",
    "    genres_list = pad_sequences(genres_list, maxlen=max_len, padding='post', )\n",
    "\n",
    "    # 2.count #unique features for each sparse field and generate feature config for sequence feature\n",
    "\n",
    "    fixlen_feature_columns = [SparseFeat(feat, data[feat].nunique(), embedding_dim=4)\n",
    "                              for feat in sparse_features]\n",
    "\n",
    "    varlen_feature_columns = [VarLenSparseFeat(SparseFeat('genres', vocabulary_size=len(\n",
    "        key2index) + 1, embedding_dim=4), maxlen=max_len, combiner='mean')]  # Notice : value 0 is for padding for sequence input feature\n",
    "\n",
    "    linear_feature_columns = fixlen_feature_columns + varlen_feature_columns\n",
    "    dnn_feature_columns = fixlen_feature_columns + varlen_feature_columns\n",
    "\n",
    "    feature_names = get_feature_names(linear_feature_columns + dnn_feature_columns)\n",
    "\n",
    "    # 3.generate input data for model\n",
    "    model_input = {name: data[name] for name in sparse_features}  #\n",
    "    model_input[\"genres\"] = genres_list\n",
    "\n",
    "    # 4.Define Model,compile and train\n",
    "\n",
    "    device = 'cpu'\n",
    "    use_cuda = True\n",
    "    if use_cuda and torch.cuda.is_available():\n",
    "        print('cuda ready...')\n",
    "        device = 'cuda:0'\n",
    "\n",
    "    model = DeepFM(linear_feature_columns, dnn_feature_columns, task='regression', device=device)\n",
    "\n",
    "    model.compile(\"adam\", \"mse\", metrics=['mse'], )\n",
    "    history = model.fit(model_input, data[target].values, batch_size=256, epochs=10, verbose=2, validation_split=0.2)"
   ]
  },
  {
   "cell_type": "code",
   "execution_count": null,
   "id": "aac3ee98",
   "metadata": {},
   "outputs": [],
   "source": []
  },
  {
   "cell_type": "code",
   "execution_count": null,
   "id": "0bee87af",
   "metadata": {},
   "outputs": [],
   "source": []
  },
  {
   "cell_type": "code",
   "execution_count": null,
   "id": "0560a59f",
   "metadata": {},
   "outputs": [],
   "source": []
  },
  {
   "cell_type": "code",
   "execution_count": null,
   "id": "68664ad5",
   "metadata": {},
   "outputs": [],
   "source": []
  }
 ],
 "metadata": {
  "kernelspec": {
   "display_name": "Python 3",
   "language": "python",
   "name": "python3"
  },
  "language_info": {
   "codemirror_mode": {
    "name": "ipython",
    "version": 3
   },
   "file_extension": ".py",
   "mimetype": "text/x-python",
   "name": "python",
   "nbconvert_exporter": "python",
   "pygments_lexer": "ipython3",
   "version": "3.8.8"
  }
 },
 "nbformat": 4,
 "nbformat_minor": 5
}
