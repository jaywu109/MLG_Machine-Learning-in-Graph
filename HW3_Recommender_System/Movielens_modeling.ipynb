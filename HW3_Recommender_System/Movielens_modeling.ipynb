{
 "cells": [
  {
   "cell_type": "code",
   "execution_count": 1,
   "id": "001783ac",
   "metadata": {},
   "outputs": [],
   "source": [
    "import pandas as pd\n",
    "import numpy as np\n",
    "\n",
    "from tqdm import tqdm\n",
    "import torch\n",
    "from torch import nn"
   ]
  },
  {
   "cell_type": "code",
   "execution_count": 2,
   "id": "962f9fc0",
   "metadata": {},
   "outputs": [],
   "source": [
    "import os"
   ]
  },
  {
   "cell_type": "code",
   "execution_count": 3,
   "id": "2afa875e",
   "metadata": {},
   "outputs": [],
   "source": [
    "from surprise import SVD\n",
    "from surprise import Dataset\n",
    "from surprise import Reader\n",
    "from surprise.model_selection import cross_validate\n",
    "from surprise import KNNWithMeans\n"
   ]
  },
  {
   "cell_type": "code",
   "execution_count": 4,
   "id": "207af178",
   "metadata": {},
   "outputs": [],
   "source": [
    "from sklearn.metrics import mean_squared_error\n",
    "from sklearn.metrics import ndcg_score"
   ]
  },
  {
   "cell_type": "code",
   "execution_count": 5,
   "id": "b9b238c7",
   "metadata": {},
   "outputs": [],
   "source": [
    "import torch\n",
    "\n",
    "from spotlight.factorization.explicit import ExplicitFactorizationModel\n",
    "from spotlight.interactions import Interactions\n",
    "from spotlight.evaluation import rmse_score\n"
   ]
  },
  {
   "cell_type": "code",
   "execution_count": 6,
   "id": "ffd44fe8",
   "metadata": {},
   "outputs": [],
   "source": [
    "import optuna \n",
    "from scipy.sparse import coo_matrix, csr_matrix, lil_matrix, vstack, hstack\n",
    "from scipy import sparse\n"
   ]
  },
  {
   "cell_type": "code",
   "execution_count": 7,
   "id": "5893a0b1",
   "metadata": {},
   "outputs": [],
   "source": [
    "def get_train(data, train_ind):\n",
    "    \n",
    "    train_data = data.loc[train_ind][data.columns[:3]]\n",
    "    train_data = train_data.rename(columns={train_data.columns[1]: \"item\"})\n",
    "    train_user = train_data.user.value_counts().index.to_numpy()\n",
    "    train_user = np.sort(train_user)\n",
    "    \n",
    "    return train_data, train_user\n",
    "\n",
    "def get_test_val(data, test_ind):\n",
    "\n",
    "    test_data = data.loc[test_ind][data.columns[:3]]\n",
    "    test_data = test_data.rename(columns={test_data.columns[1]: \"item\"})\n",
    "    test_user = test_data.user.value_counts().index.to_numpy()\n",
    "    test_user = np.sort(test_user)\n",
    "\n",
    "    #count interation in test set\n",
    "    test_inter_count ={} \n",
    "    interaction = test_data.user.value_counts()\n",
    "\n",
    "    for i, count in enumerate(interaction):\n",
    "        if count >= 10:\n",
    "            test_inter_count[interaction.index[i]] = 10\n",
    "        else:\n",
    "            test_inter_count[interaction.index[i]] = count\n",
    "            \n",
    "    return test_data, test_user, test_inter_count"
   ]
  },
  {
   "cell_type": "markdown",
   "id": "387b52bc",
   "metadata": {},
   "source": [
    "### Reading Data"
   ]
  },
  {
   "cell_type": "code",
   "execution_count": 8,
   "id": "8ed8f2af",
   "metadata": {},
   "outputs": [],
   "source": [
    "root = 'C:/Users/bbb50/Desktop/Python/hw3/Movielens'"
   ]
  },
  {
   "cell_type": "code",
   "execution_count": 9,
   "id": "7516358c",
   "metadata": {},
   "outputs": [],
   "source": [
    "user_movie = pd.read_feather(os.path.join(root, 'user_movie_fea.ftr'), use_threads=True)\n",
    "user_list = user_movie.user.value_counts().index.to_numpy()\n",
    "user_list = np.sort(user_list)\n",
    "\n",
    "movie_list = user_movie.movie.value_counts().index.to_numpy()\n",
    "movie_list = np.sort(movie_list).astype(str)\n",
    "\n",
    "n_users = user_list.shape[0]\n",
    "n_items = movie_list.shape[0]\n",
    "\n",
    "data = user_movie"
   ]
  },
  {
   "cell_type": "code",
   "execution_count": 10,
   "id": "6038cb60",
   "metadata": {},
   "outputs": [],
   "source": [
    "train_path = os.path.join(root, 'train')\n",
    "val_path = os.path.join(root, 'val')\n",
    "test_path = os.path.join(root, 'test')"
   ]
  },
  {
   "cell_type": "code",
   "execution_count": 11,
   "id": "638da588",
   "metadata": {},
   "outputs": [],
   "source": [
    "def cf(name , user_based ):\n",
    "    sim_options = {'name': name, 'user_based': user_based}\n",
    "    model = KNNWithMeans(sim_options=sim_options)\n",
    "    model.fit(train_)\n",
    "    \n",
    "    rate = []\n",
    "    for ind in tqdm(range(test_data.shape[0])):\n",
    "\n",
    "        uid = test_data.iloc[ind].user\n",
    "        iid = test_data.iloc[ind]['item']\n",
    "        est = model.predict(uid, iid, verbose=False).est\n",
    "        rate.append(est)\n",
    "\n",
    "    test_data['rate_pred'] = rate\n",
    "    \n",
    "    rmse = mean_squared_error(test_data.rate, test_data.rate_pred, squared=False)\n",
    "    recall = []\n",
    "    ndcg = []\n",
    "\n",
    "    for tu in tqdm(test_user):\n",
    "\n",
    "        top = test_data[test_data.user == tu].sort_values(by=['rate_pred'], ascending=False)[:test_inter_count[tu]]\n",
    "        den = top[top.rate > 3.5].shape[0]\n",
    "        num = top[(top.rate > 3.5) & (top.rate_pred > 3.5)].shape[0]\n",
    "\n",
    "        if den == 0:\n",
    "            recall.append(0)\n",
    "        else:\n",
    "            recall.append(num/den)\n",
    "\n",
    "        if test_inter_count[tu] != 1:\n",
    "            ndcg.append(ndcg_score(top.rate.values.reshape(1, -1), top.rate_pred.values.reshape(1, -1)))\n",
    "        else:\n",
    "            ndcg.append(ndcg_score(np.append(top.rate.values, 0).reshape(1, -1), np.append(top.rate_pred.values, 0).reshape(1, -1)))\n",
    "\n",
    "    return rmse, np.array(recall).mean(), np.array(ndcg).mean()"
   ]
  },
  {
   "cell_type": "code",
   "execution_count": 12,
   "id": "4dcf7bf1",
   "metadata": {},
   "outputs": [
    {
     "name": "stdout",
     "output_type": "stream",
     "text": [
      "=================================================================\n",
      "num: 0\n",
      "Computing the cosine similarity matrix...\n"
     ]
    },
    {
     "name": "stderr",
     "output_type": "stream",
     "text": [
      "  3%|██▎                                                                         | 624/20000 [00:00<00:06, 3197.64it/s]"
     ]
    },
    {
     "name": "stdout",
     "output_type": "stream",
     "text": [
      "Done computing similarity matrix.\n"
     ]
    },
    {
     "name": "stderr",
     "output_type": "stream",
     "text": [
      "100%|██████████████████████████████████████████████████████████████████████████| 20000/20000 [00:05<00:00, 3385.24it/s]\n",
      "100%|███████████████████████████████████████████████████████████████████████████████| 943/943 [00:01<00:00, 604.88it/s]\n"
     ]
    },
    {
     "name": "stdout",
     "output_type": "stream",
     "text": [
      "Computing the pearson similarity matrix...\n"
     ]
    },
    {
     "name": "stderr",
     "output_type": "stream",
     "text": [
      "  4%|██▋                                                                         | 702/20000 [00:00<00:05, 3550.09it/s]"
     ]
    },
    {
     "name": "stdout",
     "output_type": "stream",
     "text": [
      "Done computing similarity matrix.\n"
     ]
    },
    {
     "name": "stderr",
     "output_type": "stream",
     "text": [
      "100%|██████████████████████████████████████████████████████████████████████████| 20000/20000 [00:06<00:00, 2992.22it/s]\n",
      "100%|███████████████████████████████████████████████████████████████████████████████| 943/943 [00:01<00:00, 684.83it/s]\n"
     ]
    },
    {
     "name": "stdout",
     "output_type": "stream",
     "text": [
      "Computing the cosine similarity matrix...\n"
     ]
    },
    {
     "name": "stderr",
     "output_type": "stream",
     "text": [
      "  3%|██▍                                                                         | 632/20000 [00:00<00:06, 2935.49it/s]"
     ]
    },
    {
     "name": "stdout",
     "output_type": "stream",
     "text": [
      "Done computing similarity matrix.\n"
     ]
    },
    {
     "name": "stderr",
     "output_type": "stream",
     "text": [
      "100%|██████████████████████████████████████████████████████████████████████████| 20000/20000 [00:07<00:00, 2825.12it/s]\n",
      "100%|███████████████████████████████████████████████████████████████████████████████| 943/943 [00:01<00:00, 641.50it/s]\n"
     ]
    },
    {
     "name": "stdout",
     "output_type": "stream",
     "text": [
      "Computing the pearson similarity matrix...\n"
     ]
    },
    {
     "name": "stderr",
     "output_type": "stream",
     "text": [
      "  3%|██▌                                                                         | 674/20000 [00:00<00:05, 3356.37it/s]"
     ]
    },
    {
     "name": "stdout",
     "output_type": "stream",
     "text": [
      "Done computing similarity matrix.\n"
     ]
    },
    {
     "name": "stderr",
     "output_type": "stream",
     "text": [
      "100%|██████████████████████████████████████████████████████████████████████████| 20000/20000 [00:06<00:00, 3178.64it/s]\n",
      "100%|███████████████████████████████████████████████████████████████████████████████| 943/943 [00:01<00:00, 714.92it/s]\n"
     ]
    },
    {
     "name": "stdout",
     "output_type": "stream",
     "text": [
      "=================================================================\n",
      "num: 1\n",
      "Computing the cosine similarity matrix...\n"
     ]
    },
    {
     "name": "stderr",
     "output_type": "stream",
     "text": [
      "  4%|██▊                                                                         | 730/20000 [00:00<00:05, 3754.09it/s]"
     ]
    },
    {
     "name": "stdout",
     "output_type": "stream",
     "text": [
      "Done computing similarity matrix.\n"
     ]
    },
    {
     "name": "stderr",
     "output_type": "stream",
     "text": [
      "100%|██████████████████████████████████████████████████████████████████████████| 20000/20000 [00:05<00:00, 3960.39it/s]\n",
      "100%|███████████████████████████████████████████████████████████████████████████████| 943/943 [00:01<00:00, 714.94it/s]\n"
     ]
    },
    {
     "name": "stdout",
     "output_type": "stream",
     "text": [
      "Computing the pearson similarity matrix...\n",
      "Done computing similarity matrix.\n"
     ]
    },
    {
     "name": "stderr",
     "output_type": "stream",
     "text": [
      "100%|██████████████████████████████████████████████████████████████████████████| 20000/20000 [00:05<00:00, 3860.83it/s]\n",
      "100%|███████████████████████████████████████████████████████████████████████████████| 943/943 [00:01<00:00, 812.83it/s]\n"
     ]
    },
    {
     "name": "stdout",
     "output_type": "stream",
     "text": [
      "Computing the cosine similarity matrix...\n"
     ]
    },
    {
     "name": "stderr",
     "output_type": "stream",
     "text": [
      "  2%|█▌                                                                          | 407/20000 [00:00<00:04, 4068.12it/s]"
     ]
    },
    {
     "name": "stdout",
     "output_type": "stream",
     "text": [
      "Done computing similarity matrix.\n"
     ]
    },
    {
     "name": "stderr",
     "output_type": "stream",
     "text": [
      "100%|██████████████████████████████████████████████████████████████████████████| 20000/20000 [00:05<00:00, 3830.21it/s]\n",
      "100%|███████████████████████████████████████████████████████████████████████████████| 943/943 [00:01<00:00, 790.45it/s]\n"
     ]
    },
    {
     "name": "stdout",
     "output_type": "stream",
     "text": [
      "Computing the pearson similarity matrix...\n"
     ]
    },
    {
     "name": "stderr",
     "output_type": "stream",
     "text": [
      "  4%|███▎                                                                        | 874/20000 [00:00<00:04, 3951.84it/s]"
     ]
    },
    {
     "name": "stdout",
     "output_type": "stream",
     "text": [
      "Done computing similarity matrix.\n"
     ]
    },
    {
     "name": "stderr",
     "output_type": "stream",
     "text": [
      "100%|██████████████████████████████████████████████████████████████████████████| 20000/20000 [00:05<00:00, 3885.25it/s]\n",
      "100%|███████████████████████████████████████████████████████████████████████████████| 943/943 [00:01<00:00, 776.13it/s]\n"
     ]
    },
    {
     "name": "stdout",
     "output_type": "stream",
     "text": [
      "=================================================================\n",
      "num: 2\n",
      "Computing the cosine similarity matrix...\n"
     ]
    },
    {
     "name": "stderr",
     "output_type": "stream",
     "text": [
      "  2%|█▊                                                                          | 463/20000 [00:00<00:04, 4584.54it/s]"
     ]
    },
    {
     "name": "stdout",
     "output_type": "stream",
     "text": [
      "Done computing similarity matrix.\n"
     ]
    },
    {
     "name": "stderr",
     "output_type": "stream",
     "text": [
      "100%|██████████████████████████████████████████████████████████████████████████| 20000/20000 [00:04<00:00, 4626.34it/s]\n",
      "100%|███████████████████████████████████████████████████████████████████████████████| 943/943 [00:01<00:00, 861.16it/s]\n"
     ]
    },
    {
     "name": "stdout",
     "output_type": "stream",
     "text": [
      "Computing the pearson similarity matrix...\n"
     ]
    },
    {
     "name": "stderr",
     "output_type": "stream",
     "text": [
      "  2%|█▊                                                                          | 464/20000 [00:00<00:04, 4637.51it/s]"
     ]
    },
    {
     "name": "stdout",
     "output_type": "stream",
     "text": [
      "Done computing similarity matrix.\n"
     ]
    },
    {
     "name": "stderr",
     "output_type": "stream",
     "text": [
      "100%|██████████████████████████████████████████████████████████████████████████| 20000/20000 [00:04<00:00, 4267.23it/s]\n",
      "100%|███████████████████████████████████████████████████████████████████████████████| 943/943 [00:01<00:00, 832.77it/s]\n"
     ]
    },
    {
     "name": "stdout",
     "output_type": "stream",
     "text": [
      "Computing the cosine similarity matrix...\n"
     ]
    },
    {
     "name": "stderr",
     "output_type": "stream",
     "text": [
      "  2%|█▌                                                                          | 422/20000 [00:00<00:04, 4219.78it/s]"
     ]
    },
    {
     "name": "stdout",
     "output_type": "stream",
     "text": [
      "Done computing similarity matrix.\n"
     ]
    },
    {
     "name": "stderr",
     "output_type": "stream",
     "text": [
      "100%|██████████████████████████████████████████████████████████████████████████| 20000/20000 [00:05<00:00, 3978.09it/s]\n",
      "100%|███████████████████████████████████████████████████████████████████████████████| 943/943 [00:01<00:00, 828.65it/s]\n"
     ]
    },
    {
     "name": "stdout",
     "output_type": "stream",
     "text": [
      "Computing the pearson similarity matrix...\n"
     ]
    },
    {
     "name": "stderr",
     "output_type": "stream",
     "text": [
      "  3%|█▉                                                                          | 511/20000 [00:00<00:03, 5106.67it/s]"
     ]
    },
    {
     "name": "stdout",
     "output_type": "stream",
     "text": [
      "Done computing similarity matrix.\n"
     ]
    },
    {
     "name": "stderr",
     "output_type": "stream",
     "text": [
      "100%|██████████████████████████████████████████████████████████████████████████| 20000/20000 [00:04<00:00, 4070.00it/s]\n",
      "100%|███████████████████████████████████████████████████████████████████████████████| 943/943 [00:01<00:00, 817.15it/s]\n"
     ]
    },
    {
     "name": "stdout",
     "output_type": "stream",
     "text": [
      "=================================================================\n",
      "num: 3\n",
      "Computing the cosine similarity matrix...\n"
     ]
    },
    {
     "name": "stderr",
     "output_type": "stream",
     "text": [
      "  4%|███                                                                         | 802/20000 [00:00<00:04, 3895.79it/s]"
     ]
    },
    {
     "name": "stdout",
     "output_type": "stream",
     "text": [
      "Done computing similarity matrix.\n"
     ]
    },
    {
     "name": "stderr",
     "output_type": "stream",
     "text": [
      "100%|██████████████████████████████████████████████████████████████████████████| 20000/20000 [00:05<00:00, 3993.36it/s]\n",
      "100%|███████████████████████████████████████████████████████████████████████████████| 943/943 [00:01<00:00, 823.58it/s]\n"
     ]
    },
    {
     "name": "stdout",
     "output_type": "stream",
     "text": [
      "Computing the pearson similarity matrix...\n"
     ]
    },
    {
     "name": "stderr",
     "output_type": "stream",
     "text": [
      "  4%|███▍                                                                        | 891/20000 [00:00<00:04, 4457.11it/s]"
     ]
    },
    {
     "name": "stdout",
     "output_type": "stream",
     "text": [
      "Done computing similarity matrix.\n"
     ]
    },
    {
     "name": "stderr",
     "output_type": "stream",
     "text": [
      "100%|██████████████████████████████████████████████████████████████████████████| 20000/20000 [00:04<00:00, 4182.59it/s]\n",
      "100%|███████████████████████████████████████████████████████████████████████████████| 943/943 [00:01<00:00, 840.76it/s]\n"
     ]
    },
    {
     "name": "stdout",
     "output_type": "stream",
     "text": [
      "Computing the cosine similarity matrix...\n"
     ]
    },
    {
     "name": "stderr",
     "output_type": "stream",
     "text": [
      "  2%|█▋                                                                          | 438/20000 [00:00<00:04, 4336.85it/s]"
     ]
    },
    {
     "name": "stdout",
     "output_type": "stream",
     "text": [
      "Done computing similarity matrix.\n"
     ]
    },
    {
     "name": "stderr",
     "output_type": "stream",
     "text": [
      "100%|██████████████████████████████████████████████████████████████████████████| 20000/20000 [00:05<00:00, 3569.44it/s]\n",
      "100%|███████████████████████████████████████████████████████████████████████████████| 943/943 [00:01<00:00, 738.45it/s]\n"
     ]
    },
    {
     "name": "stdout",
     "output_type": "stream",
     "text": [
      "Computing the pearson similarity matrix...\n"
     ]
    },
    {
     "name": "stderr",
     "output_type": "stream",
     "text": [
      "  2%|█▌                                                                          | 399/20000 [00:00<00:04, 3989.98it/s]"
     ]
    },
    {
     "name": "stdout",
     "output_type": "stream",
     "text": [
      "Done computing similarity matrix.\n"
     ]
    },
    {
     "name": "stderr",
     "output_type": "stream",
     "text": [
      "100%|██████████████████████████████████████████████████████████████████████████| 20000/20000 [00:05<00:00, 3444.71it/s]\n",
      "100%|███████████████████████████████████████████████████████████████████████████████| 943/943 [00:01<00:00, 665.49it/s]\n"
     ]
    },
    {
     "name": "stdout",
     "output_type": "stream",
     "text": [
      "=================================================================\n",
      "num: 4\n",
      "Computing the cosine similarity matrix...\n"
     ]
    },
    {
     "name": "stderr",
     "output_type": "stream",
     "text": [
      "  3%|██▎                                                                         | 599/20000 [00:00<00:06, 3064.51it/s]"
     ]
    },
    {
     "name": "stdout",
     "output_type": "stream",
     "text": [
      "Done computing similarity matrix.\n"
     ]
    },
    {
     "name": "stderr",
     "output_type": "stream",
     "text": [
      "100%|██████████████████████████████████████████████████████████████████████████| 20000/20000 [00:05<00:00, 3861.76it/s]\n",
      "100%|███████████████████████████████████████████████████████████████████████████████| 943/943 [00:01<00:00, 618.75it/s]\n"
     ]
    },
    {
     "name": "stdout",
     "output_type": "stream",
     "text": [
      "Computing the pearson similarity matrix...\n"
     ]
    },
    {
     "name": "stderr",
     "output_type": "stream",
     "text": [
      "100%|██████████████████████████████████████████████████████████████████████████| 20000/20000 [00:05<00:00, 3347.23it/s]\n",
      "100%|███████████████████████████████████████████████████████████████████████████████| 943/943 [00:01<00:00, 759.26it/s]\n"
     ]
    },
    {
     "name": "stdout",
     "output_type": "stream",
     "text": [
      "Done computing similarity matrix.\n",
      "Computing the cosine similarity matrix...\n"
     ]
    },
    {
     "name": "stderr",
     "output_type": "stream",
     "text": [
      "  2%|█▎                                                                          | 353/20000 [00:00<00:05, 3495.40it/s]"
     ]
    },
    {
     "name": "stdout",
     "output_type": "stream",
     "text": [
      "Done computing similarity matrix.\n"
     ]
    },
    {
     "name": "stderr",
     "output_type": "stream",
     "text": [
      "100%|██████████████████████████████████████████████████████████████████████████| 20000/20000 [00:05<00:00, 3475.07it/s]\n",
      "100%|███████████████████████████████████████████████████████████████████████████████| 943/943 [00:01<00:00, 655.31it/s]\n"
     ]
    },
    {
     "name": "stdout",
     "output_type": "stream",
     "text": [
      "Computing the pearson similarity matrix...\n"
     ]
    },
    {
     "name": "stderr",
     "output_type": "stream",
     "text": [
      "  2%|█▊                                                                          | 461/20000 [00:00<00:04, 4564.57it/s]"
     ]
    },
    {
     "name": "stdout",
     "output_type": "stream",
     "text": [
      "Done computing similarity matrix.\n"
     ]
    },
    {
     "name": "stderr",
     "output_type": "stream",
     "text": [
      "100%|██████████████████████████████████████████████████████████████████████████| 20000/20000 [00:06<00:00, 3321.71it/s]\n",
      "100%|███████████████████████████████████████████████████████████████████████████████| 943/943 [00:01<00:00, 600.62it/s]\n"
     ]
    }
   ],
   "source": [
    "u_b_c = []\n",
    "u_b_p = []\n",
    "i_b_c = []\n",
    "i_b_p = []\n",
    "for i in range(5):\n",
    "    \n",
    "    print('=================================================================')\n",
    "    print('num:', i)\n",
    "    train_ind = np.load(os.path.join(train_path, 'train_ind'+ str(i) +'.npy'))\n",
    "    val_ind = np.load(os.path.join(val_path, 'val_ind'+ str(i) +'.npy'))\n",
    "    test_ind = np.load(os.path.join(test_path, 'test_ind'+ str(i) +'.npy'))\n",
    "\n",
    "    train_data, train_user = get_train(data, train_ind)    \n",
    "    test_data, test_user, test_inter_count = get_test_val(data, test_ind)\n",
    "    val_data, val_user, val_inter_count = get_test_val(data, val_ind)\n",
    "    \n",
    "    reader = Reader(rating_scale=(1, 5))\n",
    "    train_ = Dataset.load_from_df(train_data[['user', 'item', 'rate']], reader) \n",
    "    train_ = train_.build_full_trainset()\n",
    "    train_.n_users = n_users\n",
    "    train_.n_items = n_items \n",
    "\n",
    "    rmse, recall, ndcg = cf(name = 'cosine', user_based = True)\n",
    "    u_b_c.append([rmse, recall, ndcg])\n",
    "    rmse, recall, ndcg = cf(name = 'pearson', user_based = True)\n",
    "    u_b_p.append([rmse, recall, ndcg])\n",
    "    rmse, recall, ndcg = cf(name = 'cosine', user_based = False)\n",
    "    i_b_c.append([rmse, recall, ndcg])\n",
    "    rmse, recall, ndcg = cf(name = 'pearson', user_based = False)\n",
    "    i_b_p.append([rmse, recall, ndcg])"
   ]
  },
  {
   "cell_type": "code",
   "execution_count": 14,
   "id": "c56b9793",
   "metadata": {},
   "outputs": [
    {
     "name": "stdout",
     "output_type": "stream",
     "text": [
      "u_b_c [0.95856155 0.73900057 0.95359185]\n",
      "u_b_p [0.95434962 0.76660018 0.95397221]\n",
      "i_b_c [0.94758099 0.78844014 0.95491479]\n",
      "i_b_p [0.94746709 0.7955702  0.95589615]\n"
     ]
    }
   ],
   "source": [
    "print('u_b_c', np.array(u_b_c).mean(axis=0))\n",
    "print('u_b_p', np.array(u_b_p).mean(axis=0))\n",
    "print('i_b_c', np.array(i_b_c).mean(axis=0))\n",
    "print('i_b_p', np.array(i_b_p).mean(axis=0))"
   ]
  },
  {
   "cell_type": "code",
   "execution_count": null,
   "id": "bf5773f2",
   "metadata": {},
   "outputs": [],
   "source": []
  },
  {
   "cell_type": "markdown",
   "id": "50a0a564",
   "metadata": {},
   "source": [
    "### MF"
   ]
  },
  {
   "cell_type": "code",
   "execution_count": 39,
   "id": "853ec824",
   "metadata": {},
   "outputs": [],
   "source": [
    "torch.backends.cudnn.benchmark = True\n",
    "def mf_explicit(epoch, embedding_dim, l2, lr):\n",
    "\n",
    "    model = ExplicitFactorizationModel(loss='regression',\n",
    "                                       embedding_dim = 32,  # latent dimensionality\n",
    "                                       n_iter=epoch,  # number of epochs of training\n",
    "                                       batch_size=1024,  # minibatch size\n",
    "                                       l2 = l2,  # strength of L2 regularization\n",
    "                                       learning_rate = lr,\n",
    "                                       use_cuda=torch.cuda.is_available())\n",
    "    model.fit(train_inter, verbose=False)\n",
    "    \n",
    "    rate = []\n",
    "    for ind in tqdm(range(test_data.shape[0])):\n",
    "\n",
    "        uid = test_data.iloc[ind].user\n",
    "        iid = test_data.iloc[ind]['item']\n",
    "        est = model.predict(user_ids=np.array([uid]))[iid]\n",
    "        rate.append(est)\n",
    "\n",
    "    test_data['rate_pred'] = rate\n",
    "    \n",
    "    rmse = mean_squared_error(test_data.rate, test_data.rate_pred, squared=False)\n",
    "    recall = []\n",
    "    ndcg = []\n",
    "\n",
    "    for tu in tqdm(test_user):\n",
    "\n",
    "        top = test_data[test_data.user == tu].sort_values(by=['rate_pred'], ascending=False)[:test_inter_count[tu]]\n",
    "        den = top[top.rate > 3.5].shape[0]\n",
    "        num = top[(top.rate > 3.5) & (top.rate_pred > 3.5)].shape[0]\n",
    "\n",
    "        if den == 0:\n",
    "            recall.append(0)\n",
    "        else:\n",
    "            recall.append(num/den)\n",
    "\n",
    "        if test_inter_count[tu] != 1:\n",
    "            ndcg.append(ndcg_score(top.rate.values.reshape(1, -1), top.rate_pred.values.reshape(1, -1)))\n",
    "        else:\n",
    "            ndcg.append(ndcg_score(np.append(top.rate.values, 0).reshape(1, -1), np.append(top.rate_pred.values, 0).reshape(1, -1)))\n",
    "\n",
    "    return rmse, np.array(recall).mean(), np.array(ndcg).mean()"
   ]
  },
  {
   "cell_type": "code",
   "execution_count": 40,
   "id": "2e6e1c83",
   "metadata": {},
   "outputs": [
    {
     "name": "stdout",
     "output_type": "stream",
     "text": [
      "=================================================================\n",
      "num: 0\n"
     ]
    },
    {
     "name": "stderr",
     "output_type": "stream",
     "text": [
      "100%|██████████████████████████████████████████████████████████████████████████| 20000/20000 [00:10<00:00, 1851.64it/s]\n",
      "100%|███████████████████████████████████████████████████████████████████████████████| 943/943 [00:01<00:00, 774.11it/s]\n"
     ]
    },
    {
     "name": "stdout",
     "output_type": "stream",
     "text": [
      "=================================================================\n",
      "num: 1\n"
     ]
    },
    {
     "name": "stderr",
     "output_type": "stream",
     "text": [
      "100%|██████████████████████████████████████████████████████████████████████████| 20000/20000 [00:12<00:00, 1651.17it/s]\n",
      "100%|███████████████████████████████████████████████████████████████████████████████| 943/943 [00:01<00:00, 623.34it/s]\n"
     ]
    },
    {
     "name": "stdout",
     "output_type": "stream",
     "text": [
      "=================================================================\n",
      "num: 2\n"
     ]
    },
    {
     "name": "stderr",
     "output_type": "stream",
     "text": [
      "100%|██████████████████████████████████████████████████████████████████████████| 20000/20000 [00:11<00:00, 1748.31it/s]\n",
      "100%|███████████████████████████████████████████████████████████████████████████████| 943/943 [00:01<00:00, 664.21it/s]\n"
     ]
    },
    {
     "name": "stdout",
     "output_type": "stream",
     "text": [
      "=================================================================\n",
      "num: 3\n"
     ]
    },
    {
     "name": "stderr",
     "output_type": "stream",
     "text": [
      "100%|██████████████████████████████████████████████████████████████████████████| 20000/20000 [00:11<00:00, 1673.32it/s]\n",
      "100%|███████████████████████████████████████████████████████████████████████████████| 943/943 [00:01<00:00, 606.53it/s]\n"
     ]
    },
    {
     "name": "stdout",
     "output_type": "stream",
     "text": [
      "=================================================================\n",
      "num: 4\n"
     ]
    },
    {
     "name": "stderr",
     "output_type": "stream",
     "text": [
      "100%|██████████████████████████████████████████████████████████████████████████| 20000/20000 [00:12<00:00, 1637.90it/s]\n",
      "100%|███████████████████████████████████████████████████████████████████████████████| 943/943 [00:01<00:00, 636.21it/s]\n"
     ]
    }
   ],
   "source": [
    "mf_exp = []\n",
    "\n",
    "for i in range(5):\n",
    "    \n",
    "    print('=================================================================')\n",
    "    print('num:', i)\n",
    "    train_ind = np.load(os.path.join(train_path, 'train_ind'+ str(i) +'.npy'))\n",
    "    val_ind = np.load(os.path.join(val_path, 'val_ind'+ str(i) +'.npy'))\n",
    "    test_ind = np.load(os.path.join(test_path, 'test_ind'+ str(i) +'.npy'))\n",
    "\n",
    "    train_data, train_user = get_train(data, train_ind)    \n",
    "    test_data, test_user, test_inter_count = get_test_val(data, test_ind)\n",
    "    val_data, val_user, val_inter_count = get_test_val(data, val_ind)\n",
    "    \n",
    "    train_inter = Interactions(user_ids = train_data[train_data.columns[0]].values,\n",
    "                           item_ids=train_data[train_data.columns[1]].values,\n",
    "                           ratings=train_data[train_data.columns[2]].values,\n",
    "                              num_users=n_users,\n",
    "                              num_items=n_items)\n",
    "    \n",
    "    rmse, recall, ndcg = mf_explicit(30, 128, 5e-10, 0.001)\n",
    "    mf_exp.append([rmse, recall, ndcg])"
   ]
  },
  {
   "cell_type": "code",
   "execution_count": 41,
   "id": "3720b649",
   "metadata": {},
   "outputs": [
    {
     "name": "stdout",
     "output_type": "stream",
     "text": [
      "mf_exp [0.93437711 0.77219462 0.95708678]\n"
     ]
    }
   ],
   "source": [
    "print('mf_exp', np.array(mf_exp).mean(axis=0))"
   ]
  },
  {
   "cell_type": "code",
   "execution_count": null,
   "id": "3ce99651",
   "metadata": {},
   "outputs": [],
   "source": []
  },
  {
   "cell_type": "code",
   "execution_count": null,
   "id": "493bf1c9",
   "metadata": {},
   "outputs": [],
   "source": []
  },
  {
   "cell_type": "code",
   "execution_count": null,
   "id": "69fb0233",
   "metadata": {},
   "outputs": [],
   "source": []
  },
  {
   "cell_type": "code",
   "execution_count": null,
   "id": "e3546027",
   "metadata": {},
   "outputs": [],
   "source": []
  },
  {
   "cell_type": "code",
   "execution_count": 35,
   "id": "155e12a9",
   "metadata": {},
   "outputs": [],
   "source": [
    "i = 1\n",
    "\n",
    "train_ind = np.load(os.path.join(train_path, 'train_ind'+ str(i) +'.npy'))\n",
    "val_ind = np.load(os.path.join(val_path, 'val_ind'+ str(i) +'.npy'))\n",
    "test_ind = np.load(os.path.join(test_path, 'test_ind'+ str(i) +'.npy'))\n",
    "\n",
    "train_data, train_user = get_train(data, train_ind)    \n",
    "test_data, test_user, test_inter_count = get_test_val(data, test_ind)\n",
    "val_data, val_user, val_inter_count = get_test_val(data, val_ind)\n"
   ]
  },
  {
   "cell_type": "code",
   "execution_count": 36,
   "id": "42484f9c",
   "metadata": {},
   "outputs": [],
   "source": [
    "train_inter = Interactions(user_ids = train_data[train_data.columns[0]].values,\n",
    "                       item_ids=train_data[train_data.columns[1]].values,\n",
    "                       ratings=train_data[train_data.columns[2]].values,\n",
    "                          num_users=n_users,\n",
    "                          num_items=n_items)\n",
    "\n",
    "val_inter = Interactions(user_ids = val_data[train_data.columns[0]].values,\n",
    "                       item_ids=val_data[train_data.columns[1]].values,\n",
    "                       ratings=val_data[train_data.columns[2]].values)\n",
    "\n",
    "test_inter = Interactions(user_ids = test_data[train_data.columns[0]].values,\n",
    "                       item_ids=test_data[train_data.columns[1]].values,\n",
    "                       ratings=test_data[train_data.columns[2]].values)"
   ]
  },
  {
   "cell_type": "code",
   "execution_count": 14,
   "id": "db96a8ab",
   "metadata": {},
   "outputs": [],
   "source": [
    "from matplotlib import pyplot as plt"
   ]
  },
  {
   "cell_type": "code",
   "execution_count": 27,
   "id": "eca0eb18",
   "metadata": {},
   "outputs": [
    {
     "name": "stderr",
     "output_type": "stream",
     "text": [
      " 90%|█████████████████████████████████████████████████████████████████████████▌        | 35/39 [02:11<00:27,  6.84s/it]"
     ]
    },
    {
     "data": {
      "image/png": "[encoded data removed]",
      "text/plain": [
       "<Figure size 432x288 with 1 Axes>"
      ]
     },
     "metadata": {},
     "output_type": "display_data"
    },
    {
     "name": "stderr",
     "output_type": "stream",
     "text": [
      "\r",
      " 92%|███████████████████████████████████████████████████████████████████████████▋      | 36/39 [02:19<00:21,  7.07s/it]"
     ]
    },
    {
     "data": {
      "image/png": "[encoded data removed]",
      "text/plain": [
       "<Figure size 432x288 with 1 Axes>"
      ]
     },
     "metadata": {},
     "output_type": "display_data"
    },
    {
     "name": "stderr",
     "output_type": "stream",
     "text": [
      "\r",
      " 95%|█████████████████████████████████████████████████████████████████████████████▊    | 37/39 [02:27<00:14,  7.27s/it]"
     ]
    },
    {
     "data": {
      "image/png": "[encoded data removed]",
      "text/plain": [
       "<Figure size 432x288 with 1 Axes>"
      ]
     },
     "metadata": {},
     "output_type": "display_data"
    },
    {
     "name": "stderr",
     "output_type": "stream",
     "text": [
      "\r",
      " 97%|███████████████████████████████████████████████████████████████████████████████▉  | 38/39 [02:35<00:07,  7.48s/it]"
     ]
    },
    {
     "data": {
      "image/png": "[encoded data removed]",
      "text/plain": [
       "<Figure size 432x288 with 1 Axes>"
      ]
     },
     "metadata": {},
     "output_type": "display_data"
    },
    {
     "name": "stderr",
     "output_type": "stream",
     "text": [
      "100%|██████████████████████████████████████████████████████████████████████████████████| 39/39 [02:43<00:00,  4.19s/it]\n"
     ]
    }
   ],
   "source": [
    "rmse_test_re = []\n",
    "rmse_train_re = []\n",
    "for i in tqdm(range(1,40)):\n",
    "    values = np.arange(1, i+1)\n",
    "    model = ExplicitFactorizationModel(loss='regression',\n",
    "                                       embedding_dim = 32,  # latent dimensionality\n",
    "                                       n_iter=i,  # number of epochs of training\n",
    "                                       batch_size=1024,  # minibatch size\n",
    "                                       l2 = 1e-9,  # strength of L2 regularization\n",
    "                                       learning_rate = 1e-3,\n",
    "                                       use_cuda=torch.cuda.is_available())\n",
    "    model.fit(train_inter, verbose=False)\n",
    "    rmse_test_re.append(rmse_score(model, val_inter))\n",
    "    rmse_train_re.append(rmse_score(model, train_inter))\n",
    "    \n",
    "    if i > 35:\n",
    "        with plt.style.context('fivethirtyeight'):\n",
    "\n",
    "            plt.plot(values, rmse_train_re, label='train re', linestyle='--')\n",
    "            plt.plot(values, rmse_test_re, label='test re', ls='--')\n",
    "        plt.legend()\n",
    "        plt.show()\n",
    "        fig = plt.gcf() \n",
    "\n",
    "        plt.close(fig) "
   ]
  },
  {
   "cell_type": "code",
   "execution_count": 33,
   "id": "aac3ee98",
   "metadata": {},
   "outputs": [],
   "source": [
    "def objective(trial):\n",
    "\n",
    "    param = {\n",
    "            \"embedding_dim\" : trial.suggest_categorical(\"embedding_dim\", [256, 128, 64]),\n",
    "            \"l2\" : trial.suggest_categorical(\"l2\", [1e-11, 1e-9, 1e-10]),            \n",
    "            \"learning_rate\" : trial.suggest_categorical(\"learning_rate\", [1e-3, 1e-4, 1e-2]),\n",
    "        }\n",
    "    \n",
    "    model = ExplicitFactorizationModel(loss='regression',\n",
    "                                       embedding_dim = param['embedding_dim'],  # latent dimensionality\n",
    "                                       n_iter=30,  # number of epochs of training\n",
    "                                       batch_size=1024,  # minibatch size\n",
    "                                       l2 = param['l2'],  # strength of L2 regularization\n",
    "                                       learning_rate = param['learning_rate'],\n",
    "                                       use_cuda=torch.cuda.is_available())\n",
    "\n",
    "\n",
    "    model.fit(train_inter, verbose=False)\n",
    "\n",
    "\n",
    "    \n",
    "\n",
    "    return rmse_score(model, val_inter)"
   ]
  },
  {
   "cell_type": "code",
   "execution_count": null,
   "id": "c1872247",
   "metadata": {},
   "outputs": [],
   "source": [
    " 128, 'l2': 1e-10, 'learning_rate': 0.001"
   ]
  },
  {
   "cell_type": "code",
   "execution_count": 37,
   "id": "c5878c57",
   "metadata": {},
   "outputs": [
    {
     "name": "stderr",
     "output_type": "stream",
     "text": [
      "\u001b[32m[I 2021-06-10 23:03:40,065]\u001b[0m A new study created in memory with name: no-name-e48599d1-4f88-4d15-a8bc-27a7df4df9fd\u001b[0m\n",
      "\u001b[32m[I 2021-06-10 23:03:46,836]\u001b[0m Trial 0 finished with value: 1.0170509684470028 and parameters: {'embedding_dim': 256, 'l2': 1e-11, 'learning_rate': 0.01}. Best is trial 0 with value: 1.0170509684470028.\u001b[0m\n",
      "\u001b[32m[I 2021-06-10 23:03:53,054]\u001b[0m Trial 1 finished with value: 1.217364795013979 and parameters: {'embedding_dim': 64, 'l2': 1e-11, 'learning_rate': 0.01}. Best is trial 0 with value: 1.0170509684470028.\u001b[0m\n",
      "\u001b[32m[I 2021-06-10 23:03:59,485]\u001b[0m Trial 2 finished with value: 1.2259241027384469 and parameters: {'embedding_dim': 64, 'l2': 1e-10, 'learning_rate': 0.01}. Best is trial 0 with value: 1.0170509684470028.\u001b[0m\n",
      "\u001b[32m[I 2021-06-10 23:04:05,974]\u001b[0m Trial 3 finished with value: 1.861169704190108 and parameters: {'embedding_dim': 64, 'l2': 1e-09, 'learning_rate': 0.0001}. Best is trial 0 with value: 1.0170509684470028.\u001b[0m\n",
      "\u001b[32m[I 2021-06-10 23:04:12,210]\u001b[0m Trial 4 finished with value: 0.929075330179709 and parameters: {'embedding_dim': 64, 'l2': 1e-09, 'learning_rate': 0.001}. Best is trial 4 with value: 0.929075330179709.\u001b[0m\n",
      "\u001b[32m[I 2021-06-10 23:04:18,528]\u001b[0m Trial 5 finished with value: 1.8309856022436384 and parameters: {'embedding_dim': 64, 'l2': 1e-10, 'learning_rate': 0.0001}. Best is trial 4 with value: 0.929075330179709.\u001b[0m\n",
      "\u001b[32m[I 2021-06-10 23:04:24,773]\u001b[0m Trial 6 finished with value: 1.2251590567191537 and parameters: {'embedding_dim': 64, 'l2': 1e-11, 'learning_rate': 0.01}. Best is trial 4 with value: 0.929075330179709.\u001b[0m\n",
      "\u001b[32m[I 2021-06-10 23:04:31,195]\u001b[0m Trial 7 finished with value: 1.8229614963953231 and parameters: {'embedding_dim': 64, 'l2': 1e-09, 'learning_rate': 0.0001}. Best is trial 4 with value: 0.929075330179709.\u001b[0m\n",
      "\u001b[32m[I 2021-06-10 23:04:37,739]\u001b[0m Trial 8 finished with value: 0.9294579306057706 and parameters: {'embedding_dim': 256, 'l2': 1e-11, 'learning_rate': 0.001}. Best is trial 4 with value: 0.929075330179709.\u001b[0m\n",
      "\u001b[32m[I 2021-06-10 23:04:44,750]\u001b[0m Trial 9 finished with value: 0.9313205049710097 and parameters: {'embedding_dim': 64, 'l2': 1e-11, 'learning_rate': 0.001}. Best is trial 4 with value: 0.929075330179709.\u001b[0m\n",
      "\u001b[32m[I 2021-06-10 23:04:50,960]\u001b[0m Trial 10 finished with value: 0.9268889554967583 and parameters: {'embedding_dim': 128, 'l2': 1e-09, 'learning_rate': 0.001}. Best is trial 10 with value: 0.9268889554967583.\u001b[0m\n",
      "\u001b[32m[I 2021-06-10 23:04:57,769]\u001b[0m Trial 11 finished with value: 0.9338299160655382 and parameters: {'embedding_dim': 128, 'l2': 1e-09, 'learning_rate': 0.001}. Best is trial 10 with value: 0.9268889554967583.\u001b[0m\n",
      "\u001b[32m[I 2021-06-10 23:05:03,956]\u001b[0m Trial 12 finished with value: 0.9317453469509386 and parameters: {'embedding_dim': 128, 'l2': 1e-09, 'learning_rate': 0.001}. Best is trial 10 with value: 0.9268889554967583.\u001b[0m\n",
      "\u001b[32m[I 2021-06-10 23:05:10,853]\u001b[0m Trial 13 finished with value: 0.9283350080888482 and parameters: {'embedding_dim': 128, 'l2': 1e-09, 'learning_rate': 0.001}. Best is trial 10 with value: 0.9268889554967583.\u001b[0m\n",
      "\u001b[32m[I 2021-06-10 23:05:16,943]\u001b[0m Trial 14 finished with value: 0.9316614929408188 and parameters: {'embedding_dim': 128, 'l2': 1e-09, 'learning_rate': 0.001}. Best is trial 10 with value: 0.9268889554967583.\u001b[0m\n",
      "\u001b[32m[I 2021-06-10 23:05:23,184]\u001b[0m Trial 15 finished with value: 0.928895103551466 and parameters: {'embedding_dim': 128, 'l2': 1e-09, 'learning_rate': 0.001}. Best is trial 10 with value: 0.9268889554967583.\u001b[0m\n",
      "\u001b[32m[I 2021-06-10 23:05:29,574]\u001b[0m Trial 16 finished with value: 0.9254183307197309 and parameters: {'embedding_dim': 128, 'l2': 1e-09, 'learning_rate': 0.001}. Best is trial 16 with value: 0.9254183307197309.\u001b[0m\n",
      "\u001b[32m[I 2021-06-10 23:05:35,833]\u001b[0m Trial 17 finished with value: 0.9315010610427249 and parameters: {'embedding_dim': 128, 'l2': 1e-10, 'learning_rate': 0.001}. Best is trial 16 with value: 0.9254183307197309.\u001b[0m\n",
      "\u001b[32m[I 2021-06-10 23:05:42,216]\u001b[0m Trial 18 finished with value: 0.927444965338842 and parameters: {'embedding_dim': 128, 'l2': 1e-09, 'learning_rate': 0.001}. Best is trial 16 with value: 0.9254183307197309.\u001b[0m\n",
      "\u001b[32m[I 2021-06-10 23:05:48,781]\u001b[0m Trial 19 finished with value: 0.9287626187105604 and parameters: {'embedding_dim': 128, 'l2': 1e-09, 'learning_rate': 0.001}. Best is trial 16 with value: 0.9254183307197309.\u001b[0m\n",
      "\u001b[32m[I 2021-06-10 23:05:55,180]\u001b[0m Trial 20 finished with value: 1.0212407535203183 and parameters: {'embedding_dim': 256, 'l2': 1e-09, 'learning_rate': 0.0001}. Best is trial 16 with value: 0.9254183307197309.\u001b[0m\n",
      "\u001b[32m[I 2021-06-10 23:06:01,524]\u001b[0m Trial 21 finished with value: 0.9273609926402243 and parameters: {'embedding_dim': 128, 'l2': 1e-09, 'learning_rate': 0.001}. Best is trial 16 with value: 0.9254183307197309.\u001b[0m\n",
      "\u001b[32m[I 2021-06-10 23:06:07,750]\u001b[0m Trial 22 finished with value: 0.9246825279919079 and parameters: {'embedding_dim': 128, 'l2': 1e-09, 'learning_rate': 0.001}. Best is trial 22 with value: 0.9246825279919079.\u001b[0m\n",
      "\u001b[32m[I 2021-06-10 23:06:14,011]\u001b[0m Trial 23 finished with value: 0.9268480934211702 and parameters: {'embedding_dim': 128, 'l2': 1e-09, 'learning_rate': 0.001}. Best is trial 22 with value: 0.9246825279919079.\u001b[0m\n",
      "\u001b[32m[I 2021-06-10 23:06:20,289]\u001b[0m Trial 24 finished with value: 0.9287516663047979 and parameters: {'embedding_dim': 128, 'l2': 1e-09, 'learning_rate': 0.001}. Best is trial 22 with value: 0.9246825279919079.\u001b[0m\n",
      "\u001b[32m[I 2021-06-10 23:06:26,570]\u001b[0m Trial 25 finished with value: 0.9273423723832273 and parameters: {'embedding_dim': 128, 'l2': 1e-09, 'learning_rate': 0.001}. Best is trial 22 with value: 0.9246825279919079.\u001b[0m\n",
      "\u001b[32m[I 2021-06-10 23:06:32,876]\u001b[0m Trial 26 finished with value: 0.9306474953709799 and parameters: {'embedding_dim': 128, 'l2': 1e-10, 'learning_rate': 0.001}. Best is trial 22 with value: 0.9246825279919079.\u001b[0m\n",
      "\u001b[32m[I 2021-06-10 23:06:39,144]\u001b[0m Trial 27 finished with value: 0.9305481498666132 and parameters: {'embedding_dim': 128, 'l2': 1e-09, 'learning_rate': 0.001}. Best is trial 22 with value: 0.9246825279919079.\u001b[0m\n",
      "\u001b[32m[I 2021-06-10 23:06:45,452]\u001b[0m Trial 28 finished with value: 0.9306763840106459 and parameters: {'embedding_dim': 128, 'l2': 1e-09, 'learning_rate': 0.001}. Best is trial 22 with value: 0.9246825279919079.\u001b[0m\n",
      "\u001b[32m[I 2021-06-10 23:06:51,765]\u001b[0m Trial 29 finished with value: 1.0064451285650542 and parameters: {'embedding_dim': 256, 'l2': 1e-09, 'learning_rate': 0.01}. Best is trial 22 with value: 0.9246825279919079.\u001b[0m\n"
     ]
    }
   ],
   "source": [
    "# i =1\n",
    "study = optuna.create_study(direction=\"minimize\") # Create a new study.\n",
    "study.optimize(objective, n_trials=30)"
   ]
  },
  {
   "cell_type": "code",
   "execution_count": null,
   "id": "68664ad5",
   "metadata": {},
   "outputs": [],
   "source": []
  }
 ],
 "metadata": {
  "kernelspec": {
   "display_name": "Python 3",
   "language": "python",
   "name": "python3"
  },
  "language_info": {
   "codemirror_mode": {
    "name": "ipython",
    "version": 3
   },
   "file_extension": ".py",
   "mimetype": "text/x-python",
   "name": "python",
   "nbconvert_exporter": "python",
   "pygments_lexer": "ipython3",
   "version": "3.8.8"
  }
 },
 "nbformat": 4,
 "nbformat_minor": 5
}
