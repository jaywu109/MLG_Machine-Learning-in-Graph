{
 "cells": [
  {
   "cell_type": "code",
   "execution_count": 1,
   "id": "96b89066",
   "metadata": {},
   "outputs": [],
   "source": [
    "import pandas as pd\n",
    "import numpy as np\n",
    "\n",
    "from tqdm import tqdm\n",
    "\n",
    "import random\n",
    "import math\n",
    "from random import sample\n",
    "import os \n",
    "from sklearn.model_selection import KFold\n",
    "from sklearn.model_selection import StratifiedKFold\n",
    "from sklearn.model_selection import train_test_split\n",
    "from sklearn import preprocessing\n",
    "\n",
    "from scipy.sparse import coo_matrix, csr_matrix, lil_matrix, vstack, hstack\n",
    "from scipy import sparse\n",
    "\n",
    "random.seed(10)"
   ]
  },
  {
   "cell_type": "code",
   "execution_count": 2,
   "id": "0ce6f92b",
   "metadata": {},
   "outputs": [],
   "source": [
    "def read_txt(path):\n",
    "    data_list = []\n",
    "    with open(path) as f:\n",
    "        for line in tqdm(f):\n",
    "            line_data = []\n",
    "            for word in line.split():\n",
    "                line_data.append(float(word))\n",
    "            data_list.append(line_data)\n",
    "    return data_list"
   ]
  },
  {
   "cell_type": "code",
   "execution_count": 3,
   "id": "fea0ca37",
   "metadata": {},
   "outputs": [],
   "source": [
    "# import os\n",
    "\n",
    "\n",
    "# path = 'C:/Users/bbb50/Desktop/Python/hw3/Yelp/'\n",
    "# files = os.listdir(path)\n",
    "\n",
    "# for filename in files:\n",
    "#     portion = os.path.splitext(filename)\n",
    "#     # 如果后缀是.dat\n",
    "#     if portion[1] == \".dat\":  \n",
    "#         # 重新组合文件名和后缀名\n",
    "#         newname = portion[0] + \".txt\"   \n",
    "#         os.rename(os.path.join(path, filename),os.path.join(path, newname))\n"
   ]
  },
  {
   "cell_type": "code",
   "execution_count": 8,
   "id": "22dfb367",
   "metadata": {},
   "outputs": [
    {
     "name": "stderr",
     "output_type": "stream",
     "text": [
      "198397it [00:00, 722206.02it/s]\n"
     ]
    }
   ],
   "source": [
    "user_business = read_txt('C:/Users/bbb50/Desktop/Python/hw3/Yelp/user_business.txt')\n",
    "user_business = pd.DataFrame(np.array(user_business).astype(int))\n",
    "user_business.columns = ['user', 'business', 'rate']\n",
    "# user_business = user_business.groupby(\"user\").filter(lambda x: len(x) >= 3)\n",
    "user_business.index = user_business.reset_index().index\n",
    "\n",
    "user_label = preprocessing.LabelEncoder()\n",
    "business_label = preprocessing.LabelEncoder()\n",
    "\n",
    "user_business.user = user_label.fit_transform(user_business.user.values)\n",
    "user_business.business = business_label.fit_transform(user_business.business.values)\n",
    "\n",
    "user_list = user_business.user.value_counts().index.to_numpy()\n",
    "user_list = np.sort(user_list)\n",
    "\n",
    "business_list = user_business.business.value_counts().index.to_numpy()\n",
    "business_list = np.sort(business_list)"
   ]
  },
  {
   "cell_type": "code",
   "execution_count": 5,
   "id": "70c17829",
   "metadata": {},
   "outputs": [
    {
     "name": "stderr",
     "output_type": "stream",
     "text": [
      "76875it [00:00, 571112.74it/s]\n"
     ]
    }
   ],
   "source": [
    "user_compliment = read_txt('C:/Users/bbb50/Desktop/Python/hw3/Yelp/user_compliment.txt')\n",
    "user_compliment = pd.DataFrame(np.array(user_compliment)[:,:-1].astype(int))\n",
    "user_compliment.columns = ['user', 'compliment']\n",
    "user_compliment = user_compliment[user_compliment.user.isin(user_label.classes_)]\n",
    "\n",
    "compliment_label = preprocessing.LabelEncoder()\n",
    "user_compliment.compliment  = compliment_label.fit_transform(user_compliment.compliment.values)\n",
    "user_compliment.user  = user_label.transform(user_compliment.user.values)\n",
    "\n",
    "compliment_list = user_compliment.compliment.value_counts().index.to_numpy()\n",
    "compliment_list = np.sort(compliment_list)"
   ]
  },
  {
   "cell_type": "code",
   "execution_count": 6,
   "id": "c320d6a2",
   "metadata": {},
   "outputs": [
    {
     "name": "stderr",
     "output_type": "stream",
     "text": [
      "158590it [00:00, 655341.28it/s]\n"
     ]
    }
   ],
   "source": [
    "user_user = read_txt('C:/Users/bbb50/Desktop/Python/hw3/Yelp/user_user.txt')\n",
    "user_user = pd.DataFrame(np.array(user_user)[:,:-1].astype(int))\n",
    "user_user.columns = ['user1', 'user2']\n",
    "user_user = user_user[user_user.user1.isin(user_label.classes_) & user_user.user2.isin(user_label.classes_)]\n",
    "\n",
    "user_user.user1 = user_label.transform(user_user.user1.values)\n",
    "user_user.user2 = user_label.transform(user_user.user2.values)"
   ]
  },
  {
   "cell_type": "code",
   "execution_count": 7,
   "id": "3aad5d50",
   "metadata": {},
   "outputs": [
    {
     "name": "stderr",
     "output_type": "stream",
     "text": [
      "14267it [00:00, 837768.59it/s]\n"
     ]
    }
   ],
   "source": [
    "business_city = read_txt('C:/Users/bbb50/Desktop/Python/hw3/Yelp/business_city.txt')\n",
    "business_city = pd.DataFrame(np.array(business_city)[:,:-1].astype(int))\n",
    "business_city.columns = ['business', 'city']\n",
    "business_city = business_city[business_city.business.isin(business_label.classes_)]\n",
    "\n",
    "city_label = preprocessing.LabelEncoder()\n",
    "business_city.city  = city_label.fit_transform(business_city.city.values)\n",
    "business_city.business  = business_label.transform(business_city.business.values)\n",
    "\n",
    "city_list = business_city.city.value_counts().index.to_numpy()\n",
    "city_list = np.sort(city_list)\n"
   ]
  },
  {
   "cell_type": "code",
   "execution_count": 8,
   "id": "acd730c4",
   "metadata": {},
   "outputs": [
    {
     "name": "stderr",
     "output_type": "stream",
     "text": [
      "40009it [00:00, 869022.12it/s]\n"
     ]
    }
   ],
   "source": [
    "business_category = read_txt('C:/Users/bbb50/Desktop/Python/hw3/Yelp/business_category.txt')\n",
    "business_category = pd.DataFrame(np.array(business_city).astype(int))\n",
    "business_category.columns = ['business', 'category']\n",
    "business_category = business_category[business_category.business.isin(business_label.classes_)]\n",
    "\n",
    "category_label = preprocessing.LabelEncoder()\n",
    "business_category.category  = category_label.fit_transform(business_category.category.values)\n",
    "business_category.business  = business_label.transform(business_category.business.values)\n",
    "\n",
    "category_list = business_category.category.value_counts().index.to_numpy()\n",
    "category_list = np.sort(category_list)\n"
   ]
  },
  {
   "cell_type": "code",
   "execution_count": 9,
   "id": "37ae5e92",
   "metadata": {},
   "outputs": [],
   "source": [
    "user_business.reset_index().to_feather('C:/Users/bbb50/Desktop/Python/hw3/Yelp/user_business.ftr')\n",
    "user_compliment.reset_index().to_feather('C:/Users/bbb50/Desktop/Python/hw3/Yelp/user_compliment.ftr')\n",
    "user_user.reset_index().to_feather('C:/Users/bbb50/Desktop/Python/hw3/Yelp/user_user.ftr')\n",
    "business_city.reset_index().to_feather('C:/Users/bbb50/Desktop/Python/hw3/Yelp/business_city.ftr')\n",
    "business_category.reset_index().to_feather('C:/Users/bbb50/Desktop/Python/hw3/Yelp/business_category.ftr')\n",
    "\n"
   ]
  },
  {
   "cell_type": "code",
   "execution_count": 10,
   "id": "d1eaa297",
   "metadata": {},
   "outputs": [],
   "source": [
    "n_users = user_list.shape[0]\n",
    "n_businesss = business_list.shape[0]\n",
    "n_citys = city_list.shape[0]\n",
    "n_categorys = category_list.shape[0]\n",
    "n_compliments = compliment_list.shape[0]"
   ]
  },
  {
   "cell_type": "code",
   "execution_count": 11,
   "id": "19cb8eb5",
   "metadata": {},
   "outputs": [
    {
     "name": "stderr",
     "output_type": "stream",
     "text": [
      "100%|██████████████████████████████████████████████████████████████████████████| 14174/14174 [00:03<00:00, 3776.49it/s]\n",
      "100%|█████████████████████████████████████████████████████████████████████| 188456/188456 [00:00<00:00, 1862523.07it/s]\n"
     ]
    }
   ],
   "source": [
    "b_ci_dict = {}\n",
    "for b in tqdm(business_list):\n",
    "    if b in business_city.business.values:\n",
    "        b_ci = business_city[business_city.business == b].city.values[0]\n",
    "        b_ci_dict[b] = b_ci\n",
    "    else:\n",
    "        b_ci_dict[b] = n_citys\n",
    "        \n",
    "city = []\n",
    "\n",
    "for b in tqdm(user_business.business):\n",
    "    city.append(b_ci_dict[b])"
   ]
  },
  {
   "cell_type": "code",
   "execution_count": 12,
   "id": "deefd775",
   "metadata": {},
   "outputs": [
    {
     "name": "stderr",
     "output_type": "stream",
     "text": [
      "100%|██████████████████████████████████████████████████████████████████████████| 14174/14174 [00:03<00:00, 3881.64it/s]\n",
      "100%|█████████████████████████████████████████████████████████████████████| 188456/188456 [00:00<00:00, 1384270.09it/s]\n"
     ]
    }
   ],
   "source": [
    "b_ca_dict = {}\n",
    "for b in tqdm(business_list):\n",
    "    if b in business_category.business.values:\n",
    "        b_ca = business_category[business_category.business == b].category.values[0]\n",
    "        b_ca_dict[b] = b_ca\n",
    "    else:\n",
    "        b_ca_dict[b] = n_categorys\n",
    "        \n",
    "category = []\n",
    "\n",
    "for b in tqdm(user_business.business):\n",
    "    category.append(b_ca_dict[b])"
   ]
  },
  {
   "cell_type": "code",
   "execution_count": 13,
   "id": "45f03d63",
   "metadata": {},
   "outputs": [
    {
     "name": "stderr",
     "output_type": "stream",
     "text": [
      "100%|████████████████████████████████████████████████████████████████████████████| 8533/8533 [00:02<00:00, 3094.81it/s]\n",
      "100%|█████████████████████████████████████████████████████████████████████| 188456/188456 [00:00<00:00, 1532196.44it/s]\n"
     ]
    }
   ],
   "source": [
    "u_u_dict = {}\n",
    "for u in tqdm(user_list):\n",
    "    if u in user_user.user1.values:\n",
    "        u_u = user_user[user_user.user1 == u].user2.values\n",
    "        u_u_dict[u] = np.sort(u_u)\n",
    "    else:\n",
    "        u_u_dict[u] = [n_users]\n",
    "user = []\n",
    "\n",
    "for u in tqdm(user_business.user):\n",
    "    user.append(u_u_dict[u])"
   ]
  },
  {
   "cell_type": "code",
   "execution_count": 14,
   "id": "5e0095f6",
   "metadata": {},
   "outputs": [
    {
     "name": "stderr",
     "output_type": "stream",
     "text": [
      "100%|████████████████████████████████████████████████████████████████████████████| 8533/8533 [00:02<00:00, 3262.81it/s]\n",
      "100%|█████████████████████████████████████████████████████████████████████| 188456/188456 [00:00<00:00, 1811286.38it/s]\n"
     ]
    }
   ],
   "source": [
    "u_c_dict = {}\n",
    "for u in tqdm(user_list):\n",
    "    if u in user_compliment.user.values:\n",
    "        u_c = user_compliment[user_compliment.user == u].compliment.values\n",
    "        u_c_dict[u] = np.sort(u_c)\n",
    "    else:\n",
    "        u_c_dict[u] = [n_compliments]\n",
    "        \n",
    "compliment = []\n",
    "\n",
    "for u in tqdm(user_business.user):\n",
    "    compliment.append(u_c_dict[u])"
   ]
  },
  {
   "cell_type": "code",
   "execution_count": null,
   "id": "b20f2503",
   "metadata": {},
   "outputs": [],
   "source": []
  },
  {
   "cell_type": "code",
   "execution_count": 15,
   "id": "8d715bbe",
   "metadata": {},
   "outputs": [],
   "source": [
    "user_business['city'] = city\n",
    "user_business['category'] = category\n",
    "user_business['user_inter'] = user\n",
    "user_business['compliment'] = compliment"
   ]
  },
  {
   "cell_type": "code",
   "execution_count": 16,
   "id": "6f1698ee",
   "metadata": {},
   "outputs": [],
   "source": [
    "user_business.reset_index().to_feather('C:/Users/bbb50/Desktop/Python/hw3/Yelp/user_business_fea.ftr')"
   ]
  },
  {
   "cell_type": "code",
   "execution_count": 17,
   "id": "416be862",
   "metadata": {},
   "outputs": [
    {
     "data": {
      "text/html": [
       "<div>\n",
       "<style scoped>\n",
       "    .dataframe tbody tr th:only-of-type {\n",
       "        vertical-align: middle;\n",
       "    }\n",
       "\n",
       "    .dataframe tbody tr th {\n",
       "        vertical-align: top;\n",
       "    }\n",
       "\n",
       "    .dataframe thead th {\n",
       "        text-align: right;\n",
       "    }\n",
       "</style>\n",
       "<table border=\"1\" class=\"dataframe\">\n",
       "  <thead>\n",
       "    <tr style=\"text-align: right;\">\n",
       "      <th></th>\n",
       "      <th>user</th>\n",
       "      <th>business</th>\n",
       "      <th>rate</th>\n",
       "      <th>city</th>\n",
       "      <th>category</th>\n",
       "      <th>user_inter</th>\n",
       "      <th>compliment</th>\n",
       "    </tr>\n",
       "  </thead>\n",
       "  <tbody>\n",
       "    <tr>\n",
       "      <th>0</th>\n",
       "      <td>0</td>\n",
       "      <td>182</td>\n",
       "      <td>5</td>\n",
       "      <td>30</td>\n",
       "      <td>30</td>\n",
       "      <td>[26, 99, 166, 182, 216, 227, 258, 263, 363, 46...</td>\n",
       "      <td>[0, 1, 2, 3, 4, 5, 6, 7, 8, 10]</td>\n",
       "    </tr>\n",
       "    <tr>\n",
       "      <th>1</th>\n",
       "      <td>0</td>\n",
       "      <td>200</td>\n",
       "      <td>5</td>\n",
       "      <td>30</td>\n",
       "      <td>30</td>\n",
       "      <td>[26, 99, 166, 182, 216, 227, 258, 263, 363, 46...</td>\n",
       "      <td>[0, 1, 2, 3, 4, 5, 6, 7, 8, 10]</td>\n",
       "    </tr>\n",
       "    <tr>\n",
       "      <th>2</th>\n",
       "      <td>0</td>\n",
       "      <td>204</td>\n",
       "      <td>4</td>\n",
       "      <td>30</td>\n",
       "      <td>17</td>\n",
       "      <td>[26, 99, 166, 182, 216, 227, 258, 263, 363, 46...</td>\n",
       "      <td>[0, 1, 2, 3, 4, 5, 6, 7, 8, 10]</td>\n",
       "    </tr>\n",
       "    <tr>\n",
       "      <th>3</th>\n",
       "      <td>0</td>\n",
       "      <td>453</td>\n",
       "      <td>3</td>\n",
       "      <td>30</td>\n",
       "      <td>34</td>\n",
       "      <td>[26, 99, 166, 182, 216, 227, 258, 263, 363, 46...</td>\n",
       "      <td>[0, 1, 2, 3, 4, 5, 6, 7, 8, 10]</td>\n",
       "    </tr>\n",
       "    <tr>\n",
       "      <th>4</th>\n",
       "      <td>0</td>\n",
       "      <td>491</td>\n",
       "      <td>2</td>\n",
       "      <td>30</td>\n",
       "      <td>40</td>\n",
       "      <td>[26, 99, 166, 182, 216, 227, 258, 263, 363, 46...</td>\n",
       "      <td>[0, 1, 2, 3, 4, 5, 6, 7, 8, 10]</td>\n",
       "    </tr>\n",
       "    <tr>\n",
       "      <th>...</th>\n",
       "      <td>...</td>\n",
       "      <td>...</td>\n",
       "      <td>...</td>\n",
       "      <td>...</td>\n",
       "      <td>...</td>\n",
       "      <td>...</td>\n",
       "      <td>...</td>\n",
       "    </tr>\n",
       "    <tr>\n",
       "      <th>188451</th>\n",
       "      <td>8531</td>\n",
       "      <td>13150</td>\n",
       "      <td>5</td>\n",
       "      <td>25</td>\n",
       "      <td>39</td>\n",
       "      <td>[1906, 6381]</td>\n",
       "      <td>[6, 8, 10]</td>\n",
       "    </tr>\n",
       "    <tr>\n",
       "      <th>188452</th>\n",
       "      <td>8532</td>\n",
       "      <td>2554</td>\n",
       "      <td>4</td>\n",
       "      <td>34</td>\n",
       "      <td>34</td>\n",
       "      <td>[8533]</td>\n",
       "      <td>[11]</td>\n",
       "    </tr>\n",
       "    <tr>\n",
       "      <th>188453</th>\n",
       "      <td>8532</td>\n",
       "      <td>10435</td>\n",
       "      <td>1</td>\n",
       "      <td>34</td>\n",
       "      <td>28</td>\n",
       "      <td>[8533]</td>\n",
       "      <td>[11]</td>\n",
       "    </tr>\n",
       "    <tr>\n",
       "      <th>188454</th>\n",
       "      <td>8532</td>\n",
       "      <td>12614</td>\n",
       "      <td>4</td>\n",
       "      <td>34</td>\n",
       "      <td>30</td>\n",
       "      <td>[8533]</td>\n",
       "      <td>[11]</td>\n",
       "    </tr>\n",
       "    <tr>\n",
       "      <th>188455</th>\n",
       "      <td>8532</td>\n",
       "      <td>13396</td>\n",
       "      <td>1</td>\n",
       "      <td>34</td>\n",
       "      <td>28</td>\n",
       "      <td>[8533]</td>\n",
       "      <td>[11]</td>\n",
       "    </tr>\n",
       "  </tbody>\n",
       "</table>\n",
       "<p>188456 rows × 7 columns</p>\n",
       "</div>"
      ],
      "text/plain": [
       "        user  business  rate  city  category  \\\n",
       "0          0       182     5    30        30   \n",
       "1          0       200     5    30        30   \n",
       "2          0       204     4    30        17   \n",
       "3          0       453     3    30        34   \n",
       "4          0       491     2    30        40   \n",
       "...      ...       ...   ...   ...       ...   \n",
       "188451  8531     13150     5    25        39   \n",
       "188452  8532      2554     4    34        34   \n",
       "188453  8532     10435     1    34        28   \n",
       "188454  8532     12614     4    34        30   \n",
       "188455  8532     13396     1    34        28   \n",
       "\n",
       "                                               user_inter  \\\n",
       "0       [26, 99, 166, 182, 216, 227, 258, 263, 363, 46...   \n",
       "1       [26, 99, 166, 182, 216, 227, 258, 263, 363, 46...   \n",
       "2       [26, 99, 166, 182, 216, 227, 258, 263, 363, 46...   \n",
       "3       [26, 99, 166, 182, 216, 227, 258, 263, 363, 46...   \n",
       "4       [26, 99, 166, 182, 216, 227, 258, 263, 363, 46...   \n",
       "...                                                   ...   \n",
       "188451                                       [1906, 6381]   \n",
       "188452                                             [8533]   \n",
       "188453                                             [8533]   \n",
       "188454                                             [8533]   \n",
       "188455                                             [8533]   \n",
       "\n",
       "                             compliment  \n",
       "0       [0, 1, 2, 3, 4, 5, 6, 7, 8, 10]  \n",
       "1       [0, 1, 2, 3, 4, 5, 6, 7, 8, 10]  \n",
       "2       [0, 1, 2, 3, 4, 5, 6, 7, 8, 10]  \n",
       "3       [0, 1, 2, 3, 4, 5, 6, 7, 8, 10]  \n",
       "4       [0, 1, 2, 3, 4, 5, 6, 7, 8, 10]  \n",
       "...                                 ...  \n",
       "188451                       [6, 8, 10]  \n",
       "188452                             [11]  \n",
       "188453                             [11]  \n",
       "188454                             [11]  \n",
       "188455                             [11]  \n",
       "\n",
       "[188456 rows x 7 columns]"
      ]
     },
     "execution_count": 17,
     "metadata": {},
     "output_type": "execute_result"
    }
   ],
   "source": [
    "user_business"
   ]
  },
  {
   "cell_type": "code",
   "execution_count": 18,
   "id": "1d99ae92",
   "metadata": {},
   "outputs": [
    {
     "name": "stderr",
     "output_type": "stream",
     "text": [
      "100%|███████████████████████████████████████████████████████████████████████| 188456/188456 [00:10<00:00, 17601.88it/s]\n"
     ]
    }
   ],
   "source": [
    "compliment_mat = lil_matrix((user_business.shape[0], (n_compliments+1)), dtype=int)\n",
    "for ind in tqdm(user_business.index.to_numpy()):\n",
    "    compliment_mat[ind, user_business.compliment[ind]] = 1\n",
    "    \n",
    "compliment_mat = compliment_mat.tocsr()"
   ]
  },
  {
   "cell_type": "code",
   "execution_count": 19,
   "id": "6b78b4c4",
   "metadata": {},
   "outputs": [
    {
     "name": "stderr",
     "output_type": "stream",
     "text": [
      "100%|███████████████████████████████████████████████████████████████████████| 188456/188456 [00:11<00:00, 16028.80it/s]\n"
     ]
    }
   ],
   "source": [
    "ui_mat = lil_matrix((user_business.shape[0], (n_users+1)), dtype=int)\n",
    "for ind in tqdm(user_business.index.to_numpy()):\n",
    "    ui_mat[ind, user_business.user_inter[ind]] = 1\n",
    "    \n",
    "ui_mat = ui_mat.tocsr()"
   ]
  },
  {
   "cell_type": "code",
   "execution_count": 20,
   "id": "d8aa4bb2",
   "metadata": {},
   "outputs": [],
   "source": [
    "row  = user_business.user.index.to_numpy()\n",
    "data = np.ones(user_business.shape[0]).astype(int)\n",
    "\n",
    "col  = user_business.user.values\n",
    "user_mat = csr_matrix((data, (row, col)), shape=(user_business.shape[0], n_users))\n",
    "\n",
    "col  = user_business.business.values\n",
    "business_mat = csr_matrix((data, (row, col)), shape=(user_business.shape[0], n_businesss))\n",
    "\n",
    "col  = user_business.city.values\n",
    "city_mat = csr_matrix((data, (row, col)), shape=(user_business.shape[0], (n_citys+1)))\n",
    "\n",
    "col  = user_business.category.values\n",
    "category_mat = csr_matrix((data, (row, col)), shape=(user_business.shape[0], (n_categorys+1)))\n",
    "\n"
   ]
  },
  {
   "cell_type": "code",
   "execution_count": null,
   "id": "ddeb306f",
   "metadata": {},
   "outputs": [],
   "source": []
  },
  {
   "cell_type": "code",
   "execution_count": 21,
   "id": "4ce6a961",
   "metadata": {},
   "outputs": [],
   "source": [
    "ub_fea_mat = hstack([user_mat, business_mat, city_mat, category_mat, ui_mat, compliment_mat])\n",
    "ub_fea_mat = ub_fea_mat.tocsr()\n",
    "sparse.save_npz('C:/Users/bbb50/Desktop/Python/hw3/Yelp/ub_fea_mat.npz', ub_fea_mat, True) "
   ]
  },
  {
   "cell_type": "code",
   "execution_count": 22,
   "id": "ce4f43c7",
   "metadata": {},
   "outputs": [
    {
     "data": {
      "text/plain": [
       "<188456x31349 sparse matrix of type '<class 'numpy.intc'>'\n",
       "\twith 11640907 stored elements in Compressed Sparse Row format>"
      ]
     },
     "execution_count": 22,
     "metadata": {},
     "output_type": "execute_result"
    }
   ],
   "source": [
    "ub_fea_mat"
   ]
  },
  {
   "cell_type": "code",
   "execution_count": 23,
   "id": "513d01bf",
   "metadata": {},
   "outputs": [
    {
     "name": "stderr",
     "output_type": "stream",
     "text": [
      "C:\\Users\\bbb50\\anaconda3\\envs\\graph\\lib\\site-packages\\sklearn\\model_selection\\_split.py:666: UserWarning: The least populated class in y has only 3 members, which is less than n_splits=5.\n",
      "  warnings.warn((\"The least populated class in y has only %d\"\n"
     ]
    }
   ],
   "source": [
    "root = 'C:/Users/bbb50/Desktop/Python/hw3/Yelp'\n",
    "\n",
    "train_val_list, test_list = [], []\n",
    "test_ind_list = []\n",
    "\n",
    "skf = StratifiedKFold(n_splits=5)\n",
    "ub_i = user_business.index.to_numpy()\n",
    "\n",
    "for train_index, test_index in skf.split(ub_i, user_business.user.to_numpy()):\n",
    "    train, test =ub_i[train_index], ub_i[test_index]\n",
    "    test_ind_list.append(test_index)\n",
    "    train_val_list.append(user_business.loc[train])\n",
    "    test_list.append(user_business.loc[test])\n",
    "    \n",
    "train_list, val_list = [], []\n",
    "train_ind_list, val_ind_list = [], []\n",
    "\n",
    "for df in train_val_list:\n",
    "    train_ind, val_ind, _ , _ = train_test_split(df.index.to_numpy(), df.user.to_numpy(), stratify = df.user.to_numpy(), test_size = 1/8)\n",
    "    \n",
    "    val_list.append(df.loc[val_ind])\n",
    "    train_list.append(df.loc[train_ind])    \n",
    "\n",
    "    val_ind_list.append(val_ind)\n",
    "    train_ind_list.append(train_ind)    \n",
    "    "
   ]
  },
  {
   "cell_type": "code",
   "execution_count": 24,
   "id": "db3ce4eb",
   "metadata": {},
   "outputs": [],
   "source": [
    "sub_dir =  os.path.join(root, 'train')\n",
    "if not(os.path.isdir(sub_dir)):\n",
    "    os.makedirs(sub_dir)\n",
    "for i, ind in enumerate(train_ind_list):\n",
    "    \n",
    "    path = os.path.join(sub_dir, 'train_ind'+str(i)+'.npy')\n",
    "    np.save(path, ind)\n",
    "\n",
    "sub_dir =  os.path.join(root, 'test')\n",
    "if not(os.path.isdir(sub_dir)):\n",
    "    os.makedirs(sub_dir)\n",
    "for i, ind in enumerate(test_ind_list):\n",
    "    \n",
    "    path = os.path.join(sub_dir, 'test_ind'+str(i)+'.npy')\n",
    "    np.save(path, ind)\n",
    "    \n",
    "sub_dir =  os.path.join(root, 'val')\n",
    "if not(os.path.isdir(sub_dir)):\n",
    "    os.makedirs(sub_dir)\n",
    "for i, ind in enumerate(val_ind_list):\n",
    "    \n",
    "    path = os.path.join(sub_dir, 'val_ind'+str(i)+'.npy')\n",
    "    np.save(path, ind)"
   ]
  },
  {
   "cell_type": "code",
   "execution_count": null,
   "id": "886b4cff",
   "metadata": {},
   "outputs": [],
   "source": []
  }
 ],
 "metadata": {
  "kernelspec": {
   "display_name": "Python 3",
   "language": "python",
   "name": "python3"
  },
  "language_info": {
   "codemirror_mode": {
    "name": "ipython",
    "version": 3
   },
   "file_extension": ".py",
   "mimetype": "text/x-python",
   "name": "python",
   "nbconvert_exporter": "python",
   "pygments_lexer": "ipython3",
   "version": "3.8.8"
  }
 },
 "nbformat": 4,
 "nbformat_minor": 5
}
