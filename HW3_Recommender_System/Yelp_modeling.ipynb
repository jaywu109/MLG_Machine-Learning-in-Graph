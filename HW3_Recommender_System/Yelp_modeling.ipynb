{
 "cells": [
  {
   "cell_type": "code",
   "execution_count": 1,
   "id": "001783ac",
   "metadata": {},
   "outputs": [],
   "source": [
    "import pandas as pd\n",
    "import numpy as np\n",
    "\n",
    "from tqdm import tqdm\n",
    "import torch\n",
    "from torch import nn"
   ]
  },
  {
   "cell_type": "code",
   "execution_count": 2,
   "id": "962f9fc0",
   "metadata": {},
   "outputs": [],
   "source": [
    "import os"
   ]
  },
  {
   "cell_type": "code",
   "execution_count": 3,
   "id": "2afa875e",
   "metadata": {},
   "outputs": [],
   "source": [
    "from surprise import SVD\n",
    "from surprise import Dataset\n",
    "from surprise import Reader\n",
    "from surprise.model_selection import cross_validate\n",
    "from surprise import KNNWithMeans\n"
   ]
  },
  {
   "cell_type": "code",
   "execution_count": 4,
   "id": "207af178",
   "metadata": {},
   "outputs": [],
   "source": [
    "from sklearn.metrics import mean_squared_error\n",
    "from sklearn.metrics import ndcg_score"
   ]
  },
  {
   "cell_type": "code",
   "execution_count": 5,
   "id": "b9b238c7",
   "metadata": {},
   "outputs": [],
   "source": [
    "import torch\n",
    "\n",
    "from spotlight.factorization.explicit import ExplicitFactorizationModel\n",
    "from spotlight.interactions import Interactions\n",
    "from spotlight.evaluation import rmse_score\n"
   ]
  },
  {
   "cell_type": "code",
   "execution_count": 6,
   "id": "ffd44fe8",
   "metadata": {},
   "outputs": [],
   "source": [
    "import optuna \n",
    "from scipy.sparse import coo_matrix, csr_matrix, lil_matrix, vstack, hstack\n",
    "from scipy import sparse\n"
   ]
  },
  {
   "cell_type": "code",
   "execution_count": 7,
   "id": "ac2918b3",
   "metadata": {},
   "outputs": [],
   "source": [
    "def get_train(data, train_ind):\n",
    "    \n",
    "    train_data = data.loc[train_ind][data.columns[:3]]\n",
    "    train_data = train_data.rename(columns={train_data.columns[1]: \"item\"})\n",
    "    train_user = train_data.user.value_counts().index.to_numpy()\n",
    "    train_user = np.sort(train_user)\n",
    "    \n",
    "    return train_data, train_user\n",
    "\n",
    "def get_test_val(data, test_ind):\n",
    "\n",
    "    test_data = data.loc[test_ind][data.columns[:3]]\n",
    "    test_data = test_data.rename(columns={test_data.columns[1]: \"item\"})\n",
    "    test_user = test_data.user.value_counts().index.to_numpy()\n",
    "    test_user = np.sort(test_user)\n",
    "\n",
    "    #count interation in test set\n",
    "    test_inter_count ={} \n",
    "    interaction = test_data.user.value_counts()\n",
    "\n",
    "    for i, count in enumerate(interaction):\n",
    "        if count >= 10:\n",
    "            test_inter_count[interaction.index[i]] = 10\n",
    "        else:\n",
    "            test_inter_count[interaction.index[i]] = count\n",
    "            \n",
    "    return test_data, test_user, test_inter_count"
   ]
  },
  {
   "cell_type": "markdown",
   "id": "387b52bc",
   "metadata": {},
   "source": [
    "### Reading Data"
   ]
  },
  {
   "cell_type": "code",
   "execution_count": 8,
   "id": "d3073e58",
   "metadata": {},
   "outputs": [],
   "source": [
    "root = 'C:/Users/bbb50/Desktop/Python/hw3/Yelp'"
   ]
  },
  {
   "cell_type": "code",
   "execution_count": 9,
   "id": "873f0636",
   "metadata": {},
   "outputs": [],
   "source": [
    "user_business = pd.read_feather(os.path.join(root, 'user_business_fea.ftr'), use_threads=True)\n",
    "user_business = user_business[user_business.columns[1:4]]\n",
    "user_list = user_business.user.value_counts().index.to_numpy()\n",
    "user_list = np.sort(user_list)\n",
    "\n",
    "business_list = user_business.business.value_counts().index.to_numpy()\n",
    "business_list = np.sort(business_list).astype(str)\n",
    "\n",
    "n_users = user_list.shape[0]\n",
    "n_items = business_list.shape[0]\n",
    "\n",
    "data = user_business"
   ]
  },
  {
   "cell_type": "code",
   "execution_count": 10,
   "id": "6038cb60",
   "metadata": {},
   "outputs": [],
   "source": [
    "train_path = os.path.join(root, 'train')\n",
    "val_path = os.path.join(root, 'val')\n",
    "test_path = os.path.join(root, 'test')"
   ]
  },
  {
   "cell_type": "code",
   "execution_count": 11,
   "id": "8a57f70f",
   "metadata": {},
   "outputs": [],
   "source": [
    "def cf(name , user_based ):\n",
    "    sim_options = {'name': name, 'user_based': user_based}\n",
    "    model = KNNWithMeans(sim_options=sim_options)\n",
    "    model.fit(train_)\n",
    "    \n",
    "    rate = []\n",
    "    for ind in tqdm(range(test_data.shape[0])):\n",
    "\n",
    "        uid = test_data.iloc[ind].user\n",
    "        iid = test_data.iloc[ind]['item']\n",
    "        est = model.predict(uid, iid, verbose=False).est\n",
    "        rate.append(est)\n",
    "\n",
    "    test_data['rate_pred'] = rate\n",
    "    \n",
    "    rmse = mean_squared_error(test_data.rate, test_data.rate_pred, squared=False)\n",
    "    recall = []\n",
    "    ndcg = []\n",
    "\n",
    "    for tu in tqdm(test_user):\n",
    "\n",
    "        top = test_data[test_data.user == tu].sort_values(by=['rate_pred'], ascending=False)[:test_inter_count[tu]]\n",
    "        den = top[top.rate > 3.5].shape[0]\n",
    "        num = top[(top.rate > 3.5) & (top.rate_pred > 3.5)].shape[0]\n",
    "\n",
    "        if den == 0:\n",
    "            recall.append(0)\n",
    "        else:\n",
    "            recall.append(num/den)\n",
    "\n",
    "        if test_inter_count[tu] != 1:\n",
    "            ndcg.append(ndcg_score(top.rate.values.reshape(1, -1), top.rate_pred.values.reshape(1, -1)))\n",
    "        else:\n",
    "            ndcg.append(ndcg_score(np.append(top.rate.values, 0).reshape(1, -1), np.append(top.rate_pred.values, 0).reshape(1, -1)))\n",
    "\n",
    "    return rmse, np.array(recall).mean(), np.array(ndcg).mean()"
   ]
  },
  {
   "cell_type": "code",
   "execution_count": 12,
   "id": "c357baf6",
   "metadata": {},
   "outputs": [
    {
     "name": "stdout",
     "output_type": "stream",
     "text": [
      "=================================================================\n",
      "num: 0\n",
      "Computing the cosine similarity matrix...\n"
     ]
    },
    {
     "name": "stderr",
     "output_type": "stream",
     "text": [
      "  1%|▍                                                                           | 236/37692 [00:00<00:15, 2359.62it/s]"
     ]
    },
    {
     "name": "stdout",
     "output_type": "stream",
     "text": [
      "Done computing similarity matrix.\n"
     ]
    },
    {
     "name": "stderr",
     "output_type": "stream",
     "text": [
      "100%|██████████████████████████████████████████████████████████████████████████| 37692/37692 [00:09<00:00, 4074.61it/s]\n",
      "100%|█████████████████████████████████████████████████████████████████████████████| 7857/7857 [00:15<00:00, 493.14it/s]\n"
     ]
    },
    {
     "name": "stdout",
     "output_type": "stream",
     "text": [
      "Computing the pearson similarity matrix...\n"
     ]
    },
    {
     "name": "stderr",
     "output_type": "stream",
     "text": [
      "  2%|█▊                                                                          | 927/37692 [00:00<00:07, 4677.15it/s]"
     ]
    },
    {
     "name": "stdout",
     "output_type": "stream",
     "text": [
      "Done computing similarity matrix.\n"
     ]
    },
    {
     "name": "stderr",
     "output_type": "stream",
     "text": [
      "100%|██████████████████████████████████████████████████████████████████████████| 37692/37692 [00:08<00:00, 4410.10it/s]\n",
      "100%|█████████████████████████████████████████████████████████████████████████████| 7857/7857 [00:15<00:00, 510.56it/s]\n"
     ]
    },
    {
     "name": "stdout",
     "output_type": "stream",
     "text": [
      "Computing the cosine similarity matrix...\n"
     ]
    },
    {
     "name": "stderr",
     "output_type": "stream",
     "text": [
      "  2%|█▊                                                                          | 904/37692 [00:00<00:08, 4364.14it/s]"
     ]
    },
    {
     "name": "stdout",
     "output_type": "stream",
     "text": [
      "Done computing similarity matrix.\n"
     ]
    },
    {
     "name": "stderr",
     "output_type": "stream",
     "text": [
      "100%|██████████████████████████████████████████████████████████████████████████| 37692/37692 [00:08<00:00, 4212.97it/s]\n",
      "100%|█████████████████████████████████████████████████████████████████████████████| 7857/7857 [00:14<00:00, 526.43it/s]\n"
     ]
    },
    {
     "name": "stdout",
     "output_type": "stream",
     "text": [
      "Computing the pearson similarity matrix...\n"
     ]
    },
    {
     "name": "stderr",
     "output_type": "stream",
     "text": [
      "  2%|█▊                                                                          | 896/37692 [00:00<00:08, 4506.98it/s]"
     ]
    },
    {
     "name": "stdout",
     "output_type": "stream",
     "text": [
      "Done computing similarity matrix.\n"
     ]
    },
    {
     "name": "stderr",
     "output_type": "stream",
     "text": [
      "100%|██████████████████████████████████████████████████████████████████████████| 37692/37692 [00:09<00:00, 3843.01it/s]\n",
      "100%|█████████████████████████████████████████████████████████████████████████████| 7857/7857 [00:16<00:00, 487.09it/s]\n"
     ]
    },
    {
     "name": "stdout",
     "output_type": "stream",
     "text": [
      "=================================================================\n",
      "num: 1\n",
      "Computing the cosine similarity matrix...\n"
     ]
    },
    {
     "name": "stderr",
     "output_type": "stream",
     "text": [
      "  0%|▎                                                                           | 184/37691 [00:00<00:20, 1830.41it/s]"
     ]
    },
    {
     "name": "stdout",
     "output_type": "stream",
     "text": [
      "Done computing similarity matrix.\n"
     ]
    },
    {
     "name": "stderr",
     "output_type": "stream",
     "text": [
      "100%|██████████████████████████████████████████████████████████████████████████| 37691/37691 [00:10<00:00, 3614.51it/s]\n",
      "100%|█████████████████████████████████████████████████████████████████████████████| 7900/7900 [00:14<00:00, 548.59it/s]\n"
     ]
    },
    {
     "name": "stdout",
     "output_type": "stream",
     "text": [
      "Computing the pearson similarity matrix...\n"
     ]
    },
    {
     "name": "stderr",
     "output_type": "stream",
     "text": [
      "\r",
      "  0%|                                                                                        | 0/37691 [00:00<?, ?it/s]"
     ]
    },
    {
     "name": "stdout",
     "output_type": "stream",
     "text": [
      "Done computing similarity matrix.\n"
     ]
    },
    {
     "name": "stderr",
     "output_type": "stream",
     "text": [
      "100%|██████████████████████████████████████████████████████████████████████████| 37691/37691 [00:09<00:00, 4183.48it/s]\n",
      "100%|█████████████████████████████████████████████████████████████████████████████| 7900/7900 [00:14<00:00, 530.49it/s]\n"
     ]
    },
    {
     "name": "stdout",
     "output_type": "stream",
     "text": [
      "Computing the cosine similarity matrix...\n"
     ]
    },
    {
     "name": "stderr",
     "output_type": "stream",
     "text": [
      "\r",
      "  0%|                                                                                        | 0/37691 [00:00<?, ?it/s]"
     ]
    },
    {
     "name": "stdout",
     "output_type": "stream",
     "text": [
      "Done computing similarity matrix.\n"
     ]
    },
    {
     "name": "stderr",
     "output_type": "stream",
     "text": [
      "100%|██████████████████████████████████████████████████████████████████████████| 37691/37691 [00:11<00:00, 3353.58it/s]\n",
      "100%|█████████████████████████████████████████████████████████████████████████████| 7900/7900 [00:17<00:00, 452.48it/s]\n"
     ]
    },
    {
     "name": "stdout",
     "output_type": "stream",
     "text": [
      "Computing the pearson similarity matrix...\n"
     ]
    },
    {
     "name": "stderr",
     "output_type": "stream",
     "text": [
      "  1%|▌                                                                           | 285/37691 [00:00<00:13, 2850.00it/s]"
     ]
    },
    {
     "name": "stdout",
     "output_type": "stream",
     "text": [
      "Done computing similarity matrix.\n"
     ]
    },
    {
     "name": "stderr",
     "output_type": "stream",
     "text": [
      "100%|██████████████████████████████████████████████████████████████████████████| 37691/37691 [00:09<00:00, 3943.54it/s]\n",
      "100%|█████████████████████████████████████████████████████████████████████████████| 7900/7900 [00:16<00:00, 479.18it/s]\n"
     ]
    },
    {
     "name": "stdout",
     "output_type": "stream",
     "text": [
      "=================================================================\n",
      "num: 2\n",
      "Computing the cosine similarity matrix...\n"
     ]
    },
    {
     "name": "stderr",
     "output_type": "stream",
     "text": [
      "  2%|█▎                                                                          | 620/37691 [00:00<00:11, 3201.10it/s]"
     ]
    },
    {
     "name": "stdout",
     "output_type": "stream",
     "text": [
      "Done computing similarity matrix.\n"
     ]
    },
    {
     "name": "stderr",
     "output_type": "stream",
     "text": [
      "100%|██████████████████████████████████████████████████████████████████████████| 37691/37691 [00:09<00:00, 3961.67it/s]\n",
      "100%|█████████████████████████████████████████████████████████████████████████████| 7920/7920 [00:13<00:00, 592.93it/s]\n"
     ]
    },
    {
     "name": "stdout",
     "output_type": "stream",
     "text": [
      "Computing the pearson similarity matrix...\n"
     ]
    },
    {
     "name": "stderr",
     "output_type": "stream",
     "text": [
      "  2%|█▌                                                                          | 766/37691 [00:00<00:10, 3671.89it/s]"
     ]
    },
    {
     "name": "stdout",
     "output_type": "stream",
     "text": [
      "Done computing similarity matrix.\n"
     ]
    },
    {
     "name": "stderr",
     "output_type": "stream",
     "text": [
      "100%|██████████████████████████████████████████████████████████████████████████| 37691/37691 [00:10<00:00, 3739.51it/s]\n",
      "100%|█████████████████████████████████████████████████████████████████████████████| 7920/7920 [00:14<00:00, 532.28it/s]\n"
     ]
    },
    {
     "name": "stdout",
     "output_type": "stream",
     "text": [
      "Computing the cosine similarity matrix...\n"
     ]
    },
    {
     "name": "stderr",
     "output_type": "stream",
     "text": [
      "  1%|▊                                                                           | 404/37691 [00:00<00:09, 4039.61it/s]"
     ]
    },
    {
     "name": "stdout",
     "output_type": "stream",
     "text": [
      "Done computing similarity matrix.\n"
     ]
    },
    {
     "name": "stderr",
     "output_type": "stream",
     "text": [
      "100%|██████████████████████████████████████████████████████████████████████████| 37691/37691 [00:10<00:00, 3494.73it/s]\n",
      "100%|█████████████████████████████████████████████████████████████████████████████| 7920/7920 [00:15<00:00, 497.89it/s]\n"
     ]
    },
    {
     "name": "stdout",
     "output_type": "stream",
     "text": [
      "Computing the pearson similarity matrix...\n"
     ]
    },
    {
     "name": "stderr",
     "output_type": "stream",
     "text": [
      "  2%|█▊                                                                          | 890/37691 [00:00<00:08, 4339.71it/s]"
     ]
    },
    {
     "name": "stdout",
     "output_type": "stream",
     "text": [
      "Done computing similarity matrix.\n"
     ]
    },
    {
     "name": "stderr",
     "output_type": "stream",
     "text": [
      "100%|██████████████████████████████████████████████████████████████████████████| 37691/37691 [00:09<00:00, 4013.39it/s]\n",
      "100%|█████████████████████████████████████████████████████████████████████████████| 7920/7920 [00:17<00:00, 457.45it/s]\n"
     ]
    },
    {
     "name": "stdout",
     "output_type": "stream",
     "text": [
      "=================================================================\n",
      "num: 3\n",
      "Computing the cosine similarity matrix...\n"
     ]
    },
    {
     "name": "stderr",
     "output_type": "stream",
     "text": [
      "  1%|█                                                                           | 547/37691 [00:00<00:12, 2860.70it/s]"
     ]
    },
    {
     "name": "stdout",
     "output_type": "stream",
     "text": [
      "Done computing similarity matrix.\n"
     ]
    },
    {
     "name": "stderr",
     "output_type": "stream",
     "text": [
      "100%|██████████████████████████████████████████████████████████████████████████| 37691/37691 [00:08<00:00, 4266.72it/s]\n",
      "100%|█████████████████████████████████████████████████████████████████████████████| 7884/7884 [00:14<00:00, 543.69it/s]\n"
     ]
    },
    {
     "name": "stdout",
     "output_type": "stream",
     "text": [
      "Computing the pearson similarity matrix...\n"
     ]
    },
    {
     "name": "stderr",
     "output_type": "stream",
     "text": [
      "  1%|▌                                                                           | 297/37691 [00:00<00:13, 2786.78it/s]"
     ]
    },
    {
     "name": "stdout",
     "output_type": "stream",
     "text": [
      "Done computing similarity matrix.\n"
     ]
    },
    {
     "name": "stderr",
     "output_type": "stream",
     "text": [
      "100%|██████████████████████████████████████████████████████████████████████████| 37691/37691 [00:09<00:00, 4119.97it/s]\n",
      "100%|█████████████████████████████████████████████████████████████████████████████| 7884/7884 [00:14<00:00, 557.19it/s]\n"
     ]
    },
    {
     "name": "stdout",
     "output_type": "stream",
     "text": [
      "Computing the cosine similarity matrix...\n"
     ]
    },
    {
     "name": "stderr",
     "output_type": "stream",
     "text": [
      "  1%|▉                                                                           | 465/37691 [00:00<00:08, 4626.50it/s]"
     ]
    },
    {
     "name": "stdout",
     "output_type": "stream",
     "text": [
      "Done computing similarity matrix.\n"
     ]
    },
    {
     "name": "stderr",
     "output_type": "stream",
     "text": [
      "100%|██████████████████████████████████████████████████████████████████████████| 37691/37691 [00:08<00:00, 4201.80it/s]\n",
      "100%|█████████████████████████████████████████████████████████████████████████████| 7884/7884 [00:12<00:00, 615.99it/s]\n"
     ]
    },
    {
     "name": "stdout",
     "output_type": "stream",
     "text": [
      "Computing the pearson similarity matrix...\n"
     ]
    },
    {
     "name": "stderr",
     "output_type": "stream",
     "text": [
      "  3%|██                                                                         | 1051/37691 [00:00<00:07, 5081.19it/s]"
     ]
    },
    {
     "name": "stdout",
     "output_type": "stream",
     "text": [
      "Done computing similarity matrix.\n"
     ]
    },
    {
     "name": "stderr",
     "output_type": "stream",
     "text": [
      "100%|██████████████████████████████████████████████████████████████████████████| 37691/37691 [00:07<00:00, 5270.42it/s]\n",
      "100%|█████████████████████████████████████████████████████████████████████████████| 7884/7884 [00:11<00:00, 691.77it/s]\n"
     ]
    },
    {
     "name": "stdout",
     "output_type": "stream",
     "text": [
      "=================================================================\n",
      "num: 4\n",
      "Computing the cosine similarity matrix...\n"
     ]
    },
    {
     "name": "stderr",
     "output_type": "stream",
     "text": [
      "  1%|▌                                                                           | 295/37691 [00:00<00:12, 2938.07it/s]"
     ]
    },
    {
     "name": "stdout",
     "output_type": "stream",
     "text": [
      "Done computing similarity matrix.\n"
     ]
    },
    {
     "name": "stderr",
     "output_type": "stream",
     "text": [
      "100%|██████████████████████████████████████████████████████████████████████████| 37691/37691 [00:06<00:00, 5789.58it/s]\n",
      "100%|█████████████████████████████████████████████████████████████████████████████| 7883/7883 [00:11<00:00, 687.87it/s]\n"
     ]
    },
    {
     "name": "stdout",
     "output_type": "stream",
     "text": [
      "Computing the pearson similarity matrix...\n"
     ]
    },
    {
     "name": "stderr",
     "output_type": "stream",
     "text": [
      "100%|██████████████████████████████████████████████████████████████████████████| 37691/37691 [00:06<00:00, 5852.00it/s]\n",
      "100%|█████████████████████████████████████████████████████████████████████████████| 7883/7883 [00:11<00:00, 673.34it/s]\n"
     ]
    },
    {
     "name": "stdout",
     "output_type": "stream",
     "text": [
      "Done computing similarity matrix.\n",
      "Computing the cosine similarity matrix...\n"
     ]
    },
    {
     "name": "stderr",
     "output_type": "stream",
     "text": [
      "\r",
      "  0%|                                                                                        | 0/37691 [00:00<?, ?it/s]"
     ]
    },
    {
     "name": "stdout",
     "output_type": "stream",
     "text": [
      "Done computing similarity matrix.\n"
     ]
    },
    {
     "name": "stderr",
     "output_type": "stream",
     "text": [
      "100%|██████████████████████████████████████████████████████████████████████████| 37691/37691 [00:07<00:00, 4971.89it/s]\n",
      "100%|█████████████████████████████████████████████████████████████████████████████| 7883/7883 [00:12<00:00, 618.02it/s]\n"
     ]
    },
    {
     "name": "stdout",
     "output_type": "stream",
     "text": [
      "Computing the pearson similarity matrix...\n"
     ]
    },
    {
     "name": "stderr",
     "output_type": "stream",
     "text": [
      "  1%|▉                                                                           | 463/37691 [00:00<00:08, 4586.47it/s]"
     ]
    },
    {
     "name": "stdout",
     "output_type": "stream",
     "text": [
      "Done computing similarity matrix.\n"
     ]
    },
    {
     "name": "stderr",
     "output_type": "stream",
     "text": [
      "100%|██████████████████████████████████████████████████████████████████████████| 37691/37691 [00:07<00:00, 4923.99it/s]\n",
      "100%|█████████████████████████████████████████████████████████████████████████████| 7883/7883 [00:11<00:00, 665.31it/s]\n"
     ]
    }
   ],
   "source": [
    "u_b_c = []\n",
    "u_b_p = []\n",
    "i_b_c = []\n",
    "i_b_p = []\n",
    "for i in range(5):\n",
    "    \n",
    "    print('=================================================================')\n",
    "    print('num:', i)\n",
    "    train_ind = np.load(os.path.join(train_path, 'train_ind'+ str(i) +'.npy'))\n",
    "    val_ind = np.load(os.path.join(val_path, 'val_ind'+ str(i) +'.npy'))\n",
    "    test_ind = np.load(os.path.join(test_path, 'test_ind'+ str(i) +'.npy'))\n",
    "\n",
    "    train_data, train_user = get_train(data, train_ind)    \n",
    "    test_data, test_user, test_inter_count = get_test_val(data, test_ind)\n",
    "    val_data, val_user, val_inter_count = get_test_val(data, val_ind)\n",
    "    \n",
    "    reader = Reader(rating_scale=(1, 5))\n",
    "    train_ = Dataset.load_from_df(train_data[['user', 'item', 'rate']], reader) \n",
    "    train_ = train_.build_full_trainset()\n",
    "    train_.n_users = n_users\n",
    "    train_.n_items = n_items \n",
    "\n",
    "    rmse, recall, ndcg = cf(name = 'cosine', user_based = True)\n",
    "    u_b_c.append([rmse, recall, ndcg])\n",
    "    rmse, recall, ndcg = cf(name = 'pearson', user_based = True)\n",
    "    u_b_p.append([rmse, recall, ndcg])\n",
    "    rmse, recall, ndcg = cf(name = 'cosine', user_based = False)\n",
    "    i_b_c.append([rmse, recall, ndcg])\n",
    "    rmse, recall, ndcg = cf(name = 'pearson', user_based = False)\n",
    "    i_b_p.append([rmse, recall, ndcg])"
   ]
  },
  {
   "cell_type": "code",
   "execution_count": 13,
   "id": "c56b9793",
   "metadata": {},
   "outputs": [
    {
     "name": "stdout",
     "output_type": "stream",
     "text": [
      "u_b_c [1.13856805 0.67230058 0.9680588 ]\n",
      "u_b_p [1.15045956 0.66736779 0.96410296]\n",
      "i_b_c [1.18011582 0.68407809 0.96962677]\n",
      "i_b_p [1.19119478 0.6926838  0.97001484]\n"
     ]
    }
   ],
   "source": [
    "print('u_b_c', np.array(u_b_c).mean(axis=0))\n",
    "print('u_b_p', np.array(u_b_p).mean(axis=0))\n",
    "print('i_b_c', np.array(i_b_c).mean(axis=0))\n",
    "print('i_b_p', np.array(i_b_p).mean(axis=0))"
   ]
  },
  {
   "cell_type": "code",
   "execution_count": null,
   "id": "f4f29862",
   "metadata": {},
   "outputs": [],
   "source": []
  },
  {
   "cell_type": "code",
   "execution_count": null,
   "id": "e3f39b17",
   "metadata": {},
   "outputs": [],
   "source": []
  },
  {
   "cell_type": "code",
   "execution_count": null,
   "id": "bf5773f2",
   "metadata": {},
   "outputs": [],
   "source": []
  },
  {
   "cell_type": "markdown",
   "id": "50a0a564",
   "metadata": {},
   "source": [
    "### MF"
   ]
  },
  {
   "cell_type": "code",
   "execution_count": 12,
   "id": "cf764597",
   "metadata": {},
   "outputs": [],
   "source": [
    "torch.backends.cudnn.benchmark = True\n",
    "def mf_explicit(epoch, embedding_dim, l2, lr):\n",
    "\n",
    "    model = ExplicitFactorizationModel(loss='regression',\n",
    "                                       embedding_dim = 32,  # latent dimensionality\n",
    "                                       n_iter=epoch,  # number of epochs of training\n",
    "                                       batch_size=1024,  # minibatch size\n",
    "                                       l2 = l2,  # strength of L2 regularization\n",
    "                                       learning_rate = lr,\n",
    "                                       use_cuda=torch.cuda.is_available())\n",
    "    model.fit(train_inter, verbose=False)\n",
    "    \n",
    "    rate = []\n",
    "    for ind in tqdm(range(test_data.shape[0])):\n",
    "\n",
    "        uid = test_data.iloc[ind].user\n",
    "        iid = test_data.iloc[ind]['item']\n",
    "        est = model.predict(user_ids=np.array([uid]))[iid]\n",
    "        rate.append(est)\n",
    "\n",
    "    test_data['rate_pred'] = rate\n",
    "    \n",
    "    rmse = mean_squared_error(test_data.rate, test_data.rate_pred, squared=False)\n",
    "    recall = []\n",
    "    ndcg = []\n",
    "\n",
    "    for tu in tqdm(test_user):\n",
    "\n",
    "        top = test_data[test_data.user == tu].sort_values(by=['rate_pred'], ascending=False)[:test_inter_count[tu]]\n",
    "        den = top[top.rate > 3.5].shape[0]\n",
    "        num = top[(top.rate > 3.5) & (top.rate_pred > 3.5)].shape[0]\n",
    "\n",
    "        if den == 0:\n",
    "            recall.append(0)\n",
    "        else:\n",
    "            recall.append(num/den)\n",
    "\n",
    "        if test_inter_count[tu] != 1:\n",
    "            ndcg.append(ndcg_score(top.rate.values.reshape(1, -1), top.rate_pred.values.reshape(1, -1)))\n",
    "        else:\n",
    "            ndcg.append(ndcg_score(np.append(top.rate.values, 0).reshape(1, -1), np.append(top.rate_pred.values, 0).reshape(1, -1)))\n",
    "\n",
    "    return rmse, np.array(recall).mean(), np.array(ndcg).mean()"
   ]
  },
  {
   "cell_type": "code",
   "execution_count": 13,
   "id": "7a9dd7b5",
   "metadata": {},
   "outputs": [
    {
     "name": "stdout",
     "output_type": "stream",
     "text": [
      "=================================================================\n",
      "num: 0\n"
     ]
    },
    {
     "name": "stderr",
     "output_type": "stream",
     "text": [
      "100%|██████████████████████████████████████████████████████████████████████████| 37692/37692 [00:27<00:00, 1365.25it/s]\n",
      "100%|█████████████████████████████████████████████████████████████████████████████| 7857/7857 [00:10<00:00, 727.14it/s]\n"
     ]
    },
    {
     "name": "stdout",
     "output_type": "stream",
     "text": [
      "=================================================================\n",
      "num: 1\n"
     ]
    },
    {
     "name": "stderr",
     "output_type": "stream",
     "text": [
      "100%|██████████████████████████████████████████████████████████████████████████| 37691/37691 [00:27<00:00, 1361.79it/s]\n",
      "100%|█████████████████████████████████████████████████████████████████████████████| 7900/7900 [00:11<00:00, 717.05it/s]\n"
     ]
    },
    {
     "name": "stdout",
     "output_type": "stream",
     "text": [
      "=================================================================\n",
      "num: 2\n"
     ]
    },
    {
     "name": "stderr",
     "output_type": "stream",
     "text": [
      "100%|██████████████████████████████████████████████████████████████████████████| 37691/37691 [00:28<00:00, 1308.80it/s]\n",
      "100%|█████████████████████████████████████████████████████████████████████████████| 7920/7920 [00:11<00:00, 676.55it/s]\n"
     ]
    },
    {
     "name": "stdout",
     "output_type": "stream",
     "text": [
      "=================================================================\n",
      "num: 3\n"
     ]
    },
    {
     "name": "stderr",
     "output_type": "stream",
     "text": [
      "100%|██████████████████████████████████████████████████████████████████████████| 37691/37691 [00:30<00:00, 1252.19it/s]\n",
      "100%|█████████████████████████████████████████████████████████████████████████████| 7884/7884 [00:11<00:00, 687.90it/s]\n"
     ]
    },
    {
     "name": "stdout",
     "output_type": "stream",
     "text": [
      "=================================================================\n",
      "num: 4\n"
     ]
    },
    {
     "name": "stderr",
     "output_type": "stream",
     "text": [
      "100%|██████████████████████████████████████████████████████████████████████████| 37691/37691 [00:26<00:00, 1398.33it/s]\n",
      "100%|█████████████████████████████████████████████████████████████████████████████| 7883/7883 [00:10<00:00, 758.25it/s]\n"
     ]
    }
   ],
   "source": [
    "mf_exp = []\n",
    "\n",
    "for i in range(5):\n",
    "    \n",
    "    print('=================================================================')\n",
    "    print('num:', i)\n",
    "    train_ind = np.load(os.path.join(train_path, 'train_ind'+ str(i) +'.npy'))\n",
    "    val_ind = np.load(os.path.join(val_path, 'val_ind'+ str(i) +'.npy'))\n",
    "    test_ind = np.load(os.path.join(test_path, 'test_ind'+ str(i) +'.npy'))\n",
    "\n",
    "    train_data, train_user = get_train(data, train_ind)    \n",
    "    test_data, test_user, test_inter_count = get_test_val(data, test_ind)\n",
    "    val_data, val_user, val_inter_count = get_test_val(data, val_ind)\n",
    "    \n",
    "    train_inter = Interactions(user_ids = train_data[train_data.columns[0]].values,\n",
    "                           item_ids=train_data[train_data.columns[1]].values,\n",
    "                           ratings=train_data[train_data.columns[2]].values,\n",
    "                              num_users=n_users,\n",
    "                              num_items=n_items)\n",
    "    \n",
    "    rmse, recall, ndcg = mf_explicit(30, 32, 1e-09, 0.001)\n",
    "    mf_exp.append([rmse, recall, ndcg])"
   ]
  },
  {
   "cell_type": "code",
   "execution_count": 14,
   "id": "20c18966",
   "metadata": {},
   "outputs": [
    {
     "name": "stdout",
     "output_type": "stream",
     "text": [
      "mf_exp [1.73105626 0.44018147 0.97067572]\n"
     ]
    }
   ],
   "source": [
    "print('mf_exp', np.array(mf_exp).mean(axis=0))"
   ]
  },
  {
   "cell_type": "code",
   "execution_count": 29,
   "id": "bfa70ea4",
   "metadata": {},
   "outputs": [
    {
     "name": "stdout",
     "output_type": "stream",
     "text": [
      "mf_exp [1.735958   0.43255789 0.97072467]\n"
     ]
    }
   ],
   "source": [
    "print('mf_exp', np.array(mf_exp).mean(axis=0))"
   ]
  },
  {
   "cell_type": "code",
   "execution_count": null,
   "id": "fa9f2ec4",
   "metadata": {},
   "outputs": [],
   "source": []
  },
  {
   "cell_type": "code",
   "execution_count": 22,
   "id": "eca0eb18",
   "metadata": {},
   "outputs": [],
   "source": [
    "i = 1\n",
    "\n",
    "train_ind = np.load(os.path.join(train_path, 'train_ind'+ str(i) +'.npy'))\n",
    "val_ind = np.load(os.path.join(val_path, 'val_ind'+ str(i) +'.npy'))\n",
    "test_ind = np.load(os.path.join(test_path, 'test_ind'+ str(i) +'.npy'))\n",
    "\n",
    "train_data, train_user = get_train(data, train_ind)    \n",
    "test_data, test_user, test_inter_count = get_test_val(data, test_ind)\n",
    "val_data, val_user, val_inter_count = get_test_val(data, val_ind)\n"
   ]
  },
  {
   "cell_type": "code",
   "execution_count": 23,
   "id": "aac3ee98",
   "metadata": {},
   "outputs": [],
   "source": [
    "train_inter = Interactions(user_ids = train_data[train_data.columns[0]].values,\n",
    "                       item_ids=train_data[train_data.columns[1]].values,\n",
    "                       ratings=train_data[train_data.columns[2]].values,\n",
    "                          num_users=n_users,\n",
    "                          num_items=n_items)\n",
    "\n",
    "val_inter = Interactions(user_ids = val_data[train_data.columns[0]].values,\n",
    "                       item_ids=val_data[train_data.columns[1]].values,\n",
    "                       ratings=val_data[train_data.columns[2]].values)\n",
    "\n",
    "test_inter = Interactions(user_ids = test_data[train_data.columns[0]].values,\n",
    "                       item_ids=test_data[train_data.columns[1]].values,\n",
    "                       ratings=test_data[train_data.columns[2]].values)"
   ]
  },
  {
   "cell_type": "code",
   "execution_count": 24,
   "id": "0bee87af",
   "metadata": {},
   "outputs": [],
   "source": [
    "from matplotlib import pyplot as plt"
   ]
  },
  {
   "cell_type": "code",
   "execution_count": 16,
   "id": "0560a59f",
   "metadata": {},
   "outputs": [
    {
     "name": "stderr",
     "output_type": "stream",
     "text": [
      " 90%|█████████████████████████████████████████████████████████████████████████▌        | 35/39 [04:31<00:56, 14.13s/it]"
     ]
    },
    {
     "data": {
      "image/png": "[encoded data removed]",
      "text/plain": [
       "<Figure size 432x288 with 1 Axes>"
      ]
     },
     "metadata": {},
     "output_type": "display_data"
    },
    {
     "name": "stderr",
     "output_type": "stream",
     "text": [
      "\r",
      " 92%|███████████████████████████████████████████████████████████████████████████▋      | 36/39 [04:46<00:43, 14.40s/it]"
     ]
    },
    {
     "data": {
      "image/png": "[encoded data removed]",
      "text/plain": [
       "<Figure size 432x288 with 1 Axes>"
      ]
     },
     "metadata": {},
     "output_type": "display_data"
    },
    {
     "name": "stderr",
     "output_type": "stream",
     "text": [
      "\r",
      " 95%|█████████████████████████████████████████████████████████████████████████████▊    | 37/39 [05:03<00:30, 15.01s/it]"
     ]
    },
    {
     "data": {
      "image/png": "[encoded data removed]",
      "text/plain": [
       "<Figure size 432x288 with 1 Axes>"
      ]
     },
     "metadata": {},
     "output_type": "display_data"
    },
    {
     "name": "stderr",
     "output_type": "stream",
     "text": [
      "\r",
      " 97%|███████████████████████████████████████████████████████████████████████████████▉  | 38/39 [05:19<00:15, 15.48s/it]"
     ]
    },
    {
     "data": {
      "image/png": "[encoded data removed]",
      "text/plain": [
       "<Figure size 432x288 with 1 Axes>"
      ]
     },
     "metadata": {},
     "output_type": "display_data"
    },
    {
     "name": "stderr",
     "output_type": "stream",
     "text": [
      "100%|██████████████████████████████████████████████████████████████████████████████████| 39/39 [05:37<00:00,  8.64s/it]\n"
     ]
    }
   ],
   "source": [
    "\n",
    "\n",
    "rmse_test_re = []\n",
    "rmse_train_re = []\n",
    "for i in tqdm(range(1,40)):\n",
    "    values = np.arange(1, i+1)\n",
    "    model = ExplicitFactorizationModel(loss='regression',\n",
    "                                       embedding_dim = 32,  # latent dimensionality\n",
    "                                       n_iter=i,  # number of epochs of training\n",
    "                                       batch_size=1024,  # minibatch size\n",
    "                                       l2 = 1e-9,  # strength of L2 regularization\n",
    "                                       learning_rate = 1e-3,\n",
    "                                       use_cuda=torch.cuda.is_available())\n",
    "    model.fit(train_inter, verbose=False)\n",
    "    rmse_test_re.append(rmse_score(model, val_inter))\n",
    "    rmse_train_re.append(rmse_score(model, train_inter))\n",
    "    \n",
    "    if i > 35:\n",
    "        with plt.style.context('fivethirtyeight'):\n",
    "\n",
    "            plt.plot(values, rmse_train_re, label='train re', linestyle='--')\n",
    "            plt.plot(values, rmse_test_re, label='test re', ls='--')\n",
    "        plt.legend()\n",
    "        plt.show()\n",
    "        fig = plt.gcf() \n",
    "\n",
    "        plt.close(fig) "
   ]
  },
  {
   "cell_type": "code",
   "execution_count": 25,
   "id": "68664ad5",
   "metadata": {},
   "outputs": [],
   "source": [
    "def objective(trial):\n",
    "\n",
    "    param = {\n",
    "            \"embedding_dim\" : trial.suggest_categorical(\"embedding_dim\", [32, 16, 64]),\n",
    "            \"l2\" : trial.suggest_categorical(\"l2\", [1e-11, 1e-9, 1e-10]),            \n",
    "            \"learning_rate\" : trial.suggest_categorical(\"learning_rate\", [1e-3, 1e-4, 1e-2]),\n",
    "        }\n",
    "    \n",
    "    model = ExplicitFactorizationModel(loss='regression',\n",
    "                                       embedding_dim = param['embedding_dim'],  # latent dimensionality\n",
    "                                       n_iter=30,  # number of epochs of training\n",
    "                                       batch_size=1024,  # minibatch size\n",
    "                                       l2 = param['l2'],  # strength of L2 regularization\n",
    "                                       learning_rate = param['learning_rate'],\n",
    "                                       use_cuda=torch.cuda.is_available())\n",
    "\n",
    "\n",
    "    model.fit(train_inter, verbose=False)\n",
    "\n",
    "\n",
    "    \n",
    "\n",
    "    return rmse_score(model, val_inter)"
   ]
  },
  {
   "cell_type": "code",
   "execution_count": null,
   "id": "8e2b6135",
   "metadata": {},
   "outputs": [],
   "source": [
    "'embedding_dim': 32, 'l2': 1e-09, 'learning_rate': 0.001"
   ]
  },
  {
   "cell_type": "code",
   "execution_count": 26,
   "id": "8e247adf",
   "metadata": {},
   "outputs": [
    {
     "name": "stderr",
     "output_type": "stream",
     "text": [
      "\u001b[32m[I 2021-06-11 00:25:17,677]\u001b[0m A new study created in memory with name: no-name-1b21e2aa-27c9-4770-a648-36da83138f17\u001b[0m\n",
      "\u001b[32m[I 2021-06-11 00:25:43,361]\u001b[0m Trial 0 finished with value: 1.4126244876889755 and parameters: {'embedding_dim': 32, 'l2': 1e-11, 'learning_rate': 0.01}. Best is trial 0 with value: 1.4126244876889755.\u001b[0m\n",
      "\u001b[32m[I 2021-06-11 00:26:08,782]\u001b[0m Trial 1 finished with value: 1.3927425675418237 and parameters: {'embedding_dim': 32, 'l2': 1e-10, 'learning_rate': 0.01}. Best is trial 1 with value: 1.3927425675418237.\u001b[0m\n",
      "\u001b[32m[I 2021-06-11 00:26:33,980]\u001b[0m Trial 2 finished with value: 1.5352900797406837 and parameters: {'embedding_dim': 16, 'l2': 1e-09, 'learning_rate': 0.01}. Best is trial 1 with value: 1.3927425675418237.\u001b[0m\n",
      "\u001b[32m[I 2021-06-11 00:26:58,903]\u001b[0m Trial 3 finished with value: 3.6037594963224304 and parameters: {'embedding_dim': 16, 'l2': 1e-10, 'learning_rate': 0.0001}. Best is trial 1 with value: 1.3927425675418237.\u001b[0m\n",
      "\u001b[32m[I 2021-06-11 00:27:24,442]\u001b[0m Trial 4 finished with value: 1.3994065409329302 and parameters: {'embedding_dim': 32, 'l2': 1e-09, 'learning_rate': 0.01}. Best is trial 1 with value: 1.3927425675418237.\u001b[0m\n",
      "\u001b[32m[I 2021-06-11 00:27:49,437]\u001b[0m Trial 5 finished with value: 1.561694391833972 and parameters: {'embedding_dim': 16, 'l2': 1e-11, 'learning_rate': 0.01}. Best is trial 1 with value: 1.3927425675418237.\u001b[0m\n",
      "\u001b[32m[I 2021-06-11 00:28:14,955]\u001b[0m Trial 6 finished with value: 3.462664680746416 and parameters: {'embedding_dim': 32, 'l2': 1e-09, 'learning_rate': 0.0001}. Best is trial 1 with value: 1.3927425675418237.\u001b[0m\n",
      "\u001b[32m[I 2021-06-11 00:28:42,412]\u001b[0m Trial 7 finished with value: 1.313703031957227 and parameters: {'embedding_dim': 64, 'l2': 1e-11, 'learning_rate': 0.01}. Best is trial 7 with value: 1.313703031957227.\u001b[0m\n",
      "\u001b[32m[I 2021-06-11 00:29:04,803]\u001b[0m Trial 8 finished with value: 1.3270870947476316 and parameters: {'embedding_dim': 16, 'l2': 1e-11, 'learning_rate': 0.001}. Best is trial 7 with value: 1.313703031957227.\u001b[0m\n",
      "\u001b[32m[I 2021-06-11 00:29:26,597]\u001b[0m Trial 9 finished with value: 3.454573406783872 and parameters: {'embedding_dim': 32, 'l2': 1e-11, 'learning_rate': 0.0001}. Best is trial 7 with value: 1.313703031957227.\u001b[0m\n",
      "\u001b[32m[I 2021-06-11 00:29:49,743]\u001b[0m Trial 10 finished with value: 1.263034662095052 and parameters: {'embedding_dim': 64, 'l2': 1e-11, 'learning_rate': 0.001}. Best is trial 10 with value: 1.263034662095052.\u001b[0m\n",
      "\u001b[32m[I 2021-06-11 00:30:13,172]\u001b[0m Trial 11 finished with value: 1.2618948318115037 and parameters: {'embedding_dim': 64, 'l2': 1e-11, 'learning_rate': 0.001}. Best is trial 11 with value: 1.2618948318115037.\u001b[0m\n",
      "\u001b[32m[I 2021-06-11 00:30:38,273]\u001b[0m Trial 12 finished with value: 1.2533876601182412 and parameters: {'embedding_dim': 64, 'l2': 1e-11, 'learning_rate': 0.001}. Best is trial 12 with value: 1.2533876601182412.\u001b[0m\n",
      "\u001b[32m[I 2021-06-11 00:31:03,563]\u001b[0m Trial 13 finished with value: 1.2603202113057344 and parameters: {'embedding_dim': 64, 'l2': 1e-11, 'learning_rate': 0.001}. Best is trial 12 with value: 1.2533876601182412.\u001b[0m\n",
      "\u001b[32m[I 2021-06-11 00:31:28,675]\u001b[0m Trial 14 finished with value: 1.253682616209676 and parameters: {'embedding_dim': 64, 'l2': 1e-11, 'learning_rate': 0.001}. Best is trial 12 with value: 1.2533876601182412.\u001b[0m\n",
      "\u001b[32m[I 2021-06-11 00:31:54,132]\u001b[0m Trial 15 finished with value: 1.2739649963306696 and parameters: {'embedding_dim': 64, 'l2': 1e-10, 'learning_rate': 0.001}. Best is trial 12 with value: 1.2533876601182412.\u001b[0m\n",
      "\u001b[32m[I 2021-06-11 00:32:19,392]\u001b[0m Trial 16 finished with value: 1.283808950384795 and parameters: {'embedding_dim': 64, 'l2': 1e-11, 'learning_rate': 0.001}. Best is trial 12 with value: 1.2533876601182412.\u001b[0m\n",
      "\u001b[32m[I 2021-06-11 00:32:44,531]\u001b[0m Trial 17 finished with value: 1.269116530626139 and parameters: {'embedding_dim': 64, 'l2': 1e-11, 'learning_rate': 0.001}. Best is trial 12 with value: 1.2533876601182412.\u001b[0m\n",
      "\u001b[32m[I 2021-06-11 00:33:09,684]\u001b[0m Trial 18 finished with value: 1.251788464132747 and parameters: {'embedding_dim': 64, 'l2': 1e-11, 'learning_rate': 0.001}. Best is trial 18 with value: 1.251788464132747.\u001b[0m\n",
      "\u001b[32m[I 2021-06-11 00:33:33,617]\u001b[0m Trial 19 finished with value: 1.265186249925893 and parameters: {'embedding_dim': 64, 'l2': 1e-11, 'learning_rate': 0.001}. Best is trial 18 with value: 1.251788464132747.\u001b[0m\n",
      "\u001b[32m[I 2021-06-11 00:33:57,422]\u001b[0m Trial 20 finished with value: 1.2856941874766976 and parameters: {'embedding_dim': 64, 'l2': 1e-10, 'learning_rate': 0.001}. Best is trial 18 with value: 1.251788464132747.\u001b[0m\n",
      "\u001b[32m[I 2021-06-11 00:34:21,262]\u001b[0m Trial 21 finished with value: 1.2735148031117547 and parameters: {'embedding_dim': 64, 'l2': 1e-11, 'learning_rate': 0.001}. Best is trial 18 with value: 1.251788464132747.\u001b[0m\n",
      "\u001b[32m[I 2021-06-11 00:34:45,203]\u001b[0m Trial 22 finished with value: 1.272815717798162 and parameters: {'embedding_dim': 64, 'l2': 1e-11, 'learning_rate': 0.001}. Best is trial 18 with value: 1.251788464132747.\u001b[0m\n",
      "\u001b[32m[I 2021-06-11 00:35:08,926]\u001b[0m Trial 23 finished with value: 1.2602156201588253 and parameters: {'embedding_dim': 64, 'l2': 1e-11, 'learning_rate': 0.001}. Best is trial 18 with value: 1.251788464132747.\u001b[0m\n",
      "\u001b[32m[I 2021-06-11 00:35:32,872]\u001b[0m Trial 24 finished with value: 1.2655280379520426 and parameters: {'embedding_dim': 64, 'l2': 1e-11, 'learning_rate': 0.001}. Best is trial 18 with value: 1.251788464132747.\u001b[0m\n",
      "\u001b[32m[I 2021-06-11 00:35:56,793]\u001b[0m Trial 25 finished with value: 1.2513441687459275 and parameters: {'embedding_dim': 64, 'l2': 1e-09, 'learning_rate': 0.001}. Best is trial 25 with value: 1.2513441687459275.\u001b[0m\n",
      "\u001b[32m[I 2021-06-11 00:36:20,763]\u001b[0m Trial 26 finished with value: 1.272368201260183 and parameters: {'embedding_dim': 64, 'l2': 1e-09, 'learning_rate': 0.001}. Best is trial 25 with value: 1.2513441687459275.\u001b[0m\n",
      "\u001b[32m[I 2021-06-11 00:36:44,842]\u001b[0m Trial 27 finished with value: 2.7592631110110424 and parameters: {'embedding_dim': 64, 'l2': 1e-09, 'learning_rate': 0.0001}. Best is trial 25 with value: 1.2513441687459275.\u001b[0m\n",
      "\u001b[32m[I 2021-06-11 00:37:08,830]\u001b[0m Trial 28 finished with value: 1.2622723087983065 and parameters: {'embedding_dim': 64, 'l2': 1e-09, 'learning_rate': 0.001}. Best is trial 25 with value: 1.2513441687459275.\u001b[0m\n",
      "\u001b[32m[I 2021-06-11 00:37:32,696]\u001b[0m Trial 29 finished with value: 1.2540480743504083 and parameters: {'embedding_dim': 64, 'l2': 1e-09, 'learning_rate': 0.001}. Best is trial 25 with value: 1.2513441687459275.\u001b[0m\n"
     ]
    }
   ],
   "source": [
    "# i =1\n",
    "study = optuna.create_study(direction=\"minimize\") # Create a new study.\n",
    "study.optimize(objective, n_trials=30)"
   ]
  },
  {
   "cell_type": "code",
   "execution_count": 21,
   "id": "183ca1e9",
   "metadata": {},
   "outputs": [
    {
     "name": "stderr",
     "output_type": "stream",
     "text": [
      "\u001b[32m[I 2021-06-11 00:11:24,847]\u001b[0m A new study created in memory with name: no-name-ed056ce2-fd45-4675-8881-03c7fe5849bd\u001b[0m\n",
      "\u001b[32m[I 2021-06-11 00:11:53,069]\u001b[0m Trial 0 finished with value: 1.4007659853841412 and parameters: {'embedding_dim': 32, 'l2': 1e-11, 'learning_rate': 0.01}. Best is trial 0 with value: 1.4007659853841412.\u001b[0m\n",
      "\u001b[32m[I 2021-06-11 00:12:20,151]\u001b[0m Trial 1 finished with value: 1.264506722943555 and parameters: {'embedding_dim': 16, 'l2': 1e-11, 'learning_rate': 0.001}. Best is trial 1 with value: 1.264506722943555.\u001b[0m\n",
      "\u001b[32m[I 2021-06-11 00:12:47,256]\u001b[0m Trial 2 finished with value: 3.607061631809734 and parameters: {'embedding_dim': 16, 'l2': 1e-11, 'learning_rate': 0.0001}. Best is trial 1 with value: 1.264506722943555.\u001b[0m\n",
      "\u001b[32m[I 2021-06-11 00:13:16,627]\u001b[0m Trial 3 finished with value: 1.2403892419631584 and parameters: {'embedding_dim': 64, 'l2': 1e-10, 'learning_rate': 0.001}. Best is trial 3 with value: 1.2403892419631584.\u001b[0m\n",
      "\u001b[32m[I 2021-06-11 00:13:42,457]\u001b[0m Trial 4 finished with value: 1.2716453895607218 and parameters: {'embedding_dim': 16, 'l2': 1e-11, 'learning_rate': 0.001}. Best is trial 3 with value: 1.2403892419631584.\u001b[0m\n",
      "\u001b[32m[I 2021-06-11 00:14:06,269]\u001b[0m Trial 5 finished with value: 1.4041194799926395 and parameters: {'embedding_dim': 32, 'l2': 1e-10, 'learning_rate': 0.01}. Best is trial 3 with value: 1.2403892419631584.\u001b[0m\n",
      "\u001b[32m[I 2021-06-11 00:14:31,723]\u001b[0m Trial 6 finished with value: 1.2984236229749326 and parameters: {'embedding_dim': 64, 'l2': 1e-10, 'learning_rate': 0.01}. Best is trial 3 with value: 1.2403892419631584.\u001b[0m\n",
      "\u001b[32m[I 2021-06-11 00:14:55,414]\u001b[0m Trial 7 finished with value: 1.2444633324529144 and parameters: {'embedding_dim': 16, 'l2': 1e-09, 'learning_rate': 0.001}. Best is trial 3 with value: 1.2403892419631584.\u001b[0m\n",
      "\u001b[32m[I 2021-06-11 00:15:20,973]\u001b[0m Trial 8 finished with value: 1.249578783788525 and parameters: {'embedding_dim': 64, 'l2': 1e-11, 'learning_rate': 0.001}. Best is trial 3 with value: 1.2403892419631584.\u001b[0m\n",
      "\u001b[32m[I 2021-06-11 00:15:44,991]\u001b[0m Trial 9 finished with value: 3.602064941919523 and parameters: {'embedding_dim': 16, 'l2': 1e-09, 'learning_rate': 0.0001}. Best is trial 3 with value: 1.2403892419631584.\u001b[0m\n",
      "\u001b[32m[I 2021-06-11 00:16:10,106]\u001b[0m Trial 10 finished with value: 1.2419363746677154 and parameters: {'embedding_dim': 64, 'l2': 1e-10, 'learning_rate': 0.001}. Best is trial 3 with value: 1.2403892419631584.\u001b[0m\n",
      "\u001b[32m[I 2021-06-11 00:16:35,364]\u001b[0m Trial 11 finished with value: 1.2354144440353194 and parameters: {'embedding_dim': 64, 'l2': 1e-10, 'learning_rate': 0.001}. Best is trial 11 with value: 1.2354144440353194.\u001b[0m\n",
      "\u001b[32m[I 2021-06-11 00:17:00,843]\u001b[0m Trial 12 finished with value: 1.2389220824534959 and parameters: {'embedding_dim': 64, 'l2': 1e-10, 'learning_rate': 0.001}. Best is trial 11 with value: 1.2354144440353194.\u001b[0m\n",
      "\u001b[32m[I 2021-06-11 00:17:26,392]\u001b[0m Trial 13 finished with value: 1.2328204627343624 and parameters: {'embedding_dim': 64, 'l2': 1e-10, 'learning_rate': 0.001}. Best is trial 13 with value: 1.2328204627343624.\u001b[0m\n",
      "\u001b[32m[I 2021-06-11 00:17:45,321]\u001b[0m Trial 14 finished with value: 1.2545340663781892 and parameters: {'embedding_dim': 64, 'l2': 1e-10, 'learning_rate': 0.001}. Best is trial 13 with value: 1.2328204627343624.\u001b[0m\n",
      "\u001b[32m[I 2021-06-11 00:17:58,533]\u001b[0m Trial 15 finished with value: 2.667326570988429 and parameters: {'embedding_dim': 64, 'l2': 1e-10, 'learning_rate': 0.0001}. Best is trial 13 with value: 1.2328204627343624.\u001b[0m\n",
      "\u001b[32m[I 2021-06-11 00:18:11,671]\u001b[0m Trial 16 finished with value: 1.2387515036380683 and parameters: {'embedding_dim': 64, 'l2': 1e-10, 'learning_rate': 0.001}. Best is trial 13 with value: 1.2328204627343624.\u001b[0m\n",
      "\u001b[32m[I 2021-06-11 00:18:23,547]\u001b[0m Trial 17 finished with value: 1.2262760510932682 and parameters: {'embedding_dim': 32, 'l2': 1e-09, 'learning_rate': 0.001}. Best is trial 17 with value: 1.2262760510932682.\u001b[0m\n",
      "\u001b[32m[I 2021-06-11 00:18:35,543]\u001b[0m Trial 18 finished with value: 1.2425891269731244 and parameters: {'embedding_dim': 32, 'l2': 1e-09, 'learning_rate': 0.001}. Best is trial 17 with value: 1.2262760510932682.\u001b[0m\n",
      "\u001b[32m[I 2021-06-11 00:18:47,934]\u001b[0m Trial 19 finished with value: 1.258193145654432 and parameters: {'embedding_dim': 32, 'l2': 1e-09, 'learning_rate': 0.001}. Best is trial 17 with value: 1.2262760510932682.\u001b[0m\n",
      "\u001b[32m[I 2021-06-11 00:19:00,281]\u001b[0m Trial 20 finished with value: 3.501096621028887 and parameters: {'embedding_dim': 32, 'l2': 1e-09, 'learning_rate': 0.0001}. Best is trial 17 with value: 1.2262760510932682.\u001b[0m\n",
      "\u001b[32m[I 2021-06-11 00:19:13,632]\u001b[0m Trial 21 finished with value: 1.2365059375239993 and parameters: {'embedding_dim': 64, 'l2': 1e-10, 'learning_rate': 0.001}. Best is trial 17 with value: 1.2262760510932682.\u001b[0m\n",
      "\u001b[32m[I 2021-06-11 00:19:25,540]\u001b[0m Trial 22 finished with value: 1.2270147468703685 and parameters: {'embedding_dim': 32, 'l2': 1e-09, 'learning_rate': 0.001}. Best is trial 17 with value: 1.2262760510932682.\u001b[0m\n",
      "\u001b[32m[I 2021-06-11 00:19:37,472]\u001b[0m Trial 23 finished with value: 1.2519715478780027 and parameters: {'embedding_dim': 32, 'l2': 1e-09, 'learning_rate': 0.001}. Best is trial 17 with value: 1.2262760510932682.\u001b[0m\n",
      "\u001b[32m[I 2021-06-11 00:19:49,626]\u001b[0m Trial 24 finished with value: 1.2727345586936794 and parameters: {'embedding_dim': 32, 'l2': 1e-09, 'learning_rate': 0.001}. Best is trial 17 with value: 1.2262760510932682.\u001b[0m\n",
      "\u001b[32m[I 2021-06-11 00:20:02,130]\u001b[0m Trial 25 finished with value: 1.411251586110882 and parameters: {'embedding_dim': 32, 'l2': 1e-09, 'learning_rate': 0.01}. Best is trial 17 with value: 1.2262760510932682.\u001b[0m\n",
      "\u001b[32m[I 2021-06-11 00:20:14,376]\u001b[0m Trial 26 finished with value: 1.2219839792389808 and parameters: {'embedding_dim': 32, 'l2': 1e-09, 'learning_rate': 0.001}. Best is trial 26 with value: 1.2219839792389808.\u001b[0m\n",
      "\u001b[32m[I 2021-06-11 00:20:36,303]\u001b[0m Trial 27 finished with value: 1.22464949422747 and parameters: {'embedding_dim': 32, 'l2': 1e-09, 'learning_rate': 0.001}. Best is trial 26 with value: 1.2219839792389808.\u001b[0m\n",
      "\u001b[32m[I 2021-06-11 00:20:58,933]\u001b[0m Trial 28 finished with value: 1.2243542583364038 and parameters: {'embedding_dim': 32, 'l2': 1e-09, 'learning_rate': 0.001}. Best is trial 26 with value: 1.2219839792389808.\u001b[0m\n",
      "\u001b[32m[I 2021-06-11 00:21:21,658]\u001b[0m Trial 29 finished with value: 1.4049063933011068 and parameters: {'embedding_dim': 32, 'l2': 1e-09, 'learning_rate': 0.01}. Best is trial 26 with value: 1.2219839792389808.\u001b[0m\n"
     ]
    }
   ],
   "source": [
    "# i =0\n",
    "study = optuna.create_study(direction=\"minimize\") # Create a new study.\n",
    "study.optimize(objective, n_trials=30)"
   ]
  },
  {
   "cell_type": "code",
   "execution_count": null,
   "id": "1f87a968",
   "metadata": {},
   "outputs": [],
   "source": []
  }
 ],
 "metadata": {
  "kernelspec": {
   "display_name": "Python 3",
   "language": "python",
   "name": "python3"
  },
  "language_info": {
   "codemirror_mode": {
    "name": "ipython",
    "version": 3
   },
   "file_extension": ".py",
   "mimetype": "text/x-python",
   "name": "python",
   "nbconvert_exporter": "python",
   "pygments_lexer": "ipython3",
   "version": "3.8.8"
  }
 },
 "nbformat": 4,
 "nbformat_minor": 5
}
