{
 "cells": [
  {
   "cell_type": "code",
   "execution_count": 1,
   "id": "e7209b6d",
   "metadata": {},
   "outputs": [],
   "source": [
    "from scipy.sparse import coo_matrix, csr_matrix, lil_matrix, vstack, hstack\n",
    "from scipy import sparse"
   ]
  },
  {
   "cell_type": "code",
   "execution_count": 2,
   "id": "0ac2d199",
   "metadata": {},
   "outputs": [],
   "source": [
    "import numpy as np\n",
    "import pandas as pd\n",
    "import torch\n",
    "from sklearn.preprocessing import LabelEncoder\n",
    "from tensorflow.python.keras.preprocessing.sequence import pad_sequences\n",
    "\n",
    "from torch.optim import Adam\n",
    "\n",
    "from deepctr_torch.inputs import SparseFeat, VarLenSparseFeat, get_feature_names, build_input_features\n",
    "\n",
    "from deepctr_torch.callbacks import EarlyStopping, ModelCheckpoint\n"
   ]
  },
  {
   "cell_type": "code",
   "execution_count": 3,
   "id": "7b5f072e",
   "metadata": {},
   "outputs": [],
   "source": [
    "import os"
   ]
  },
  {
   "cell_type": "code",
   "execution_count": 4,
   "id": "f5096e6d",
   "metadata": {},
   "outputs": [],
   "source": [
    "def sparse2tensor(sparse_mat):\n",
    "    \n",
    "    coo = sparse_mat.tocoo()\n",
    "\n",
    "    values = coo.data\n",
    "    indices = np.vstack((coo.row, coo.col))\n",
    "\n",
    "    i = torch.LongTensor(indices)\n",
    "    v = torch.FloatTensor(values)\n",
    "    shape = coo.shape\n",
    "\n",
    "    return torch.sparse.FloatTensor(i, v, torch.Size(shape)).to_dense()\n"
   ]
  },
  {
   "cell_type": "code",
   "execution_count": 5,
   "id": "8ad792f5",
   "metadata": {},
   "outputs": [],
   "source": [
    "root = 'C:/Users/bbb50/Desktop/Python/hw3/Movielens'"
   ]
  },
  {
   "cell_type": "code",
   "execution_count": 6,
   "id": "a6ccb648",
   "metadata": {},
   "outputs": [],
   "source": [
    "\n",
    "\n",
    "user_movie = pd.read_feather(os.path.join(root, 'user_movie_fea.ftr'), use_threads=True)\n",
    "user_list = user_movie.user.value_counts().index.to_numpy()\n",
    "user_list = np.sort(user_list)\n",
    "\n",
    "movie_list = user_movie.movie.value_counts().index.to_numpy()\n",
    "movie_list = np.sort(movie_list).astype(str)\n",
    "\n",
    "n_users = user_list.shape[0]\n",
    "n_movies = movie_list.shape[0]"
   ]
  },
  {
   "cell_type": "code",
   "execution_count": 7,
   "id": "454811d3",
   "metadata": {},
   "outputs": [],
   "source": [
    "data = user_movie"
   ]
  },
  {
   "cell_type": "code",
   "execution_count": 8,
   "id": "0f77a2b3",
   "metadata": {},
   "outputs": [],
   "source": [
    "def genre_split(x):\n",
    "    key_ans = x\n",
    "    for key in key_ans:\n",
    "        if key not in genre_key2index:\n",
    "            genre_key2index[key] = len(genre_key2index) + 1\n",
    "    return list(map(lambda x: genre_key2index[x], key_ans))\n",
    "\n",
    "def user_inter_split(x):\n",
    "    key_ans = x\n",
    "    for key in key_ans:\n",
    "        if key not in user_inter_key2index:\n",
    "            user_inter_key2index[key] = len(user_inter_key2index) + 1\n",
    "    return list(map(lambda x: user_inter_key2index[x], key_ans))\n",
    "\n",
    "def movie_inter_split(x):\n",
    "    key_ans = x\n",
    "    for key in key_ans:\n",
    "        if key not in movie_inter_key2index:\n",
    "            movie_inter_key2index[key] = len(movie_inter_key2index) + 1\n",
    "    return list(map(lambda x: movie_inter_key2index[x], key_ans))"
   ]
  },
  {
   "cell_type": "code",
   "execution_count": 9,
   "id": "72e4ec39",
   "metadata": {},
   "outputs": [],
   "source": [
    "genre_key2index = {}\n",
    "genre_list = list(map(genre_split, data['genre'].values))\n",
    "genre_length = np.array(list(map(len, genre_list)))\n",
    "genre_max_len = max(genre_length)\n",
    "genre_list = pad_sequences(genre_list, maxlen=genre_max_len, padding='post', )"
   ]
  },
  {
   "cell_type": "code",
   "execution_count": 10,
   "id": "c5de13c7",
   "metadata": {},
   "outputs": [],
   "source": [
    "user_inter_key2index = {}\n",
    "user_inter_list = list(map(user_inter_split, data['user_inter'].values))\n",
    "user_inter_length = np.array(list(map(len, user_inter_list)))\n",
    "user_inter_max_len = max(user_inter_length)\n",
    "user_inter_list = pad_sequences(user_inter_list, maxlen=user_inter_max_len, padding='post', )"
   ]
  },
  {
   "cell_type": "code",
   "execution_count": 11,
   "id": "94b7af36",
   "metadata": {},
   "outputs": [],
   "source": [
    "movie_inter_key2index = {}\n",
    "movie_inter_list = list(map(movie_inter_split, data['movie_inter'].values))\n",
    "movie_inter_length = np.array(list(map(len, movie_inter_list)))\n",
    "movie_inter_max_len = max(movie_inter_length)\n",
    "movie_inter_list = pad_sequences(movie_inter_list, maxlen=movie_inter_max_len, padding='post', )"
   ]
  },
  {
   "cell_type": "code",
   "execution_count": 12,
   "id": "ba735eac",
   "metadata": {},
   "outputs": [
    {
     "data": {
      "text/html": [
       "<div>\n",
       "<style scoped>\n",
       "    .dataframe tbody tr th:only-of-type {\n",
       "        vertical-align: middle;\n",
       "    }\n",
       "\n",
       "    .dataframe tbody tr th {\n",
       "        vertical-align: top;\n",
       "    }\n",
       "\n",
       "    .dataframe thead th {\n",
       "        text-align: right;\n",
       "    }\n",
       "</style>\n",
       "<table border=\"1\" class=\"dataframe\">\n",
       "  <thead>\n",
       "    <tr style=\"text-align: right;\">\n",
       "      <th></th>\n",
       "      <th>user</th>\n",
       "      <th>movie</th>\n",
       "      <th>rate</th>\n",
       "      <th>age</th>\n",
       "      <th>occupation</th>\n",
       "      <th>genre</th>\n",
       "      <th>movie_inter</th>\n",
       "      <th>user_inter</th>\n",
       "    </tr>\n",
       "  </thead>\n",
       "  <tbody>\n",
       "    <tr>\n",
       "      <th>0</th>\n",
       "      <td>195</td>\n",
       "      <td>241</td>\n",
       "      <td>3</td>\n",
       "      <td>4</td>\n",
       "      <td>2</td>\n",
       "      <td>[4]</td>\n",
       "      <td>[14, 16, 25, 31, 65, 74, 83, 149, 156, 175, 19...</td>\n",
       "      <td>[1, 13, 18, 57, 62, 64, 77, 78, 86, 97, 173, 1...</td>\n",
       "    </tr>\n",
       "    <tr>\n",
       "      <th>1</th>\n",
       "      <td>185</td>\n",
       "      <td>301</td>\n",
       "      <td>3</td>\n",
       "      <td>3</td>\n",
       "      <td>3</td>\n",
       "      <td>[5, 9, 12, 15]</td>\n",
       "      <td>[35, 38, 39, 46, 110, 111, 133, 139, 169, 172,...</td>\n",
       "      <td>[14, 53, 55, 83, 108, 129, 134, 140, 144, 158,...</td>\n",
       "    </tr>\n",
       "    <tr>\n",
       "      <th>2</th>\n",
       "      <td>21</td>\n",
       "      <td>376</td>\n",
       "      <td>1</td>\n",
       "      <td>2</td>\n",
       "      <td>2</td>\n",
       "      <td>[3, 4]</td>\n",
       "      <td>[27, 32, 60, 98, 99, 104, 116, 133, 177, 189, ...</td>\n",
       "      <td>[4, 7, 55, 63, 94, 101, 102, 124, 157, 196, 19...</td>\n",
       "    </tr>\n",
       "    <tr>\n",
       "      <th>3</th>\n",
       "      <td>243</td>\n",
       "      <td>50</td>\n",
       "      <td>2</td>\n",
       "      <td>2</td>\n",
       "      <td>0</td>\n",
       "      <td>[7, 13, 16, 17]</td>\n",
       "      <td>[22, 41, 63, 90, 113, 123, 124, 127, 174, 181,...</td>\n",
       "      <td>[42, 61, 91, 93, 108, 127, 173, 177, 183, 193,...</td>\n",
       "    </tr>\n",
       "    <tr>\n",
       "      <th>4</th>\n",
       "      <td>165</td>\n",
       "      <td>345</td>\n",
       "      <td>1</td>\n",
       "      <td>4</td>\n",
       "      <td>7</td>\n",
       "      <td>[5, 7]</td>\n",
       "      <td>[7, 63, 93, 108, 177, 196, 221, 266, 267, 275,...</td>\n",
       "      <td>[32, 38, 60, 106, 125, 126, 128, 142, 169, 204...</td>\n",
       "    </tr>\n",
       "    <tr>\n",
       "      <th>...</th>\n",
       "      <td>...</td>\n",
       "      <td>...</td>\n",
       "      <td>...</td>\n",
       "      <td>...</td>\n",
       "      <td>...</td>\n",
       "      <td>...</td>\n",
       "      <td>...</td>\n",
       "      <td>...</td>\n",
       "    </tr>\n",
       "    <tr>\n",
       "      <th>99995</th>\n",
       "      <td>879</td>\n",
       "      <td>475</td>\n",
       "      <td>3</td>\n",
       "      <td>1</td>\n",
       "      <td>5</td>\n",
       "      <td>[4]</td>\n",
       "      <td>[10, 18, 21, 55, 86, 108, 109, 124, 207, 209, ...</td>\n",
       "      <td>[55, 86, 91, 93, 108, 129, 177, 220, 221, 248,...</td>\n",
       "    </tr>\n",
       "    <tr>\n",
       "      <th>99996</th>\n",
       "      <td>715</td>\n",
       "      <td>203</td>\n",
       "      <td>5</td>\n",
       "      <td>3</td>\n",
       "      <td>4</td>\n",
       "      <td>[4, 14]</td>\n",
       "      <td>[2, 34, 39, 46, 106, 110, 112, 132, 133, 139, ...</td>\n",
       "      <td>[5, 6, 17, 58, 59, 84, 127, 150, 193, 209, 229...</td>\n",
       "    </tr>\n",
       "    <tr>\n",
       "      <th>99997</th>\n",
       "      <td>275</td>\n",
       "      <td>1089</td>\n",
       "      <td>1</td>\n",
       "      <td>2</td>\n",
       "      <td>5</td>\n",
       "      <td>[15]</td>\n",
       "      <td>[1682]</td>\n",
       "      <td>[55, 91, 93, 108, 129, 177, 221, 266, 267, 279...</td>\n",
       "    </tr>\n",
       "    <tr>\n",
       "      <th>99998</th>\n",
       "      <td>12</td>\n",
       "      <td>224</td>\n",
       "      <td>2</td>\n",
       "      <td>4</td>\n",
       "      <td>7</td>\n",
       "      <td>[3, 4]</td>\n",
       "      <td>[5, 15, 17, 47, 50, 59, 89, 90, 122, 127, 227,...</td>\n",
       "      <td>[6, 58, 63, 93, 94, 101, 150, 177, 193, 200, 2...</td>\n",
       "    </tr>\n",
       "    <tr>\n",
       "      <th>99999</th>\n",
       "      <td>11</td>\n",
       "      <td>202</td>\n",
       "      <td>3</td>\n",
       "      <td>2</td>\n",
       "      <td>1</td>\n",
       "      <td>[17]</td>\n",
       "      <td>[16, 25, 31, 53, 56, 65, 83, 149, 189, 264, 27...</td>\n",
       "      <td>[15, 17, 23, 40, 41, 42, 55, 63, 94, 127, 160,...</td>\n",
       "    </tr>\n",
       "  </tbody>\n",
       "</table>\n",
       "<p>100000 rows × 8 columns</p>\n",
       "</div>"
      ],
      "text/plain": [
       "       user  movie  rate  age  occupation            genre  \\\n",
       "0       195    241     3    4           2              [4]   \n",
       "1       185    301     3    3           3   [5, 9, 12, 15]   \n",
       "2        21    376     1    2           2           [3, 4]   \n",
       "3       243     50     2    2           0  [7, 13, 16, 17]   \n",
       "4       165    345     1    4           7           [5, 7]   \n",
       "...     ...    ...   ...  ...         ...              ...   \n",
       "99995   879    475     3    1           5              [4]   \n",
       "99996   715    203     5    3           4          [4, 14]   \n",
       "99997   275   1089     1    2           5             [15]   \n",
       "99998    12    224     2    4           7           [3, 4]   \n",
       "99999    11    202     3    2           1             [17]   \n",
       "\n",
       "                                             movie_inter  \\\n",
       "0      [14, 16, 25, 31, 65, 74, 83, 149, 156, 175, 19...   \n",
       "1      [35, 38, 39, 46, 110, 111, 133, 139, 169, 172,...   \n",
       "2      [27, 32, 60, 98, 99, 104, 116, 133, 177, 189, ...   \n",
       "3      [22, 41, 63, 90, 113, 123, 124, 127, 174, 181,...   \n",
       "4      [7, 63, 93, 108, 177, 196, 221, 266, 267, 275,...   \n",
       "...                                                  ...   \n",
       "99995  [10, 18, 21, 55, 86, 108, 109, 124, 207, 209, ...   \n",
       "99996  [2, 34, 39, 46, 106, 110, 112, 132, 133, 139, ...   \n",
       "99997                                             [1682]   \n",
       "99998  [5, 15, 17, 47, 50, 59, 89, 90, 122, 127, 227,...   \n",
       "99999  [16, 25, 31, 53, 56, 65, 83, 149, 189, 264, 27...   \n",
       "\n",
       "                                              user_inter  \n",
       "0      [1, 13, 18, 57, 62, 64, 77, 78, 86, 97, 173, 1...  \n",
       "1      [14, 53, 55, 83, 108, 129, 134, 140, 144, 158,...  \n",
       "2      [4, 7, 55, 63, 94, 101, 102, 124, 157, 196, 19...  \n",
       "3      [42, 61, 91, 93, 108, 127, 173, 177, 183, 193,...  \n",
       "4      [32, 38, 60, 106, 125, 126, 128, 142, 169, 204...  \n",
       "...                                                  ...  \n",
       "99995  [55, 86, 91, 93, 108, 129, 177, 220, 221, 248,...  \n",
       "99996  [5, 6, 17, 58, 59, 84, 127, 150, 193, 209, 229...  \n",
       "99997  [55, 91, 93, 108, 129, 177, 221, 266, 267, 279...  \n",
       "99998  [6, 58, 63, 93, 94, 101, 150, 177, 193, 200, 2...  \n",
       "99999  [15, 17, 23, 40, 41, 42, 55, 63, 94, 127, 160,...  \n",
       "\n",
       "[100000 rows x 8 columns]"
      ]
     },
     "execution_count": 12,
     "metadata": {},
     "output_type": "execute_result"
    }
   ],
   "source": [
    "data"
   ]
  },
  {
   "cell_type": "code",
   "execution_count": 13,
   "id": "2a732827",
   "metadata": {},
   "outputs": [],
   "source": [
    "fixlen_feature_columns_1 = [SparseFeat(feat, data[feat].nunique(), embedding_dim=50) for feat in user_movie.columns[:2]]\n",
    "fixlen_feature_columns_2 = [SparseFeat(feat, data[feat].nunique(), embedding_dim=50) for feat in user_movie.columns[3:5]]\n",
    "fixlen_feature_columns = fixlen_feature_columns_1 + fixlen_feature_columns_2\n",
    "\n",
    "varlen_feature_columns = [VarLenSparseFeat(SparseFeat('genre', vocabulary_size=len(\n",
    "    genre_key2index) + 1, embedding_dim=50), maxlen=genre_max_len, combiner='mean'),\n",
    "                          VarLenSparseFeat(SparseFeat('user_inter', vocabulary_size=len(\n",
    "    user_inter_key2index) + 1, embedding_dim=50), maxlen=user_inter_max_len, combiner='mean'),\n",
    "                          VarLenSparseFeat(SparseFeat('movie_inter', vocabulary_size=len(\n",
    "    movie_inter_key2index) + 1, embedding_dim=50), maxlen=movie_inter_max_len, combiner='mean')\n",
    "                         ]  # Notice : value 0 is for padding for sequence input feature\n",
    "\n",
    "linear_feature_columns = fixlen_feature_columns + varlen_feature_columns\n",
    "dnn_feature_columns = fixlen_feature_columns + varlen_feature_columns\n",
    "\n",
    "feature_names = get_feature_names(linear_feature_columns + dnn_feature_columns)"
   ]
  },
  {
   "cell_type": "code",
   "execution_count": 14,
   "id": "ce6445ec",
   "metadata": {},
   "outputs": [],
   "source": [
    "model_input = {name: data[name] for name in user_movie.columns[:5] if name !='rate'}  #\n",
    "model_input[\"genre\"] = genre_list\n",
    "model_input[\"user_inter\"] = user_inter_list\n",
    "model_input[\"movie_inter\"] = movie_inter_list"
   ]
  },
  {
   "cell_type": "code",
   "execution_count": 15,
   "id": "b3ae1c05",
   "metadata": {},
   "outputs": [],
   "source": [
    "genre_list =[]\n",
    "user_inter_list = []\n",
    "movie_inter_list = []"
   ]
  },
  {
   "cell_type": "code",
   "execution_count": 16,
   "id": "5294a0b8",
   "metadata": {},
   "outputs": [
    {
     "name": "stdout",
     "output_type": "stream",
     "text": [
      "cuda ready...\n"
     ]
    }
   ],
   "source": [
    "device = 'cpu'\n",
    "use_cuda = True\n",
    "if use_cuda and torch.cuda.is_available():\n",
    "    print('cuda ready...')\n",
    "    device = 'cuda:0'"
   ]
  },
  {
   "cell_type": "code",
   "execution_count": 43,
   "id": "d560764a",
   "metadata": {},
   "outputs": [],
   "source": [
    "# feature_index = build_input_features(linear_feature_columns + dnn_feature_columns)\n",
    "# x = [model_input[feature] for feature in feature_index]\n",
    "# for i in range(len(x)):\n",
    "#     if len(x[i].shape) == 1:\n",
    "#         x[i] = np.expand_dims(x[i], axis=1)\n",
    "# sparse_x = [sparse.csr_matrix(fea) for fea in x]\n",
    "# sparse_x = hstack(sparse_x)\n",
    "# sparse_x = sparse_x.tocsr()\n",
    "# sparse.save_npz('C:/Users/bbb50/Desktop/Python/hw3/Movielens/dctr_x.npz', sparse_x, True) "
   ]
  },
  {
   "cell_type": "code",
   "execution_count": 29,
   "id": "0d33ce16",
   "metadata": {},
   "outputs": [],
   "source": [
    "sparse_x = sparse.load_npz('C:/Users/bbb50/Desktop/Python/hw3/Movielens/dctr_x.npz').astype(np.int64)"
   ]
  },
  {
   "cell_type": "code",
   "execution_count": 30,
   "id": "35107256",
   "metadata": {},
   "outputs": [],
   "source": [
    "target = data.rate.values"
   ]
  },
  {
   "cell_type": "code",
   "execution_count": 31,
   "id": "8b0fc200",
   "metadata": {},
   "outputs": [],
   "source": [
    "\n",
    "train_path = os.path.join(root, 'train')\n",
    "val_path = os.path.join(root, 'val')\n",
    "test_path = os.path.join(root, 'test')\n"
   ]
  },
  {
   "cell_type": "code",
   "execution_count": 32,
   "id": "2f26827f",
   "metadata": {},
   "outputs": [],
   "source": [
    "from deepctr_torch.models import DeepFM\n",
    "def DeepFM_train(train_x_tensor, train_y, val_x_tensor, val_y):\n",
    "    \n",
    "    model = DeepFM(linear_feature_columns, dnn_feature_columns, dnn_dropout=0.2, l2_reg_dnn = 0.0005, dnn_use_bn=True, task='regression', device=device)\n",
    "    model.compile(Adam(model.parameters(),0.00005), \"mse\", metrics=['mse'])\n",
    "    s_p = 'C:/Users/bbb50/Desktop/Python/hw3/Movielens/model/deepfm/' + str(i) + '/deepfm_{epoch}-{val_mse:.3f}.ckpt'\n",
    "    es = EarlyStopping(monitor='val_mse', min_delta=0, verbose=1, patience=10, mode='min')\n",
    "    mdckpt = ModelCheckpoint(filepath = s_p,monitor=\"val_mse\",mode=\"min\",  save_best_only= True)\n",
    "    history = model.fit(train_x=train_x_tensor, train_y=train_y, val_x=val_x_tensor, val_y=val_y , batch_size=256, epochs=100, verbose=2,callbacks=[es,mdckpt])    \n",
    "    train_mse = history.history['mse']\n",
    "    val_mse = history.history['val_mse']\n",
    "    values = np.arange(1, len(history.history['mse'])+1)\n",
    "\n",
    "    with plt.style.context('fivethirtyeight'):\n",
    "\n",
    "        plt.plot(values, train_mse, label='train_mse', linestyle='--')\n",
    "        plt.plot(values, val_mse, label='val_mse', ls='--')\n",
    "    plt.legend()\n",
    "    plt.savefig('C:/Users/bbb50/Desktop/Python/hw3/Movielens/model/deepfm/' + str(i) +'/mse.png')\n",
    "    plt.show()\n",
    "    fig = plt.gcf() \n",
    "\n",
    "    plt.close(fig) "
   ]
  },
  {
   "cell_type": "code",
   "execution_count": 33,
   "id": "7486cc0a",
   "metadata": {},
   "outputs": [],
   "source": [
    "from deepctr_torch.models.afm import AFM\n",
    "def AFM_train(train_x_tensor, train_y, val_x_tensor, val_y):\n",
    "    model = AFM(linear_feature_columns, dnn_feature_columns, afm_dropout=0.2, task='regression', device=device)\n",
    "    model.compile(Adam(model.parameters(),0.0008), \"mse\", metrics=['mse'])\n",
    "    s_p = 'C:/Users/bbb50/Desktop/Python/hw3/Movielens/model/AFM/' + str(i) + '/AFM_{epoch}-{val_mse:.3f}.ckpt'\n",
    "\n",
    "    es = EarlyStopping(monitor='val_mse', min_delta=0, verbose=1, patience=10, mode='min')\n",
    "    mdckpt = ModelCheckpoint(filepath = s_p,monitor=\"val_mse\",mode=\"min\",  save_best_only= True)\n",
    "    history = model.fit(train_x=train_x_tensor, train_y=train_y, val_x=val_x_tensor, val_y=val_y , batch_size=256, epochs=100, verbose=2,callbacks=[es,mdckpt])\n",
    "    train_mse = history.history['mse']\n",
    "    val_mse = history.history['val_mse']\n",
    "    values = np.arange(1, len(history.history['mse'])+1)\n",
    "\n",
    "    with plt.style.context('fivethirtyeight'):\n",
    "\n",
    "        plt.plot(values, train_mse, label='train_mse', linestyle='--')\n",
    "        plt.plot(values, val_mse, label='val_mse', ls='--')\n",
    "    plt.legend()\n",
    "    plt.savefig('C:/Users/bbb50/Desktop/Python/hw3/Movielens/model/AFM/' + str(i) +'/mse.png')\n",
    "    plt.show()\n",
    "    fig = plt.gcf() \n",
    "\n",
    "    plt.close(fig) "
   ]
  },
  {
   "cell_type": "code",
   "execution_count": 34,
   "id": "bee3dd25",
   "metadata": {},
   "outputs": [],
   "source": [
    "from deepctr_torch.models.ccpm import CCPM\n",
    "def CCPM_train(train_x_tensor, train_y, val_x_tensor, val_y):\n",
    "    model = CCPM(linear_feature_columns, dnn_feature_columns, dnn_dropout=0.2, l2_reg_dnn = 0.0005, dnn_use_bn=True, task='regression', device=device)\n",
    "    model.compile(Adam(model.parameters(),0.00005), \"mse\", metrics=['mse'])\n",
    "    s_p = 'C:/Users/bbb50/Desktop/Python/hw3/Movielens/model/CCPM/' + str(i) + '/CCPM_{epoch}-{val_mse:.3f}.ckpt'\n",
    "    es = EarlyStopping(monitor='val_mse', min_delta=0, verbose=1, patience=10, mode='min')\n",
    "    mdckpt = ModelCheckpoint(filepath = s_p,monitor=\"val_mse\",mode=\"min\",  save_best_only= True)\n",
    "    history = model.fit(train_x=train_x_tensor, train_y=train_y, val_x=val_x_tensor, val_y=val_y , batch_size=256, epochs=100, verbose=2,callbacks=[es,mdckpt])\n",
    "    train_mse = history.history['mse']\n",
    "    val_mse = history.history['val_mse']\n",
    "    values = np.arange(1, len(history.history['mse'])+1)\n",
    "\n",
    "    with plt.style.context('fivethirtyeight'):\n",
    "\n",
    "        plt.plot(values, train_mse, label='train_mse', linestyle='--')\n",
    "        plt.plot(values, val_mse, label='val_mse', ls='--')\n",
    "    plt.legend()\n",
    "    plt.savefig('C:/Users/bbb50/Desktop/Python/hw3/Movielens/model/CCPM/' + str(i) +'/mse.png')\n",
    "    plt.show()\n",
    "    fig = plt.gcf() \n",
    "\n",
    "    plt.close(fig) "
   ]
  },
  {
   "cell_type": "code",
   "execution_count": 35,
   "id": "df06c17b",
   "metadata": {},
   "outputs": [],
   "source": [
    "from deepctr_torch.models.pnn import PNN\n",
    "def IPNN_train(train_x_tensor, train_y, val_x_tensor, val_y):\n",
    "    model = PNN( dnn_feature_columns, dnn_dropout=0.2, l2_reg_dnn = 0.0005, use_inner=True, use_outter=False,  task='regression', device=device)\n",
    "    model.compile(Adam(model.parameters(),0.0001), \"mse\", metrics=['mse'])\n",
    "    s_p = 'C:/Users/bbb50/Desktop/Python/hw3/Movielens/model/IPNN/' + str(i) + '/IPNN_{epoch}-{val_mse:.3f}.ckpt'\n",
    "    es = EarlyStopping(monitor='val_mse', min_delta=0, verbose=1, patience=10, mode='min')\n",
    "    mdckpt = ModelCheckpoint(filepath = s_p,monitor=\"val_mse\",mode=\"min\",  save_best_only= True)\n",
    "    history = model.fit(train_x=train_x_tensor, train_y=train_y, val_x=val_x_tensor, val_y=val_y  , batch_size=256, epochs=100, verbose=2,callbacks=[es,mdckpt])\n",
    "    train_mse = history.history['mse']\n",
    "    val_mse = history.history['val_mse']\n",
    "    values = np.arange(1, len(history.history['mse'])+1)\n",
    "\n",
    "    with plt.style.context('fivethirtyeight'):\n",
    "\n",
    "        plt.plot(values, train_mse, label='train_mse', linestyle='--')\n",
    "        plt.plot(values, val_mse, label='val_mse', ls='--')\n",
    "    plt.legend()\n",
    "    plt.savefig('C:/Users/bbb50/Desktop/Python/hw3/Movielens/model/IPNN/' + str(i) +'/mse.png')\n",
    "    plt.show()\n",
    "    fig = plt.gcf() \n",
    "\n",
    "    plt.close(fig) "
   ]
  },
  {
   "cell_type": "code",
   "execution_count": 36,
   "id": "5cc8f445",
   "metadata": {},
   "outputs": [],
   "source": [
    "from deepctr_torch.models.pnn import PNN\n",
    "def OPNN_train(train_x_tensor, train_y, val_x_tensor, val_y):\n",
    "    model = PNN( dnn_feature_columns, dnn_dropout=0.2, l2_reg_dnn = 0.0005,use_inner=False, use_outter=True,  task='regression', device=device)\n",
    "    model.compile(Adam(model.parameters(),0.0005), \"mse\", metrics=['mse'])\n",
    "    s_p = 'C:/Users/bbb50/Desktop/Python/hw3/Movielens/model/OPNN/' + str(i) + '/OPNN_{epoch}-{val_mse:.3f}.ckpt'\n",
    "    es = EarlyStopping(monitor='val_mse', min_delta=0, verbose=1, patience=10, mode='min')\n",
    "    mdckpt = ModelCheckpoint(filepath = s_p,monitor=\"val_mse\",mode=\"min\",  save_best_only= True)\n",
    "    history = model.fit(train_x=train_x_tensor, train_y=train_y, val_x=val_x_tensor, val_y=val_y , batch_size=256, epochs=100, verbose=2,callbacks=[es,mdckpt])\n",
    "    train_mse = history.history['mse']\n",
    "    val_mse = history.history['val_mse']\n",
    "    values = np.arange(1, len(history.history['mse'])+1)\n",
    "\n",
    "    with plt.style.context('fivethirtyeight'):\n",
    "\n",
    "        plt.plot(values, train_mse, label='train_mse', linestyle='--')\n",
    "        plt.plot(values, val_mse, label='val_mse', ls='--')\n",
    "    plt.legend()\n",
    "    plt.savefig('C:/Users/bbb50/Desktop/Python/hw3/Movielens/model/OPNN/' + str(i) +'/mse.png')\n",
    "    plt.show()\n",
    "    fig = plt.gcf() \n",
    "\n",
    "    plt.close(fig) "
   ]
  },
  {
   "cell_type": "code",
   "execution_count": 37,
   "id": "08d41104",
   "metadata": {},
   "outputs": [],
   "source": [
    "from deepctr_torch.models.wdl import WDL\n",
    "def WDL_train(train_x_tensor, train_y, val_x_tensor, val_y):\n",
    "    model = WDL(linear_feature_columns, dnn_feature_columns, dnn_dropout=0.2, l2_reg_dnn = 0.0005, task='regression', device=device)\n",
    "    model.compile(Adam(model.parameters(),0.0008), \"mse\", metrics=['mse'])\n",
    "    s_p = 'C:/Users/bbb50/Desktop/Python/hw3/Movielens/model/wide_deep/' + str(i) + '/wide_deep_{epoch}-{val_mse:.3f}.ckpt'\n",
    "    es = EarlyStopping(monitor='val_mse', min_delta=0, verbose=1, patience=10, mode='min')\n",
    "    mdckpt = ModelCheckpoint(filepath = s_p,monitor=\"val_mse\",mode=\"min\",  save_best_only= True)\n",
    "    history = model.fit(train_x=train_x_tensor, train_y=train_y, val_x=val_x_tensor, val_y=val_y, batch_size=256, epochs=100, verbose=2,callbacks=[es,mdckpt])\n",
    "    train_mse = history.history['mse']\n",
    "    val_mse = history.history['val_mse']\n",
    "    values = np.arange(1, len(history.history['mse'])+1)\n",
    "\n",
    "    with plt.style.context('fivethirtyeight'):\n",
    "\n",
    "        plt.plot(values, train_mse, label='train_mse', linestyle='--')\n",
    "        plt.plot(values, val_mse, label='val_mse', ls='--')\n",
    "    plt.legend()\n",
    "    plt.savefig('C:/Users/bbb50/Desktop/Python/hw3/Movielens/model/wide_deep/' + str(i) +'/mse.png')\n",
    "    plt.show()\n",
    "    fig = plt.gcf() \n",
    "\n",
    "    plt.close(fig) "
   ]
  },
  {
   "cell_type": "code",
   "execution_count": 38,
   "id": "30184794",
   "metadata": {},
   "outputs": [],
   "source": [
    "from  deepctr_torch.models.nfm import NFM\n",
    "def NFM_train(train_x_tensor, train_y, val_x_tensor, val_y):\n",
    "    model = NFM(linear_feature_columns, dnn_feature_columns, dnn_dropout=0.2, l2_reg_dnn = 0.0005, task='regression', device=device)\n",
    "    model.compile(Adam(model.parameters(),0.0003), \"mse\", metrics=['mse'])\n",
    "    s_p = 'C:/Users/bbb50/Desktop/Python/hw3/Movielens/model/NFM/' + str(i) + '/NFM_{epoch}-{val_mse:.3f}.ckpt'\n",
    "    es = EarlyStopping(monitor='val_mse', min_delta=0, verbose=1, patience=10, mode='min')\n",
    "    mdckpt = ModelCheckpoint(filepath = s_p,monitor=\"val_mse\",mode=\"min\",  save_best_only= True)\n",
    "    history = model.fit(train_x=train_x_tensor, train_y=train_y, val_x=val_x_tensor, val_y=val_y, batch_size=256, epochs=100, verbose=2,callbacks=[es,mdckpt])\n",
    "    train_mse = history.history['mse']\n",
    "    val_mse = history.history['val_mse']\n",
    "    values = np.arange(1, len(history.history['mse'])+1)\n",
    "\n",
    "    with plt.style.context('fivethirtyeight'):\n",
    "\n",
    "        plt.plot(values, train_mse, label='train_mse', linestyle='--')\n",
    "        plt.plot(values, val_mse, label='val_mse', ls='--')\n",
    "    plt.legend()\n",
    "    plt.savefig('C:/Users/bbb50/Desktop/Python/hw3/Movielens/model/NFM/' + str(i) +'/mse.png')\n",
    "    plt.show()\n",
    "    fig = plt.gcf() \n",
    "\n",
    "    plt.close(fig) "
   ]
  },
  {
   "cell_type": "code",
   "execution_count": 39,
   "id": "54529551",
   "metadata": {},
   "outputs": [],
   "source": [
    "from deepctr_torch.models.dcn import DCN\n",
    "def DCN_train(train_x_tensor, train_y, val_x_tensor, val_y):\n",
    "    model = DCN(linear_feature_columns, dnn_feature_columns, dnn_dropout=0.2, l2_reg_dnn = 0.0005, dnn_use_bn=True, task='regression', device=device)\n",
    "    model.compile(Adam(model.parameters(),0.00005), \"mse\", metrics=['mse'])\n",
    "    s_p = 'C:/Users/bbb50/Desktop/Python/hw3/Movielens/model/DCN/' + str(i) + '/DCN_{epoch}-{val_mse:.3f}.ckpt'\n",
    "    es = EarlyStopping(monitor='val_mse', min_delta=0, verbose=1, patience=10, mode='min')\n",
    "    mdckpt = ModelCheckpoint(filepath = s_p,monitor=\"val_mse\",mode=\"min\",  save_best_only= True)\n",
    "    history = model.fit(train_x=train_x_tensor, train_y=train_y, val_x=val_x_tensor, val_y=val_y, batch_size=256, epochs=100, verbose=2,callbacks=[es,mdckpt])\n",
    "    train_mse = history.history['mse']\n",
    "    val_mse = history.history['val_mse']\n",
    "    values = np.arange(1, len(history.history['mse'])+1)\n",
    "\n",
    "    with plt.style.context('fivethirtyeight'):\n",
    "\n",
    "        plt.plot(values, train_mse, label='train_mse', linestyle='--')\n",
    "        plt.plot(values, val_mse, label='val_mse', ls='--')\n",
    "    plt.legend()\n",
    "    plt.savefig('C:/Users/bbb50/Desktop/Python/hw3/Movielens/model/DCN/' + str(i) +'/mse.png')\n",
    "    plt.show()\n",
    "    fig = plt.gcf() \n",
    "\n",
    "    plt.close(fig) "
   ]
  },
  {
   "cell_type": "code",
   "execution_count": 40,
   "id": "130348df",
   "metadata": {},
   "outputs": [],
   "source": [
    "from deepctr_torch.models.xdeepfm import xDeepFM\n",
    "def xDeepFM_train(train_x_tensor, train_y, val_x_tensor, val_y):\n",
    "    model = xDeepFM(linear_feature_columns, dnn_feature_columns, dnn_dropout=0.2, l2_reg_dnn = 0.0005, dnn_use_bn=True, task='regression', device=device)\n",
    "    model.compile(Adam(model.parameters(),0.00001), \"mse\", metrics=['mse'])\n",
    "    s_p = 'C:/Users/bbb50/Desktop/Python/hw3/Movielens/model/xDeepFM/' + str(i) + '/xDeepFM_{epoch}-{val_mse:.3f}.ckpt'\n",
    "    es = EarlyStopping(monitor='val_mse', min_delta=0, verbose=1, patience=10, mode='min')\n",
    "    mdckpt = ModelCheckpoint(filepath = s_p,monitor=\"val_mse\",mode=\"min\",  save_best_only= True)\n",
    "    history = model.fit(train_x=train_x_tensor, train_y=train_y, val_x=val_x_tensor, val_y=val_y, batch_size=256, epochs=100, verbose=2,callbacks=[es,mdckpt])\n",
    "    train_mse = history.history['mse']\n",
    "    val_mse = history.history['val_mse']\n",
    "    values = np.arange(1, len(history.history['mse'])+1)\n",
    "\n",
    "    with plt.style.context('fivethirtyeight'):\n",
    "\n",
    "        plt.plot(values, train_mse, label='train_mse', linestyle='--')\n",
    "        plt.plot(values, val_mse, label='val_mse', ls='--')\n",
    "    plt.legend()\n",
    "    plt.savefig('C:/Users/bbb50/Desktop/Python/hw3/Movielens/model/xDeepFM/' + str(i) +'/mse.png')\n",
    "    plt.show()\n",
    "    fig = plt.gcf() \n",
    "\n",
    "    plt.close(fig) "
   ]
  },
  {
   "cell_type": "code",
   "execution_count": 41,
   "id": "99a31f4b",
   "metadata": {},
   "outputs": [],
   "source": [
    "from deepctr_torch.models.difm import DIFM\n",
    "def DIFM_train(train_x_tensor, train_y, val_x_tensor, val_y):\n",
    "    model = DIFM(linear_feature_columns, dnn_feature_columns, dnn_dropout=0.2, l2_reg_dnn = 0.0005, dnn_use_bn=True, task='regression', device=device)\n",
    "    model.compile(Adam(model.parameters(),0.00005), \"mse\", metrics=['mse'])\n",
    "    s_p = 'C:/Users/bbb50/Desktop/Python/hw3/Movielens/model/DIFM/' + str(i) + '/DIFM_{epoch}-{val_mse:.3f}.ckpt'\n",
    "    es = EarlyStopping(monitor='val_mse', min_delta=0, verbose=1, patience=10, mode='min')\n",
    "    mdckpt = ModelCheckpoint(filepath = s_p,monitor=\"val_mse\",mode=\"min\",  save_best_only= True)\n",
    "    history = model.fit(train_x=train_x_tensor, train_y=train_y, val_x=val_x_tensor, val_y=val_y, batch_size=256, epochs=100, verbose=2,callbacks=[es,mdckpt])\n",
    "    train_mse = history.history['mse']\n",
    "    val_mse = history.history['val_mse']\n",
    "    values = np.arange(1, len(history.history['mse'])+1)\n",
    "\n",
    "    with plt.style.context('fivethirtyeight'):\n",
    "\n",
    "        plt.plot(values, train_mse, label='train_mse', linestyle='--')\n",
    "        plt.plot(values, val_mse, label='val_mse', ls='--')\n",
    "    plt.legend()\n",
    "    plt.savefig('C:/Users/bbb50/Desktop/Python/hw3/Movielens/model/DIFM/' + str(i) +'/mse.png')\n",
    "    plt.show()\n",
    "    fig = plt.gcf() \n",
    "\n",
    "    plt.close(fig) "
   ]
  },
  {
   "cell_type": "code",
   "execution_count": 42,
   "id": "a605bc39",
   "metadata": {},
   "outputs": [],
   "source": [
    "from matplotlib import pyplot as plt"
   ]
  },
  {
   "cell_type": "code",
   "execution_count": 44,
   "id": "be86ec96",
   "metadata": {},
   "outputs": [
    {
     "name": "stdout",
     "output_type": "stream",
     "text": [
      "==================================================\n",
      "number: 1\n",
      "DeepFM\n",
      "cuda:0\n",
      "Train on 70000 samples, validate on 10000 samples, 274 steps per epoch\n",
      "Epoch 1/100\n",
      "7s - loss:  5.7585 - mse:  5.7563 - val_mse:  3.8301\n",
      "Epoch 2/100\n",
      "7s - loss:  0.9568 - mse:  0.9567 - val_mse:  0.9124\n",
      "Epoch 3/100\n",
      "7s - loss:  0.8669 - mse:  0.8669 - val_mse:  0.9082\n",
      "Epoch 4/100\n",
      "6s - loss:  0.8561 - mse:  0.8561 - val_mse:  0.9048\n",
      "Epoch 5/100\n",
      "7s - loss:  0.8477 - mse:  0.8480 - val_mse:  0.9083\n",
      "Epoch 6/100\n",
      "7s - loss:  0.8368 - mse:  0.8370 - val_mse:  0.9071\n",
      "Epoch 7/100\n",
      "6s - loss:  0.8388 - mse:  0.8392 - val_mse:  0.9140\n",
      "Epoch 8/100\n",
      "6s - loss:  0.8283 - mse:  0.8281 - val_mse:  0.9207\n",
      "Epoch 9/100\n",
      "6s - loss:  0.8175 - mse:  0.8176 - val_mse:  0.9173\n",
      "Epoch 10/100\n",
      "4s - loss:  0.8165 - mse:  0.8163 - val_mse:  0.9069\n",
      "Epoch 11/100\n",
      "4s - loss:  0.7996 - mse:  0.7994 - val_mse:  0.9026\n",
      "Epoch 12/100\n",
      "4s - loss:  0.7839 - mse:  0.7837 - val_mse:  0.9085\n",
      "Epoch 13/100\n",
      "4s - loss:  0.7755 - mse:  0.7756 - val_mse:  0.8971\n",
      "Epoch 14/100\n",
      "4s - loss:  0.7632 - mse:  0.7631 - val_mse:  0.9145\n",
      "Epoch 15/100\n",
      "4s - loss:  0.7537 - mse:  0.7539 - val_mse:  0.9015\n",
      "Epoch 16/100\n",
      "4s - loss:  0.7442 - mse:  0.7443 - val_mse:  0.8961\n",
      "Epoch 17/100\n",
      "4s - loss:  0.7370 - mse:  0.7372 - val_mse:  0.8989\n",
      "Epoch 18/100\n",
      "4s - loss:  0.7270 - mse:  0.7270 - val_mse:  0.8976\n",
      "Epoch 19/100\n",
      "4s - loss:  0.7195 - mse:  0.7196 - val_mse:  0.8964\n",
      "Epoch 20/100\n",
      "4s - loss:  0.7157 - mse:  0.7155 - val_mse:  0.8985\n",
      "Epoch 21/100\n",
      "4s - loss:  0.7067 - mse:  0.7068 - val_mse:  0.8909\n",
      "Epoch 22/100\n",
      "4s - loss:  0.7008 - mse:  0.7006 - val_mse:  0.8947\n",
      "Epoch 23/100\n",
      "4s - loss:  0.6899 - mse:  0.6896 - val_mse:  0.9104\n",
      "Epoch 24/100\n",
      "4s - loss:  0.6833 - mse:  0.6835 - val_mse:  0.9098\n",
      "Epoch 25/100\n",
      "4s - loss:  0.6759 - mse:  0.6757 - val_mse:  0.9094\n",
      "Epoch 26/100\n",
      "4s - loss:  0.6656 - mse:  0.6657 - val_mse:  0.9058\n",
      "Epoch 27/100\n",
      "4s - loss:  0.6526 - mse:  0.6527 - val_mse:  0.9117\n",
      "Epoch 28/100\n",
      "4s - loss:  0.6486 - mse:  0.6483 - val_mse:  0.9093\n",
      "Epoch 29/100\n",
      "4s - loss:  0.6340 - mse:  0.6339 - val_mse:  0.9126\n",
      "Epoch 30/100\n",
      "4s - loss:  0.6242 - mse:  0.6241 - val_mse:  0.9399\n",
      "Epoch 31/100\n",
      "4s - loss:  0.6157 - mse:  0.6154 - val_mse:  0.9246\n",
      "Epoch 00031: early stopping\n"
     ]
    },
    {
     "data": {
      "image/png": "[encoded data removed]",
      "text/plain": [
       "<Figure size 432x288 with 1 Axes>"
      ]
     },
     "metadata": {},
     "output_type": "display_data"
    },
    {
     "name": "stdout",
     "output_type": "stream",
     "text": [
      "AFM\n",
      "cuda:0\n",
      "Train on 70000 samples, validate on 10000 samples, 274 steps per epoch\n",
      "Epoch 1/100\n",
      "3s - loss:  7.6519 - mse:  7.6386 - val_mse:  1.2520\n",
      "Epoch 2/100\n",
      "3s - loss:  1.1671 - mse:  1.1664 - val_mse:  1.1442\n",
      "Epoch 3/100\n",
      "3s - loss:  1.0990 - mse:  1.0982 - val_mse:  1.0876\n",
      "Epoch 4/100\n",
      "3s - loss:  1.0329 - mse:  1.0321 - val_mse:  1.0105\n",
      "Epoch 5/100\n",
      "4s - loss:  0.9357 - mse:  0.9355 - val_mse:  0.9360\n",
      "Epoch 6/100\n",
      "3s - loss:  0.8779 - mse:  0.8777 - val_mse:  0.9146\n",
      "Epoch 7/100\n",
      "3s - loss:  0.8540 - mse:  0.8537 - val_mse:  0.9065\n",
      "Epoch 8/100\n",
      "3s - loss:  0.8406 - mse:  0.8405 - val_mse:  0.9065\n",
      "Epoch 9/100\n",
      "3s - loss:  0.8301 - mse:  0.8299 - val_mse:  0.8988\n",
      "Epoch 10/100\n",
      "3s - loss:  0.8216 - mse:  0.8220 - val_mse:  0.9015\n",
      "Epoch 11/100\n",
      "4s - loss:  0.8131 - mse:  0.8128 - val_mse:  0.8947\n",
      "Epoch 12/100\n",
      "3s - loss:  0.8047 - mse:  0.8045 - val_mse:  0.8971\n",
      "Epoch 13/100\n",
      "4s - loss:  0.7964 - mse:  0.7959 - val_mse:  0.8921\n",
      "Epoch 14/100\n",
      "4s - loss:  0.7874 - mse:  0.7871 - val_mse:  0.8929\n",
      "Epoch 15/100\n",
      "4s - loss:  0.7778 - mse:  0.7770 - val_mse:  0.8948\n",
      "Epoch 16/100\n",
      "4s - loss:  0.7675 - mse:  0.7669 - val_mse:  0.8962\n",
      "Epoch 17/100\n",
      "4s - loss:  0.7568 - mse:  0.7565 - val_mse:  0.8973\n",
      "Epoch 18/100\n",
      "4s - loss:  0.7452 - mse:  0.7445 - val_mse:  0.9013\n",
      "Epoch 19/100\n",
      "4s - loss:  0.7326 - mse:  0.7322 - val_mse:  0.9062\n",
      "Epoch 20/100\n",
      "4s - loss:  0.7206 - mse:  0.7200 - val_mse:  0.9084\n",
      "Epoch 21/100\n",
      "4s - loss:  0.7076 - mse:  0.7070 - val_mse:  0.9114\n",
      "Epoch 22/100\n",
      "4s - loss:  0.6939 - mse:  0.6931 - val_mse:  0.9159\n",
      "Epoch 23/100\n",
      "4s - loss:  0.6814 - mse:  0.6807 - val_mse:  0.9193\n",
      "Epoch 00023: early stopping\n"
     ]
    },
    {
     "data": {
      "image/png": "[encoded data removed]",
      "text/plain": [
       "<Figure size 432x288 with 1 Axes>"
      ]
     },
     "metadata": {},
     "output_type": "display_data"
    },
    {
     "name": "stdout",
     "output_type": "stream",
     "text": [
      "CCPM\n",
      "cuda:0\n",
      "Train on 70000 samples, validate on 10000 samples, 274 steps per epoch\n",
      "Epoch 1/100\n",
      "5s - loss:  8.6147 - mse:  8.6115 - val_mse:  7.6846\n",
      "Epoch 2/100\n",
      "5s - loss:  1.6274 - mse:  1.6276 - val_mse:  1.3074\n",
      "Epoch 3/100\n",
      "5s - loss:  1.2697 - mse:  1.2694 - val_mse:  1.2768\n",
      "Epoch 4/100\n",
      "6s - loss:  1.2400 - mse:  1.2399 - val_mse:  1.2457\n",
      "Epoch 5/100\n",
      "5s - loss:  1.2098 - mse:  1.2100 - val_mse:  1.2154\n",
      "Epoch 6/100\n",
      "5s - loss:  1.1800 - mse:  1.1799 - val_mse:  1.1839\n",
      "Epoch 7/100\n",
      "5s - loss:  1.1458 - mse:  1.1455 - val_mse:  1.1553\n",
      "Epoch 8/100\n",
      "5s - loss:  1.1074 - mse:  1.1072 - val_mse:  1.1074\n",
      "Epoch 9/100\n",
      "5s - loss:  1.0615 - mse:  1.0611 - val_mse:  1.0608\n",
      "Epoch 10/100\n",
      "8s - loss:  1.0129 - mse:  1.0132 - val_mse:  1.0194\n",
      "Epoch 11/100\n",
      "8s - loss:  0.9649 - mse:  0.9647 - val_mse:  0.9757\n",
      "Epoch 12/100\n",
      "8s - loss:  0.9244 - mse:  0.9243 - val_mse:  0.9453\n",
      "Epoch 13/100\n",
      "8s - loss:  0.8923 - mse:  0.8923 - val_mse:  0.9235\n",
      "Epoch 14/100\n",
      "8s - loss:  0.8671 - mse:  0.8670 - val_mse:  0.9112\n",
      "Epoch 15/100\n",
      "8s - loss:  0.8468 - mse:  0.8469 - val_mse:  0.8984\n",
      "Epoch 16/100\n",
      "7s - loss:  0.8305 - mse:  0.8309 - val_mse:  0.8933\n",
      "Epoch 17/100\n",
      "7s - loss:  0.8173 - mse:  0.8176 - val_mse:  0.8870\n",
      "Epoch 18/100\n",
      "7s - loss:  0.8063 - mse:  0.8063 - val_mse:  0.8963\n",
      "Epoch 19/100\n",
      "8s - loss:  0.7937 - mse:  0.7938 - val_mse:  0.8806\n",
      "Epoch 20/100\n",
      "8s - loss:  0.7831 - mse:  0.7833 - val_mse:  0.8777\n",
      "Epoch 21/100\n",
      "8s - loss:  0.7746 - mse:  0.7745 - val_mse:  0.8767\n",
      "Epoch 22/100\n",
      "8s - loss:  0.7620 - mse:  0.7617 - val_mse:  0.8766\n",
      "Epoch 23/100\n",
      "8s - loss:  0.7517 - mse:  0.7517 - val_mse:  0.8728\n",
      "Epoch 24/100\n",
      "8s - loss:  0.7405 - mse:  0.7403 - val_mse:  0.8748\n",
      "Epoch 25/100\n",
      "8s - loss:  0.7279 - mse:  0.7279 - val_mse:  0.8706\n",
      "Epoch 26/100\n",
      "8s - loss:  0.7179 - mse:  0.7179 - val_mse:  0.8724\n",
      "Epoch 27/100\n",
      "8s - loss:  0.7048 - mse:  0.7050 - val_mse:  0.8740\n",
      "Epoch 28/100\n",
      "8s - loss:  0.6942 - mse:  0.6941 - val_mse:  0.8717\n",
      "Epoch 29/100\n",
      "8s - loss:  0.6805 - mse:  0.6803 - val_mse:  0.8727\n",
      "Epoch 30/100\n",
      "8s - loss:  0.6658 - mse:  0.6659 - val_mse:  0.8767\n",
      "Epoch 31/100\n",
      "8s - loss:  0.6532 - mse:  0.6531 - val_mse:  0.8791\n",
      "Epoch 32/100\n",
      "8s - loss:  0.6382 - mse:  0.6386 - val_mse:  0.8814\n",
      "Epoch 33/100\n",
      "8s - loss:  0.6252 - mse:  0.6252 - val_mse:  0.8813\n",
      "Epoch 34/100\n",
      "8s - loss:  0.6089 - mse:  0.6091 - val_mse:  0.8862\n",
      "Epoch 35/100\n",
      "8s - loss:  0.5947 - mse:  0.5947 - val_mse:  0.8877\n",
      "Epoch 00035: early stopping\n"
     ]
    },
    {
     "data": {
      "image/png": "[encoded data removed]",
      "text/plain": [
       "<Figure size 432x288 with 1 Axes>"
      ]
     },
     "metadata": {},
     "output_type": "display_data"
    },
    {
     "name": "stdout",
     "output_type": "stream",
     "text": [
      "IPNN\n",
      "cuda:0\n",
      "Train on 70000 samples, validate on 10000 samples, 274 steps per epoch\n",
      "Epoch 1/100\n",
      "4s - loss:  8.9473 - mse:  8.9321 - val_mse:  1.2134\n",
      "Epoch 2/100\n",
      "4s - loss:  1.1031 - mse:  1.1026 - val_mse:  1.0467\n",
      "Epoch 3/100\n",
      "4s - loss:  0.9794 - mse:  0.9790 - val_mse:  0.9615\n",
      "Epoch 4/100\n",
      "4s - loss:  0.9079 - mse:  0.9078 - val_mse:  0.9176\n",
      "Epoch 5/100\n",
      "4s - loss:  0.8711 - mse:  0.8713 - val_mse:  0.9000\n",
      "Epoch 6/100\n",
      "4s - loss:  0.8535 - mse:  0.8532 - val_mse:  0.8938\n",
      "Epoch 7/100\n",
      "4s - loss:  0.8447 - mse:  0.8447 - val_mse:  0.8920\n",
      "Epoch 8/100\n",
      "4s - loss:  0.8399 - mse:  0.8396 - val_mse:  0.8916\n",
      "Epoch 9/100\n",
      "4s - loss:  0.8369 - mse:  0.8372 - val_mse:  0.8917\n",
      "Epoch 10/100\n",
      "4s - loss:  0.8347 - mse:  0.8342 - val_mse:  0.8922\n",
      "Epoch 11/100\n",
      "4s - loss:  0.8336 - mse:  0.8332 - val_mse:  0.8925\n",
      "Epoch 12/100\n",
      "4s - loss:  0.8325 - mse:  0.8325 - val_mse:  0.8929\n",
      "Epoch 13/100\n",
      "4s - loss:  0.8315 - mse:  0.8312 - val_mse:  0.8935\n",
      "Epoch 14/100\n",
      "4s - loss:  0.8310 - mse:  0.8311 - val_mse:  0.8946\n",
      "Epoch 15/100\n",
      "4s - loss:  0.8305 - mse:  0.8299 - val_mse:  0.8949\n",
      "Epoch 16/100\n",
      "4s - loss:  0.8303 - mse:  0.8305 - val_mse:  0.8940\n",
      "Epoch 17/100\n",
      "4s - loss:  0.8296 - mse:  0.8296 - val_mse:  0.8951\n",
      "Epoch 18/100\n",
      "4s - loss:  0.8295 - mse:  0.8297 - val_mse:  0.8946\n",
      "Epoch 00018: early stopping\n"
     ]
    },
    {
     "data": {
      "image/png": "[encoded data removed]",
      "text/plain": [
       "<Figure size 432x288 with 1 Axes>"
      ]
     },
     "metadata": {},
     "output_type": "display_data"
    },
    {
     "name": "stdout",
     "output_type": "stream",
     "text": [
      "OPNN\n",
      "cuda:0\n",
      "Train on 70000 samples, validate on 10000 samples, 274 steps per epoch\n",
      "Epoch 1/100\n",
      "4s - loss:  3.2538 - mse:  3.2487 - val_mse:  0.9222\n",
      "Epoch 2/100\n",
      "4s - loss:  0.8787 - mse:  0.8789 - val_mse:  0.9054\n",
      "Epoch 3/100\n",
      "4s - loss:  0.8616 - mse:  0.8614 - val_mse:  0.8994\n",
      "Epoch 4/100\n",
      "4s - loss:  0.8564 - mse:  0.8561 - val_mse:  0.8960\n",
      "Epoch 5/100\n",
      "4s - loss:  0.8534 - mse:  0.8539 - val_mse:  0.8976\n",
      "Epoch 6/100\n",
      "4s - loss:  0.8517 - mse:  0.8525 - val_mse:  0.9067\n",
      "Epoch 7/100\n",
      "4s - loss:  0.8511 - mse:  0.8508 - val_mse:  0.8991\n",
      "Epoch 8/100\n",
      "4s - loss:  0.8470 - mse:  0.8468 - val_mse:  0.9061\n",
      "Epoch 9/100\n",
      "4s - loss:  0.8475 - mse:  0.8477 - val_mse:  0.8970\n",
      "Epoch 10/100\n",
      "4s - loss:  0.8455 - mse:  0.8455 - val_mse:  0.8997\n",
      "Epoch 11/100\n",
      "4s - loss:  0.8442 - mse:  0.8444 - val_mse:  0.8975\n",
      "Epoch 12/100\n",
      "4s - loss:  0.8426 - mse:  0.8425 - val_mse:  0.9008\n",
      "Epoch 13/100\n",
      "4s - loss:  0.8382 - mse:  0.8379 - val_mse:  0.8931\n",
      "Epoch 14/100\n",
      "4s - loss:  0.8263 - mse:  0.8262 - val_mse:  0.8785\n",
      "Epoch 15/100\n",
      "4s - loss:  0.8165 - mse:  0.8166 - val_mse:  0.8808\n",
      "Epoch 16/100\n",
      "4s - loss:  0.8098 - mse:  0.8099 - val_mse:  0.8817\n",
      "Epoch 17/100\n",
      "4s - loss:  0.8031 - mse:  0.8030 - val_mse:  0.8832\n",
      "Epoch 18/100\n",
      "4s - loss:  0.7983 - mse:  0.7985 - val_mse:  0.8814\n",
      "Epoch 19/100\n",
      "4s - loss:  0.7902 - mse:  0.7903 - val_mse:  0.8794\n",
      "Epoch 20/100\n",
      "4s - loss:  0.7853 - mse:  0.7853 - val_mse:  0.8828\n",
      "Epoch 21/100\n",
      "4s - loss:  0.7812 - mse:  0.7810 - val_mse:  0.8833\n",
      "Epoch 22/100\n",
      "4s - loss:  0.7765 - mse:  0.7765 - val_mse:  0.8800\n",
      "Epoch 23/100\n",
      "4s - loss:  0.7718 - mse:  0.7721 - val_mse:  0.8832\n",
      "Epoch 24/100\n",
      "4s - loss:  0.7663 - mse:  0.7660 - val_mse:  0.8783\n",
      "Epoch 25/100\n",
      "4s - loss:  0.7591 - mse:  0.7593 - val_mse:  0.8780\n",
      "Epoch 26/100\n",
      "4s - loss:  0.7511 - mse:  0.7511 - val_mse:  0.8781\n",
      "Epoch 27/100\n",
      "4s - loss:  0.7406 - mse:  0.7405 - val_mse:  0.8749\n",
      "Epoch 28/100\n",
      "4s - loss:  0.7314 - mse:  0.7316 - val_mse:  0.8722\n",
      "Epoch 29/100\n",
      "4s - loss:  0.7216 - mse:  0.7214 - val_mse:  0.8750\n",
      "Epoch 30/100\n",
      "5s - loss:  0.7155 - mse:  0.7153 - val_mse:  0.8757\n",
      "Epoch 31/100\n",
      "5s - loss:  0.7070 - mse:  0.7071 - val_mse:  0.8839\n",
      "Epoch 32/100\n",
      "4s - loss:  0.7013 - mse:  0.7012 - val_mse:  0.8790\n",
      "Epoch 33/100\n",
      "4s - loss:  0.6941 - mse:  0.6941 - val_mse:  0.8816\n",
      "Epoch 34/100\n",
      "4s - loss:  0.6875 - mse:  0.6875 - val_mse:  0.8824\n",
      "Epoch 35/100\n",
      "4s - loss:  0.6827 - mse:  0.6824 - val_mse:  0.8873\n",
      "Epoch 36/100\n",
      "4s - loss:  0.6778 - mse:  0.6782 - val_mse:  0.9008\n",
      "Epoch 37/100\n",
      "4s - loss:  0.6738 - mse:  0.6738 - val_mse:  0.8913\n",
      "Epoch 38/100\n",
      "4s - loss:  0.6692 - mse:  0.6692 - val_mse:  0.8917\n",
      "Epoch 00038: early stopping\n"
     ]
    },
    {
     "data": {
      "image/png": "[encoded data removed]",
      "text/plain": [
       "<Figure size 432x288 with 1 Axes>"
      ]
     },
     "metadata": {},
     "output_type": "display_data"
    },
    {
     "name": "stdout",
     "output_type": "stream",
     "text": [
      "WDL\n",
      "cuda:0\n",
      "Train on 70000 samples, validate on 10000 samples, 274 steps per epoch\n",
      "Epoch 1/100\n",
      "7s - loss:  2.2294 - mse:  2.2273 - val_mse:  0.9218\n",
      "Epoch 2/100\n",
      "6s - loss:  0.8780 - mse:  0.8780 - val_mse:  0.9018\n",
      "Epoch 3/100\n",
      "6s - loss:  0.8657 - mse:  0.8656 - val_mse:  0.9023\n",
      "Epoch 4/100\n",
      "6s - loss:  0.8608 - mse:  0.8607 - val_mse:  0.8988\n",
      "Epoch 5/100\n",
      "6s - loss:  0.8585 - mse:  0.8587 - val_mse:  0.9065\n",
      "Epoch 6/100\n",
      "6s - loss:  0.8564 - mse:  0.8565 - val_mse:  0.8974\n",
      "Epoch 7/100\n",
      "6s - loss:  0.8579 - mse:  0.8583 - val_mse:  0.9072\n",
      "Epoch 8/100\n",
      "7s - loss:  0.8548 - mse:  0.8543 - val_mse:  0.9135\n",
      "Epoch 9/100\n",
      "6s - loss:  0.8531 - mse:  0.8532 - val_mse:  0.9000\n",
      "Epoch 10/100\n",
      "6s - loss:  0.8528 - mse:  0.8525 - val_mse:  0.8982\n",
      "Epoch 11/100\n",
      "6s - loss:  0.8506 - mse:  0.8505 - val_mse:  0.8990\n",
      "Epoch 12/100\n",
      "6s - loss:  0.8489 - mse:  0.8485 - val_mse:  0.8999\n",
      "Epoch 13/100\n",
      "7s - loss:  0.8486 - mse:  0.8488 - val_mse:  0.9003\n",
      "Epoch 14/100\n",
      "6s - loss:  0.8481 - mse:  0.8480 - val_mse:  0.9000\n",
      "Epoch 15/100\n",
      "6s - loss:  0.8468 - mse:  0.8469 - val_mse:  0.9287\n",
      "Epoch 16/100\n",
      "6s - loss:  0.8476 - mse:  0.8476 - val_mse:  0.8987\n",
      "Epoch 00016: early stopping\n"
     ]
    },
    {
     "data": {
      "image/png": "[encoded data removed]",
      "text/plain": [
       "<Figure size 432x288 with 1 Axes>"
      ]
     },
     "metadata": {},
     "output_type": "display_data"
    },
    {
     "name": "stdout",
     "output_type": "stream",
     "text": [
      "NFM\n",
      "cuda:0\n",
      "Train on 70000 samples, validate on 10000 samples, 274 steps per epoch\n",
      "Epoch 1/100\n",
      "6s - loss:  5.0523 - mse:  5.0446 - val_mse:  1.0348\n",
      "Epoch 2/100\n",
      "6s - loss:  0.9387 - mse:  0.9388 - val_mse:  0.9110\n",
      "Epoch 3/100\n",
      "7s - loss:  0.8628 - mse:  0.8622 - val_mse:  0.8916\n",
      "Epoch 4/100\n",
      "7s - loss:  0.8434 - mse:  0.8433 - val_mse:  0.8881\n",
      "Epoch 5/100\n",
      "7s - loss:  0.8335 - mse:  0.8333 - val_mse:  0.8858\n",
      "Epoch 6/100\n",
      "7s - loss:  0.8248 - mse:  0.8247 - val_mse:  0.8833\n",
      "Epoch 7/100\n",
      "7s - loss:  0.8179 - mse:  0.8185 - val_mse:  0.8825\n",
      "Epoch 8/100\n",
      "7s - loss:  0.8113 - mse:  0.8112 - val_mse:  0.8823\n",
      "Epoch 9/100\n",
      "7s - loss:  0.8049 - mse:  0.8049 - val_mse:  0.8829\n",
      "Epoch 10/100\n",
      "7s - loss:  0.7986 - mse:  0.7986 - val_mse:  0.8796\n",
      "Epoch 11/100\n",
      "7s - loss:  0.7922 - mse:  0.7924 - val_mse:  0.8777\n",
      "Epoch 12/100\n",
      "7s - loss:  0.7855 - mse:  0.7851 - val_mse:  0.8764\n",
      "Epoch 13/100\n",
      "7s - loss:  0.7787 - mse:  0.7787 - val_mse:  0.8751\n",
      "Epoch 14/100\n",
      "7s - loss:  0.7709 - mse:  0.7708 - val_mse:  0.8748\n",
      "Epoch 15/100\n",
      "7s - loss:  0.7637 - mse:  0.7634 - val_mse:  0.8715\n",
      "Epoch 16/100\n",
      "7s - loss:  0.7564 - mse:  0.7561 - val_mse:  0.8712\n",
      "Epoch 17/100\n",
      "7s - loss:  0.7480 - mse:  0.7479 - val_mse:  0.8667\n",
      "Epoch 18/100\n",
      "6s - loss:  0.7397 - mse:  0.7395 - val_mse:  0.8641\n",
      "Epoch 19/100\n",
      "7s - loss:  0.7322 - mse:  0.7324 - val_mse:  0.8645\n",
      "Epoch 20/100\n",
      "7s - loss:  0.7250 - mse:  0.7248 - val_mse:  0.8640\n",
      "Epoch 21/100\n",
      "5s - loss:  0.7172 - mse:  0.7169 - val_mse:  0.8647\n",
      "Epoch 22/100\n",
      "3s - loss:  0.7101 - mse:  0.7094 - val_mse:  0.8604\n",
      "Epoch 23/100\n",
      "3s - loss:  0.7031 - mse:  0.7029 - val_mse:  0.8653\n",
      "Epoch 24/100\n",
      "4s - loss:  0.6956 - mse:  0.6950 - val_mse:  0.8620\n",
      "Epoch 25/100\n",
      "3s - loss:  0.6881 - mse:  0.6883 - val_mse:  0.8588\n",
      "Epoch 26/100\n",
      "3s - loss:  0.6808 - mse:  0.6804 - val_mse:  0.8583\n",
      "Epoch 27/100\n",
      "3s - loss:  0.6734 - mse:  0.6734 - val_mse:  0.8602\n",
      "Epoch 28/100\n",
      "3s - loss:  0.6652 - mse:  0.6646 - val_mse:  0.8598\n",
      "Epoch 29/100\n",
      "4s - loss:  0.6580 - mse:  0.6579 - val_mse:  0.8611\n",
      "Epoch 30/100\n",
      "3s - loss:  0.6503 - mse:  0.6501 - val_mse:  0.8650\n",
      "Epoch 31/100\n",
      "3s - loss:  0.6423 - mse:  0.6416 - val_mse:  0.8737\n",
      "Epoch 32/100\n",
      "3s - loss:  0.6346 - mse:  0.6342 - val_mse:  0.8684\n",
      "Epoch 33/100\n",
      "3s - loss:  0.6261 - mse:  0.6262 - val_mse:  0.8706\n",
      "Epoch 34/100\n",
      "3s - loss:  0.6171 - mse:  0.6166 - val_mse:  0.8718\n",
      "Epoch 35/100\n",
      "4s - loss:  0.6077 - mse:  0.6078 - val_mse:  0.8792\n",
      "Epoch 36/100\n",
      "3s - loss:  0.5986 - mse:  0.5984 - val_mse:  0.8780\n",
      "Epoch 00036: early stopping\n"
     ]
    },
    {
     "data": {
      "image/png": "[encoded data removed]",
      "text/plain": [
       "<Figure size 432x288 with 1 Axes>"
      ]
     },
     "metadata": {},
     "output_type": "display_data"
    },
    {
     "name": "stdout",
     "output_type": "stream",
     "text": [
      "DCN\n",
      "cuda:0\n",
      "Train on 70000 samples, validate on 10000 samples, 274 steps per epoch\n",
      "Epoch 1/100\n",
      "4s - loss:  7.2457 - mse:  7.2397 - val_mse:  4.0329\n",
      "Epoch 2/100\n",
      "4s - loss:  0.9554 - mse:  0.9555 - val_mse:  0.9191\n",
      "Epoch 3/100\n",
      "4s - loss:  0.8655 - mse:  0.8654 - val_mse:  0.9164\n",
      "Epoch 4/100\n",
      "4s - loss:  0.8489 - mse:  0.8487 - val_mse:  0.9140\n",
      "Epoch 5/100\n",
      "4s - loss:  0.8434 - mse:  0.8439 - val_mse:  0.9091\n",
      "Epoch 6/100\n",
      "4s - loss:  0.8398 - mse:  0.8395 - val_mse:  0.9332\n",
      "Epoch 7/100\n",
      "4s - loss:  0.8359 - mse:  0.8363 - val_mse:  0.9039\n",
      "Epoch 8/100\n",
      "4s - loss:  0.8325 - mse:  0.8326 - val_mse:  0.9089\n",
      "Epoch 9/100\n",
      "4s - loss:  0.8329 - mse:  0.8328 - val_mse:  0.9048\n",
      "Epoch 10/100\n",
      "4s - loss:  0.8296 - mse:  0.8299 - val_mse:  0.9069\n",
      "Epoch 11/100\n",
      "4s - loss:  0.8270 - mse:  0.8272 - val_mse:  0.9086\n",
      "Epoch 12/100\n",
      "4s - loss:  0.8212 - mse:  0.8208 - val_mse:  0.9129\n",
      "Epoch 13/100\n",
      "4s - loss:  0.8169 - mse:  0.8165 - val_mse:  0.9121\n",
      "Epoch 14/100\n",
      "4s - loss:  0.8120 - mse:  0.8123 - val_mse:  0.8963\n",
      "Epoch 15/100\n",
      "4s - loss:  0.8015 - mse:  0.8021 - val_mse:  0.8944\n",
      "Epoch 16/100\n",
      "4s - loss:  0.7945 - mse:  0.7948 - val_mse:  0.8948\n",
      "Epoch 17/100\n",
      "4s - loss:  0.7883 - mse:  0.7880 - val_mse:  0.8922\n",
      "Epoch 18/100\n",
      "4s - loss:  0.7797 - mse:  0.7798 - val_mse:  0.8903\n",
      "Epoch 19/100\n",
      "4s - loss:  0.7743 - mse:  0.7746 - val_mse:  0.8805\n",
      "Epoch 20/100\n",
      "4s - loss:  0.7662 - mse:  0.7661 - val_mse:  0.8828\n",
      "Epoch 21/100\n",
      "4s - loss:  0.7620 - mse:  0.7619 - val_mse:  0.8849\n",
      "Epoch 22/100\n",
      "4s - loss:  0.7542 - mse:  0.7542 - val_mse:  0.8837\n",
      "Epoch 23/100\n",
      "4s - loss:  0.7471 - mse:  0.7471 - val_mse:  0.8829\n",
      "Epoch 24/100\n",
      "4s - loss:  0.7425 - mse:  0.7427 - val_mse:  0.8840\n",
      "Epoch 25/100\n",
      "4s - loss:  0.7365 - mse:  0.7365 - val_mse:  0.9008\n",
      "Epoch 26/100\n",
      "4s - loss:  0.7283 - mse:  0.7286 - val_mse:  0.8870\n",
      "Epoch 27/100\n",
      "4s - loss:  0.7226 - mse:  0.7225 - val_mse:  0.8907\n",
      "Epoch 28/100\n",
      "4s - loss:  0.7174 - mse:  0.7175 - val_mse:  0.9129\n",
      "Epoch 29/100\n",
      "4s - loss:  0.7086 - mse:  0.7085 - val_mse:  0.8977\n",
      "Epoch 00029: early stopping\n"
     ]
    },
    {
     "data": {
      "image/png": "[encoded data removed]",
      "text/plain": [
       "<Figure size 432x288 with 1 Axes>"
      ]
     },
     "metadata": {},
     "output_type": "display_data"
    },
    {
     "name": "stdout",
     "output_type": "stream",
     "text": [
      "xDeepFM\n",
      "cuda:0\n",
      "Train on 70000 samples, validate on 10000 samples, 274 steps per epoch\n",
      "Epoch 1/100\n",
      "5s - loss:  13.1274 - mse:  13.1141 - val_mse:  5.9713\n",
      "Epoch 2/100\n",
      "5s - loss:  1.1083 - mse:  1.1081 - val_mse:  0.9294\n",
      "Epoch 3/100\n",
      "5s - loss:  0.8740 - mse:  0.8741 - val_mse:  0.9105\n",
      "Epoch 4/100\n",
      "5s - loss:  0.8543 - mse:  0.8542 - val_mse:  0.9196\n",
      "Epoch 5/100\n",
      "6s - loss:  0.8462 - mse:  0.8460 - val_mse:  0.9087\n",
      "Epoch 6/100\n",
      "6s - loss:  0.8413 - mse:  0.8416 - val_mse:  0.9078\n",
      "Epoch 7/100\n",
      "6s - loss:  0.8361 - mse:  0.8363 - val_mse:  0.9032\n",
      "Epoch 8/100\n",
      "6s - loss:  0.8339 - mse:  0.8338 - val_mse:  0.9047\n",
      "Epoch 9/100\n",
      "6s - loss:  0.8322 - mse:  0.8325 - val_mse:  0.9056\n",
      "Epoch 10/100\n",
      "7s - loss:  0.8319 - mse:  0.8317 - val_mse:  0.9058\n",
      "Epoch 11/100\n",
      "6s - loss:  0.8287 - mse:  0.8290 - val_mse:  0.9042\n",
      "Epoch 12/100\n",
      "6s - loss:  0.8274 - mse:  0.8276 - val_mse:  0.9019\n",
      "Epoch 13/100\n",
      "6s - loss:  0.8273 - mse:  0.8271 - val_mse:  0.9021\n",
      "Epoch 14/100\n",
      "6s - loss:  0.8262 - mse:  0.8261 - val_mse:  0.9083\n",
      "Epoch 15/100\n",
      "6s - loss:  0.8257 - mse:  0.8255 - val_mse:  0.9072\n",
      "Epoch 16/100\n",
      "6s - loss:  0.8243 - mse:  0.8242 - val_mse:  0.9079\n",
      "Epoch 17/100\n",
      "6s - loss:  0.8255 - mse:  0.8255 - val_mse:  0.9034\n",
      "Epoch 18/100\n",
      "6s - loss:  0.8240 - mse:  0.8243 - val_mse:  0.9044\n",
      "Epoch 19/100\n",
      "6s - loss:  0.8230 - mse:  0.8235 - val_mse:  0.9067\n",
      "Epoch 20/100\n",
      "5s - loss:  0.8231 - mse:  0.8235 - val_mse:  0.9204\n",
      "Epoch 21/100\n",
      "5s - loss:  0.8226 - mse:  0.8231 - val_mse:  0.9078\n",
      "Epoch 22/100\n",
      "5s - loss:  0.8214 - mse:  0.8213 - val_mse:  0.9047\n",
      "Epoch 00022: early stopping\n"
     ]
    },
    {
     "data": {
      "image/png": "[encoded data removed]",
      "text/plain": [
       "<Figure size 432x288 with 1 Axes>"
      ]
     },
     "metadata": {},
     "output_type": "display_data"
    },
    {
     "name": "stdout",
     "output_type": "stream",
     "text": [
      "DIFM\n",
      "cuda:0\n",
      "Train on 70000 samples, validate on 10000 samples, 274 steps per epoch\n",
      "Epoch 1/100\n",
      "5s - loss:  11.3773 - mse:  11.3686 - val_mse:  5.5072\n",
      "Epoch 2/100\n",
      "4s - loss:  1.1856 - mse:  1.1851 - val_mse:  0.9449\n",
      "Epoch 3/100\n",
      "4s - loss:  0.8871 - mse:  0.8868 - val_mse:  0.9117\n",
      "Epoch 4/100\n",
      "4s - loss:  0.8639 - mse:  0.8643 - val_mse:  0.9120\n",
      "Epoch 5/100\n",
      "4s - loss:  0.8509 - mse:  0.8510 - val_mse:  0.9114\n",
      "Epoch 6/100\n",
      "4s - loss:  0.8391 - mse:  0.8395 - val_mse:  0.9350\n",
      "Epoch 7/100\n",
      "4s - loss:  0.8276 - mse:  0.8272 - val_mse:  0.9675\n",
      "Epoch 8/100\n",
      "4s - loss:  0.8144 - mse:  0.8147 - val_mse:  0.9583\n",
      "Epoch 9/100\n",
      "4s - loss:  0.8106 - mse:  0.8106 - val_mse:  0.9285\n",
      "Epoch 10/100\n",
      "4s - loss:  0.8003 - mse:  0.8005 - val_mse:  0.9539\n",
      "Epoch 11/100\n",
      "4s - loss:  0.7903 - mse:  0.7900 - val_mse:  0.9334\n",
      "Epoch 12/100\n",
      "4s - loss:  0.7846 - mse:  0.7848 - val_mse:  0.9562\n",
      "Epoch 13/100\n",
      "4s - loss:  0.7800 - mse:  0.7799 - val_mse:  0.9307\n",
      "Epoch 14/100\n",
      "4s - loss:  0.7667 - mse:  0.7667 - val_mse:  0.9482\n",
      "Epoch 15/100\n",
      "4s - loss:  0.7658 - mse:  0.7654 - val_mse:  0.9528\n",
      "Epoch 00015: early stopping\n"
     ]
    },
    {
     "data": {
      "image/png": "[encoded data removed]",
      "text/plain": [
       "<Figure size 432x288 with 1 Axes>"
      ]
     },
     "metadata": {},
     "output_type": "display_data"
    },
    {
     "name": "stdout",
     "output_type": "stream",
     "text": [
      "==================================================\n",
      "number: 2\n",
      "DeepFM\n",
      "cuda:0\n",
      "Train on 70000 samples, validate on 10000 samples, 274 steps per epoch\n",
      "Epoch 1/100\n",
      "4s - loss:  5.6035 - mse:  5.6004 - val_mse:  3.6384\n",
      "Epoch 2/100\n",
      "4s - loss:  0.9541 - mse:  0.9540 - val_mse:  0.9311\n",
      "Epoch 3/100\n",
      "4s - loss:  0.8696 - mse:  0.8697 - val_mse:  0.9038\n",
      "Epoch 4/100\n",
      "4s - loss:  0.8591 - mse:  0.8588 - val_mse:  0.9235\n",
      "Epoch 5/100\n",
      "4s - loss:  0.8536 - mse:  0.8537 - val_mse:  0.9016\n",
      "Epoch 6/100\n",
      "4s - loss:  0.8444 - mse:  0.8446 - val_mse:  0.9100\n",
      "Epoch 7/100\n",
      "4s - loss:  0.8435 - mse:  0.8433 - val_mse:  0.9399\n",
      "Epoch 8/100\n",
      "4s - loss:  0.8385 - mse:  0.8388 - val_mse:  0.9042\n",
      "Epoch 9/100\n",
      "4s - loss:  0.8358 - mse:  0.8364 - val_mse:  0.9133\n",
      "Epoch 10/100\n",
      "4s - loss:  0.8268 - mse:  0.8267 - val_mse:  0.9129\n",
      "Epoch 11/100\n",
      "4s - loss:  0.8240 - mse:  0.8237 - val_mse:  0.9105\n",
      "Epoch 12/100\n",
      "4s - loss:  0.8143 - mse:  0.8142 - val_mse:  0.9296\n",
      "Epoch 13/100\n",
      "4s - loss:  0.8013 - mse:  0.8016 - val_mse:  0.9090\n",
      "Epoch 14/100\n",
      "4s - loss:  0.7880 - mse:  0.7879 - val_mse:  0.9106\n",
      "Epoch 15/100\n",
      "4s - loss:  0.7839 - mse:  0.7837 - val_mse:  0.9026\n",
      "Epoch 00015: early stopping\n"
     ]
    },
    {
     "data": {
      "image/png": "[encoded data removed]",
      "text/plain": [
       "<Figure size 432x288 with 1 Axes>"
      ]
     },
     "metadata": {},
     "output_type": "display_data"
    },
    {
     "name": "stdout",
     "output_type": "stream",
     "text": [
      "AFM\n",
      "cuda:0\n",
      "Train on 70000 samples, validate on 10000 samples, 274 steps per epoch\n",
      "Epoch 1/100\n",
      "3s - loss:  7.6039 - mse:  7.5904 - val_mse:  1.2397\n",
      "Epoch 2/100\n",
      "4s - loss:  1.1448 - mse:  1.1445 - val_mse:  1.1228\n",
      "Epoch 3/100\n",
      "4s - loss:  1.0685 - mse:  1.0682 - val_mse:  1.0662\n",
      "Epoch 4/100\n",
      "3s - loss:  1.0125 - mse:  1.0124 - val_mse:  1.0180\n",
      "Epoch 5/100\n",
      "3s - loss:  0.9512 - mse:  0.9512 - val_mse:  0.9574\n",
      "Epoch 6/100\n",
      "3s - loss:  0.8928 - mse:  0.8923 - val_mse:  0.9264\n",
      "Epoch 7/100\n",
      "3s - loss:  0.8639 - mse:  0.8635 - val_mse:  0.9144\n",
      "Epoch 8/100\n",
      "3s - loss:  0.8466 - mse:  0.8462 - val_mse:  0.9023\n",
      "Epoch 9/100\n",
      "3s - loss:  0.8345 - mse:  0.8342 - val_mse:  0.8960\n",
      "Epoch 10/100\n",
      "3s - loss:  0.8243 - mse:  0.8235 - val_mse:  0.8923\n",
      "Epoch 11/100\n",
      "3s - loss:  0.8158 - mse:  0.8155 - val_mse:  0.8887\n",
      "Epoch 12/100\n",
      "3s - loss:  0.8070 - mse:  0.8064 - val_mse:  0.8842\n",
      "Epoch 13/100\n",
      "4s - loss:  0.7997 - mse:  0.7989 - val_mse:  0.8823\n",
      "Epoch 14/100\n",
      "3s - loss:  0.7925 - mse:  0.7920 - val_mse:  0.8803\n",
      "Epoch 15/100\n",
      "3s - loss:  0.7842 - mse:  0.7838 - val_mse:  0.8779\n",
      "Epoch 16/100\n",
      "3s - loss:  0.7753 - mse:  0.7748 - val_mse:  0.8817\n",
      "Epoch 17/100\n",
      "3s - loss:  0.7656 - mse:  0.7648 - val_mse:  0.8724\n",
      "Epoch 18/100\n",
      "4s - loss:  0.7549 - mse:  0.7545 - val_mse:  0.8743\n",
      "Epoch 19/100\n",
      "3s - loss:  0.7437 - mse:  0.7434 - val_mse:  0.8805\n",
      "Epoch 20/100\n",
      "3s - loss:  0.7315 - mse:  0.7310 - val_mse:  0.8743\n",
      "Epoch 21/100\n",
      "3s - loss:  0.7181 - mse:  0.7176 - val_mse:  0.8804\n",
      "Epoch 22/100\n",
      "3s - loss:  0.7056 - mse:  0.7053 - val_mse:  0.8788\n",
      "Epoch 23/100\n",
      "4s - loss:  0.6927 - mse:  0.6922 - val_mse:  0.8815\n",
      "Epoch 24/100\n",
      "4s - loss:  0.6805 - mse:  0.6798 - val_mse:  0.8826\n",
      "Epoch 25/100\n",
      "3s - loss:  0.6678 - mse:  0.6672 - val_mse:  0.8850\n",
      "Epoch 26/100\n",
      "3s - loss:  0.6563 - mse:  0.6556 - val_mse:  0.8919\n",
      "Epoch 27/100\n",
      "3s - loss:  0.6446 - mse:  0.6440 - val_mse:  0.8968\n",
      "Epoch 00027: early stopping\n"
     ]
    },
    {
     "data": {
      "image/png": "[encoded data removed]",
      "text/plain": [
       "<Figure size 432x288 with 1 Axes>"
      ]
     },
     "metadata": {},
     "output_type": "display_data"
    },
    {
     "name": "stdout",
     "output_type": "stream",
     "text": [
      "CCPM\n",
      "cuda:0\n",
      "Train on 70000 samples, validate on 10000 samples, 274 steps per epoch\n",
      "Epoch 1/100\n",
      "5s - loss:  8.4180 - mse:  8.4139 - val_mse:  6.3492\n",
      "Epoch 2/100\n",
      "5s - loss:  1.6950 - mse:  1.6935 - val_mse:  1.3075\n",
      "Epoch 3/100\n",
      "5s - loss:  1.2700 - mse:  1.2703 - val_mse:  1.2785\n",
      "Epoch 4/100\n",
      "5s - loss:  1.2468 - mse:  1.2473 - val_mse:  1.2606\n",
      "Epoch 5/100\n",
      "5s - loss:  1.2233 - mse:  1.2231 - val_mse:  1.2409\n",
      "Epoch 6/100\n",
      "5s - loss:  1.1969 - mse:  1.1968 - val_mse:  1.2083\n",
      "Epoch 7/100\n",
      "5s - loss:  1.1632 - mse:  1.1629 - val_mse:  1.1694\n",
      "Epoch 8/100\n",
      "5s - loss:  1.1246 - mse:  1.1247 - val_mse:  1.1252\n",
      "Epoch 9/100\n",
      "5s - loss:  1.0763 - mse:  1.0767 - val_mse:  1.0789\n",
      "Epoch 10/100\n",
      "5s - loss:  1.0219 - mse:  1.0215 - val_mse:  1.0235\n",
      "Epoch 11/100\n",
      "5s - loss:  0.9636 - mse:  0.9636 - val_mse:  0.9813\n",
      "Epoch 12/100\n",
      "5s - loss:  0.9162 - mse:  0.9161 - val_mse:  0.9492\n",
      "Epoch 13/100\n",
      "5s - loss:  0.8814 - mse:  0.8812 - val_mse:  0.9162\n",
      "Epoch 14/100\n",
      "5s - loss:  0.8531 - mse:  0.8533 - val_mse:  0.9001\n",
      "Epoch 15/100\n",
      "5s - loss:  0.8355 - mse:  0.8356 - val_mse:  0.8920\n",
      "Epoch 16/100\n",
      "5s - loss:  0.8211 - mse:  0.8212 - val_mse:  0.8869\n",
      "Epoch 17/100\n",
      "5s - loss:  0.8095 - mse:  0.8093 - val_mse:  0.8896\n",
      "Epoch 18/100\n",
      "5s - loss:  0.7958 - mse:  0.7958 - val_mse:  0.8794\n",
      "Epoch 19/100\n",
      "5s - loss:  0.7832 - mse:  0.7831 - val_mse:  0.8789\n",
      "Epoch 20/100\n",
      "5s - loss:  0.7719 - mse:  0.7716 - val_mse:  0.8777\n",
      "Epoch 21/100\n",
      "5s - loss:  0.7594 - mse:  0.7592 - val_mse:  0.8758\n",
      "Epoch 22/100\n",
      "5s - loss:  0.7470 - mse:  0.7466 - val_mse:  0.8766\n",
      "Epoch 23/100\n",
      "5s - loss:  0.7328 - mse:  0.7328 - val_mse:  0.8746\n",
      "Epoch 24/100\n",
      "5s - loss:  0.7185 - mse:  0.7187 - val_mse:  0.8796\n",
      "Epoch 25/100\n",
      "5s - loss:  0.7032 - mse:  0.7030 - val_mse:  0.8819\n",
      "Epoch 26/100\n",
      "5s - loss:  0.6858 - mse:  0.6856 - val_mse:  0.8780\n",
      "Epoch 27/100\n",
      "5s - loss:  0.6680 - mse:  0.6681 - val_mse:  0.8803\n",
      "Epoch 28/100\n",
      "5s - loss:  0.6477 - mse:  0.6472 - val_mse:  0.8965\n",
      "Epoch 29/100\n",
      "5s - loss:  0.6283 - mse:  0.6280 - val_mse:  0.8928\n",
      "Epoch 30/100\n",
      "5s - loss:  0.6053 - mse:  0.6055 - val_mse:  0.8976\n",
      "Epoch 31/100\n",
      "5s - loss:  0.5840 - mse:  0.5839 - val_mse:  0.8992\n",
      "Epoch 32/100\n",
      "5s - loss:  0.5621 - mse:  0.5619 - val_mse:  0.9061\n",
      "Epoch 33/100\n",
      "5s - loss:  0.5353 - mse:  0.5355 - val_mse:  0.9227\n",
      "Epoch 00033: early stopping\n"
     ]
    },
    {
     "data": {
      "image/png": "[encoded data removed]",
      "text/plain": [
       "<Figure size 432x288 with 1 Axes>"
      ]
     },
     "metadata": {},
     "output_type": "display_data"
    },
    {
     "name": "stdout",
     "output_type": "stream",
     "text": [
      "IPNN\n",
      "cuda:0\n",
      "Train on 70000 samples, validate on 10000 samples, 274 steps per epoch\n",
      "Epoch 1/100\n",
      "2s - loss:  8.9323 - mse:  8.9167 - val_mse:  1.2192\n",
      "Epoch 2/100\n",
      "2s - loss:  1.1061 - mse:  1.1061 - val_mse:  1.0560\n",
      "Epoch 3/100\n",
      "2s - loss:  0.9816 - mse:  0.9816 - val_mse:  0.9701\n",
      "Epoch 4/100\n",
      "2s - loss:  0.9091 - mse:  0.9090 - val_mse:  0.9252\n",
      "Epoch 5/100\n",
      "2s - loss:  0.8719 - mse:  0.8714 - val_mse:  0.9073\n",
      "Epoch 6/100\n",
      "2s - loss:  0.8546 - mse:  0.8541 - val_mse:  0.9000\n",
      "Epoch 7/100\n",
      "2s - loss:  0.8457 - mse:  0.8458 - val_mse:  0.8976\n",
      "Epoch 8/100\n",
      "2s - loss:  0.8412 - mse:  0.8411 - val_mse:  0.8956\n",
      "Epoch 9/100\n",
      "2s - loss:  0.8380 - mse:  0.8377 - val_mse:  0.8946\n",
      "Epoch 10/100\n",
      "2s - loss:  0.8359 - mse:  0.8355 - val_mse:  0.8946\n",
      "Epoch 11/100\n",
      "2s - loss:  0.8348 - mse:  0.8352 - val_mse:  0.8949\n",
      "Epoch 12/100\n",
      "2s - loss:  0.8336 - mse:  0.8331 - val_mse:  0.8954\n",
      "Epoch 13/100\n",
      "2s - loss:  0.8330 - mse:  0.8330 - val_mse:  0.8965\n",
      "Epoch 14/100\n",
      "2s - loss:  0.8324 - mse:  0.8322 - val_mse:  0.8952\n",
      "Epoch 15/100\n",
      "2s - loss:  0.8316 - mse:  0.8315 - val_mse:  0.8962\n",
      "Epoch 16/100\n",
      "2s - loss:  0.8312 - mse:  0.8310 - val_mse:  0.8953\n",
      "Epoch 17/100\n",
      "2s - loss:  0.8306 - mse:  0.8303 - val_mse:  0.8949\n",
      "Epoch 18/100\n",
      "2s - loss:  0.8304 - mse:  0.8298 - val_mse:  0.8957\n",
      "Epoch 19/100\n",
      "2s - loss:  0.8302 - mse:  0.8299 - val_mse:  0.8964\n",
      "Epoch 20/100\n",
      "2s - loss:  0.8294 - mse:  0.8298 - val_mse:  0.8955\n",
      "Epoch 00020: early stopping\n"
     ]
    },
    {
     "data": {
      "image/png": "[encoded data removed]",
      "text/plain": [
       "<Figure size 432x288 with 1 Axes>"
      ]
     },
     "metadata": {},
     "output_type": "display_data"
    },
    {
     "name": "stdout",
     "output_type": "stream",
     "text": [
      "OPNN\n",
      "cuda:0\n",
      "Train on 70000 samples, validate on 10000 samples, 274 steps per epoch\n",
      "Epoch 1/100\n",
      "3s - loss:  3.2393 - mse:  3.2354 - val_mse:  0.9243\n",
      "Epoch 2/100\n",
      "3s - loss:  0.8798 - mse:  0.8799 - val_mse:  0.8997\n",
      "Epoch 3/100\n",
      "3s - loss:  0.8623 - mse:  0.8621 - val_mse:  0.9008\n",
      "Epoch 4/100\n",
      "3s - loss:  0.8580 - mse:  0.8583 - val_mse:  0.8982\n",
      "Epoch 5/100\n",
      "3s - loss:  0.8553 - mse:  0.8553 - val_mse:  0.9006\n",
      "Epoch 6/100\n",
      "3s - loss:  0.8523 - mse:  0.8519 - val_mse:  0.9031\n",
      "Epoch 7/100\n",
      "3s - loss:  0.8506 - mse:  0.8502 - val_mse:  0.9000\n",
      "Epoch 8/100\n",
      "3s - loss:  0.8505 - mse:  0.8509 - val_mse:  0.9015\n",
      "Epoch 9/100\n",
      "3s - loss:  0.8497 - mse:  0.8498 - val_mse:  0.9021\n",
      "Epoch 10/100\n",
      "3s - loss:  0.8479 - mse:  0.8478 - val_mse:  0.8975\n",
      "Epoch 11/100\n",
      "3s - loss:  0.8467 - mse:  0.8466 - val_mse:  0.9036\n",
      "Epoch 12/100\n",
      "3s - loss:  0.8457 - mse:  0.8454 - val_mse:  0.8989\n",
      "Epoch 13/100\n",
      "3s - loss:  0.8451 - mse:  0.8446 - val_mse:  0.8988\n",
      "Epoch 14/100\n",
      "3s - loss:  0.8398 - mse:  0.8394 - val_mse:  0.8963\n",
      "Epoch 15/100\n",
      "3s - loss:  0.8288 - mse:  0.8289 - val_mse:  0.8842\n",
      "Epoch 16/100\n",
      "3s - loss:  0.8190 - mse:  0.8189 - val_mse:  0.8881\n",
      "Epoch 17/100\n",
      "3s - loss:  0.8138 - mse:  0.8132 - val_mse:  0.8807\n",
      "Epoch 18/100\n",
      "3s - loss:  0.8069 - mse:  0.8068 - val_mse:  0.8823\n",
      "Epoch 19/100\n",
      "3s - loss:  0.8014 - mse:  0.8014 - val_mse:  0.8846\n",
      "Epoch 20/100\n",
      "3s - loss:  0.7949 - mse:  0.7949 - val_mse:  0.8899\n",
      "Epoch 21/100\n",
      "3s - loss:  0.7911 - mse:  0.7914 - val_mse:  0.8922\n",
      "Epoch 22/100\n",
      "3s - loss:  0.7874 - mse:  0.7877 - val_mse:  0.8846\n",
      "Epoch 23/100\n",
      "3s - loss:  0.7825 - mse:  0.7824 - val_mse:  0.8835\n",
      "Epoch 24/100\n",
      "3s - loss:  0.7777 - mse:  0.7777 - val_mse:  0.8954\n",
      "Epoch 25/100\n",
      "3s - loss:  0.7714 - mse:  0.7714 - val_mse:  0.8857\n",
      "Epoch 26/100\n",
      "3s - loss:  0.7638 - mse:  0.7639 - val_mse:  0.8837\n",
      "Epoch 27/100\n",
      "3s - loss:  0.7542 - mse:  0.7547 - val_mse:  0.8855\n",
      "Epoch 00027: early stopping\n"
     ]
    },
    {
     "data": {
      "image/png": "[encoded data removed]",
      "text/plain": [
       "<Figure size 432x288 with 1 Axes>"
      ]
     },
     "metadata": {},
     "output_type": "display_data"
    },
    {
     "name": "stdout",
     "output_type": "stream",
     "text": [
      "WDL\n",
      "cuda:0\n",
      "Train on 70000 samples, validate on 10000 samples, 274 steps per epoch\n",
      "Epoch 1/100\n",
      "3s - loss:  2.2435 - mse:  2.2410 - val_mse:  0.9227\n",
      "Epoch 2/100\n",
      "3s - loss:  0.8788 - mse:  0.8787 - val_mse:  0.9070\n",
      "Epoch 3/100\n",
      "4s - loss:  0.8671 - mse:  0.8671 - val_mse:  0.9001\n",
      "Epoch 4/100\n",
      "3s - loss:  0.8632 - mse:  0.8628 - val_mse:  0.9033\n",
      "Epoch 5/100\n",
      "4s - loss:  0.8599 - mse:  0.8599 - val_mse:  0.9028\n",
      "Epoch 6/100\n",
      "4s - loss:  0.8585 - mse:  0.8586 - val_mse:  0.8992\n",
      "Epoch 7/100\n",
      "4s - loss:  0.8557 - mse:  0.8555 - val_mse:  0.9111\n",
      "Epoch 8/100\n",
      "4s - loss:  0.8549 - mse:  0.8551 - val_mse:  0.9024\n",
      "Epoch 9/100\n",
      "4s - loss:  0.8560 - mse:  0.8566 - val_mse:  0.9189\n",
      "Epoch 10/100\n",
      "4s - loss:  0.8533 - mse:  0.8531 - val_mse:  0.8986\n",
      "Epoch 11/100\n",
      "4s - loss:  0.8518 - mse:  0.8515 - val_mse:  0.9185\n",
      "Epoch 12/100\n",
      "4s - loss:  0.8538 - mse:  0.8536 - val_mse:  0.9184\n",
      "Epoch 13/100\n",
      "4s - loss:  0.8503 - mse:  0.8504 - val_mse:  0.9037\n",
      "Epoch 14/100\n",
      "4s - loss:  0.8506 - mse:  0.8504 - val_mse:  0.9077\n",
      "Epoch 15/100\n",
      "4s - loss:  0.8493 - mse:  0.8490 - val_mse:  0.8996\n",
      "Epoch 16/100\n",
      "4s - loss:  0.8484 - mse:  0.8482 - val_mse:  0.9051\n",
      "Epoch 17/100\n",
      "4s - loss:  0.8489 - mse:  0.8486 - val_mse:  0.9082\n",
      "Epoch 18/100\n",
      "4s - loss:  0.8465 - mse:  0.8467 - val_mse:  0.9044\n",
      "Epoch 19/100\n",
      "4s - loss:  0.8471 - mse:  0.8470 - val_mse:  0.9019\n",
      "Epoch 20/100\n",
      "4s - loss:  0.8485 - mse:  0.8484 - val_mse:  0.9064\n",
      "Epoch 00020: early stopping\n"
     ]
    },
    {
     "data": {
      "image/png": "[encoded data removed]",
      "text/plain": [
       "<Figure size 432x288 with 1 Axes>"
      ]
     },
     "metadata": {},
     "output_type": "display_data"
    },
    {
     "name": "stdout",
     "output_type": "stream",
     "text": [
      "NFM\n",
      "cuda:0\n",
      "Train on 70000 samples, validate on 10000 samples, 274 steps per epoch\n",
      "Epoch 1/100\n",
      "4s - loss:  5.0511 - mse:  5.0429 - val_mse:  1.0464\n",
      "Epoch 2/100\n",
      "4s - loss:  0.9439 - mse:  0.9438 - val_mse:  0.9176\n",
      "Epoch 3/100\n",
      "4s - loss:  0.8646 - mse:  0.8649 - val_mse:  0.8989\n",
      "Epoch 4/100\n",
      "4s - loss:  0.8458 - mse:  0.8454 - val_mse:  0.8908\n",
      "Epoch 5/100\n",
      "4s - loss:  0.8365 - mse:  0.8363 - val_mse:  0.8900\n",
      "Epoch 6/100\n",
      "4s - loss:  0.8279 - mse:  0.8275 - val_mse:  0.8857\n",
      "Epoch 7/100\n",
      "6s - loss:  0.8186 - mse:  0.8181 - val_mse:  0.8842\n",
      "Epoch 8/100\n",
      "6s - loss:  0.8081 - mse:  0.8081 - val_mse:  0.8840\n",
      "Epoch 9/100\n",
      "7s - loss:  0.7982 - mse:  0.7978 - val_mse:  0.8787\n",
      "Epoch 10/100\n",
      "6s - loss:  0.7880 - mse:  0.7881 - val_mse:  0.8760\n",
      "Epoch 11/100\n",
      "5s - loss:  0.7775 - mse:  0.7776 - val_mse:  0.8733\n",
      "Epoch 12/100\n",
      "6s - loss:  0.7685 - mse:  0.7687 - val_mse:  0.8696\n",
      "Epoch 13/100\n",
      "6s - loss:  0.7596 - mse:  0.7594 - val_mse:  0.8682\n",
      "Epoch 14/100\n",
      "6s - loss:  0.7507 - mse:  0.7506 - val_mse:  0.8676\n",
      "Epoch 15/100\n",
      "6s - loss:  0.7415 - mse:  0.7414 - val_mse:  0.8624\n",
      "Epoch 16/100\n",
      "5s - loss:  0.7330 - mse:  0.7329 - val_mse:  0.8611\n",
      "Epoch 17/100\n",
      "4s - loss:  0.7246 - mse:  0.7245 - val_mse:  0.8608\n",
      "Epoch 18/100\n",
      "4s - loss:  0.7161 - mse:  0.7163 - val_mse:  0.8568\n",
      "Epoch 19/100\n",
      "5s - loss:  0.7080 - mse:  0.7075 - val_mse:  0.8594\n",
      "Epoch 20/100\n",
      "6s - loss:  0.7010 - mse:  0.7008 - val_mse:  0.8548\n",
      "Epoch 21/100\n",
      "6s - loss:  0.6931 - mse:  0.6928 - val_mse:  0.8529\n",
      "Epoch 22/100\n",
      "6s - loss:  0.6857 - mse:  0.6856 - val_mse:  0.8529\n",
      "Epoch 23/100\n",
      "6s - loss:  0.6792 - mse:  0.6789 - val_mse:  0.8540\n",
      "Epoch 24/100\n",
      "6s - loss:  0.6716 - mse:  0.6716 - val_mse:  0.8525\n",
      "Epoch 25/100\n",
      "6s - loss:  0.6649 - mse:  0.6645 - val_mse:  0.8560\n",
      "Epoch 26/100\n",
      "6s - loss:  0.6576 - mse:  0.6571 - val_mse:  0.8536\n",
      "Epoch 27/100\n",
      "6s - loss:  0.6510 - mse:  0.6514 - val_mse:  0.8561\n",
      "Epoch 28/100\n",
      "5s - loss:  0.6436 - mse:  0.6432 - val_mse:  0.8598\n",
      "Epoch 29/100\n",
      "4s - loss:  0.6365 - mse:  0.6362 - val_mse:  0.8621\n",
      "Epoch 30/100\n",
      "4s - loss:  0.6293 - mse:  0.6290 - val_mse:  0.8649\n",
      "Epoch 31/100\n",
      "4s - loss:  0.6217 - mse:  0.6215 - val_mse:  0.8749\n",
      "Epoch 32/100\n",
      "6s - loss:  0.6144 - mse:  0.6141 - val_mse:  0.8727\n",
      "Epoch 33/100\n",
      "6s - loss:  0.6064 - mse:  0.6063 - val_mse:  0.8754\n",
      "Epoch 34/100\n",
      "6s - loss:  0.5981 - mse:  0.5978 - val_mse:  0.8770\n",
      "Epoch 00034: early stopping\n"
     ]
    },
    {
     "data": {
      "image/png": "[encoded data removed]",
      "text/plain": [
       "<Figure size 432x288 with 1 Axes>"
      ]
     },
     "metadata": {},
     "output_type": "display_data"
    },
    {
     "name": "stdout",
     "output_type": "stream",
     "text": [
      "DCN\n",
      "cuda:0\n",
      "Train on 70000 samples, validate on 10000 samples, 274 steps per epoch\n",
      "Epoch 1/100\n",
      "6s - loss:  7.3140 - mse:  7.3083 - val_mse:  4.3910\n",
      "Epoch 2/100\n",
      "6s - loss:  0.9601 - mse:  0.9601 - val_mse:  0.9033\n",
      "Epoch 3/100\n",
      "6s - loss:  0.8589 - mse:  0.8588 - val_mse:  0.9045\n",
      "Epoch 4/100\n",
      "6s - loss:  0.8509 - mse:  0.8507 - val_mse:  0.9098\n",
      "Epoch 5/100\n",
      "6s - loss:  0.8431 - mse:  0.8429 - val_mse:  0.9047\n",
      "Epoch 6/100\n",
      "6s - loss:  0.8386 - mse:  0.8387 - val_mse:  0.9084\n",
      "Epoch 7/100\n",
      "5s - loss:  0.8396 - mse:  0.8399 - val_mse:  0.9102\n",
      "Epoch 8/100\n",
      "4s - loss:  0.8334 - mse:  0.8327 - val_mse:  0.9072\n",
      "Epoch 9/100\n",
      "4s - loss:  0.8315 - mse:  0.8313 - val_mse:  0.9004\n",
      "Epoch 10/100\n",
      "6s - loss:  0.8293 - mse:  0.8298 - val_mse:  0.9257\n",
      "Epoch 11/100\n",
      "7s - loss:  0.8277 - mse:  0.8278 - val_mse:  0.8963\n",
      "Epoch 12/100\n",
      "7s - loss:  0.8202 - mse:  0.8200 - val_mse:  0.8914\n",
      "Epoch 13/100\n",
      "6s - loss:  0.8166 - mse:  0.8168 - val_mse:  0.9105\n",
      "Epoch 14/100\n",
      "6s - loss:  0.8110 - mse:  0.8112 - val_mse:  0.8932\n",
      "Epoch 15/100\n",
      "6s - loss:  0.8058 - mse:  0.8061 - val_mse:  0.9128\n",
      "Epoch 16/100\n",
      "6s - loss:  0.8010 - mse:  0.8011 - val_mse:  0.9008\n",
      "Epoch 17/100\n",
      "6s - loss:  0.7976 - mse:  0.7976 - val_mse:  0.8880\n",
      "Epoch 18/100\n",
      "6s - loss:  0.7925 - mse:  0.7927 - val_mse:  0.8861\n",
      "Epoch 19/100\n",
      "5s - loss:  0.7863 - mse:  0.7863 - val_mse:  0.8931\n",
      "Epoch 20/100\n",
      "5s - loss:  0.7780 - mse:  0.7783 - val_mse:  0.8772\n",
      "Epoch 21/100\n",
      "6s - loss:  0.7725 - mse:  0.7732 - val_mse:  0.8797\n",
      "Epoch 22/100\n",
      "6s - loss:  0.7644 - mse:  0.7645 - val_mse:  0.8823\n",
      "Epoch 23/100\n",
      "7s - loss:  0.7588 - mse:  0.7593 - val_mse:  0.8809\n",
      "Epoch 24/100\n",
      "7s - loss:  0.7497 - mse:  0.7495 - val_mse:  0.8789\n",
      "Epoch 25/100\n",
      "6s - loss:  0.7409 - mse:  0.7407 - val_mse:  0.8869\n",
      "Epoch 26/100\n",
      "6s - loss:  0.7364 - mse:  0.7363 - val_mse:  0.8989\n",
      "Epoch 27/100\n",
      "6s - loss:  0.7280 - mse:  0.7282 - val_mse:  0.8901\n",
      "Epoch 28/100\n",
      "6s - loss:  0.7209 - mse:  0.7207 - val_mse:  0.9035\n",
      "Epoch 29/100\n",
      "6s - loss:  0.7154 - mse:  0.7153 - val_mse:  0.8971\n",
      "Epoch 30/100\n",
      "6s - loss:  0.7108 - mse:  0.7110 - val_mse:  0.9063\n",
      "Epoch 00030: early stopping\n"
     ]
    },
    {
     "data": {
      "image/png": "[encoded data removed]",
      "text/plain": [
       "<Figure size 432x288 with 1 Axes>"
      ]
     },
     "metadata": {},
     "output_type": "display_data"
    },
    {
     "name": "stdout",
     "output_type": "stream",
     "text": [
      "xDeepFM\n",
      "cuda:0\n",
      "Train on 70000 samples, validate on 10000 samples, 274 steps per epoch\n",
      "Epoch 1/100\n",
      "6s - loss:  13.0894 - mse:  13.0769 - val_mse:  5.9668\n",
      "Epoch 2/100\n",
      "6s - loss:  1.0910 - mse:  1.0907 - val_mse:  0.9329\n",
      "Epoch 3/100\n",
      "5s - loss:  0.8690 - mse:  0.8692 - val_mse:  0.9073\n",
      "Epoch 4/100\n",
      "5s - loss:  0.8487 - mse:  0.8486 - val_mse:  0.9065\n",
      "Epoch 5/100\n",
      "5s - loss:  0.8430 - mse:  0.8431 - val_mse:  0.9074\n",
      "Epoch 6/100\n",
      "5s - loss:  0.8389 - mse:  0.8387 - val_mse:  0.9042\n",
      "Epoch 7/100\n",
      "5s - loss:  0.8369 - mse:  0.8365 - val_mse:  0.9078\n",
      "Epoch 8/100\n",
      "5s - loss:  0.8343 - mse:  0.8341 - val_mse:  0.9174\n",
      "Epoch 9/100\n",
      "5s - loss:  0.8327 - mse:  0.8327 - val_mse:  0.9022\n",
      "Epoch 10/100\n",
      "5s - loss:  0.8308 - mse:  0.8316 - val_mse:  0.9112\n",
      "Epoch 11/100\n",
      "5s - loss:  0.8311 - mse:  0.8310 - val_mse:  0.9033\n",
      "Epoch 12/100\n",
      "5s - loss:  0.8290 - mse:  0.8289 - val_mse:  0.9199\n",
      "Epoch 13/100\n",
      "5s - loss:  0.8295 - mse:  0.8299 - val_mse:  0.9108\n",
      "Epoch 14/100\n",
      "5s - loss:  0.8269 - mse:  0.8267 - val_mse:  0.9151\n",
      "Epoch 15/100\n",
      "5s - loss:  0.8255 - mse:  0.8254 - val_mse:  0.9121\n",
      "Epoch 16/100\n",
      "5s - loss:  0.8262 - mse:  0.8267 - val_mse:  0.9134\n",
      "Epoch 17/100\n",
      "5s - loss:  0.8244 - mse:  0.8240 - val_mse:  0.9051\n",
      "Epoch 18/100\n",
      "5s - loss:  0.8229 - mse:  0.8230 - val_mse:  0.9136\n",
      "Epoch 19/100\n",
      "5s - loss:  0.8225 - mse:  0.8221 - val_mse:  0.9130\n",
      "Epoch 00019: early stopping\n"
     ]
    },
    {
     "data": {
      "image/png": "[encoded data removed]",
      "text/plain": [
       "<Figure size 432x288 with 1 Axes>"
      ]
     },
     "metadata": {},
     "output_type": "display_data"
    },
    {
     "name": "stdout",
     "output_type": "stream",
     "text": [
      "DIFM\n",
      "cuda:0\n",
      "Train on 70000 samples, validate on 10000 samples, 274 steps per epoch\n",
      "Epoch 1/100\n",
      "4s - loss:  11.4609 - mse:  11.4509 - val_mse:  6.7289\n",
      "Epoch 2/100\n",
      "5s - loss:  1.3035 - mse:  1.3023 - val_mse:  0.9422\n",
      "Epoch 3/100\n",
      "4s - loss:  0.8889 - mse:  0.8891 - val_mse:  0.9154\n",
      "Epoch 4/100\n",
      "4s - loss:  0.8759 - mse:  0.8756 - val_mse:  0.9394\n",
      "Epoch 5/100\n",
      "4s - loss:  0.8636 - mse:  0.8633 - val_mse:  0.9490\n",
      "Epoch 6/100\n",
      "4s - loss:  0.8512 - mse:  0.8512 - val_mse:  0.9605\n",
      "Epoch 7/100\n",
      "4s - loss:  0.8419 - mse:  0.8419 - val_mse:  0.9362\n",
      "Epoch 8/100\n",
      "4s - loss:  0.8344 - mse:  0.8342 - val_mse:  0.9445\n",
      "Epoch 9/100\n",
      "4s - loss:  0.8281 - mse:  0.8281 - val_mse:  0.9457\n",
      "Epoch 10/100\n",
      "4s - loss:  0.8154 - mse:  0.8154 - val_mse:  0.9189\n",
      "Epoch 11/100\n",
      "4s - loss:  0.8094 - mse:  0.8094 - val_mse:  0.9255\n",
      "Epoch 12/100\n",
      "4s - loss:  0.7998 - mse:  0.8000 - val_mse:  0.9374\n",
      "Epoch 13/100\n",
      "4s - loss:  0.7958 - mse:  0.7957 - val_mse:  0.9442\n",
      "Epoch 00013: early stopping\n"
     ]
    },
    {
     "data": {
      "image/png": "[encoded data removed]",
      "text/plain": [
       "<Figure size 432x288 with 1 Axes>"
      ]
     },
     "metadata": {},
     "output_type": "display_data"
    },
    {
     "name": "stdout",
     "output_type": "stream",
     "text": [
      "==================================================\n",
      "number: 3\n",
      "DeepFM\n",
      "cuda:0\n",
      "Train on 70000 samples, validate on 10000 samples, 274 steps per epoch\n",
      "Epoch 1/100\n",
      "4s - loss:  5.6678 - mse:  5.6652 - val_mse:  3.6802\n",
      "Epoch 2/100\n",
      "4s - loss:  0.9550 - mse:  0.9547 - val_mse:  0.8913\n",
      "Epoch 3/100\n",
      "4s - loss:  0.8800 - mse:  0.8797 - val_mse:  0.9100\n",
      "Epoch 4/100\n",
      "4s - loss:  0.8680 - mse:  0.8680 - val_mse:  0.8894\n",
      "Epoch 5/100\n",
      "4s - loss:  0.8667 - mse:  0.8668 - val_mse:  0.8947\n",
      "Epoch 6/100\n",
      "4s - loss:  0.8581 - mse:  0.8578 - val_mse:  0.9012\n",
      "Epoch 7/100\n",
      "4s - loss:  0.8528 - mse:  0.8526 - val_mse:  0.8890\n",
      "Epoch 8/100\n",
      "4s - loss:  0.8485 - mse:  0.8485 - val_mse:  0.8981\n",
      "Epoch 9/100\n",
      "4s - loss:  0.8444 - mse:  0.8445 - val_mse:  0.8976\n",
      "Epoch 10/100\n",
      "4s - loss:  0.8387 - mse:  0.8391 - val_mse:  0.8922\n",
      "Epoch 11/100\n",
      "4s - loss:  0.8308 - mse:  0.8308 - val_mse:  0.8882\n",
      "Epoch 12/100\n",
      "4s - loss:  0.8199 - mse:  0.8199 - val_mse:  0.8856\n",
      "Epoch 13/100\n",
      "4s - loss:  0.8101 - mse:  0.8103 - val_mse:  0.8770\n",
      "Epoch 14/100\n",
      "4s - loss:  0.7983 - mse:  0.7985 - val_mse:  0.8782\n",
      "Epoch 15/100\n",
      "4s - loss:  0.7869 - mse:  0.7867 - val_mse:  0.8708\n",
      "Epoch 16/100\n",
      "4s - loss:  0.7745 - mse:  0.7745 - val_mse:  0.8819\n",
      "Epoch 17/100\n",
      "4s - loss:  0.7622 - mse:  0.7627 - val_mse:  0.8712\n",
      "Epoch 18/100\n",
      "4s - loss:  0.7507 - mse:  0.7505 - val_mse:  0.9000\n",
      "Epoch 19/100\n",
      "4s - loss:  0.7408 - mse:  0.7405 - val_mse:  0.8796\n",
      "Epoch 20/100\n",
      "4s - loss:  0.7276 - mse:  0.7276 - val_mse:  0.8761\n",
      "Epoch 21/100\n",
      "4s - loss:  0.7211 - mse:  0.7210 - val_mse:  0.8832\n",
      "Epoch 22/100\n",
      "4s - loss:  0.7095 - mse:  0.7099 - val_mse:  0.8859\n",
      "Epoch 23/100\n",
      "4s - loss:  0.6988 - mse:  0.6988 - val_mse:  0.8909\n",
      "Epoch 24/100\n",
      "4s - loss:  0.6894 - mse:  0.6894 - val_mse:  0.8957\n",
      "Epoch 25/100\n",
      "4s - loss:  0.6791 - mse:  0.6788 - val_mse:  0.8926\n",
      "Epoch 00025: early stopping\n"
     ]
    },
    {
     "data": {
      "image/png": "[encoded data removed]",
      "text/plain": [
       "<Figure size 432x288 with 1 Axes>"
      ]
     },
     "metadata": {},
     "output_type": "display_data"
    },
    {
     "name": "stdout",
     "output_type": "stream",
     "text": [
      "AFM\n",
      "cuda:0\n",
      "Train on 70000 samples, validate on 10000 samples, 274 steps per epoch\n",
      "Epoch 1/100\n",
      "4s - loss:  7.5477 - mse:  7.5342 - val_mse:  1.1921\n",
      "Epoch 2/100\n",
      "3s - loss:  1.1476 - mse:  1.1472 - val_mse:  1.0706\n",
      "Epoch 3/100\n",
      "3s - loss:  1.0569 - mse:  1.0563 - val_mse:  0.9971\n",
      "Epoch 4/100\n",
      "3s - loss:  0.9623 - mse:  0.9618 - val_mse:  0.9143\n",
      "Epoch 5/100\n",
      "3s - loss:  0.8902 - mse:  0.8896 - val_mse:  0.8893\n",
      "Epoch 6/100\n",
      "3s - loss:  0.8635 - mse:  0.8631 - val_mse:  0.8816\n",
      "Epoch 7/100\n",
      "3s - loss:  0.8487 - mse:  0.8478 - val_mse:  0.8741\n",
      "Epoch 8/100\n",
      "4s - loss:  0.8397 - mse:  0.8395 - val_mse:  0.8692\n",
      "Epoch 9/100\n",
      "4s - loss:  0.8323 - mse:  0.8317 - val_mse:  0.8664\n",
      "Epoch 10/100\n",
      "3s - loss:  0.8256 - mse:  0.8253 - val_mse:  0.8603\n",
      "Epoch 11/100\n",
      "3s - loss:  0.8196 - mse:  0.8187 - val_mse:  0.8567\n",
      "Epoch 12/100\n",
      "3s - loss:  0.8143 - mse:  0.8140 - val_mse:  0.8551\n",
      "Epoch 13/100\n",
      "3s - loss:  0.8089 - mse:  0.8081 - val_mse:  0.8529\n",
      "Epoch 14/100\n",
      "4s - loss:  0.8036 - mse:  0.8030 - val_mse:  0.8532\n",
      "Epoch 15/100\n",
      "3s - loss:  0.7976 - mse:  0.7970 - val_mse:  0.8492\n",
      "Epoch 16/100\n",
      "3s - loss:  0.7916 - mse:  0.7914 - val_mse:  0.8493\n",
      "Epoch 17/100\n",
      "4s - loss:  0.7847 - mse:  0.7841 - val_mse:  0.8487\n",
      "Epoch 18/100\n",
      "4s - loss:  0.7771 - mse:  0.7766 - val_mse:  0.8492\n",
      "Epoch 19/100\n",
      "4s - loss:  0.7682 - mse:  0.7677 - val_mse:  0.8484\n",
      "Epoch 20/100\n",
      "3s - loss:  0.7590 - mse:  0.7581 - val_mse:  0.8489\n",
      "Epoch 21/100\n",
      "3s - loss:  0.7481 - mse:  0.7474 - val_mse:  0.8543\n",
      "Epoch 22/100\n",
      "3s - loss:  0.7364 - mse:  0.7357 - val_mse:  0.8565\n",
      "Epoch 23/100\n",
      "3s - loss:  0.7261 - mse:  0.7256 - val_mse:  0.8605\n",
      "Epoch 24/100\n",
      "4s - loss:  0.7137 - mse:  0.7133 - val_mse:  0.8657\n",
      "Epoch 25/100\n",
      "3s - loss:  0.7014 - mse:  0.7007 - val_mse:  0.8695\n",
      "Epoch 26/100\n",
      "3s - loss:  0.6889 - mse:  0.6883 - val_mse:  0.8774\n",
      "Epoch 27/100\n",
      "3s - loss:  0.6769 - mse:  0.6768 - val_mse:  0.8805\n",
      "Epoch 28/100\n",
      "3s - loss:  0.6637 - mse:  0.6631 - val_mse:  0.8884\n",
      "Epoch 29/100\n",
      "3s - loss:  0.6509 - mse:  0.6505 - val_mse:  0.8941\n",
      "Epoch 00029: early stopping\n"
     ]
    },
    {
     "data": {
      "image/png": "[encoded data removed]",
      "text/plain": [
       "<Figure size 432x288 with 1 Axes>"
      ]
     },
     "metadata": {},
     "output_type": "display_data"
    },
    {
     "name": "stdout",
     "output_type": "stream",
     "text": [
      "CCPM\n",
      "cuda:0\n",
      "Train on 70000 samples, validate on 10000 samples, 274 steps per epoch\n",
      "Epoch 1/100\n",
      "5s - loss:  8.3803 - mse:  8.3758 - val_mse:  6.3426\n",
      "Epoch 2/100\n",
      "5s - loss:  1.4886 - mse:  1.4883 - val_mse:  1.2130\n",
      "Epoch 3/100\n",
      "5s - loss:  1.2156 - mse:  1.2149 - val_mse:  1.1688\n",
      "Epoch 4/100\n",
      "5s - loss:  1.1630 - mse:  1.1629 - val_mse:  1.0975\n",
      "Epoch 5/100\n",
      "5s - loss:  1.0687 - mse:  1.0682 - val_mse:  0.9967\n",
      "Epoch 6/100\n",
      "5s - loss:  0.9610 - mse:  0.9609 - val_mse:  0.9164\n",
      "Epoch 7/100\n",
      "5s - loss:  0.8953 - mse:  0.8955 - val_mse:  0.9229\n",
      "Epoch 8/100\n",
      "5s - loss:  0.8573 - mse:  0.8573 - val_mse:  0.8720\n",
      "Epoch 9/100\n",
      "5s - loss:  0.8329 - mse:  0.8325 - val_mse:  0.8607\n",
      "Epoch 10/100\n",
      "5s - loss:  0.8102 - mse:  0.8102 - val_mse:  0.8640\n",
      "Epoch 11/100\n",
      "5s - loss:  0.7983 - mse:  0.7985 - val_mse:  0.8645\n",
      "Epoch 12/100\n",
      "5s - loss:  0.7811 - mse:  0.7812 - val_mse:  0.8675\n",
      "Epoch 13/100\n",
      "5s - loss:  0.7680 - mse:  0.7677 - val_mse:  0.8554\n",
      "Epoch 14/100\n",
      "5s - loss:  0.7499 - mse:  0.7498 - val_mse:  0.8970\n",
      "Epoch 15/100\n",
      "5s - loss:  0.7342 - mse:  0.7342 - val_mse:  0.9493\n",
      "Epoch 16/100\n",
      "5s - loss:  0.7161 - mse:  0.7164 - val_mse:  0.8734\n",
      "Epoch 17/100\n",
      "5s - loss:  0.6960 - mse:  0.6959 - val_mse:  0.8691\n",
      "Epoch 18/100\n",
      "5s - loss:  0.6738 - mse:  0.6738 - val_mse:  0.8485\n",
      "Epoch 19/100\n",
      "5s - loss:  0.6610 - mse:  0.6612 - val_mse:  0.8572\n",
      "Epoch 20/100\n",
      "5s - loss:  0.6333 - mse:  0.6334 - val_mse:  0.8875\n",
      "Epoch 21/100\n",
      "5s - loss:  0.6060 - mse:  0.6056 - val_mse:  0.8668\n",
      "Epoch 22/100\n",
      "5s - loss:  0.5835 - mse:  0.5835 - val_mse:  0.8774\n",
      "Epoch 23/100\n",
      "5s - loss:  0.5570 - mse:  0.5568 - val_mse:  0.8895\n",
      "Epoch 24/100\n",
      "5s - loss:  0.5304 - mse:  0.5304 - val_mse:  0.8888\n",
      "Epoch 25/100\n",
      "5s - loss:  0.5036 - mse:  0.5036 - val_mse:  0.8957\n",
      "Epoch 26/100\n",
      "5s - loss:  0.4737 - mse:  0.4735 - val_mse:  0.9102\n",
      "Epoch 27/100\n",
      "5s - loss:  0.4468 - mse:  0.4467 - val_mse:  1.0009\n",
      "Epoch 28/100\n",
      "5s - loss:  0.4235 - mse:  0.4234 - val_mse:  0.9539\n",
      "Epoch 00028: early stopping\n"
     ]
    },
    {
     "data": {
      "image/png": "[encoded data removed]",
      "text/plain": [
       "<Figure size 432x288 with 1 Axes>"
      ]
     },
     "metadata": {},
     "output_type": "display_data"
    },
    {
     "name": "stdout",
     "output_type": "stream",
     "text": [
      "IPNN\n",
      "cuda:0\n",
      "Train on 70000 samples, validate on 10000 samples, 274 steps per epoch\n",
      "Epoch 1/100\n",
      "2s - loss:  8.9086 - mse:  8.8933 - val_mse:  1.1856\n",
      "Epoch 2/100\n",
      "3s - loss:  1.1164 - mse:  1.1158 - val_mse:  1.0229\n",
      "Epoch 3/100\n",
      "3s - loss:  0.9909 - mse:  0.9906 - val_mse:  0.9418\n",
      "Epoch 4/100\n",
      "2s - loss:  0.9181 - mse:  0.9179 - val_mse:  0.9008\n",
      "Epoch 5/100\n",
      "2s - loss:  0.8808 - mse:  0.8804 - val_mse:  0.8849\n",
      "Epoch 6/100\n",
      "2s - loss:  0.8634 - mse:  0.8632 - val_mse:  0.8796\n",
      "Epoch 7/100\n",
      "2s - loss:  0.8545 - mse:  0.8545 - val_mse:  0.8771\n",
      "Epoch 8/100\n",
      "2s - loss:  0.8499 - mse:  0.8499 - val_mse:  0.8765\n",
      "Epoch 9/100\n",
      "2s - loss:  0.8466 - mse:  0.8463 - val_mse:  0.8761\n",
      "Epoch 10/100\n",
      "2s - loss:  0.8448 - mse:  0.8442 - val_mse:  0.8765\n",
      "Epoch 11/100\n",
      "2s - loss:  0.8433 - mse:  0.8433 - val_mse:  0.8761\n",
      "Epoch 12/100\n",
      "2s - loss:  0.8425 - mse:  0.8429 - val_mse:  0.8764\n",
      "Epoch 13/100\n",
      "2s - loss:  0.8418 - mse:  0.8417 - val_mse:  0.8765\n",
      "Epoch 14/100\n",
      "2s - loss:  0.8412 - mse:  0.8411 - val_mse:  0.8764\n",
      "Epoch 15/100\n",
      "3s - loss:  0.8408 - mse:  0.8411 - val_mse:  0.8785\n",
      "Epoch 16/100\n",
      "2s - loss:  0.8403 - mse:  0.8400 - val_mse:  0.8771\n",
      "Epoch 17/100\n",
      "2s - loss:  0.8400 - mse:  0.8398 - val_mse:  0.8773\n",
      "Epoch 18/100\n",
      "2s - loss:  0.8397 - mse:  0.8400 - val_mse:  0.8769\n",
      "Epoch 19/100\n",
      "2s - loss:  0.8392 - mse:  0.8390 - val_mse:  0.8772\n",
      "Epoch 00019: early stopping\n"
     ]
    },
    {
     "data": {
      "image/png": "[encoded data removed]",
      "text/plain": [
       "<Figure size 432x288 with 1 Axes>"
      ]
     },
     "metadata": {},
     "output_type": "display_data"
    },
    {
     "name": "stdout",
     "output_type": "stream",
     "text": [
      "OPNN\n",
      "cuda:0\n",
      "Train on 70000 samples, validate on 10000 samples, 274 steps per epoch\n",
      "Epoch 1/100\n",
      "3s - loss:  3.2443 - mse:  3.2397 - val_mse:  0.9074\n",
      "Epoch 2/100\n",
      "3s - loss:  0.8890 - mse:  0.8890 - val_mse:  0.8801\n",
      "Epoch 3/100\n",
      "3s - loss:  0.8720 - mse:  0.8718 - val_mse:  0.8902\n",
      "Epoch 4/100\n",
      "3s - loss:  0.8665 - mse:  0.8666 - val_mse:  0.8797\n",
      "Epoch 5/100\n",
      "3s - loss:  0.8636 - mse:  0.8635 - val_mse:  0.8881\n",
      "Epoch 6/100\n",
      "3s - loss:  0.8621 - mse:  0.8623 - val_mse:  0.8814\n",
      "Epoch 7/100\n",
      "3s - loss:  0.8605 - mse:  0.8607 - val_mse:  0.8794\n",
      "Epoch 8/100\n",
      "3s - loss:  0.8591 - mse:  0.8589 - val_mse:  0.8795\n",
      "Epoch 9/100\n",
      "3s - loss:  0.8570 - mse:  0.8568 - val_mse:  0.8780\n",
      "Epoch 10/100\n",
      "3s - loss:  0.8574 - mse:  0.8577 - val_mse:  0.8784\n",
      "Epoch 11/100\n",
      "3s - loss:  0.8559 - mse:  0.8559 - val_mse:  0.8781\n",
      "Epoch 12/100\n",
      "3s - loss:  0.8550 - mse:  0.8548 - val_mse:  0.8823\n",
      "Epoch 13/100\n",
      "3s - loss:  0.8526 - mse:  0.8525 - val_mse:  0.8769\n",
      "Epoch 14/100\n",
      "3s - loss:  0.8489 - mse:  0.8488 - val_mse:  0.8725\n",
      "Epoch 15/100\n",
      "3s - loss:  0.8396 - mse:  0.8394 - val_mse:  0.8641\n",
      "Epoch 16/100\n",
      "3s - loss:  0.8293 - mse:  0.8293 - val_mse:  0.8648\n",
      "Epoch 17/100\n",
      "3s - loss:  0.8214 - mse:  0.8213 - val_mse:  0.8585\n",
      "Epoch 18/100\n",
      "3s - loss:  0.8147 - mse:  0.8143 - val_mse:  0.8582\n",
      "Epoch 19/100\n",
      "3s - loss:  0.8081 - mse:  0.8083 - val_mse:  0.8588\n",
      "Epoch 20/100\n",
      "3s - loss:  0.8027 - mse:  0.8024 - val_mse:  0.8596\n",
      "Epoch 21/100\n",
      "3s - loss:  0.7987 - mse:  0.7986 - val_mse:  0.8780\n",
      "Epoch 22/100\n",
      "3s - loss:  0.7938 - mse:  0.7934 - val_mse:  0.8619\n",
      "Epoch 23/100\n",
      "3s - loss:  0.7906 - mse:  0.7910 - val_mse:  0.8579\n",
      "Epoch 24/100\n",
      "3s - loss:  0.7844 - mse:  0.7848 - val_mse:  0.8573\n",
      "Epoch 25/100\n",
      "3s - loss:  0.7784 - mse:  0.7784 - val_mse:  0.8608\n",
      "Epoch 26/100\n",
      "3s - loss:  0.7700 - mse:  0.7699 - val_mse:  0.8527\n",
      "Epoch 27/100\n",
      "3s - loss:  0.7597 - mse:  0.7600 - val_mse:  0.8620\n",
      "Epoch 28/100\n",
      "3s - loss:  0.7500 - mse:  0.7497 - val_mse:  0.8554\n",
      "Epoch 29/100\n",
      "3s - loss:  0.7404 - mse:  0.7399 - val_mse:  0.8468\n",
      "Epoch 30/100\n",
      "3s - loss:  0.7332 - mse:  0.7329 - val_mse:  0.8450\n",
      "Epoch 31/100\n",
      "3s - loss:  0.7250 - mse:  0.7248 - val_mse:  0.8462\n",
      "Epoch 32/100\n",
      "3s - loss:  0.7178 - mse:  0.7178 - val_mse:  0.8528\n",
      "Epoch 33/100\n",
      "3s - loss:  0.7100 - mse:  0.7096 - val_mse:  0.8496\n",
      "Epoch 34/100\n",
      "3s - loss:  0.7020 - mse:  0.7022 - val_mse:  0.8497\n",
      "Epoch 35/100\n",
      "3s - loss:  0.6960 - mse:  0.6961 - val_mse:  0.8543\n",
      "Epoch 36/100\n",
      "2s - loss:  0.6912 - mse:  0.6911 - val_mse:  0.8576\n",
      "Epoch 37/100\n",
      "3s - loss:  0.6854 - mse:  0.6855 - val_mse:  0.8635\n",
      "Epoch 38/100\n",
      "3s - loss:  0.6804 - mse:  0.6801 - val_mse:  0.8709\n",
      "Epoch 39/100\n",
      "3s - loss:  0.6754 - mse:  0.6754 - val_mse:  0.8681\n",
      "Epoch 40/100\n",
      "3s - loss:  0.6706 - mse:  0.6705 - val_mse:  0.8721\n",
      "Epoch 00040: early stopping\n"
     ]
    },
    {
     "data": {
      "image/png": "[encoded data removed]",
      "text/plain": [
       "<Figure size 432x288 with 1 Axes>"
      ]
     },
     "metadata": {},
     "output_type": "display_data"
    },
    {
     "name": "stdout",
     "output_type": "stream",
     "text": [
      "WDL\n",
      "cuda:0\n",
      "Train on 70000 samples, validate on 10000 samples, 274 steps per epoch\n",
      "Epoch 1/100\n",
      "3s - loss:  2.2535 - mse:  2.2512 - val_mse:  0.9010\n",
      "Epoch 2/100\n",
      "3s - loss:  0.8884 - mse:  0.8881 - val_mse:  0.8837\n",
      "Epoch 3/100\n",
      "3s - loss:  0.8755 - mse:  0.8751 - val_mse:  0.8897\n",
      "Epoch 4/100\n",
      "3s - loss:  0.8721 - mse:  0.8720 - val_mse:  0.8867\n",
      "Epoch 5/100\n",
      "3s - loss:  0.8716 - mse:  0.8715 - val_mse:  0.8842\n",
      "Epoch 6/100\n",
      "3s - loss:  0.8665 - mse:  0.8661 - val_mse:  0.8815\n",
      "Epoch 7/100\n",
      "3s - loss:  0.8656 - mse:  0.8655 - val_mse:  0.8984\n",
      "Epoch 8/100\n",
      "3s - loss:  0.8635 - mse:  0.8634 - val_mse:  0.8988\n",
      "Epoch 9/100\n",
      "4s - loss:  0.8645 - mse:  0.8645 - val_mse:  0.8812\n",
      "Epoch 10/100\n",
      "3s - loss:  0.8617 - mse:  0.8621 - val_mse:  0.8801\n",
      "Epoch 11/100\n",
      "3s - loss:  0.8614 - mse:  0.8613 - val_mse:  0.8794\n",
      "Epoch 12/100\n",
      "3s - loss:  0.8614 - mse:  0.8613 - val_mse:  0.8800\n",
      "Epoch 13/100\n",
      "3s - loss:  0.8578 - mse:  0.8579 - val_mse:  0.8833\n",
      "Epoch 14/100\n",
      "4s - loss:  0.8588 - mse:  0.8588 - val_mse:  0.8979\n",
      "Epoch 15/100\n",
      "3s - loss:  0.8594 - mse:  0.8591 - val_mse:  0.8916\n",
      "Epoch 16/100\n",
      "4s - loss:  0.8593 - mse:  0.8592 - val_mse:  0.8866\n",
      "Epoch 17/100\n",
      "4s - loss:  0.8561 - mse:  0.8565 - val_mse:  0.8799\n",
      "Epoch 18/100\n",
      "4s - loss:  0.8579 - mse:  0.8575 - val_mse:  0.8762\n",
      "Epoch 19/100\n",
      "4s - loss:  0.8557 - mse:  0.8554 - val_mse:  0.8892\n",
      "Epoch 20/100\n",
      "4s - loss:  0.8574 - mse:  0.8573 - val_mse:  0.8981\n",
      "Epoch 21/100\n",
      "4s - loss:  0.8563 - mse:  0.8561 - val_mse:  0.8795\n",
      "Epoch 22/100\n",
      "4s - loss:  0.8567 - mse:  0.8570 - val_mse:  0.8902\n",
      "Epoch 23/100\n",
      "4s - loss:  0.8539 - mse:  0.8538 - val_mse:  0.8785\n",
      "Epoch 24/100\n",
      "4s - loss:  0.8529 - mse:  0.8530 - val_mse:  0.8777\n",
      "Epoch 25/100\n",
      "4s - loss:  0.8528 - mse:  0.8525 - val_mse:  0.8856\n",
      "Epoch 26/100\n",
      "4s - loss:  0.8553 - mse:  0.8551 - val_mse:  0.8857\n",
      "Epoch 27/100\n",
      "4s - loss:  0.8514 - mse:  0.8519 - val_mse:  0.8842\n",
      "Epoch 28/100\n",
      "4s - loss:  0.8517 - mse:  0.8515 - val_mse:  0.8788\n",
      "Epoch 00028: early stopping\n"
     ]
    },
    {
     "data": {
      "image/png": "[encoded data removed]",
      "text/plain": [
       "<Figure size 432x288 with 1 Axes>"
      ]
     },
     "metadata": {},
     "output_type": "display_data"
    },
    {
     "name": "stdout",
     "output_type": "stream",
     "text": [
      "NFM\n",
      "cuda:0\n",
      "Train on 70000 samples, validate on 10000 samples, 274 steps per epoch\n",
      "Epoch 1/100\n",
      "4s - loss:  5.0376 - mse:  5.0293 - val_mse:  1.0117\n",
      "Epoch 2/100\n",
      "4s - loss:  0.9508 - mse:  0.9506 - val_mse:  0.8944\n",
      "Epoch 3/100\n",
      "3s - loss:  0.8740 - mse:  0.8740 - val_mse:  0.8769\n",
      "Epoch 4/100\n",
      "4s - loss:  0.8565 - mse:  0.8565 - val_mse:  0.8741\n",
      "Epoch 5/100\n",
      "4s - loss:  0.8480 - mse:  0.8477 - val_mse:  0.8724\n",
      "Epoch 6/100\n",
      "4s - loss:  0.8433 - mse:  0.8430 - val_mse:  0.8686\n",
      "Epoch 7/100\n",
      "3s - loss:  0.8387 - mse:  0.8384 - val_mse:  0.8689\n",
      "Epoch 8/100\n",
      "4s - loss:  0.8337 - mse:  0.8337 - val_mse:  0.8665\n",
      "Epoch 9/100\n",
      "4s - loss:  0.8290 - mse:  0.8285 - val_mse:  0.8649\n",
      "Epoch 10/100\n",
      "4s - loss:  0.8219 - mse:  0.8219 - val_mse:  0.8593\n",
      "Epoch 11/100\n",
      "4s - loss:  0.8145 - mse:  0.8144 - val_mse:  0.8576\n",
      "Epoch 12/100\n",
      "4s - loss:  0.8054 - mse:  0.8050 - val_mse:  0.8524\n",
      "Epoch 13/100\n",
      "4s - loss:  0.7948 - mse:  0.7946 - val_mse:  0.8481\n",
      "Epoch 14/100\n",
      "4s - loss:  0.7843 - mse:  0.7838 - val_mse:  0.8458\n",
      "Epoch 15/100\n",
      "4s - loss:  0.7733 - mse:  0.7731 - val_mse:  0.8434\n",
      "Epoch 16/100\n",
      "4s - loss:  0.7631 - mse:  0.7629 - val_mse:  0.8418\n",
      "Epoch 17/100\n",
      "4s - loss:  0.7525 - mse:  0.7529 - val_mse:  0.8401\n",
      "Epoch 18/100\n",
      "3s - loss:  0.7426 - mse:  0.7426 - val_mse:  0.8403\n",
      "Epoch 19/100\n",
      "4s - loss:  0.7335 - mse:  0.7333 - val_mse:  0.8389\n",
      "Epoch 20/100\n",
      "4s - loss:  0.7249 - mse:  0.7245 - val_mse:  0.8404\n",
      "Epoch 21/100\n",
      "4s - loss:  0.7164 - mse:  0.7163 - val_mse:  0.8404\n",
      "Epoch 22/100\n",
      "4s - loss:  0.7090 - mse:  0.7087 - val_mse:  0.8410\n",
      "Epoch 23/100\n",
      "4s - loss:  0.7006 - mse:  0.7005 - val_mse:  0.8470\n",
      "Epoch 24/100\n",
      "4s - loss:  0.6923 - mse:  0.6922 - val_mse:  0.8423\n",
      "Epoch 25/100\n",
      "4s - loss:  0.6838 - mse:  0.6836 - val_mse:  0.8463\n",
      "Epoch 26/100\n",
      "4s - loss:  0.6765 - mse:  0.6766 - val_mse:  0.8461\n",
      "Epoch 27/100\n",
      "4s - loss:  0.6668 - mse:  0.6665 - val_mse:  0.8468\n",
      "Epoch 28/100\n",
      "4s - loss:  0.6585 - mse:  0.6579 - val_mse:  0.8513\n",
      "Epoch 29/100\n",
      "4s - loss:  0.6503 - mse:  0.6496 - val_mse:  0.8548\n",
      "Epoch 00029: early stopping\n"
     ]
    },
    {
     "data": {
      "image/png": "[encoded data removed]",
      "text/plain": [
       "<Figure size 432x288 with 1 Axes>"
      ]
     },
     "metadata": {},
     "output_type": "display_data"
    },
    {
     "name": "stdout",
     "output_type": "stream",
     "text": [
      "DCN\n",
      "cuda:0\n",
      "Train on 70000 samples, validate on 10000 samples, 274 steps per epoch\n",
      "Epoch 1/100\n",
      "4s - loss:  7.1705 - mse:  7.1643 - val_mse:  4.0193\n",
      "Epoch 2/100\n",
      "4s - loss:  0.9566 - mse:  0.9568 - val_mse:  0.9380\n",
      "Epoch 3/100\n",
      "4s - loss:  0.8699 - mse:  0.8696 - val_mse:  0.8811\n",
      "Epoch 4/100\n",
      "4s - loss:  0.8596 - mse:  0.8595 - val_mse:  0.8871\n",
      "Epoch 5/100\n",
      "4s - loss:  0.8535 - mse:  0.8532 - val_mse:  0.8942\n",
      "Epoch 6/100\n",
      "4s - loss:  0.8485 - mse:  0.8485 - val_mse:  0.8910\n",
      "Epoch 7/100\n",
      "4s - loss:  0.8494 - mse:  0.8494 - val_mse:  0.8860\n",
      "Epoch 8/100\n",
      "4s - loss:  0.8409 - mse:  0.8409 - val_mse:  0.8845\n",
      "Epoch 9/100\n",
      "4s - loss:  0.8410 - mse:  0.8411 - val_mse:  0.8819\n",
      "Epoch 10/100\n",
      "4s - loss:  0.8340 - mse:  0.8335 - val_mse:  0.8823\n",
      "Epoch 11/100\n",
      "4s - loss:  0.8275 - mse:  0.8276 - val_mse:  0.8718\n",
      "Epoch 12/100\n",
      "4s - loss:  0.8156 - mse:  0.8154 - val_mse:  0.8665\n",
      "Epoch 13/100\n",
      "4s - loss:  0.8074 - mse:  0.8073 - val_mse:  0.8732\n",
      "Epoch 14/100\n",
      "4s - loss:  0.8018 - mse:  0.8017 - val_mse:  0.8569\n",
      "Epoch 15/100\n",
      "4s - loss:  0.7930 - mse:  0.7927 - val_mse:  0.8614\n",
      "Epoch 16/100\n",
      "4s - loss:  0.7900 - mse:  0.7899 - val_mse:  0.8658\n",
      "Epoch 17/100\n",
      "4s - loss:  0.7855 - mse:  0.7855 - val_mse:  0.8570\n",
      "Epoch 18/100\n",
      "4s - loss:  0.7746 - mse:  0.7747 - val_mse:  0.8652\n",
      "Epoch 19/100\n",
      "4s - loss:  0.7720 - mse:  0.7725 - val_mse:  0.8602\n",
      "Epoch 20/100\n",
      "4s - loss:  0.7670 - mse:  0.7669 - val_mse:  0.8571\n",
      "Epoch 21/100\n",
      "4s - loss:  0.7623 - mse:  0.7625 - val_mse:  0.8612\n",
      "Epoch 22/100\n",
      "4s - loss:  0.7550 - mse:  0.7548 - val_mse:  0.8549\n",
      "Epoch 23/100\n",
      "4s - loss:  0.7445 - mse:  0.7446 - val_mse:  0.8669\n",
      "Epoch 24/100\n",
      "4s - loss:  0.7387 - mse:  0.7383 - val_mse:  0.8674\n",
      "Epoch 25/100\n",
      "4s - loss:  0.7326 - mse:  0.7326 - val_mse:  0.8587\n",
      "Epoch 26/100\n",
      "4s - loss:  0.7246 - mse:  0.7242 - val_mse:  0.8621\n",
      "Epoch 27/100\n",
      "4s - loss:  0.7157 - mse:  0.7155 - val_mse:  0.8554\n",
      "Epoch 28/100\n",
      "4s - loss:  0.7081 - mse:  0.7085 - val_mse:  0.8627\n",
      "Epoch 29/100\n",
      "4s - loss:  0.6997 - mse:  0.6998 - val_mse:  0.8725\n",
      "Epoch 30/100\n",
      "4s - loss:  0.6896 - mse:  0.6899 - val_mse:  0.8746\n",
      "Epoch 31/100\n",
      "4s - loss:  0.6816 - mse:  0.6816 - val_mse:  0.8757\n",
      "Epoch 32/100\n",
      "4s - loss:  0.6718 - mse:  0.6718 - val_mse:  0.8715\n",
      "Epoch 00032: early stopping\n"
     ]
    },
    {
     "data": {
      "image/png": "[encoded data removed]",
      "text/plain": [
       "<Figure size 432x288 with 1 Axes>"
      ]
     },
     "metadata": {},
     "output_type": "display_data"
    },
    {
     "name": "stdout",
     "output_type": "stream",
     "text": [
      "xDeepFM\n",
      "cuda:0\n",
      "Train on 70000 samples, validate on 10000 samples, 274 steps per epoch\n",
      "Epoch 1/100\n",
      "5s - loss:  13.0679 - mse:  13.0542 - val_mse:  5.9965\n",
      "Epoch 2/100\n",
      "6s - loss:  1.1166 - mse:  1.1164 - val_mse:  0.9016\n",
      "Epoch 3/100\n",
      "5s - loss:  0.8848 - mse:  0.8847 - val_mse:  0.8847\n",
      "Epoch 4/100\n",
      "5s - loss:  0.8629 - mse:  0.8627 - val_mse:  0.8923\n",
      "Epoch 5/100\n",
      "6s - loss:  0.8560 - mse:  0.8559 - val_mse:  0.8870\n",
      "Epoch 6/100\n",
      "5s - loss:  0.8503 - mse:  0.8503 - val_mse:  0.8990\n",
      "Epoch 7/100\n",
      "5s - loss:  0.8478 - mse:  0.8479 - val_mse:  0.8879\n",
      "Epoch 8/100\n",
      "5s - loss:  0.8448 - mse:  0.8444 - val_mse:  0.8952\n",
      "Epoch 9/100\n",
      "5s - loss:  0.8438 - mse:  0.8436 - val_mse:  0.9002\n",
      "Epoch 10/100\n",
      "5s - loss:  0.8430 - mse:  0.8424 - val_mse:  0.8868\n",
      "Epoch 11/100\n",
      "5s - loss:  0.8396 - mse:  0.8401 - val_mse:  0.8963\n",
      "Epoch 12/100\n",
      "5s - loss:  0.8395 - mse:  0.8397 - val_mse:  0.8979\n",
      "Epoch 13/100\n",
      "5s - loss:  0.8379 - mse:  0.8380 - val_mse:  0.8917\n",
      "Epoch 00013: early stopping\n"
     ]
    },
    {
     "data": {
      "image/png": "[encoded data removed]",
      "text/plain": [
       "<Figure size 432x288 with 1 Axes>"
      ]
     },
     "metadata": {},
     "output_type": "display_data"
    },
    {
     "name": "stdout",
     "output_type": "stream",
     "text": [
      "DIFM\n",
      "cuda:0\n",
      "Train on 70000 samples, validate on 10000 samples, 274 steps per epoch\n",
      "Epoch 1/100\n",
      "5s - loss:  11.4759 - mse:  11.4680 - val_mse:  6.8706\n",
      "Epoch 2/100\n",
      "5s - loss:  1.3617 - mse:  1.3610 - val_mse:  0.9315\n",
      "Epoch 3/100\n",
      "5s - loss:  0.8966 - mse:  0.8964 - val_mse:  0.8909\n",
      "Epoch 4/100\n",
      "5s - loss:  0.8793 - mse:  0.8792 - val_mse:  0.8960\n",
      "Epoch 5/100\n",
      "5s - loss:  0.8722 - mse:  0.8717 - val_mse:  0.9172\n",
      "Epoch 6/100\n",
      "5s - loss:  0.8655 - mse:  0.8655 - val_mse:  0.9155\n",
      "Epoch 7/100\n",
      "4s - loss:  0.8522 - mse:  0.8527 - val_mse:  1.0243\n",
      "Epoch 8/100\n",
      "4s - loss:  0.8433 - mse:  0.8431 - val_mse:  0.8911\n",
      "Epoch 9/100\n",
      "4s - loss:  0.8342 - mse:  0.8345 - val_mse:  0.9014\n",
      "Epoch 10/100\n",
      "4s - loss:  0.8240 - mse:  0.8241 - val_mse:  0.8792\n",
      "Epoch 11/100\n",
      "4s - loss:  0.8115 - mse:  0.8113 - val_mse:  0.8885\n",
      "Epoch 12/100\n",
      "4s - loss:  0.8002 - mse:  0.8003 - val_mse:  0.8798\n",
      "Epoch 13/100\n",
      "4s - loss:  0.7925 - mse:  0.7924 - val_mse:  0.8721\n",
      "Epoch 14/100\n",
      "5s - loss:  0.7869 - mse:  0.7870 - val_mse:  0.9062\n",
      "Epoch 15/100\n",
      "5s - loss:  0.7776 - mse:  0.7775 - val_mse:  0.8893\n",
      "Epoch 16/100\n",
      "5s - loss:  0.7655 - mse:  0.7659 - val_mse:  0.8890\n",
      "Epoch 17/100\n",
      "5s - loss:  0.7638 - mse:  0.7637 - val_mse:  0.8960\n",
      "Epoch 18/100\n",
      "5s - loss:  0.7565 - mse:  0.7566 - val_mse:  0.8828\n",
      "Epoch 19/100\n",
      "5s - loss:  0.7530 - mse:  0.7533 - val_mse:  0.8830\n",
      "Epoch 20/100\n",
      "5s - loss:  0.7449 - mse:  0.7447 - val_mse:  0.9149\n",
      "Epoch 21/100\n",
      "5s - loss:  0.7430 - mse:  0.7432 - val_mse:  0.8793\n",
      "Epoch 22/100\n",
      "5s - loss:  0.7421 - mse:  0.7422 - val_mse:  0.9083\n",
      "Epoch 23/100\n",
      "5s - loss:  0.7352 - mse:  0.7352 - val_mse:  0.8934\n",
      "Epoch 00023: early stopping\n"
     ]
    },
    {
     "data": {
      "image/png": "[encoded data removed]",
      "text/plain": [
       "<Figure size 432x288 with 1 Axes>"
      ]
     },
     "metadata": {},
     "output_type": "display_data"
    },
    {
     "name": "stdout",
     "output_type": "stream",
     "text": [
      "==================================================\n",
      "number: 4\n",
      "DeepFM\n",
      "cuda:0\n",
      "Train on 70000 samples, validate on 10000 samples, 274 steps per epoch\n",
      "Epoch 1/100\n",
      "4s - loss:  5.6401 - mse:  5.6384 - val_mse:  3.6541\n",
      "Epoch 2/100\n",
      "4s - loss:  0.9596 - mse:  0.9595 - val_mse:  0.8866\n",
      "Epoch 3/100\n",
      "4s - loss:  0.8770 - mse:  0.8767 - val_mse:  0.9078\n",
      "Epoch 4/100\n",
      "4s - loss:  0.8623 - mse:  0.8621 - val_mse:  0.8973\n",
      "Epoch 5/100\n",
      "4s - loss:  0.8559 - mse:  0.8558 - val_mse:  0.8796\n",
      "Epoch 6/100\n",
      "4s - loss:  0.8508 - mse:  0.8512 - val_mse:  0.8829\n",
      "Epoch 7/100\n",
      "4s - loss:  0.8460 - mse:  0.8457 - val_mse:  0.8800\n",
      "Epoch 8/100\n",
      "4s - loss:  0.8414 - mse:  0.8415 - val_mse:  0.8794\n",
      "Epoch 9/100\n",
      "4s - loss:  0.8378 - mse:  0.8378 - val_mse:  0.8872\n",
      "Epoch 10/100\n",
      "4s - loss:  0.8311 - mse:  0.8312 - val_mse:  0.9058\n",
      "Epoch 11/100\n",
      "4s - loss:  0.8222 - mse:  0.8224 - val_mse:  0.8974\n",
      "Epoch 12/100\n",
      "4s - loss:  0.8162 - mse:  0.8164 - val_mse:  0.8999\n",
      "Epoch 13/100\n",
      "4s - loss:  0.8059 - mse:  0.8058 - val_mse:  0.8762\n",
      "Epoch 14/100\n",
      "4s - loss:  0.7937 - mse:  0.7934 - val_mse:  0.8903\n",
      "Epoch 15/100\n",
      "4s - loss:  0.7808 - mse:  0.7806 - val_mse:  0.8755\n",
      "Epoch 16/100\n",
      "4s - loss:  0.7642 - mse:  0.7646 - val_mse:  0.8961\n",
      "Epoch 17/100\n",
      "4s - loss:  0.7524 - mse:  0.7521 - val_mse:  0.8881\n",
      "Epoch 18/100\n",
      "4s - loss:  0.7439 - mse:  0.7441 - val_mse:  0.9082\n",
      "Epoch 19/100\n",
      "4s - loss:  0.7326 - mse:  0.7325 - val_mse:  0.8826\n",
      "Epoch 20/100\n",
      "4s - loss:  0.7228 - mse:  0.7226 - val_mse:  0.8871\n",
      "Epoch 21/100\n",
      "4s - loss:  0.7107 - mse:  0.7104 - val_mse:  0.8962\n",
      "Epoch 22/100\n",
      "4s - loss:  0.6978 - mse:  0.6978 - val_mse:  0.8883\n",
      "Epoch 23/100\n",
      "4s - loss:  0.6928 - mse:  0.6926 - val_mse:  0.8731\n",
      "Epoch 24/100\n",
      "4s - loss:  0.6820 - mse:  0.6818 - val_mse:  0.8948\n",
      "Epoch 25/100\n",
      "4s - loss:  0.6702 - mse:  0.6700 - val_mse:  0.8910\n",
      "Epoch 26/100\n",
      "4s - loss:  0.6613 - mse:  0.6613 - val_mse:  0.8978\n",
      "Epoch 27/100\n",
      "4s - loss:  0.6489 - mse:  0.6490 - val_mse:  0.8936\n",
      "Epoch 28/100\n",
      "4s - loss:  0.6399 - mse:  0.6400 - val_mse:  0.8959\n",
      "Epoch 29/100\n",
      "4s - loss:  0.6277 - mse:  0.6279 - val_mse:  0.8942\n",
      "Epoch 30/100\n",
      "4s - loss:  0.6207 - mse:  0.6209 - val_mse:  0.9031\n",
      "Epoch 31/100\n",
      "4s - loss:  0.6129 - mse:  0.6128 - val_mse:  0.9110\n",
      "Epoch 32/100\n",
      "4s - loss:  0.6044 - mse:  0.6047 - val_mse:  0.9144\n",
      "Epoch 33/100\n",
      "4s - loss:  0.5944 - mse:  0.5940 - val_mse:  0.9257\n",
      "Epoch 00033: early stopping\n"
     ]
    },
    {
     "data": {
      "image/png": "[encoded data removed]",
      "text/plain": [
       "<Figure size 432x288 with 1 Axes>"
      ]
     },
     "metadata": {},
     "output_type": "display_data"
    },
    {
     "name": "stdout",
     "output_type": "stream",
     "text": [
      "AFM\n",
      "cuda:0\n",
      "Train on 70000 samples, validate on 10000 samples, 274 steps per epoch\n",
      "Epoch 1/100\n",
      "4s - loss:  7.6880 - mse:  7.6745 - val_mse:  1.2396\n",
      "Epoch 2/100\n",
      "4s - loss:  1.1618 - mse:  1.1616 - val_mse:  1.1000\n",
      "Epoch 3/100\n",
      "4s - loss:  1.0775 - mse:  1.0773 - val_mse:  1.0428\n",
      "Epoch 4/100\n",
      "4s - loss:  1.0186 - mse:  1.0184 - val_mse:  0.9870\n",
      "Epoch 5/100\n",
      "3s - loss:  0.9432 - mse:  0.9433 - val_mse:  0.9230\n",
      "Epoch 6/100\n",
      "3s - loss:  0.8902 - mse:  0.8897 - val_mse:  0.8934\n",
      "Epoch 7/100\n",
      "3s - loss:  0.8628 - mse:  0.8626 - val_mse:  0.8786\n",
      "Epoch 8/100\n",
      "4s - loss:  0.8473 - mse:  0.8471 - val_mse:  0.8705\n",
      "Epoch 9/100\n",
      "4s - loss:  0.8366 - mse:  0.8363 - val_mse:  0.8664\n",
      "Epoch 10/100\n",
      "4s - loss:  0.8281 - mse:  0.8278 - val_mse:  0.8611\n",
      "Epoch 11/100\n",
      "4s - loss:  0.8206 - mse:  0.8202 - val_mse:  0.8584\n",
      "Epoch 12/100\n",
      "4s - loss:  0.8125 - mse:  0.8122 - val_mse:  0.8560\n",
      "Epoch 13/100\n",
      "4s - loss:  0.8062 - mse:  0.8061 - val_mse:  0.8544\n",
      "Epoch 14/100\n",
      "4s - loss:  0.8001 - mse:  0.7999 - val_mse:  0.8541\n",
      "Epoch 15/100\n",
      "4s - loss:  0.7925 - mse:  0.7921 - val_mse:  0.8542\n",
      "Epoch 16/100\n",
      "3s - loss:  0.7858 - mse:  0.7854 - val_mse:  0.8637\n",
      "Epoch 17/100\n",
      "3s - loss:  0.7795 - mse:  0.7786 - val_mse:  0.8566\n",
      "Epoch 18/100\n",
      "3s - loss:  0.7706 - mse:  0.7703 - val_mse:  0.8575\n",
      "Epoch 19/100\n",
      "3s - loss:  0.7626 - mse:  0.7620 - val_mse:  0.8589\n",
      "Epoch 20/100\n",
      "3s - loss:  0.7548 - mse:  0.7540 - val_mse:  0.8607\n",
      "Epoch 21/100\n",
      "4s - loss:  0.7448 - mse:  0.7444 - val_mse:  0.8681\n",
      "Epoch 22/100\n",
      "3s - loss:  0.7347 - mse:  0.7339 - val_mse:  0.8699\n",
      "Epoch 23/100\n",
      "3s - loss:  0.7245 - mse:  0.7238 - val_mse:  0.8730\n",
      "Epoch 24/100\n",
      "3s - loss:  0.7133 - mse:  0.7131 - val_mse:  0.8774\n",
      "Epoch 00024: early stopping\n"
     ]
    },
    {
     "data": {
      "image/png": "[encoded data removed]",
      "text/plain": [
       "<Figure size 432x288 with 1 Axes>"
      ]
     },
     "metadata": {},
     "output_type": "display_data"
    },
    {
     "name": "stdout",
     "output_type": "stream",
     "text": [
      "CCPM\n",
      "cuda:0\n",
      "Train on 70000 samples, validate on 10000 samples, 274 steps per epoch\n",
      "Epoch 1/100\n",
      "5s - loss:  8.3534 - mse:  8.3489 - val_mse:  6.3805\n",
      "Epoch 2/100\n",
      "5s - loss:  1.4134 - mse:  1.4126 - val_mse:  1.2170\n",
      "Epoch 3/100\n",
      "5s - loss:  1.0906 - mse:  1.0907 - val_mse:  1.0197\n",
      "Epoch 4/100\n",
      "5s - loss:  0.9839 - mse:  0.9837 - val_mse:  0.9439\n",
      "Epoch 5/100\n",
      "5s - loss:  0.9100 - mse:  0.9100 - val_mse:  0.9279\n",
      "Epoch 6/100\n",
      "5s - loss:  0.8717 - mse:  0.8718 - val_mse:  0.9013\n",
      "Epoch 7/100\n",
      "5s - loss:  0.8434 - mse:  0.8433 - val_mse:  0.9000\n",
      "Epoch 8/100\n",
      "5s - loss:  0.8217 - mse:  0.8218 - val_mse:  0.8612\n",
      "Epoch 9/100\n",
      "5s - loss:  0.8102 - mse:  0.8104 - val_mse:  0.8657\n",
      "Epoch 10/100\n",
      "5s - loss:  0.7888 - mse:  0.7888 - val_mse:  0.8568\n",
      "Epoch 11/100\n",
      "5s - loss:  0.7830 - mse:  0.7827 - val_mse:  0.8500\n",
      "Epoch 12/100\n",
      "5s - loss:  0.7620 - mse:  0.7621 - val_mse:  0.8576\n",
      "Epoch 13/100\n",
      "5s - loss:  0.7436 - mse:  0.7434 - val_mse:  0.8984\n",
      "Epoch 14/100\n",
      "6s - loss:  0.7385 - mse:  0.7386 - val_mse:  0.8788\n",
      "Epoch 15/100\n",
      "5s - loss:  0.7207 - mse:  0.7209 - val_mse:  0.8572\n",
      "Epoch 16/100\n",
      "6s - loss:  0.6960 - mse:  0.6961 - val_mse:  0.8552\n",
      "Epoch 17/100\n",
      "5s - loss:  0.6820 - mse:  0.6819 - val_mse:  0.8852\n",
      "Epoch 18/100\n",
      "5s - loss:  0.6703 - mse:  0.6703 - val_mse:  0.8772\n",
      "Epoch 19/100\n",
      "5s - loss:  0.6461 - mse:  0.6460 - val_mse:  0.8643\n",
      "Epoch 20/100\n",
      "5s - loss:  0.6202 - mse:  0.6201 - val_mse:  0.8589\n",
      "Epoch 21/100\n",
      "6s - loss:  0.6071 - mse:  0.6071 - val_mse:  0.9709\n",
      "Epoch 00021: early stopping\n"
     ]
    },
    {
     "data": {
      "image/png": "[encoded data removed]",
      "text/plain": [
       "<Figure size 432x288 with 1 Axes>"
      ]
     },
     "metadata": {},
     "output_type": "display_data"
    },
    {
     "name": "stdout",
     "output_type": "stream",
     "text": [
      "IPNN\n",
      "cuda:0\n",
      "Train on 70000 samples, validate on 10000 samples, 274 steps per epoch\n",
      "Epoch 1/100\n",
      "3s - loss:  8.9348 - mse:  8.9190 - val_mse:  1.1854\n",
      "Epoch 2/100\n",
      "2s - loss:  1.1072 - mse:  1.1071 - val_mse:  1.0242\n",
      "Epoch 3/100\n",
      "3s - loss:  0.9846 - mse:  0.9847 - val_mse:  0.9409\n",
      "Epoch 4/100\n",
      "2s - loss:  0.9140 - mse:  0.9137 - val_mse:  0.8978\n",
      "Epoch 5/100\n",
      "2s - loss:  0.8770 - mse:  0.8767 - val_mse:  0.8796\n",
      "Epoch 6/100\n",
      "2s - loss:  0.8594 - mse:  0.8590 - val_mse:  0.8735\n",
      "Epoch 7/100\n",
      "3s - loss:  0.8506 - mse:  0.8506 - val_mse:  0.8705\n",
      "Epoch 8/100\n",
      "3s - loss:  0.8460 - mse:  0.8457 - val_mse:  0.8689\n",
      "Epoch 9/100\n",
      "3s - loss:  0.8431 - mse:  0.8430 - val_mse:  0.8680\n",
      "Epoch 10/100\n",
      "3s - loss:  0.8409 - mse:  0.8405 - val_mse:  0.8678\n",
      "Epoch 11/100\n",
      "3s - loss:  0.8395 - mse:  0.8392 - val_mse:  0.8678\n",
      "Epoch 12/100\n",
      "3s - loss:  0.8387 - mse:  0.8387 - val_mse:  0.8669\n",
      "Epoch 13/100\n",
      "2s - loss:  0.8378 - mse:  0.8375 - val_mse:  0.8680\n",
      "Epoch 14/100\n",
      "3s - loss:  0.8370 - mse:  0.8371 - val_mse:  0.8676\n",
      "Epoch 15/100\n",
      "2s - loss:  0.8366 - mse:  0.8363 - val_mse:  0.8684\n",
      "Epoch 16/100\n",
      "2s - loss:  0.8362 - mse:  0.8361 - val_mse:  0.8667\n",
      "Epoch 17/100\n",
      "3s - loss:  0.8355 - mse:  0.8350 - val_mse:  0.8699\n",
      "Epoch 18/100\n",
      "3s - loss:  0.8355 - mse:  0.8351 - val_mse:  0.8674\n",
      "Epoch 19/100\n",
      "2s - loss:  0.8348 - mse:  0.8346 - val_mse:  0.8688\n",
      "Epoch 20/100\n",
      "2s - loss:  0.8345 - mse:  0.8346 - val_mse:  0.8669\n",
      "Epoch 21/100\n",
      "3s - loss:  0.8341 - mse:  0.8341 - val_mse:  0.8675\n",
      "Epoch 22/100\n",
      "3s - loss:  0.8334 - mse:  0.8330 - val_mse:  0.8663\n",
      "Epoch 23/100\n",
      "3s - loss:  0.8330 - mse:  0.8330 - val_mse:  0.8662\n",
      "Epoch 24/100\n",
      "3s - loss:  0.8322 - mse:  0.8320 - val_mse:  0.8658\n",
      "Epoch 25/100\n",
      "3s - loss:  0.8315 - mse:  0.8311 - val_mse:  0.8654\n",
      "Epoch 26/100\n",
      "3s - loss:  0.8309 - mse:  0.8306 - val_mse:  0.8659\n",
      "Epoch 27/100\n",
      "3s - loss:  0.8303 - mse:  0.8301 - val_mse:  0.8656\n",
      "Epoch 28/100\n",
      "3s - loss:  0.8291 - mse:  0.8289 - val_mse:  0.8647\n",
      "Epoch 29/100\n",
      "3s - loss:  0.8283 - mse:  0.8285 - val_mse:  0.8641\n",
      "Epoch 30/100\n",
      "3s - loss:  0.8273 - mse:  0.8267 - val_mse:  0.8639\n",
      "Epoch 31/100\n",
      "3s - loss:  0.8257 - mse:  0.8257 - val_mse:  0.8614\n",
      "Epoch 32/100\n",
      "3s - loss:  0.8245 - mse:  0.8238 - val_mse:  0.8610\n",
      "Epoch 33/100\n",
      "3s - loss:  0.8226 - mse:  0.8222 - val_mse:  0.8612\n",
      "Epoch 34/100\n",
      "3s - loss:  0.8206 - mse:  0.8206 - val_mse:  0.8583\n",
      "Epoch 35/100\n",
      "3s - loss:  0.8182 - mse:  0.8179 - val_mse:  0.8572\n",
      "Epoch 36/100\n",
      "2s - loss:  0.8159 - mse:  0.8157 - val_mse:  0.8557\n",
      "Epoch 37/100\n",
      "2s - loss:  0.8124 - mse:  0.8120 - val_mse:  0.8529\n",
      "Epoch 38/100\n",
      "2s - loss:  0.8091 - mse:  0.8092 - val_mse:  0.8516\n",
      "Epoch 39/100\n",
      "2s - loss:  0.8047 - mse:  0.8046 - val_mse:  0.8483\n",
      "Epoch 40/100\n",
      "2s - loss:  0.7995 - mse:  0.7990 - val_mse:  0.8449\n",
      "Epoch 41/100\n",
      "2s - loss:  0.7937 - mse:  0.7937 - val_mse:  0.8415\n",
      "Epoch 42/100\n",
      "2s - loss:  0.7875 - mse:  0.7874 - val_mse:  0.8385\n",
      "Epoch 43/100\n",
      "2s - loss:  0.7808 - mse:  0.7811 - val_mse:  0.8355\n",
      "Epoch 44/100\n",
      "2s - loss:  0.7735 - mse:  0.7733 - val_mse:  0.8335\n",
      "Epoch 45/100\n",
      "2s - loss:  0.7667 - mse:  0.7671 - val_mse:  0.8304\n",
      "Epoch 46/100\n",
      "2s - loss:  0.7595 - mse:  0.7595 - val_mse:  0.8289\n",
      "Epoch 47/100\n",
      "2s - loss:  0.7527 - mse:  0.7521 - val_mse:  0.8280\n",
      "Epoch 48/100\n",
      "2s - loss:  0.7453 - mse:  0.7450 - val_mse:  0.8272\n",
      "Epoch 49/100\n",
      "2s - loss:  0.7384 - mse:  0.7381 - val_mse:  0.8265\n",
      "Epoch 50/100\n",
      "2s - loss:  0.7317 - mse:  0.7310 - val_mse:  0.8268\n",
      "Epoch 51/100\n",
      "2s - loss:  0.7248 - mse:  0.7245 - val_mse:  0.8283\n",
      "Epoch 52/100\n",
      "2s - loss:  0.7181 - mse:  0.7177 - val_mse:  0.8282\n",
      "Epoch 53/100\n",
      "2s - loss:  0.7115 - mse:  0.7112 - val_mse:  0.8293\n",
      "Epoch 54/100\n",
      "2s - loss:  0.7047 - mse:  0.7050 - val_mse:  0.8307\n",
      "Epoch 55/100\n",
      "2s - loss:  0.6984 - mse:  0.6981 - val_mse:  0.8327\n",
      "Epoch 56/100\n",
      "2s - loss:  0.6920 - mse:  0.6919 - val_mse:  0.8337\n",
      "Epoch 57/100\n",
      "2s - loss:  0.6859 - mse:  0.6855 - val_mse:  0.8359\n",
      "Epoch 58/100\n",
      "2s - loss:  0.6798 - mse:  0.6798 - val_mse:  0.8369\n",
      "Epoch 59/100\n",
      "2s - loss:  0.6736 - mse:  0.6730 - val_mse:  0.8382\n",
      "Epoch 00059: early stopping\n"
     ]
    },
    {
     "data": {
      "image/png": "[encoded data removed]",
      "text/plain": [
       "<Figure size 432x288 with 1 Axes>"
      ]
     },
     "metadata": {},
     "output_type": "display_data"
    },
    {
     "name": "stdout",
     "output_type": "stream",
     "text": [
      "OPNN\n",
      "cuda:0\n",
      "Train on 70000 samples, validate on 10000 samples, 274 steps per epoch\n",
      "Epoch 1/100\n",
      "3s - loss:  3.2432 - mse:  3.2383 - val_mse:  0.9026\n",
      "Epoch 2/100\n",
      "3s - loss:  0.8845 - mse:  0.8852 - val_mse:  0.8775\n",
      "Epoch 3/100\n",
      "3s - loss:  0.8686 - mse:  0.8688 - val_mse:  0.8726\n",
      "Epoch 4/100\n",
      "3s - loss:  0.8622 - mse:  0.8620 - val_mse:  0.8728\n",
      "Epoch 5/100\n",
      "3s - loss:  0.8595 - mse:  0.8591 - val_mse:  0.8731\n",
      "Epoch 6/100\n",
      "3s - loss:  0.8578 - mse:  0.8579 - val_mse:  0.8703\n",
      "Epoch 7/100\n",
      "3s - loss:  0.8567 - mse:  0.8571 - val_mse:  0.8728\n",
      "Epoch 8/100\n",
      "3s - loss:  0.8548 - mse:  0.8546 - val_mse:  0.8723\n",
      "Epoch 9/100\n",
      "3s - loss:  0.8539 - mse:  0.8539 - val_mse:  0.8745\n",
      "Epoch 10/100\n",
      "3s - loss:  0.8517 - mse:  0.8517 - val_mse:  0.8746\n",
      "Epoch 11/100\n",
      "3s - loss:  0.8510 - mse:  0.8509 - val_mse:  0.8713\n",
      "Epoch 12/100\n",
      "3s - loss:  0.8503 - mse:  0.8502 - val_mse:  0.8710\n",
      "Epoch 13/100\n",
      "3s - loss:  0.8483 - mse:  0.8483 - val_mse:  0.8680\n",
      "Epoch 14/100\n",
      "3s - loss:  0.8443 - mse:  0.8438 - val_mse:  0.8621\n",
      "Epoch 15/100\n",
      "3s - loss:  0.8329 - mse:  0.8324 - val_mse:  0.8532\n",
      "Epoch 16/100\n",
      "3s - loss:  0.8239 - mse:  0.8236 - val_mse:  0.8574\n",
      "Epoch 17/100\n",
      "3s - loss:  0.8169 - mse:  0.8169 - val_mse:  0.8537\n",
      "Epoch 18/100\n",
      "3s - loss:  0.8092 - mse:  0.8089 - val_mse:  0.8558\n",
      "Epoch 19/100\n",
      "2s - loss:  0.8040 - mse:  0.8037 - val_mse:  0.8559\n",
      "Epoch 20/100\n",
      "3s - loss:  0.7975 - mse:  0.7978 - val_mse:  0.8716\n",
      "Epoch 21/100\n",
      "3s - loss:  0.7947 - mse:  0.7948 - val_mse:  0.8562\n",
      "Epoch 22/100\n",
      "3s - loss:  0.7905 - mse:  0.7905 - val_mse:  0.8617\n",
      "Epoch 23/100\n",
      "3s - loss:  0.7841 - mse:  0.7844 - val_mse:  0.8545\n",
      "Epoch 24/100\n",
      "3s - loss:  0.7794 - mse:  0.7793 - val_mse:  0.8526\n",
      "Epoch 25/100\n",
      "3s - loss:  0.7717 - mse:  0.7715 - val_mse:  0.8578\n",
      "Epoch 26/100\n",
      "3s - loss:  0.7629 - mse:  0.7629 - val_mse:  0.8481\n",
      "Epoch 27/100\n",
      "3s - loss:  0.7519 - mse:  0.7524 - val_mse:  0.8488\n",
      "Epoch 28/100\n",
      "3s - loss:  0.7431 - mse:  0.7430 - val_mse:  0.8504\n",
      "Epoch 29/100\n",
      "3s - loss:  0.7346 - mse:  0.7342 - val_mse:  0.8523\n",
      "Epoch 30/100\n",
      "3s - loss:  0.7287 - mse:  0.7286 - val_mse:  0.8559\n",
      "Epoch 31/100\n",
      "3s - loss:  0.7223 - mse:  0.7224 - val_mse:  0.8689\n",
      "Epoch 32/100\n",
      "3s - loss:  0.7160 - mse:  0.7157 - val_mse:  0.8612\n",
      "Epoch 33/100\n",
      "3s - loss:  0.7100 - mse:  0.7098 - val_mse:  0.8621\n",
      "Epoch 34/100\n",
      "3s - loss:  0.7024 - mse:  0.7023 - val_mse:  0.8623\n",
      "Epoch 35/100\n",
      "3s - loss:  0.6951 - mse:  0.6955 - val_mse:  0.8701\n",
      "Epoch 36/100\n",
      "3s - loss:  0.6909 - mse:  0.6912 - val_mse:  0.8734\n",
      "Epoch 00036: early stopping\n"
     ]
    },
    {
     "data": {
      "image/png": "[encoded data removed]",
      "text/plain": [
       "<Figure size 432x288 with 1 Axes>"
      ]
     },
     "metadata": {},
     "output_type": "display_data"
    },
    {
     "name": "stdout",
     "output_type": "stream",
     "text": [
      "WDL\n",
      "cuda:0\n",
      "Train on 70000 samples, validate on 10000 samples, 274 steps per epoch\n",
      "Epoch 1/100\n",
      "3s - loss:  2.2254 - mse:  2.2226 - val_mse:  0.8881\n",
      "Epoch 2/100\n",
      "3s - loss:  0.8845 - mse:  0.8845 - val_mse:  0.8775\n",
      "Epoch 3/100\n",
      "3s - loss:  0.8734 - mse:  0.8730 - val_mse:  0.8796\n",
      "Epoch 4/100\n",
      "3s - loss:  0.8678 - mse:  0.8674 - val_mse:  0.8767\n",
      "Epoch 5/100\n",
      "4s - loss:  0.8668 - mse:  0.8668 - val_mse:  0.8770\n",
      "Epoch 6/100\n",
      "4s - loss:  0.8669 - mse:  0.8671 - val_mse:  0.8761\n",
      "Epoch 7/100\n",
      "4s - loss:  0.8608 - mse:  0.8604 - val_mse:  0.8725\n",
      "Epoch 8/100\n",
      "4s - loss:  0.8596 - mse:  0.8596 - val_mse:  0.8750\n",
      "Epoch 9/100\n",
      "4s - loss:  0.8591 - mse:  0.8589 - val_mse:  0.8820\n",
      "Epoch 10/100\n",
      "3s - loss:  0.8589 - mse:  0.8590 - val_mse:  0.8858\n",
      "Epoch 11/100\n",
      "3s - loss:  0.8589 - mse:  0.8589 - val_mse:  0.8789\n",
      "Epoch 12/100\n",
      "3s - loss:  0.8556 - mse:  0.8556 - val_mse:  0.8736\n",
      "Epoch 13/100\n",
      "4s - loss:  0.8579 - mse:  0.8577 - val_mse:  0.8685\n",
      "Epoch 14/100\n",
      "4s - loss:  0.8549 - mse:  0.8545 - val_mse:  0.8869\n",
      "Epoch 15/100\n",
      "4s - loss:  0.8540 - mse:  0.8537 - val_mse:  0.8688\n",
      "Epoch 16/100\n",
      "4s - loss:  0.8536 - mse:  0.8537 - val_mse:  0.8722\n",
      "Epoch 17/100\n",
      "4s - loss:  0.8512 - mse:  0.8508 - val_mse:  0.8724\n",
      "Epoch 18/100\n",
      "4s - loss:  0.8507 - mse:  0.8509 - val_mse:  0.8854\n",
      "Epoch 19/100\n",
      "4s - loss:  0.8554 - mse:  0.8555 - val_mse:  0.8789\n",
      "Epoch 20/100\n",
      "4s - loss:  0.8498 - mse:  0.8495 - val_mse:  0.8757\n",
      "Epoch 21/100\n",
      "4s - loss:  0.8507 - mse:  0.8502 - val_mse:  0.8718\n",
      "Epoch 22/100\n",
      "4s - loss:  0.8498 - mse:  0.8496 - val_mse:  0.8752\n",
      "Epoch 23/100\n",
      "4s - loss:  0.8506 - mse:  0.8505 - val_mse:  0.8739\n",
      "Epoch 00023: early stopping\n"
     ]
    },
    {
     "data": {
      "image/png": "[encoded data removed]",
      "text/plain": [
       "<Figure size 432x288 with 1 Axes>"
      ]
     },
     "metadata": {},
     "output_type": "display_data"
    },
    {
     "name": "stdout",
     "output_type": "stream",
     "text": [
      "NFM\n",
      "cuda:0\n",
      "Train on 70000 samples, validate on 10000 samples, 274 steps per epoch\n",
      "Epoch 1/100\n",
      "4s - loss:  5.0875 - mse:  5.0795 - val_mse:  1.0158\n",
      "Epoch 2/100\n",
      "4s - loss:  0.9471 - mse:  0.9470 - val_mse:  0.8888\n",
      "Epoch 3/100\n",
      "4s - loss:  0.8681 - mse:  0.8681 - val_mse:  0.8691\n",
      "Epoch 4/100\n",
      "4s - loss:  0.8472 - mse:  0.8473 - val_mse:  0.8662\n",
      "Epoch 5/100\n",
      "4s - loss:  0.8353 - mse:  0.8351 - val_mse:  0.8550\n",
      "Epoch 6/100\n",
      "4s - loss:  0.8254 - mse:  0.8255 - val_mse:  0.8551\n",
      "Epoch 7/100\n",
      "4s - loss:  0.8176 - mse:  0.8177 - val_mse:  0.8520\n",
      "Epoch 8/100\n",
      "4s - loss:  0.8083 - mse:  0.8086 - val_mse:  0.8483\n",
      "Epoch 9/100\n",
      "4s - loss:  0.7997 - mse:  0.7995 - val_mse:  0.8472\n",
      "Epoch 10/100\n",
      "4s - loss:  0.7901 - mse:  0.7899 - val_mse:  0.8442\n",
      "Epoch 11/100\n",
      "4s - loss:  0.7797 - mse:  0.7793 - val_mse:  0.8402\n",
      "Epoch 12/100\n",
      "5s - loss:  0.7681 - mse:  0.7681 - val_mse:  0.8406\n",
      "Epoch 13/100\n",
      "5s - loss:  0.7574 - mse:  0.7571 - val_mse:  0.8386\n",
      "Epoch 14/100\n",
      "4s - loss:  0.7449 - mse:  0.7447 - val_mse:  0.8355\n",
      "Epoch 15/100\n",
      "5s - loss:  0.7326 - mse:  0.7326 - val_mse:  0.8350\n",
      "Epoch 16/100\n",
      "4s - loss:  0.7205 - mse:  0.7203 - val_mse:  0.8320\n",
      "Epoch 17/100\n",
      "4s - loss:  0.7077 - mse:  0.7078 - val_mse:  0.8322\n",
      "Epoch 18/100\n",
      "4s - loss:  0.6965 - mse:  0.6959 - val_mse:  0.8353\n",
      "Epoch 19/100\n",
      "4s - loss:  0.6859 - mse:  0.6856 - val_mse:  0.8337\n",
      "Epoch 20/100\n",
      "5s - loss:  0.6769 - mse:  0.6768 - val_mse:  0.8364\n",
      "Epoch 21/100\n",
      "4s - loss:  0.6663 - mse:  0.6658 - val_mse:  0.8384\n",
      "Epoch 22/100\n",
      "4s - loss:  0.6581 - mse:  0.6575 - val_mse:  0.8396\n",
      "Epoch 23/100\n",
      "4s - loss:  0.6500 - mse:  0.6496 - val_mse:  0.8422\n",
      "Epoch 24/100\n",
      "4s - loss:  0.6424 - mse:  0.6422 - val_mse:  0.8434\n",
      "Epoch 25/100\n",
      "4s - loss:  0.6341 - mse:  0.6336 - val_mse:  0.8461\n",
      "Epoch 26/100\n",
      "4s - loss:  0.6270 - mse:  0.6268 - val_mse:  0.8580\n",
      "Epoch 00026: early stopping\n"
     ]
    },
    {
     "data": {
      "image/png": "[encoded data removed]",
      "text/plain": [
       "<Figure size 432x288 with 1 Axes>"
      ]
     },
     "metadata": {},
     "output_type": "display_data"
    },
    {
     "name": "stdout",
     "output_type": "stream",
     "text": [
      "DCN\n",
      "cuda:0\n",
      "Train on 70000 samples, validate on 10000 samples, 274 steps per epoch\n",
      "Epoch 1/100\n",
      "5s - loss:  7.3358 - mse:  7.3306 - val_mse:  4.3331\n",
      "Epoch 2/100\n",
      "5s - loss:  0.9808 - mse:  0.9803 - val_mse:  0.8906\n",
      "Epoch 3/100\n",
      "4s - loss:  0.8706 - mse:  0.8705 - val_mse:  0.8752\n",
      "Epoch 4/100\n",
      "5s - loss:  0.8639 - mse:  0.8640 - val_mse:  0.8726\n",
      "Epoch 5/100\n",
      "5s - loss:  0.8542 - mse:  0.8542 - val_mse:  0.8870\n",
      "Epoch 6/100\n",
      "5s - loss:  0.8492 - mse:  0.8488 - val_mse:  0.8810\n",
      "Epoch 7/100\n",
      "5s - loss:  0.8463 - mse:  0.8462 - val_mse:  0.8840\n",
      "Epoch 8/100\n",
      "5s - loss:  0.8424 - mse:  0.8421 - val_mse:  0.8756\n",
      "Epoch 9/100\n",
      "5s - loss:  0.8409 - mse:  0.8409 - val_mse:  0.8723\n",
      "Epoch 10/100\n",
      "5s - loss:  0.8400 - mse:  0.8401 - val_mse:  0.8731\n",
      "Epoch 11/100\n",
      "5s - loss:  0.8365 - mse:  0.8365 - val_mse:  0.8732\n",
      "Epoch 12/100\n",
      "5s - loss:  0.8326 - mse:  0.8328 - val_mse:  0.8722\n",
      "Epoch 13/100\n",
      "5s - loss:  0.8293 - mse:  0.8293 - val_mse:  0.8801\n",
      "Epoch 14/100\n",
      "5s - loss:  0.8283 - mse:  0.8285 - val_mse:  0.8728\n",
      "Epoch 15/100\n",
      "4s - loss:  0.8225 - mse:  0.8225 - val_mse:  0.8693\n",
      "Epoch 16/100\n",
      "4s - loss:  0.8193 - mse:  0.8198 - val_mse:  0.8708\n",
      "Epoch 17/100\n",
      "5s - loss:  0.8137 - mse:  0.8140 - val_mse:  0.8631\n",
      "Epoch 18/100\n",
      "4s - loss:  0.8065 - mse:  0.8068 - val_mse:  0.8677\n",
      "Epoch 19/100\n",
      "5s - loss:  0.7977 - mse:  0.7980 - val_mse:  0.8595\n",
      "Epoch 20/100\n",
      "5s - loss:  0.7952 - mse:  0.7953 - val_mse:  0.8613\n",
      "Epoch 21/100\n",
      "5s - loss:  0.7815 - mse:  0.7812 - val_mse:  0.8543\n",
      "Epoch 22/100\n",
      "5s - loss:  0.7753 - mse:  0.7751 - val_mse:  0.8519\n",
      "Epoch 23/100\n",
      "5s - loss:  0.7684 - mse:  0.7690 - val_mse:  0.8597\n",
      "Epoch 24/100\n",
      "5s - loss:  0.7587 - mse:  0.7587 - val_mse:  0.8654\n",
      "Epoch 25/100\n",
      "5s - loss:  0.7543 - mse:  0.7538 - val_mse:  0.8559\n",
      "Epoch 26/100\n",
      "6s - loss:  0.7480 - mse:  0.7482 - val_mse:  0.8690\n",
      "Epoch 27/100\n",
      "5s - loss:  0.7419 - mse:  0.7419 - val_mse:  0.8679\n",
      "Epoch 28/100\n",
      "5s - loss:  0.7333 - mse:  0.7333 - val_mse:  0.8632\n",
      "Epoch 29/100\n",
      "5s - loss:  0.7275 - mse:  0.7281 - val_mse:  0.8864\n",
      "Epoch 30/100\n",
      "5s - loss:  0.7211 - mse:  0.7211 - val_mse:  0.9012\n",
      "Epoch 31/100\n",
      "5s - loss:  0.7163 - mse:  0.7166 - val_mse:  0.8666\n",
      "Epoch 32/100\n",
      "5s - loss:  0.7074 - mse:  0.7069 - val_mse:  0.8643\n",
      "Epoch 00032: early stopping\n"
     ]
    },
    {
     "data": {
      "image/png": "[encoded data removed]",
      "text/plain": [
       "<Figure size 432x288 with 1 Axes>"
      ]
     },
     "metadata": {},
     "output_type": "display_data"
    },
    {
     "name": "stdout",
     "output_type": "stream",
     "text": [
      "xDeepFM\n",
      "cuda:0\n",
      "Train on 70000 samples, validate on 10000 samples, 274 steps per epoch\n",
      "Epoch 1/100\n",
      "7s - loss:  13.0779 - mse:  13.0648 - val_mse:  5.9089\n",
      "Epoch 2/100\n",
      "7s - loss:  1.0787 - mse:  1.0785 - val_mse:  0.9087\n",
      "Epoch 3/100\n",
      "6s - loss:  0.8763 - mse:  0.8767 - val_mse:  0.8850\n",
      "Epoch 4/100\n",
      "6s - loss:  0.8570 - mse:  0.8568 - val_mse:  0.8798\n",
      "Epoch 5/100\n",
      "6s - loss:  0.8487 - mse:  0.8488 - val_mse:  0.8782\n",
      "Epoch 6/100\n",
      "6s - loss:  0.8443 - mse:  0.8446 - val_mse:  0.8773\n",
      "Epoch 7/100\n",
      "6s - loss:  0.8433 - mse:  0.8433 - val_mse:  0.8792\n",
      "Epoch 8/100\n",
      "6s - loss:  0.8388 - mse:  0.8388 - val_mse:  0.8946\n",
      "Epoch 9/100\n",
      "6s - loss:  0.8381 - mse:  0.8382 - val_mse:  0.8896\n",
      "Epoch 10/100\n",
      "6s - loss:  0.8366 - mse:  0.8366 - val_mse:  0.8797\n",
      "Epoch 11/100\n",
      "6s - loss:  0.8337 - mse:  0.8337 - val_mse:  0.8849\n",
      "Epoch 12/100\n",
      "6s - loss:  0.8353 - mse:  0.8353 - val_mse:  0.8755\n",
      "Epoch 13/100\n",
      "6s - loss:  0.8319 - mse:  0.8320 - val_mse:  0.8779\n",
      "Epoch 14/100\n",
      "6s - loss:  0.8323 - mse:  0.8324 - val_mse:  0.8781\n",
      "Epoch 15/100\n",
      "7s - loss:  0.8311 - mse:  0.8310 - val_mse:  0.8776\n",
      "Epoch 16/100\n",
      "6s - loss:  0.8303 - mse:  0.8304 - val_mse:  0.8827\n",
      "Epoch 17/100\n",
      "6s - loss:  0.8319 - mse:  0.8321 - val_mse:  0.8907\n",
      "Epoch 18/100\n",
      "6s - loss:  0.8297 - mse:  0.8293 - val_mse:  0.8804\n",
      "Epoch 19/100\n",
      "6s - loss:  0.8297 - mse:  0.8298 - val_mse:  0.8871\n",
      "Epoch 20/100\n",
      "6s - loss:  0.8292 - mse:  0.8295 - val_mse:  0.8851\n",
      "Epoch 21/100\n",
      "6s - loss:  0.8273 - mse:  0.8270 - val_mse:  0.8788\n",
      "Epoch 22/100\n",
      "7s - loss:  0.8266 - mse:  0.8266 - val_mse:  0.8884\n",
      "Epoch 00022: early stopping\n"
     ]
    },
    {
     "data": {
      "image/png": "[encoded data removed]",
      "text/plain": [
       "<Figure size 432x288 with 1 Axes>"
      ]
     },
     "metadata": {},
     "output_type": "display_data"
    },
    {
     "name": "stdout",
     "output_type": "stream",
     "text": [
      "DIFM\n",
      "cuda:0\n",
      "Train on 70000 samples, validate on 10000 samples, 274 steps per epoch\n",
      "Epoch 1/100\n",
      "6s - loss:  11.4206 - mse:  11.4096 - val_mse:  6.6582\n",
      "Epoch 2/100\n",
      "5s - loss:  1.4287 - mse:  1.4278 - val_mse:  0.8935\n",
      "Epoch 3/100\n",
      "5s - loss:  0.8855 - mse:  0.8854 - val_mse:  0.9001\n",
      "Epoch 4/100\n",
      "5s - loss:  0.8770 - mse:  0.8773 - val_mse:  0.8759\n",
      "Epoch 5/100\n",
      "5s - loss:  0.8586 - mse:  0.8588 - val_mse:  0.8896\n",
      "Epoch 6/100\n",
      "5s - loss:  0.8548 - mse:  0.8545 - val_mse:  0.9160\n",
      "Epoch 7/100\n",
      "5s - loss:  0.8489 - mse:  0.8490 - val_mse:  0.9041\n",
      "Epoch 8/100\n",
      "6s - loss:  0.8438 - mse:  0.8438 - val_mse:  0.9596\n",
      "Epoch 9/100\n",
      "5s - loss:  0.8286 - mse:  0.8284 - val_mse:  0.8942\n",
      "Epoch 10/100\n",
      "5s - loss:  0.8242 - mse:  0.8245 - val_mse:  0.8844\n",
      "Epoch 11/100\n",
      "5s - loss:  0.8109 - mse:  0.8108 - val_mse:  0.8787\n",
      "Epoch 12/100\n",
      "5s - loss:  0.8009 - mse:  0.8007 - val_mse:  0.8966\n",
      "Epoch 13/100\n",
      "5s - loss:  0.7961 - mse:  0.7963 - val_mse:  0.8885\n",
      "Epoch 14/100\n",
      "5s - loss:  0.7826 - mse:  0.7826 - val_mse:  0.9307\n",
      "Epoch 00014: early stopping\n"
     ]
    },
    {
     "data": {
      "image/png": "[encoded data removed]",
      "text/plain": [
       "<Figure size 432x288 with 1 Axes>"
      ]
     },
     "metadata": {},
     "output_type": "display_data"
    }
   ],
   "source": [
    "for i in range(1,5):\n",
    "    train_ind = np.load(os.path.join(train_path, 'train_ind'+ str(i) +'.npy'))\n",
    "    val_ind = np.load(os.path.join(val_path, 'val_ind'+ str(i) +'.npy'))\n",
    "    test_ind = np.load(os.path.join(test_path, 'test_ind'+ str(i) +'.npy'))\n",
    "    \n",
    "    train_x = sparse_x[train_ind]\n",
    "    val_x = sparse_x[val_ind]\n",
    "    test_x = sparse_x[test_ind]\n",
    "\n",
    "    train_y=target[train_ind]\n",
    "    val_y=target[val_ind]\n",
    "    test_y=target[test_ind]\n",
    "    \n",
    "    train_x_tensor = sparse2tensor(train_x)\n",
    "    val_x_tensor = sparse2tensor(val_x)\n",
    "    test_x_tensor = sparse2tensor(test_x)\n",
    "    \n",
    "    print('==================================================')\n",
    "    print('number:', i)\n",
    "    print('DeepFM')\n",
    "    DeepFM_train(train_x_tensor, train_y, val_x_tensor, val_y)\n",
    "    print('AFM')\n",
    "    AFM_train(train_x_tensor, train_y, val_x_tensor, val_y)\n",
    "    print('CCPM')\n",
    "    CCPM_train(train_x_tensor, train_y, val_x_tensor, val_y)\n",
    "    print('IPNN')\n",
    "    IPNN_train(train_x_tensor, train_y, val_x_tensor, val_y)\n",
    "    print('OPNN')\n",
    "    OPNN_train(train_x_tensor, train_y, val_x_tensor, val_y)\n",
    "    print('WDL')\n",
    "    WDL_train(train_x_tensor, train_y, val_x_tensor, val_y)\n",
    "    print('NFM')\n",
    "    NFM_train(train_x_tensor, train_y, val_x_tensor, val_y)\n",
    "    print('DCN')\n",
    "    DCN_train(train_x_tensor, train_y, val_x_tensor, val_y)\n",
    "    print('xDeepFM')\n",
    "    xDeepFM_train(train_x_tensor, train_y, val_x_tensor, val_y)\n",
    "    print('DIFM')\n",
    "    DIFM_train(train_x_tensor, train_y, val_x_tensor, val_y)"
   ]
  },
  {
   "cell_type": "code",
   "execution_count": null,
   "id": "86d92ae2",
   "metadata": {},
   "outputs": [],
   "source": []
  },
  {
   "cell_type": "code",
   "execution_count": 45,
   "id": "1646a618",
   "metadata": {},
   "outputs": [],
   "source": [
    "model_list = ['deepfm', 'AFM', 'CCPM',\n",
    "             'OPNN', 'IPNN', 'wide_deep',\n",
    "             'NFM', 'DCN', 'xDeepFM', 'DIFM']"
   ]
  },
  {
   "cell_type": "code",
   "execution_count": 61,
   "id": "77c9ee50",
   "metadata": {},
   "outputs": [],
   "source": [
    "def get_train(data, train_ind):\n",
    "    \n",
    "    train_data = data.loc[train_ind][data.columns[:3]]\n",
    "    train_data = train_data.rename(columns={train_data.columns[1]: \"item\"})\n",
    "    train_user = train_data.user.value_counts().index.to_numpy()\n",
    "    train_user = np.sort(train_user)\n",
    "    \n",
    "    return train_data, train_user\n",
    "\n",
    "def get_test_val(data, test_ind):\n",
    "\n",
    "    test_data = data.loc[test_ind][data.columns[:3]]\n",
    "    test_data = test_data.rename(columns={test_data.columns[1]: \"item\"})\n",
    "    test_user = test_data.user.value_counts().index.to_numpy()\n",
    "    test_user = np.sort(test_user)\n",
    "\n",
    "    #count interation in test set\n",
    "    test_inter_count ={} \n",
    "    interaction = test_data.user.value_counts()\n",
    "\n",
    "    for i, count in enumerate(interaction):\n",
    "        if count >= 10:\n",
    "            test_inter_count[interaction.index[i]] = 10\n",
    "        else:\n",
    "            test_inter_count[interaction.index[i]] = count\n",
    "            \n",
    "    return test_data, test_user, test_inter_count"
   ]
  },
  {
   "cell_type": "code",
   "execution_count": 62,
   "id": "16b05118",
   "metadata": {},
   "outputs": [],
   "source": [
    "def ctr(m_path):\n",
    "\n",
    "    model = torch.load(m_path)\n",
    "    model.to(device)\n",
    "    torch.backends.cudnn.benchmark = True\n",
    "    \n",
    "    rate = model.predict(test_x_tensor.to(device))\n",
    "    rate = rate.reshape(rate.shape[0], )\n",
    "\n",
    "    test_data['rate_pred'] = rate\n",
    "    \n",
    "    rmse = mean_squared_error(test_data.rate, test_data.rate_pred, squared=False)\n",
    "    recall = []\n",
    "    ndcg = []\n",
    "\n",
    "    for tu in tqdm(test_user):\n",
    "\n",
    "        top = test_data[test_data.user == tu].sort_values(by=['rate_pred'], ascending=False)[:test_inter_count[tu]]\n",
    "        den = top[top.rate > 3.5].shape[0]\n",
    "        num = top[(top.rate > 3.5) & (top.rate_pred > 3.5)].shape[0]\n",
    "\n",
    "        if den == 0:\n",
    "            recall.append(0)\n",
    "        else:\n",
    "            recall.append(num/den)\n",
    "\n",
    "        if test_inter_count[tu] != 1:\n",
    "            ndcg.append(ndcg_score(top.rate.values.reshape(1, -1), top.rate_pred.values.reshape(1, -1)))\n",
    "        else:\n",
    "            ndcg.append(ndcg_score(np.append(top.rate.values, 0).reshape(1, -1), np.append(top.rate_pred.values, 0).reshape(1, -1)))\n",
    "\n",
    "    return rmse, np.array(recall).mean(), np.array(ndcg).mean()"
   ]
  },
  {
   "cell_type": "code",
   "execution_count": 63,
   "id": "9f568012",
   "metadata": {},
   "outputs": [
    {
     "name": "stdout",
     "output_type": "stream",
     "text": [
      "=================================================================\n",
      "num: 0\n",
      "=================================================================\n",
      "deepfm\n"
     ]
    },
    {
     "name": "stderr",
     "output_type": "stream",
     "text": [
      "100%|███████████████████████████████████████████████████████████████████████████████| 943/943 [00:01<00:00, 760.76it/s]\n"
     ]
    },
    {
     "name": "stdout",
     "output_type": "stream",
     "text": [
      "=================================================================\n",
      "AFM\n"
     ]
    },
    {
     "name": "stderr",
     "output_type": "stream",
     "text": [
      "100%|███████████████████████████████████████████████████████████████████████████████| 943/943 [00:01<00:00, 765.30it/s]\n"
     ]
    },
    {
     "name": "stdout",
     "output_type": "stream",
     "text": [
      "=================================================================\n",
      "CCPM\n"
     ]
    },
    {
     "name": "stderr",
     "output_type": "stream",
     "text": [
      "100%|███████████████████████████████████████████████████████████████████████████████| 943/943 [00:01<00:00, 790.87it/s]\n"
     ]
    },
    {
     "name": "stdout",
     "output_type": "stream",
     "text": [
      "=================================================================\n",
      "OPNN\n"
     ]
    },
    {
     "name": "stderr",
     "output_type": "stream",
     "text": [
      "100%|███████████████████████████████████████████████████████████████████████████████| 943/943 [00:01<00:00, 671.85it/s]\n"
     ]
    },
    {
     "name": "stdout",
     "output_type": "stream",
     "text": [
      "=================================================================\n",
      "IPNN\n"
     ]
    },
    {
     "name": "stderr",
     "output_type": "stream",
     "text": [
      "100%|███████████████████████████████████████████████████████████████████████████████| 943/943 [00:01<00:00, 628.66it/s]\n"
     ]
    },
    {
     "name": "stdout",
     "output_type": "stream",
     "text": [
      "=================================================================\n",
      "wide_deep\n"
     ]
    },
    {
     "name": "stderr",
     "output_type": "stream",
     "text": [
      "100%|███████████████████████████████████████████████████████████████████████████████| 943/943 [00:01<00:00, 688.18it/s]\n"
     ]
    },
    {
     "name": "stdout",
     "output_type": "stream",
     "text": [
      "=================================================================\n",
      "NFM\n"
     ]
    },
    {
     "name": "stderr",
     "output_type": "stream",
     "text": [
      "100%|███████████████████████████████████████████████████████████████████████████████| 943/943 [00:01<00:00, 746.96it/s]\n"
     ]
    },
    {
     "name": "stdout",
     "output_type": "stream",
     "text": [
      "=================================================================\n",
      "DCN\n"
     ]
    },
    {
     "name": "stderr",
     "output_type": "stream",
     "text": [
      "100%|███████████████████████████████████████████████████████████████████████████████| 943/943 [00:01<00:00, 714.80it/s]\n"
     ]
    },
    {
     "name": "stdout",
     "output_type": "stream",
     "text": [
      "=================================================================\n",
      "xDeepFM\n"
     ]
    },
    {
     "name": "stderr",
     "output_type": "stream",
     "text": [
      "100%|███████████████████████████████████████████████████████████████████████████████| 943/943 [00:01<00:00, 760.00it/s]\n"
     ]
    },
    {
     "name": "stdout",
     "output_type": "stream",
     "text": [
      "=================================================================\n",
      "DIFM\n"
     ]
    },
    {
     "name": "stderr",
     "output_type": "stream",
     "text": [
      "100%|███████████████████████████████████████████████████████████████████████████████| 943/943 [00:01<00:00, 711.14it/s]\n"
     ]
    },
    {
     "name": "stdout",
     "output_type": "stream",
     "text": [
      "=================================================================\n",
      "num: 1\n",
      "=================================================================\n",
      "deepfm\n"
     ]
    },
    {
     "name": "stderr",
     "output_type": "stream",
     "text": [
      "100%|███████████████████████████████████████████████████████████████████████████████| 943/943 [00:01<00:00, 748.01it/s]\n"
     ]
    },
    {
     "name": "stdout",
     "output_type": "stream",
     "text": [
      "=================================================================\n",
      "AFM\n"
     ]
    },
    {
     "name": "stderr",
     "output_type": "stream",
     "text": [
      "100%|███████████████████████████████████████████████████████████████████████████████| 943/943 [00:01<00:00, 674.26it/s]\n"
     ]
    },
    {
     "name": "stdout",
     "output_type": "stream",
     "text": [
      "=================================================================\n",
      "CCPM\n"
     ]
    },
    {
     "name": "stderr",
     "output_type": "stream",
     "text": [
      "100%|███████████████████████████████████████████████████████████████████████████████| 943/943 [00:01<00:00, 623.95it/s]\n"
     ]
    },
    {
     "name": "stdout",
     "output_type": "stream",
     "text": [
      "=================================================================\n",
      "OPNN\n"
     ]
    },
    {
     "name": "stderr",
     "output_type": "stream",
     "text": [
      "100%|███████████████████████████████████████████████████████████████████████████████| 943/943 [00:01<00:00, 690.76it/s]\n"
     ]
    },
    {
     "name": "stdout",
     "output_type": "stream",
     "text": [
      "=================================================================\n",
      "IPNN\n"
     ]
    },
    {
     "name": "stderr",
     "output_type": "stream",
     "text": [
      "100%|███████████████████████████████████████████████████████████████████████████████| 943/943 [00:01<00:00, 746.04it/s]\n"
     ]
    },
    {
     "name": "stdout",
     "output_type": "stream",
     "text": [
      "=================================================================\n",
      "wide_deep\n"
     ]
    },
    {
     "name": "stderr",
     "output_type": "stream",
     "text": [
      "100%|███████████████████████████████████████████████████████████████████████████████| 943/943 [00:01<00:00, 808.89it/s]\n"
     ]
    },
    {
     "name": "stdout",
     "output_type": "stream",
     "text": [
      "=================================================================\n",
      "NFM\n"
     ]
    },
    {
     "name": "stderr",
     "output_type": "stream",
     "text": [
      "100%|███████████████████████████████████████████████████████████████████████████████| 943/943 [00:01<00:00, 819.25it/s]\n"
     ]
    },
    {
     "name": "stdout",
     "output_type": "stream",
     "text": [
      "=================================================================\n",
      "DCN\n"
     ]
    },
    {
     "name": "stderr",
     "output_type": "stream",
     "text": [
      "100%|███████████████████████████████████████████████████████████████████████████████| 943/943 [00:01<00:00, 825.25it/s]\n"
     ]
    },
    {
     "name": "stdout",
     "output_type": "stream",
     "text": [
      "=================================================================\n",
      "xDeepFM\n"
     ]
    },
    {
     "name": "stderr",
     "output_type": "stream",
     "text": [
      "100%|███████████████████████████████████████████████████████████████████████████████| 943/943 [00:01<00:00, 802.68it/s]\n"
     ]
    },
    {
     "name": "stdout",
     "output_type": "stream",
     "text": [
      "=================================================================\n",
      "DIFM\n"
     ]
    },
    {
     "name": "stderr",
     "output_type": "stream",
     "text": [
      "100%|███████████████████████████████████████████████████████████████████████████████| 943/943 [00:01<00:00, 801.98it/s]\n"
     ]
    },
    {
     "name": "stdout",
     "output_type": "stream",
     "text": [
      "=================================================================\n",
      "num: 2\n",
      "=================================================================\n",
      "deepfm\n"
     ]
    },
    {
     "name": "stderr",
     "output_type": "stream",
     "text": [
      "100%|███████████████████████████████████████████████████████████████████████████████| 943/943 [00:01<00:00, 780.50it/s]\n"
     ]
    },
    {
     "name": "stdout",
     "output_type": "stream",
     "text": [
      "=================================================================\n",
      "AFM\n"
     ]
    },
    {
     "name": "stderr",
     "output_type": "stream",
     "text": [
      "100%|███████████████████████████████████████████████████████████████████████████████| 943/943 [00:01<00:00, 765.40it/s]\n"
     ]
    },
    {
     "name": "stdout",
     "output_type": "stream",
     "text": [
      "=================================================================\n",
      "CCPM\n"
     ]
    },
    {
     "name": "stderr",
     "output_type": "stream",
     "text": [
      "100%|███████████████████████████████████████████████████████████████████████████████| 943/943 [00:01<00:00, 789.20it/s]\n"
     ]
    },
    {
     "name": "stdout",
     "output_type": "stream",
     "text": [
      "=================================================================\n",
      "OPNN\n"
     ]
    },
    {
     "name": "stderr",
     "output_type": "stream",
     "text": [
      "100%|███████████████████████████████████████████████████████████████████████████████| 943/943 [00:01<00:00, 710.20it/s]\n"
     ]
    },
    {
     "name": "stdout",
     "output_type": "stream",
     "text": [
      "=================================================================\n",
      "IPNN\n"
     ]
    },
    {
     "name": "stderr",
     "output_type": "stream",
     "text": [
      "100%|███████████████████████████████████████████████████████████████████████████████| 943/943 [00:01<00:00, 659.43it/s]\n"
     ]
    },
    {
     "name": "stdout",
     "output_type": "stream",
     "text": [
      "=================================================================\n",
      "wide_deep\n"
     ]
    },
    {
     "name": "stderr",
     "output_type": "stream",
     "text": [
      "100%|███████████████████████████████████████████████████████████████████████████████| 943/943 [00:01<00:00, 658.77it/s]\n"
     ]
    },
    {
     "name": "stdout",
     "output_type": "stream",
     "text": [
      "=================================================================\n",
      "NFM\n"
     ]
    },
    {
     "name": "stderr",
     "output_type": "stream",
     "text": [
      "100%|███████████████████████████████████████████████████████████████████████████████| 943/943 [00:01<00:00, 617.51it/s]\n"
     ]
    },
    {
     "name": "stdout",
     "output_type": "stream",
     "text": [
      "=================================================================\n",
      "DCN\n"
     ]
    },
    {
     "name": "stderr",
     "output_type": "stream",
     "text": [
      "100%|███████████████████████████████████████████████████████████████████████████████| 943/943 [00:01<00:00, 726.50it/s]\n"
     ]
    },
    {
     "name": "stdout",
     "output_type": "stream",
     "text": [
      "=================================================================\n",
      "xDeepFM\n"
     ]
    },
    {
     "name": "stderr",
     "output_type": "stream",
     "text": [
      "100%|███████████████████████████████████████████████████████████████████████████████| 943/943 [00:01<00:00, 683.63it/s]\n"
     ]
    },
    {
     "name": "stdout",
     "output_type": "stream",
     "text": [
      "=================================================================\n",
      "DIFM\n"
     ]
    },
    {
     "name": "stderr",
     "output_type": "stream",
     "text": [
      "100%|███████████████████████████████████████████████████████████████████████████████| 943/943 [00:01<00:00, 711.72it/s]\n"
     ]
    },
    {
     "name": "stdout",
     "output_type": "stream",
     "text": [
      "=================================================================\n",
      "num: 3\n",
      "=================================================================\n",
      "deepfm\n"
     ]
    },
    {
     "name": "stderr",
     "output_type": "stream",
     "text": [
      "100%|███████████████████████████████████████████████████████████████████████████████| 943/943 [00:01<00:00, 613.14it/s]\n"
     ]
    },
    {
     "name": "stdout",
     "output_type": "stream",
     "text": [
      "=================================================================\n",
      "AFM\n"
     ]
    },
    {
     "name": "stderr",
     "output_type": "stream",
     "text": [
      "100%|███████████████████████████████████████████████████████████████████████████████| 943/943 [00:01<00:00, 717.35it/s]\n"
     ]
    },
    {
     "name": "stdout",
     "output_type": "stream",
     "text": [
      "=================================================================\n",
      "CCPM\n"
     ]
    },
    {
     "name": "stderr",
     "output_type": "stream",
     "text": [
      "100%|███████████████████████████████████████████████████████████████████████████████| 943/943 [00:01<00:00, 625.28it/s]\n"
     ]
    },
    {
     "name": "stdout",
     "output_type": "stream",
     "text": [
      "=================================================================\n",
      "OPNN\n"
     ]
    },
    {
     "name": "stderr",
     "output_type": "stream",
     "text": [
      "100%|███████████████████████████████████████████████████████████████████████████████| 943/943 [00:01<00:00, 645.10it/s]\n"
     ]
    },
    {
     "name": "stdout",
     "output_type": "stream",
     "text": [
      "=================================================================\n",
      "IPNN\n"
     ]
    },
    {
     "name": "stderr",
     "output_type": "stream",
     "text": [
      "100%|███████████████████████████████████████████████████████████████████████████████| 943/943 [00:01<00:00, 699.02it/s]\n"
     ]
    },
    {
     "name": "stdout",
     "output_type": "stream",
     "text": [
      "=================================================================\n",
      "wide_deep\n"
     ]
    },
    {
     "name": "stderr",
     "output_type": "stream",
     "text": [
      "100%|███████████████████████████████████████████████████████████████████████████████| 943/943 [00:01<00:00, 811.86it/s]\n"
     ]
    },
    {
     "name": "stdout",
     "output_type": "stream",
     "text": [
      "=================================================================\n",
      "NFM\n"
     ]
    },
    {
     "name": "stderr",
     "output_type": "stream",
     "text": [
      "100%|███████████████████████████████████████████████████████████████████████████████| 943/943 [00:01<00:00, 778.01it/s]\n"
     ]
    },
    {
     "name": "stdout",
     "output_type": "stream",
     "text": [
      "=================================================================\n",
      "DCN\n"
     ]
    },
    {
     "name": "stderr",
     "output_type": "stream",
     "text": [
      "100%|███████████████████████████████████████████████████████████████████████████████| 943/943 [00:01<00:00, 748.33it/s]\n"
     ]
    },
    {
     "name": "stdout",
     "output_type": "stream",
     "text": [
      "=================================================================\n",
      "xDeepFM\n"
     ]
    },
    {
     "name": "stderr",
     "output_type": "stream",
     "text": [
      "100%|███████████████████████████████████████████████████████████████████████████████| 943/943 [00:01<00:00, 642.05it/s]\n"
     ]
    },
    {
     "name": "stdout",
     "output_type": "stream",
     "text": [
      "=================================================================\n",
      "DIFM\n"
     ]
    },
    {
     "name": "stderr",
     "output_type": "stream",
     "text": [
      "100%|███████████████████████████████████████████████████████████████████████████████| 943/943 [00:01<00:00, 706.70it/s]\n"
     ]
    },
    {
     "name": "stdout",
     "output_type": "stream",
     "text": [
      "=================================================================\n",
      "num: 4\n",
      "=================================================================\n",
      "deepfm\n"
     ]
    },
    {
     "name": "stderr",
     "output_type": "stream",
     "text": [
      "100%|███████████████████████████████████████████████████████████████████████████████| 943/943 [00:01<00:00, 798.01it/s]\n"
     ]
    },
    {
     "name": "stdout",
     "output_type": "stream",
     "text": [
      "=================================================================\n",
      "AFM\n"
     ]
    },
    {
     "name": "stderr",
     "output_type": "stream",
     "text": [
      "100%|███████████████████████████████████████████████████████████████████████████████| 943/943 [00:01<00:00, 797.51it/s]\n"
     ]
    },
    {
     "name": "stdout",
     "output_type": "stream",
     "text": [
      "=================================================================\n",
      "CCPM\n"
     ]
    },
    {
     "name": "stderr",
     "output_type": "stream",
     "text": [
      "100%|███████████████████████████████████████████████████████████████████████████████| 943/943 [00:01<00:00, 776.97it/s]\n"
     ]
    },
    {
     "name": "stdout",
     "output_type": "stream",
     "text": [
      "=================================================================\n",
      "OPNN\n"
     ]
    },
    {
     "name": "stderr",
     "output_type": "stream",
     "text": [
      "100%|███████████████████████████████████████████████████████████████████████████████| 943/943 [00:01<00:00, 766.92it/s]\n"
     ]
    },
    {
     "name": "stdout",
     "output_type": "stream",
     "text": [
      "=================================================================\n",
      "IPNN\n"
     ]
    },
    {
     "name": "stderr",
     "output_type": "stream",
     "text": [
      "100%|███████████████████████████████████████████████████████████████████████████████| 943/943 [00:01<00:00, 754.98it/s]\n"
     ]
    },
    {
     "name": "stdout",
     "output_type": "stream",
     "text": [
      "=================================================================\n",
      "wide_deep\n"
     ]
    },
    {
     "name": "stderr",
     "output_type": "stream",
     "text": [
      "100%|███████████████████████████████████████████████████████████████████████████████| 943/943 [00:01<00:00, 796.97it/s]\n"
     ]
    },
    {
     "name": "stdout",
     "output_type": "stream",
     "text": [
      "=================================================================\n",
      "NFM\n"
     ]
    },
    {
     "name": "stderr",
     "output_type": "stream",
     "text": [
      "100%|███████████████████████████████████████████████████████████████████████████████| 943/943 [00:01<00:00, 766.81it/s]\n"
     ]
    },
    {
     "name": "stdout",
     "output_type": "stream",
     "text": [
      "=================================================================\n",
      "DCN\n"
     ]
    },
    {
     "name": "stderr",
     "output_type": "stream",
     "text": [
      "100%|███████████████████████████████████████████████████████████████████████████████| 943/943 [00:01<00:00, 786.62it/s]\n"
     ]
    },
    {
     "name": "stdout",
     "output_type": "stream",
     "text": [
      "=================================================================\n",
      "xDeepFM\n"
     ]
    },
    {
     "name": "stderr",
     "output_type": "stream",
     "text": [
      "100%|███████████████████████████████████████████████████████████████████████████████| 943/943 [00:01<00:00, 817.68it/s]\n"
     ]
    },
    {
     "name": "stdout",
     "output_type": "stream",
     "text": [
      "=================================================================\n",
      "DIFM\n"
     ]
    },
    {
     "name": "stderr",
     "output_type": "stream",
     "text": [
      "100%|███████████████████████████████████████████████████████████████████████████████| 943/943 [00:01<00:00, 802.00it/s]\n"
     ]
    }
   ],
   "source": [
    "result_dict = {}\n",
    "for name in model_list:\n",
    "    result_dict[name] = []\n",
    "\n",
    "model_root = 'C:/Users/bbb50/Desktop/Python/hw3/Movielens/model/'\n",
    "\n",
    "for i in range(5):\n",
    "    \n",
    "    print('=================================================================')\n",
    "    print('num:', i)\n",
    "    test_ind = np.load(os.path.join(test_path, 'test_ind'+ str(i) +'.npy'))\n",
    "    \n",
    "    test_data, test_user, test_inter_count = get_test_val(data, test_ind)\n",
    "    test_x = sparse_x[test_ind]\n",
    "    test_y=target[test_ind]\n",
    "    test_x_tensor = sparse2tensor(test_x)\n",
    "    \n",
    "    for model_name in model_list: \n",
    "        print('=================================================================')\n",
    "        print(model_name)\n",
    "        model_path = os.path.join(model_root, model_name, str(i))\n",
    "        fil_arr = [list(map(lambda x: model_name in x, listdir(model_path)))]\n",
    "        model_file = np.array(listdir(model_path))[fil_arr]\n",
    "        mfile_ind = list(map(lambda x: int(x.split('-')[0].split('_')[-1]), model_file))\n",
    "        m_path = os.path.join(model_path, model_file[np.argmax(np.array(mfile_ind))])\n",
    "        rmse, recall, ndcg = ctr(m_path)\n",
    "        result_dict[model_name] = result_dict[model_name] + [[rmse, recall, ndcg]]\n"
   ]
  },
  {
   "cell_type": "code",
   "execution_count": 64,
   "id": "1cda7ba8",
   "metadata": {},
   "outputs": [
    {
     "data": {
      "text/plain": [
       "{'deepfm': [[0.9379482096073146, 0.7776923530104866, 0.955554317801697],\n",
       "  [0.9463829495867172, 0.8046209328552912, 0.9556101291899916],\n",
       "  [0.9522206342432821, 0.7679875944722181, 0.9537286054296591],\n",
       "  [0.9294948164226021, 0.7774886801663048, 0.9562563569566102],\n",
       "  [0.9429916453740257, 0.8212206904677741, 0.9569097055000448]],\n",
       " 'AFM': [[0.9256253117244371, 0.7587166927569897, 0.9553802095311633],\n",
       "  [0.9487888436107602, 0.7763684795233046, 0.9545896453608766],\n",
       "  [0.9317326416627161, 0.7710986550859297, 0.9547989845620519],\n",
       "  [0.9224726498789482, 0.7763394435186588, 0.9549665380887913],\n",
       "  [0.9362454327500849, 0.801374370886566, 0.9557669496003863]],\n",
       " 'CCPM': [[0.9302097558686354, 0.8129012439192714, 0.9555328579076361],\n",
       "  [0.9385699540103822, 0.798111397263041, 0.9556087417104447],\n",
       "  [0.9325103714461352, 0.7779751384470366, 0.9552774782267345],\n",
       "  [0.91967295082051, 0.7817822215489235, 0.9561683494518922],\n",
       "  [0.9337450956998975, 0.7798902523186723, 0.9555557826482042]],\n",
       " 'OPNN': [[0.927496501088109, 0.8091989429211063, 0.9544789823254725],\n",
       "  [0.9367327549273932, 0.8035596458449057, 0.9548024165847547],\n",
       "  [0.9351426068292983, 0.7716819000488141, 0.952878910719344],\n",
       "  [0.9261875165563804, 0.8134731269672945, 0.9536326170797601],\n",
       "  [0.9332948496613401, 0.7841227760103688, 0.9539768519466313]],\n",
       " 'IPNN': [[0.9365696056094199, 0.787297379184972, 0.9550217854655524],\n",
       "  [0.9478601822187576, 0.7767270110589305, 0.954555940433266],\n",
       "  [0.946357569818919, 0.748299500075746, 0.9549713759601706],\n",
       "  [0.9324038788942834, 0.7801427393155919, 0.9535722970653157],\n",
       "  [0.918473700710032, 0.7964832769445706, 0.958282559871163]],\n",
       " 'wide_deep': [[0.9396954620983125, 0.780639717887862, 0.9542618303148125],\n",
       "  [0.9508449424647984, 0.7931651769933848, 0.954625707821898],\n",
       "  [0.9477157745912982, 0.746596475281523, 0.9540247117669997],\n",
       "  [0.9349883186981285, 0.7914112339881162, 0.9523206834136078],\n",
       "  [0.9472224255351058, 0.78016967126193, 0.9545880234035422]],\n",
       " 'NFM': [[0.9146388798736138, 0.8111498257839721, 0.9585783849210308],\n",
       "  [0.9361935824935745, 0.8004885623390395, 0.9583904213837685],\n",
       "  [0.9261872260131544, 0.7880518944941002, 0.9557245783205923],\n",
       "  [0.9129197798494935, 0.8001245602518137, 0.9583315195402818],\n",
       "  [0.9281436092846461, 0.8070553283172585, 0.9558734408992596]],\n",
       " 'DCN': [[0.9269376399565575, 0.8106322274402868, 0.9550847117822509],\n",
       "  [0.9449606537318773, 0.7933818949990742, 0.9542215615093138],\n",
       "  [0.9419611317035547, 0.7861233146492955, 0.9545492223245935],\n",
       "  [0.9227115714672969, 0.8297652712551971, 0.956572926409824],\n",
       "  [0.9410797699727939, 0.8027201265801478, 0.9557643333542021]],\n",
       " 'xDeepFM': [[0.9399835933190672, 0.7705023649615379, 0.9542149449499184],\n",
       "  [0.9526661536034038, 0.8002878351764884, 0.953757216869337],\n",
       "  [0.9514893355722517, 0.7700205356090829, 0.9534113982734993],\n",
       "  [0.9391567501639815, 0.7442163645238937, 0.9535535501779742],\n",
       "  [0.9542906547275586, 0.8054789678331565, 0.9535762188678548]],\n",
       " 'DIFM': [[0.9370345093792779, 0.7702427241663722, 0.9531329742527136],\n",
       "  [0.9568800780899024, 0.7362323048696325, 0.9529573878093701],\n",
       "  [0.9546352121987719, 0.7681900048814153, 0.9532375688982992],\n",
       "  [0.9298222921058465, 0.7776540591492872, 0.9534235532568028],\n",
       "  [0.9505728891836815, 0.757405022807992, 0.9535220434881974]]}"
      ]
     },
     "execution_count": 64,
     "metadata": {},
     "output_type": "execute_result"
    }
   ],
   "source": [
    "result_dict"
   ]
  },
  {
   "cell_type": "code",
   "execution_count": 65,
   "id": "d5c0b647",
   "metadata": {},
   "outputs": [
    {
     "name": "stdout",
     "output_type": "stream",
     "text": [
      "deepfm [0.94180765 0.78980205 0.95561182]\n",
      "AFM [0.93297298 0.77677953 0.95510047]\n",
      "CCPM [0.93094163 0.79013205 0.95562864]\n",
      "OPNN [0.93177085 0.79640728 0.95395396]\n",
      "IPNN [0.93633299 0.77778998 0.95528079]\n",
      "wide_deep [0.94409338 0.77839646 0.95396419]\n",
      "NFM [0.92361662 0.80137403 0.95737967]\n",
      "DCN [0.93553015 0.80452457 0.95523855]\n",
      "xDeepFM [0.9475173  0.77810121 0.95370267]\n",
      "DIFM [0.945789   0.76194482 0.95325471]\n"
     ]
    }
   ],
   "source": [
    "for name in model_list:\n",
    "    print(name, np.array(result_dict[name]).mean(axis=0))\n",
    "    "
   ]
  },
  {
   "cell_type": "code",
   "execution_count": 50,
   "id": "43d1826f",
   "metadata": {},
   "outputs": [],
   "source": [
    "from os import listdir\n",
    "from sklearn.metrics import mean_squared_error\n",
    "from sklearn.metrics import ndcg_score\n",
    "from tqdm import tqdm\n",
    "import warnings\n",
    "warnings.simplefilter(action='ignore', category=FutureWarning)"
   ]
  },
  {
   "cell_type": "code",
   "execution_count": null,
   "id": "9fd67257",
   "metadata": {},
   "outputs": [],
   "source": []
  },
  {
   "cell_type": "code",
   "execution_count": null,
   "id": "4d099694",
   "metadata": {},
   "outputs": [],
   "source": []
  },
  {
   "cell_type": "code",
   "execution_count": null,
   "id": "13bf227c",
   "metadata": {},
   "outputs": [],
   "source": []
  },
  {
   "cell_type": "code",
   "execution_count": null,
   "id": "b86da69a",
   "metadata": {},
   "outputs": [],
   "source": []
  },
  {
   "cell_type": "code",
   "execution_count": null,
   "id": "30fded38",
   "metadata": {},
   "outputs": [],
   "source": []
  },
  {
   "cell_type": "code",
   "execution_count": null,
   "id": "d3e1c5e1",
   "metadata": {},
   "outputs": [],
   "source": []
  },
  {
   "cell_type": "code",
   "execution_count": null,
   "id": "ed418cb3",
   "metadata": {},
   "outputs": [],
   "source": []
  },
  {
   "cell_type": "code",
   "execution_count": null,
   "id": "72dd29cc",
   "metadata": {},
   "outputs": [],
   "source": []
  },
  {
   "cell_type": "code",
   "execution_count": null,
   "id": "decbcef1",
   "metadata": {},
   "outputs": [],
   "source": []
  },
  {
   "cell_type": "code",
   "execution_count": null,
   "id": "89d7f256",
   "metadata": {},
   "outputs": [],
   "source": []
  },
  {
   "cell_type": "code",
   "execution_count": 22,
   "id": "b6df2582",
   "metadata": {},
   "outputs": [],
   "source": [
    "m = torch.load('test.ckpt')"
   ]
  },
  {
   "cell_type": "code",
   "execution_count": 33,
   "id": "c2f23cab",
   "metadata": {},
   "outputs": [
    {
     "data": {
      "text/plain": [
       "array([[4.00951767],\n",
       "       [3.93800592],\n",
       "       [4.28843737],\n",
       "       ...,\n",
       "       [4.74223948],\n",
       "       [3.6681757 ],\n",
       "       [3.4003098 ]])"
      ]
     },
     "execution_count": 33,
     "metadata": {},
     "output_type": "execute_result"
    }
   ],
   "source": [
    "m.predict(test_x_tensor)"
   ]
  },
  {
   "cell_type": "code",
   "execution_count": null,
   "id": "c7393fce",
   "metadata": {},
   "outputs": [],
   "source": []
  },
  {
   "cell_type": "code",
   "execution_count": 15,
   "id": "77191772",
   "metadata": {},
   "outputs": [],
   "source": []
  },
  {
   "cell_type": "code",
   "execution_count": null,
   "id": "3224e619",
   "metadata": {},
   "outputs": [],
   "source": []
  },
  {
   "cell_type": "code",
   "execution_count": null,
   "id": "61aeb40f",
   "metadata": {},
   "outputs": [],
   "source": []
  },
  {
   "cell_type": "code",
   "execution_count": 45,
   "id": "941841ab",
   "metadata": {},
   "outputs": [],
   "source": []
  }
 ],
 "metadata": {
  "kernelspec": {
   "display_name": "Python 3",
   "language": "python",
   "name": "python3"
  },
  "language_info": {
   "codemirror_mode": {
    "name": "ipython",
    "version": 3
   },
   "file_extension": ".py",
   "mimetype": "text/x-python",
   "name": "python",
   "nbconvert_exporter": "python",
   "pygments_lexer": "ipython3",
   "version": "3.8.8"
  }
 },
 "nbformat": 4,
 "nbformat_minor": 5
}
