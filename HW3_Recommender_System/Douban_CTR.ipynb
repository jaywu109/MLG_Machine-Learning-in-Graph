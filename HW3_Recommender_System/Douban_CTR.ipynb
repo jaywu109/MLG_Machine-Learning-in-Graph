{
 "cells": [
  {
   "cell_type": "code",
   "execution_count": 3,
   "id": "e7209b6d",
   "metadata": {},
   "outputs": [],
   "source": [
    "from scipy.sparse import coo_matrix, csr_matrix, lil_matrix, vstack, hstack\n",
    "from scipy import sparse"
   ]
  },
  {
   "cell_type": "code",
   "execution_count": 4,
   "id": "0ac2d199",
   "metadata": {},
   "outputs": [],
   "source": [
    "import numpy as np\n",
    "import pandas as pd\n",
    "import torch\n",
    "from sklearn.preprocessing import LabelEncoder\n",
    "from tensorflow.python.keras.preprocessing.sequence import pad_sequences\n",
    "\n",
    "from torch.optim import Adam\n",
    "\n",
    "from deepctr_torch.inputs import SparseFeat, VarLenSparseFeat, get_feature_names, build_input_features\n",
    "\n",
    "from deepctr_torch.callbacks import EarlyStopping, ModelCheckpoint\n"
   ]
  },
  {
   "cell_type": "code",
   "execution_count": 5,
   "id": "7b5f072e",
   "metadata": {},
   "outputs": [],
   "source": [
    "import os"
   ]
  },
  {
   "cell_type": "code",
   "execution_count": 6,
   "id": "f5096e6d",
   "metadata": {},
   "outputs": [],
   "source": [
    "def sparse2tensor(sparse_mat):\n",
    "    \n",
    "    coo = sparse_mat.tocoo()\n",
    "\n",
    "    values = coo.data\n",
    "    indices = np.vstack((coo.row, coo.col))\n",
    "\n",
    "    i = torch.LongTensor(indices)\n",
    "    v = torch.FloatTensor(values)\n",
    "    shape = coo.shape\n",
    "\n",
    "    return torch.sparse.FloatTensor(i, v, torch.Size(shape)).to_dense()\n"
   ]
  },
  {
   "cell_type": "code",
   "execution_count": 7,
   "id": "a6ccb648",
   "metadata": {},
   "outputs": [],
   "source": [
    "root = 'C:/Users/bbb50/Desktop/Python/hw3/DoubanBook'\n",
    "\n",
    "user_book = pd.read_feather(os.path.join(root, 'user_book_fea.ftr'), use_threads=True)\n",
    "user_book = user_book[user_book.columns[1:]]\n",
    "user_list = user_book.user.value_counts().index.to_numpy()\n",
    "user_list = np.sort(user_list)\n",
    "\n",
    "book_list = user_book.book.value_counts().index.to_numpy()\n",
    "book_list = np.sort(book_list).astype(str)\n",
    "\n",
    "n_users = user_list.shape[0]\n",
    "n_books = book_list.shape[0]"
   ]
  },
  {
   "cell_type": "code",
   "execution_count": 9,
   "id": "454811d3",
   "metadata": {},
   "outputs": [],
   "source": [
    "data = user_book"
   ]
  },
  {
   "cell_type": "code",
   "execution_count": 10,
   "id": "0f77a2b3",
   "metadata": {},
   "outputs": [],
   "source": [
    "def group_split(x):\n",
    "    key_ans = x\n",
    "    for key in key_ans:\n",
    "        if key not in group_key2index:\n",
    "            group_key2index[key] = len(group_key2index) + 1\n",
    "    return list(map(lambda x: group_key2index[x], key_ans))\n",
    "\n",
    "def user_inter_split(x):\n",
    "    key_ans = x\n",
    "    for key in key_ans:\n",
    "        if key not in user_inter_key2index:\n",
    "            user_inter_key2index[key] = len(user_inter_key2index) + 1\n",
    "    return list(map(lambda x: user_inter_key2index[x], key_ans))"
   ]
  },
  {
   "cell_type": "code",
   "execution_count": 148,
   "id": "72e4ec39",
   "metadata": {},
   "outputs": [],
   "source": [
    "group_key2index = {}\n",
    "group_list = list(map(group_split, data['group'].values))\n",
    "group_length = np.array(list(map(len, group_list)))\n",
    "group_max_len = max(group_length)\n",
    "group_list = pad_sequences(group_list, maxlen=group_max_len, padding='post', )"
   ]
  },
  {
   "cell_type": "code",
   "execution_count": 149,
   "id": "c5de13c7",
   "metadata": {},
   "outputs": [],
   "source": [
    "user_inter_key2index = {}\n",
    "user_inter_list = list(map(user_inter_split, data['user_inter'].values))\n",
    "user_inter_length = np.array(list(map(len, user_inter_list)))\n",
    "user_inter_max_len = max(user_inter_length)\n",
    "user_inter_list = pad_sequences(user_inter_list, maxlen=user_inter_max_len, padding='post', )"
   ]
  },
  {
   "cell_type": "code",
   "execution_count": 150,
   "id": "2a732827",
   "metadata": {},
   "outputs": [],
   "source": [
    "fixlen_feature_columns = [SparseFeat(feat, data[feat].nunique(), embedding_dim=50)\n",
    "                          for feat in user_book.columns[3:7]]\n",
    "\n",
    "varlen_feature_columns = [VarLenSparseFeat(SparseFeat('group', vocabulary_size=len(\n",
    "    group_key2index) + 1, embedding_dim=50), maxlen=group_max_len, combiner='mean'),\n",
    "                          VarLenSparseFeat(SparseFeat('user_inter', vocabulary_size=len(\n",
    "    user_inter_key2index) + 1, embedding_dim=50), maxlen=user_inter_max_len, combiner='mean')\n",
    "                         ]  # Notice : value 0 is for padding for sequence input feature\n",
    "\n",
    "linear_feature_columns = fixlen_feature_columns + varlen_feature_columns\n",
    "dnn_feature_columns = fixlen_feature_columns + varlen_feature_columns\n",
    "\n",
    "feature_names = get_feature_names(linear_feature_columns + dnn_feature_columns)"
   ]
  },
  {
   "cell_type": "code",
   "execution_count": 151,
   "id": "ce6445ec",
   "metadata": {},
   "outputs": [],
   "source": [
    "model_input = {name: data[name] for name in user_book.columns[3:7]}  #\n",
    "model_input[\"group\"] = group_list\n",
    "model_input[\"user_inter\"] = user_inter_list"
   ]
  },
  {
   "cell_type": "code",
   "execution_count": 152,
   "id": "b3ae1c05",
   "metadata": {},
   "outputs": [],
   "source": [
    "group_list =[]\n",
    "user_inter_list = []"
   ]
  },
  {
   "cell_type": "code",
   "execution_count": 153,
   "id": "5294a0b8",
   "metadata": {},
   "outputs": [
    {
     "name": "stdout",
     "output_type": "stream",
     "text": [
      "cuda ready...\n"
     ]
    }
   ],
   "source": [
    "device = 'cpu'\n",
    "use_cuda = True\n",
    "if use_cuda and torch.cuda.is_available():\n",
    "    print('cuda ready...')\n",
    "    device = 'cuda:0'"
   ]
  },
  {
   "cell_type": "code",
   "execution_count": 154,
   "id": "d560764a",
   "metadata": {},
   "outputs": [],
   "source": [
    "feature_index = build_input_features(linear_feature_columns + dnn_feature_columns)\n",
    "x = [model_input[feature] for feature in feature_index]\n",
    "for i in range(len(x)):\n",
    "    if len(x[i].shape) == 1:\n",
    "        x[i] = np.expand_dims(x[i], axis=1)\n",
    "sparse_x = [sparse.csr_matrix(fea) for fea in x]\n",
    "sparse_x = hstack(sparse_x)\n",
    "sparse_x = sparse_x.tocsr()\n",
    "# sparse.save_npz('C:/Users/bbb50/Desktop/Python/hw3/DoubanBook/dctr_x.npz', sparse_x, True) "
   ]
  },
  {
   "cell_type": "code",
   "execution_count": 18,
   "id": "0d33ce16",
   "metadata": {},
   "outputs": [],
   "source": [
    "# sparse_x = sparse.load_npz('C:/Users/bbb50/Desktop/Python/hw3/DoubanBook/dctr_x.npz').astype(np.int64)"
   ]
  },
  {
   "cell_type": "code",
   "execution_count": 156,
   "id": "35107256",
   "metadata": {},
   "outputs": [],
   "source": [
    "target = data.rate.values"
   ]
  },
  {
   "cell_type": "code",
   "execution_count": 157,
   "id": "94eefabe",
   "metadata": {},
   "outputs": [],
   "source": [
    "\n",
    "train_path = os.path.join(root, 'train')\n",
    "val_path = os.path.join(root, 'val')\n",
    "test_path = os.path.join(root, 'test')\n"
   ]
  },
  {
   "cell_type": "code",
   "execution_count": 158,
   "id": "9c3a455d",
   "metadata": {},
   "outputs": [],
   "source": [
    "from deepctr_torch.models import DeepFM\n",
    "def DeepFM_train(train_x_tensor, train_y, val_x_tensor, val_y):\n",
    "    \n",
    "    model = DeepFM(linear_feature_columns, dnn_feature_columns, dnn_dropout=0.2, dnn_use_bn=True, task='regression', device=device)\n",
    "    model.compile(Adam(model.parameters(),0.001), \"mse\", metrics=['mse'])\n",
    "    s_p = 'C:/Users/bbb50/Desktop/Python/hw3/DoubanBook/model/deepfm/' + str(i) + '/deepfm_{epoch}-{val_mse:.3f}.ckpt'\n",
    "    es = EarlyStopping(monitor='val_mse', min_delta=0, verbose=1, patience=5, mode='min')\n",
    "    mdckpt = ModelCheckpoint(filepath = s_p,monitor=\"val_mse\",mode=\"min\",  save_best_only= True)\n",
    "    history = model.fit(train_x=train_x_tensor, train_y=train_y, val_x=val_x_tensor, val_y=val_y , batch_size=256, epochs=50, verbose=2,callbacks=[es,mdckpt])    \n",
    "    train_mse = history.history['mse']\n",
    "    val_mse = history.history['val_mse']\n",
    "    values = np.arange(1, len(history.history['mse'])+1)\n",
    "\n",
    "    with plt.style.context('fivethirtyeight'):\n",
    "\n",
    "        plt.plot(values, train_mse, label='train_mse', linestyle='--')\n",
    "        plt.plot(values, val_mse, label='val_mse', ls='--')\n",
    "    plt.legend()\n",
    "    plt.savefig('C:/Users/bbb50/Desktop/Python/hw3/DoubanBook/model/deepfm/' + str(i) +'/mse.png')\n",
    "    plt.show()\n",
    "    fig = plt.gcf() \n",
    "\n",
    "    plt.close(fig) "
   ]
  },
  {
   "cell_type": "code",
   "execution_count": 159,
   "id": "f335f195",
   "metadata": {},
   "outputs": [],
   "source": [
    "from deepctr_torch.models.afm import AFM\n",
    "def AFM_train(train_x_tensor, train_y, val_x_tensor, val_y):\n",
    "    model = AFM(linear_feature_columns, dnn_feature_columns, afm_dropout=0.2, task='regression', device=device)\n",
    "    model.compile(Adam(model.parameters(),0.001), \"mse\", metrics=['mse'])\n",
    "    s_p = 'C:/Users/bbb50/Desktop/Python/hw3/DoubanBook/model/AFM/' + str(i) + '/AFM_{epoch}-{val_mse:.3f}.ckpt'\n",
    "\n",
    "    es = EarlyStopping(monitor='val_mse', min_delta=0, verbose=1, patience=5, mode='min')\n",
    "    mdckpt = ModelCheckpoint(filepath = s_p,monitor=\"val_mse\",mode=\"min\",  save_best_only= True)\n",
    "    history = model.fit(train_x=train_x_tensor, train_y=train_y, val_x=val_x_tensor, val_y=val_y , batch_size=256, epochs=50, verbose=2,callbacks=[es,mdckpt])\n",
    "    train_mse = history.history['mse']\n",
    "    val_mse = history.history['val_mse']\n",
    "    values = np.arange(1, len(history.history['mse'])+1)\n",
    "\n",
    "    with plt.style.context('fivethirtyeight'):\n",
    "\n",
    "        plt.plot(values, train_mse, label='train_mse', linestyle='--')\n",
    "        plt.plot(values, val_mse, label='val_mse', ls='--')\n",
    "    plt.legend()\n",
    "    plt.savefig('C:/Users/bbb50/Desktop/Python/hw3/DoubanBook/model/AFM/' + str(i) +'/mse.png')\n",
    "    plt.show()\n",
    "    fig = plt.gcf() \n",
    "\n",
    "    plt.close(fig) "
   ]
  },
  {
   "cell_type": "code",
   "execution_count": 160,
   "id": "1a2c39e3",
   "metadata": {},
   "outputs": [],
   "source": [
    "from deepctr_torch.models.ccpm import CCPM\n",
    "def CCPM_train(train_x_tensor, train_y, val_x_tensor, val_y):\n",
    "    model = CCPM(linear_feature_columns, dnn_feature_columns, dnn_dropout=0.2, dnn_use_bn=True, task='regression', device=device)\n",
    "    model.compile(Adam(model.parameters(),0.001), \"mse\", metrics=['mse'])\n",
    "    s_p = 'C:/Users/bbb50/Desktop/Python/hw3/DoubanBook/model/CCPM/' + str(i) + '/CCPM_{epoch}-{val_mse:.3f}.ckpt'\n",
    "    es = EarlyStopping(monitor='val_mse', min_delta=0, verbose=1, patience=5, mode='min')\n",
    "    mdckpt = ModelCheckpoint(filepath = s_p,monitor=\"val_mse\",mode=\"min\",  save_best_only= True)\n",
    "    history = model.fit(train_x=train_x_tensor, train_y=train_y, val_x=val_x_tensor, val_y=val_y , batch_size=256, epochs=50, verbose=2,callbacks=[es,mdckpt])\n",
    "    train_mse = history.history['mse']\n",
    "    val_mse = history.history['val_mse']\n",
    "    values = np.arange(1, len(history.history['mse'])+1)\n",
    "\n",
    "    with plt.style.context('fivethirtyeight'):\n",
    "\n",
    "        plt.plot(values, train_mse, label='train_mse', linestyle='--')\n",
    "        plt.plot(values, val_mse, label='val_mse', ls='--')\n",
    "    plt.legend()\n",
    "    plt.savefig('C:/Users/bbb50/Desktop/Python/hw3/DoubanBook/model/CCPM/' + str(i) +'/mse.png')\n",
    "    plt.show()\n",
    "    fig = plt.gcf() \n",
    "\n",
    "    plt.close(fig) "
   ]
  },
  {
   "cell_type": "code",
   "execution_count": 161,
   "id": "85ad2156",
   "metadata": {},
   "outputs": [],
   "source": [
    "from deepctr_torch.models.pnn import PNN\n",
    "def IPNN_train(train_x_tensor, train_y, val_x_tensor, val_y):\n",
    "    model = PNN( dnn_feature_columns, dnn_dropout=0.2, use_inner=True, use_outter=False,  task='regression', device=device)\n",
    "    model.compile(Adam(model.parameters(),0.001), \"mse\", metrics=['mse'])\n",
    "    s_p = 'C:/Users/bbb50/Desktop/Python/hw3/DoubanBook/model/IPNN/' + str(i) + '/IPNN_{epoch}-{val_mse:.3f}.ckpt'\n",
    "    es = EarlyStopping(monitor='val_mse', min_delta=0, verbose=1, patience=5, mode='min')\n",
    "    mdckpt = ModelCheckpoint(filepath = s_p,monitor=\"val_mse\",mode=\"min\",  save_best_only= True)\n",
    "    history = model.fit(train_x=train_x_tensor, train_y=train_y, val_x=val_x_tensor, val_y=val_y  , batch_size=256, epochs=50, verbose=2,callbacks=[es,mdckpt])\n",
    "    train_mse = history.history['mse']\n",
    "    val_mse = history.history['val_mse']\n",
    "    values = np.arange(1, len(history.history['mse'])+1)\n",
    "\n",
    "    with plt.style.context('fivethirtyeight'):\n",
    "\n",
    "        plt.plot(values, train_mse, label='train_mse', linestyle='--')\n",
    "        plt.plot(values, val_mse, label='val_mse', ls='--')\n",
    "    plt.legend()\n",
    "    plt.savefig('C:/Users/bbb50/Desktop/Python/hw3/DoubanBook/model/IPNN/' + str(i) +'/mse.png')\n",
    "    plt.show()\n",
    "    fig = plt.gcf() \n",
    "\n",
    "    plt.close(fig) "
   ]
  },
  {
   "cell_type": "code",
   "execution_count": 162,
   "id": "8afb30e7",
   "metadata": {},
   "outputs": [],
   "source": [
    "from deepctr_torch.models.pnn import PNN\n",
    "def OPNN_train(train_x_tensor, train_y, val_x_tensor, val_y):\n",
    "    model = PNN( dnn_feature_columns, dnn_dropout=0.2,use_inner=False, use_outter=True,  task='regression', device=device)\n",
    "    model.compile(Adam(model.parameters(),0.001), \"mse\", metrics=['mse'])\n",
    "    s_p = 'C:/Users/bbb50/Desktop/Python/hw3/DoubanBook/model/OPNN/' + str(i) + '/OPNN_{epoch}-{val_mse:.3f}.ckpt'\n",
    "    es = EarlyStopping(monitor='val_mse', min_delta=0, verbose=1, patience=5, mode='min')\n",
    "    mdckpt = ModelCheckpoint(filepath = s_p,monitor=\"val_mse\",mode=\"min\",  save_best_only= True)\n",
    "    history = model.fit(train_x=train_x_tensor, train_y=train_y, val_x=val_x_tensor, val_y=val_y , batch_size=256, epochs=50, verbose=2,callbacks=[es,mdckpt])\n",
    "    train_mse = history.history['mse']\n",
    "    val_mse = history.history['val_mse']\n",
    "    values = np.arange(1, len(history.history['mse'])+1)\n",
    "\n",
    "    with plt.style.context('fivethirtyeight'):\n",
    "\n",
    "        plt.plot(values, train_mse, label='train_mse', linestyle='--')\n",
    "        plt.plot(values, val_mse, label='val_mse', ls='--')\n",
    "    plt.legend()\n",
    "    plt.savefig('C:/Users/bbb50/Desktop/Python/hw3/DoubanBook/model/OPNN/' + str(i) +'/mse.png')\n",
    "    plt.show()\n",
    "    fig = plt.gcf() \n",
    "\n",
    "    plt.close(fig) "
   ]
  },
  {
   "cell_type": "code",
   "execution_count": 163,
   "id": "afcf936e",
   "metadata": {},
   "outputs": [],
   "source": [
    "from deepctr_torch.models.wdl import WDL\n",
    "def WDL_train(train_x_tensor, train_y, val_x_tensor, val_y):\n",
    "    model = WDL(linear_feature_columns, dnn_feature_columns, dnn_dropout=0.2, task='regression', device=device)\n",
    "    model.compile(Adam(model.parameters(),0.001), \"mse\", metrics=['mse'])\n",
    "    s_p = 'C:/Users/bbb50/Desktop/Python/hw3/DoubanBook/model/wide_deep/' + str(i) + '/wide_deep_{epoch}-{val_mse:.3f}.ckpt'\n",
    "    es = EarlyStopping(monitor='val_mse', min_delta=0, verbose=1, patience=5, mode='min')\n",
    "    mdckpt = ModelCheckpoint(filepath = s_p,monitor=\"val_mse\",mode=\"min\",  save_best_only= True)\n",
    "    history = model.fit(train_x=train_x_tensor, train_y=train_y, val_x=val_x_tensor, val_y=val_y, batch_size=256, epochs=50, verbose=2,callbacks=[es,mdckpt])\n",
    "    train_mse = history.history['mse']\n",
    "    val_mse = history.history['val_mse']\n",
    "    values = np.arange(1, len(history.history['mse'])+1)\n",
    "\n",
    "    with plt.style.context('fivethirtyeight'):\n",
    "\n",
    "        plt.plot(values, train_mse, label='train_mse', linestyle='--')\n",
    "        plt.plot(values, val_mse, label='val_mse', ls='--')\n",
    "    plt.legend()\n",
    "    plt.savefig('C:/Users/bbb50/Desktop/Python/hw3/DoubanBook/model/wide_deep/' + str(i) +'/mse.png')\n",
    "    plt.show()\n",
    "    fig = plt.gcf() \n",
    "\n",
    "    plt.close(fig) "
   ]
  },
  {
   "cell_type": "code",
   "execution_count": 164,
   "id": "c7ed8413",
   "metadata": {},
   "outputs": [],
   "source": [
    "from  deepctr_torch.models.nfm import NFM\n",
    "def NFM_train(train_x_tensor, train_y, val_x_tensor, val_y):\n",
    "    model = NFM(linear_feature_columns, dnn_feature_columns, dnn_dropout=0.25, task='regression', device=device)\n",
    "    model.compile(Adam(model.parameters(),0.001), \"mse\", metrics=['mse'])\n",
    "    s_p = 'C:/Users/bbb50/Desktop/Python/hw3/DoubanBook/model/NFM/' + str(i) + '/NFM_{epoch}-{val_mse:.3f}.ckpt'\n",
    "    es = EarlyStopping(monitor='val_mse', min_delta=0, verbose=1, patience=5, mode='min')\n",
    "    mdckpt = ModelCheckpoint(filepath = s_p,monitor=\"val_mse\",mode=\"min\",  save_best_only= True)\n",
    "    history = model.fit(train_x=train_x_tensor, train_y=train_y, val_x=val_x_tensor, val_y=val_y, batch_size=256, epochs=50, verbose=2,callbacks=[es,mdckpt])\n",
    "    train_mse = history.history['mse']\n",
    "    val_mse = history.history['val_mse']\n",
    "    values = np.arange(1, len(history.history['mse'])+1)\n",
    "\n",
    "    with plt.style.context('fivethirtyeight'):\n",
    "\n",
    "        plt.plot(values, train_mse, label='train_mse', linestyle='--')\n",
    "        plt.plot(values, val_mse, label='val_mse', ls='--')\n",
    "    plt.legend()\n",
    "    plt.savefig('C:/Users/bbb50/Desktop/Python/hw3/DoubanBook/model/NFM/' + str(i) +'/mse.png')\n",
    "    plt.show()\n",
    "    fig = plt.gcf() \n",
    "\n",
    "    plt.close(fig) "
   ]
  },
  {
   "cell_type": "code",
   "execution_count": 165,
   "id": "3d56853a",
   "metadata": {},
   "outputs": [],
   "source": [
    "from deepctr_torch.models.dcn import DCN\n",
    "def DCN_train(train_x_tensor, train_y, val_x_tensor, val_y):\n",
    "    model = DCN(linear_feature_columns, dnn_feature_columns, dnn_dropout=0.2, dnn_use_bn=True, task='regression', device=device)\n",
    "    model.compile(Adam(model.parameters(),0.001), \"mse\", metrics=['mse'])\n",
    "    s_p = 'C:/Users/bbb50/Desktop/Python/hw3/DoubanBook/model/DCN/' + str(i) + '/DCN_{epoch}-{val_mse:.3f}.ckpt'\n",
    "    es = EarlyStopping(monitor='val_mse', min_delta=0, verbose=1, patience=5, mode='min')\n",
    "    mdckpt = ModelCheckpoint(filepath = s_p,monitor=\"val_mse\",mode=\"min\",  save_best_only= True)\n",
    "    history = model.fit(train_x=train_x_tensor, train_y=train_y, val_x=val_x_tensor, val_y=val_y, batch_size=256, epochs=50, verbose=2,callbacks=[es,mdckpt])\n",
    "    train_mse = history.history['mse']\n",
    "    val_mse = history.history['val_mse']\n",
    "    values = np.arange(1, len(history.history['mse'])+1)\n",
    "\n",
    "    with plt.style.context('fivethirtyeight'):\n",
    "\n",
    "        plt.plot(values, train_mse, label='train_mse', linestyle='--')\n",
    "        plt.plot(values, val_mse, label='val_mse', ls='--')\n",
    "    plt.legend()\n",
    "    plt.savefig('C:/Users/bbb50/Desktop/Python/hw3/DoubanBook/model/DCN/' + str(i) +'/mse.png')\n",
    "    plt.show()\n",
    "    fig = plt.gcf() \n",
    "\n",
    "    plt.close(fig) "
   ]
  },
  {
   "cell_type": "code",
   "execution_count": 166,
   "id": "cd837bbf",
   "metadata": {},
   "outputs": [],
   "source": [
    "from deepctr_torch.models.xdeepfm import xDeepFM\n",
    "def xDeepFM_train(train_x_tensor, train_y, val_x_tensor, val_y):\n",
    "    model = xDeepFM(linear_feature_columns, dnn_feature_columns, dnn_dropout=0.2, dnn_use_bn=True, task='regression', device=device)\n",
    "    model.compile(Adam(model.parameters(),0.001), \"mse\", metrics=['mse'])\n",
    "    s_p = 'C:/Users/bbb50/Desktop/Python/hw3/DoubanBook/model/xDeepFM/' + str(i) + '/xDeepFM_{epoch}-{val_mse:.3f}.ckpt'\n",
    "    es = EarlyStopping(monitor='val_mse', min_delta=0, verbose=1, patience=5, mode='min')\n",
    "    mdckpt = ModelCheckpoint(filepath = s_p,monitor=\"val_mse\",mode=\"min\",  save_best_only= True)\n",
    "    history = model.fit(train_x=train_x_tensor, train_y=train_y, val_x=val_x_tensor, val_y=val_y, batch_size=256, epochs=50, verbose=2,callbacks=[es,mdckpt])\n",
    "    train_mse = history.history['mse']\n",
    "    val_mse = history.history['val_mse']\n",
    "    values = np.arange(1, len(history.history['mse'])+1)\n",
    "\n",
    "    with plt.style.context('fivethirtyeight'):\n",
    "\n",
    "        plt.plot(values, train_mse, label='train_mse', linestyle='--')\n",
    "        plt.plot(values, val_mse, label='val_mse', ls='--')\n",
    "    plt.legend()\n",
    "    plt.savefig('C:/Users/bbb50/Desktop/Python/hw3/DoubanBook/model/xDeepFM/' + str(i) +'/mse.png')\n",
    "    plt.show()\n",
    "    fig = plt.gcf() \n",
    "\n",
    "    plt.close(fig) "
   ]
  },
  {
   "cell_type": "code",
   "execution_count": 167,
   "id": "6f8fe7eb",
   "metadata": {},
   "outputs": [],
   "source": [
    "from deepctr_torch.models.difm import DIFM\n",
    "def DIFM_train(train_x_tensor, train_y, val_x_tensor, val_y):\n",
    "    model = DIFM(linear_feature_columns, dnn_feature_columns, dnn_dropout=0.2, dnn_use_bn=True, task='regression', device=device)\n",
    "    model.compile(Adam(model.parameters(),0.001), \"mse\", metrics=['mse'])\n",
    "    s_p = 'C:/Users/bbb50/Desktop/Python/hw3/DoubanBook/model/DIFM/' + str(i) + '/DIFM_{epoch}-{val_mse:.3f}.ckpt'\n",
    "    es = EarlyStopping(monitor='val_mse', min_delta=0, verbose=1, patience=5, mode='min')\n",
    "    mdckpt = ModelCheckpoint(filepath = s_p,monitor=\"val_mse\",mode=\"min\",  save_best_only= True)\n",
    "    history = model.fit(train_x=train_x_tensor, train_y=train_y, val_x=val_x_tensor, val_y=val_y, batch_size=256, epochs=50, verbose=2,callbacks=[es,mdckpt])\n",
    "    train_mse = history.history['mse']\n",
    "    val_mse = history.history['val_mse']\n",
    "    values = np.arange(1, len(history.history['mse'])+1)\n",
    "\n",
    "    with plt.style.context('fivethirtyeight'):\n",
    "\n",
    "        plt.plot(values, train_mse, label='train_mse', linestyle='--')\n",
    "        plt.plot(values, val_mse, label='val_mse', ls='--')\n",
    "    plt.legend()\n",
    "    plt.savefig('C:/Users/bbb50/Desktop/Python/hw3/DoubanBook/model/DIFM/' + str(i) +'/mse.png')\n",
    "    plt.show()\n",
    "    fig = plt.gcf() \n",
    "\n",
    "    plt.close(fig) "
   ]
  },
  {
   "cell_type": "code",
   "execution_count": 36,
   "id": "e00a1e47",
   "metadata": {},
   "outputs": [],
   "source": [
    "i = 0\n",
    "train_ind = np.load(os.path.join(train_path, 'train_ind'+ str(i) +'.npy'))\n",
    "val_ind = np.load(os.path.join(val_path, 'val_ind'+ str(i) +'.npy'))\n",
    "test_ind = np.load(os.path.join(test_path, 'test_ind'+ str(i) +'.npy'))\n",
    "\n",
    "train_x = sparse_x[train_ind]\n",
    "val_x = sparse_x[val_ind]\n",
    "test_x = sparse_x[test_ind]\n",
    "\n",
    "train_y=target[train_ind]\n",
    "val_y=target[val_ind]\n",
    "test_y=target[test_ind]\n",
    "\n",
    "train_x_tensor = sparse2tensor(train_x)\n",
    "val_x_tensor = sparse2tensor(val_x)\n",
    "test_x_tensor = sparse2tensor(test_x)"
   ]
  },
  {
   "cell_type": "code",
   "execution_count": null,
   "id": "2747fe9e",
   "metadata": {},
   "outputs": [],
   "source": []
  },
  {
   "cell_type": "code",
   "execution_count": 99,
   "id": "d30cced7",
   "metadata": {},
   "outputs": [],
   "source": [
    "from matplotlib import pyplot as plt"
   ]
  },
  {
   "cell_type": "code",
   "execution_count": 168,
   "id": "f6edd975",
   "metadata": {},
   "outputs": [
    {
     "name": "stdout",
     "output_type": "stream",
     "text": [
      "==================================================\n",
      "number: 0\n",
      "DeepFM\n",
      "cuda:0\n",
      "Train on 553137 samples, validate on 79020 samples, 2161 steps per epoch\n",
      "Epoch 1/50\n",
      "54s - loss:  0.7830 - mse:  0.7830 - val_mse:  0.5293\n",
      "Epoch 2/50\n",
      "54s - loss:  0.5016 - mse:  0.5016 - val_mse:  0.5055\n",
      "Epoch 3/50\n",
      "53s - loss:  0.4772 - mse:  0.4770 - val_mse:  0.4973\n",
      "Epoch 4/50\n",
      "53s - loss:  0.4523 - mse:  0.4520 - val_mse:  0.4961\n",
      "Epoch 5/50\n",
      "53s - loss:  0.4241 - mse:  0.4237 - val_mse:  0.4957\n",
      "Epoch 6/50\n",
      "54s - loss:  0.3944 - mse:  0.3939 - val_mse:  0.5048\n",
      "Epoch 7/50\n",
      "55s - loss:  0.3648 - mse:  0.3641 - val_mse:  0.5084\n",
      "Epoch 8/50\n",
      "55s - loss:  0.3372 - mse:  0.3364 - val_mse:  0.5241\n",
      "Epoch 9/50\n",
      "58s - loss:  0.3132 - mse:  0.3121 - val_mse:  0.5276\n",
      "Epoch 10/50\n",
      "54s - loss:  0.2919 - mse:  0.2907 - val_mse:  0.5378\n",
      "Epoch 00010: early stopping\n"
     ]
    },
    {
     "data": {
      "image/png": "[encoded data removed]",
      "text/plain": [
       "<Figure size 432x288 with 1 Axes>"
      ]
     },
     "metadata": {},
     "output_type": "display_data"
    },
    {
     "name": "stdout",
     "output_type": "stream",
     "text": [
      "AFM\n",
      "cuda:0\n",
      "Train on 553137 samples, validate on 79020 samples, 2161 steps per epoch\n",
      "Epoch 1/50\n",
      "52s - loss:  1.7021 - mse:  1.7009 - val_mse:  0.5634\n",
      "Epoch 2/50\n",
      "53s - loss:  0.5318 - mse:  0.5303 - val_mse:  0.5217\n",
      "Epoch 3/50\n",
      "52s - loss:  0.5014 - mse:  0.4996 - val_mse:  0.5098\n",
      "Epoch 4/50\n",
      "52s - loss:  0.4889 - mse:  0.4869 - val_mse:  0.5036\n",
      "Epoch 5/50\n",
      "53s - loss:  0.4798 - mse:  0.4776 - val_mse:  0.5020\n",
      "Epoch 6/50\n",
      "52s - loss:  0.4715 - mse:  0.4692 - val_mse:  0.4996\n",
      "Epoch 7/50\n",
      "53s - loss:  0.4631 - mse:  0.4607 - val_mse:  0.4959\n",
      "Epoch 8/50\n",
      "53s - loss:  0.4541 - mse:  0.4515 - val_mse:  0.4963\n",
      "Epoch 9/50\n",
      "53s - loss:  0.4440 - mse:  0.4413 - val_mse:  0.4960\n",
      "Epoch 10/50\n",
      "56s - loss:  0.4325 - mse:  0.4297 - val_mse:  0.4974\n",
      "Epoch 11/50\n",
      "56s - loss:  0.4202 - mse:  0.4173 - val_mse:  0.4971\n",
      "Epoch 12/50\n",
      "54s - loss:  0.4070 - mse:  0.4040 - val_mse:  0.5002\n",
      "Epoch 00012: early stopping\n"
     ]
    },
    {
     "data": {
      "image/png": "[encoded data removed]",
      "text/plain": [
       "<Figure size 432x288 with 1 Axes>"
      ]
     },
     "metadata": {},
     "output_type": "display_data"
    },
    {
     "name": "stdout",
     "output_type": "stream",
     "text": [
      "CCPM\n",
      "cuda:0\n",
      "Train on 553137 samples, validate on 79020 samples, 2161 steps per epoch\n",
      "Epoch 1/50\n",
      "62s - loss:  0.7744 - mse:  0.7743 - val_mse:  0.7916\n",
      "Epoch 2/50\n",
      "63s - loss:  0.9682 - mse:  0.9681 - val_mse:  0.5807\n",
      "Epoch 3/50\n",
      "62s - loss:  0.5517 - mse:  0.5515 - val_mse:  0.5436\n",
      "Epoch 4/50\n",
      "62s - loss:  0.5250 - mse:  0.5248 - val_mse:  0.5295\n",
      "Epoch 5/50\n",
      "62s - loss:  0.5118 - mse:  0.5116 - val_mse:  0.5223\n",
      "Epoch 6/50\n",
      "63s - loss:  0.5039 - mse:  0.5037 - val_mse:  0.5183\n",
      "Epoch 7/50\n",
      "63s - loss:  0.4987 - mse:  0.4984 - val_mse:  0.5154\n",
      "Epoch 8/50\n",
      "63s - loss:  0.4947 - mse:  0.4944 - val_mse:  0.5137\n",
      "Epoch 9/50\n",
      "62s - loss:  0.4919 - mse:  0.4915 - val_mse:  0.5124\n",
      "Epoch 10/50\n",
      "62s - loss:  0.4896 - mse:  0.4892 - val_mse:  0.5113\n",
      "Epoch 11/50\n",
      "62s - loss:  0.4878 - mse:  0.4874 - val_mse:  0.5104\n",
      "Epoch 12/50\n",
      "62s - loss:  0.4863 - mse:  0.4858 - val_mse:  0.5094\n",
      "Epoch 13/50\n",
      "62s - loss:  0.4850 - mse:  0.4845 - val_mse:  0.5092\n",
      "Epoch 14/50\n",
      "62s - loss:  0.4840 - mse:  0.4835 - val_mse:  0.5086\n",
      "Epoch 15/50\n",
      "63s - loss:  0.4830 - mse:  0.4825 - val_mse:  0.5081\n",
      "Epoch 16/50\n",
      "63s - loss:  0.4822 - mse:  0.4817 - val_mse:  0.5076\n",
      "Epoch 17/50\n",
      "65s - loss:  0.4815 - mse:  0.4809 - val_mse:  0.5078\n",
      "Epoch 18/50\n",
      "66s - loss:  0.4808 - mse:  0.4803 - val_mse:  0.5071\n",
      "Epoch 19/50\n",
      "65s - loss:  0.4803 - mse:  0.4797 - val_mse:  0.5068\n",
      "Epoch 20/50\n",
      "66s - loss:  0.4798 - mse:  0.4792 - val_mse:  0.5068\n",
      "Epoch 21/50\n",
      "66s - loss:  0.4794 - mse:  0.4787 - val_mse:  0.5066\n",
      "Epoch 22/50\n",
      "63s - loss:  0.4789 - mse:  0.4783 - val_mse:  0.5065\n",
      "Epoch 23/50\n",
      "66s - loss:  0.4786 - mse:  0.4779 - val_mse:  0.5061\n",
      "Epoch 24/50\n",
      "68s - loss:  0.4781 - mse:  0.4774 - val_mse:  0.5058\n",
      "Epoch 25/50\n",
      "64s - loss:  0.4779 - mse:  0.4771 - val_mse:  0.5061\n",
      "Epoch 26/50\n",
      "63s - loss:  0.4776 - mse:  0.4768 - val_mse:  0.5057\n",
      "Epoch 27/50\n",
      "64s - loss:  0.4772 - mse:  0.4765 - val_mse:  0.5057\n",
      "Epoch 28/50\n",
      "63s - loss:  0.4770 - mse:  0.4762 - val_mse:  0.5054\n",
      "Epoch 29/50\n",
      "63s - loss:  0.4768 - mse:  0.4760 - val_mse:  0.5054\n",
      "Epoch 30/50\n",
      "64s - loss:  0.4765 - mse:  0.4757 - val_mse:  0.5057\n",
      "Epoch 31/50\n",
      "64s - loss:  0.4763 - mse:  0.4755 - val_mse:  0.5051\n",
      "Epoch 32/50\n",
      "64s - loss:  0.4761 - mse:  0.4752 - val_mse:  0.5051\n",
      "Epoch 33/50\n",
      "62s - loss:  0.4759 - mse:  0.4751 - val_mse:  0.5048\n",
      "Epoch 34/50\n",
      "63s - loss:  0.4757 - mse:  0.4748 - val_mse:  0.5048\n",
      "Epoch 35/50\n",
      "63s - loss:  0.4755 - mse:  0.4746 - val_mse:  0.5048\n",
      "Epoch 36/50\n",
      "63s - loss:  0.4754 - mse:  0.4745 - val_mse:  0.5047\n",
      "Epoch 37/50\n",
      "63s - loss:  0.4752 - mse:  0.4743 - val_mse:  0.5048\n",
      "Epoch 38/50\n",
      "66s - loss:  0.4751 - mse:  0.4741 - val_mse:  0.5048\n",
      "Epoch 39/50\n",
      "65s - loss:  0.4750 - mse:  0.4740 - val_mse:  0.5045\n",
      "Epoch 40/50\n",
      "64s - loss:  0.4748 - mse:  0.4738 - val_mse:  0.5045\n",
      "Epoch 41/50\n",
      "65s - loss:  0.4747 - mse:  0.4737 - val_mse:  0.5043\n",
      "Epoch 42/50\n",
      "64s - loss:  0.4745 - mse:  0.4735 - val_mse:  0.5044\n",
      "Epoch 43/50\n",
      "63s - loss:  0.4744 - mse:  0.4733 - val_mse:  0.5044\n",
      "Epoch 44/50\n",
      "63s - loss:  0.4743 - mse:  0.4733 - val_mse:  0.5043\n",
      "Epoch 45/50\n",
      "63s - loss:  0.4742 - mse:  0.4731 - val_mse:  0.5042\n",
      "Epoch 46/50\n",
      "64s - loss:  0.4741 - mse:  0.4731 - val_mse:  0.5041\n",
      "Epoch 47/50\n",
      "65s - loss:  0.4740 - mse:  0.4729 - val_mse:  0.5040\n",
      "Epoch 48/50\n",
      "64s - loss:  0.4739 - mse:  0.4728 - val_mse:  0.5040\n",
      "Epoch 49/50\n",
      "64s - loss:  0.4738 - mse:  0.4727 - val_mse:  0.5037\n",
      "Epoch 50/50\n",
      "65s - loss:  0.4737 - mse:  0.4726 - val_mse:  0.5040\n"
     ]
    },
    {
     "data": {
      "image/png": "[encoded data removed]",
      "text/plain": [
       "<Figure size 432x288 with 1 Axes>"
      ]
     },
     "metadata": {},
     "output_type": "display_data"
    },
    {
     "name": "stdout",
     "output_type": "stream",
     "text": [
      "IPNN\n",
      "cuda:0\n",
      "Train on 553137 samples, validate on 79020 samples, 2161 steps per epoch\n",
      "Epoch 1/50\n",
      "39s - loss:  0.9022 - mse:  0.9021 - val_mse:  0.5235\n",
      "Epoch 2/50\n",
      "39s - loss:  0.5064 - mse:  0.5062 - val_mse:  0.5077\n",
      "Epoch 3/50\n",
      "39s - loss:  0.4876 - mse:  0.4872 - val_mse:  0.5006\n",
      "Epoch 4/50\n",
      "39s - loss:  0.4656 - mse:  0.4651 - val_mse:  0.4939\n",
      "Epoch 5/50\n",
      "38s - loss:  0.4303 - mse:  0.4297 - val_mse:  0.4933\n",
      "Epoch 6/50\n",
      "39s - loss:  0.3791 - mse:  0.3783 - val_mse:  0.5122\n",
      "Epoch 7/50\n",
      "38s - loss:  0.3208 - mse:  0.3199 - val_mse:  0.5292\n",
      "Epoch 8/50\n",
      "38s - loss:  0.2691 - mse:  0.2680 - val_mse:  0.5554\n",
      "Epoch 9/50\n",
      "39s - loss:  0.2325 - mse:  0.2312 - val_mse:  0.5709\n",
      "Epoch 10/50\n",
      "38s - loss:  0.2058 - mse:  0.2045 - val_mse:  0.5814\n",
      "Epoch 00010: early stopping\n"
     ]
    },
    {
     "data": {
      "image/png": "[encoded data removed]",
      "text/plain": [
       "<Figure size 432x288 with 1 Axes>"
      ]
     },
     "metadata": {},
     "output_type": "display_data"
    },
    {
     "name": "stdout",
     "output_type": "stream",
     "text": [
      "OPNN\n",
      "cuda:0\n",
      "Train on 553137 samples, validate on 79020 samples, 2161 steps per epoch\n",
      "Epoch 1/50\n",
      "42s - loss:  0.9321 - mse:  0.9320 - val_mse:  0.5249\n",
      "Epoch 2/50\n",
      "41s - loss:  0.5113 - mse:  0.5111 - val_mse:  0.5133\n",
      "Epoch 3/50\n",
      "41s - loss:  0.4973 - mse:  0.4970 - val_mse:  0.5184\n",
      "Epoch 4/50\n",
      "41s - loss:  0.4853 - mse:  0.4848 - val_mse:  0.5010\n",
      "Epoch 5/50\n",
      "41s - loss:  0.4736 - mse:  0.4730 - val_mse:  0.5014\n",
      "Epoch 6/50\n",
      "41s - loss:  0.4619 - mse:  0.4611 - val_mse:  0.5077\n",
      "Epoch 7/50\n",
      "41s - loss:  0.4470 - mse:  0.4461 - val_mse:  0.5036\n",
      "Epoch 8/50\n",
      "41s - loss:  0.4297 - mse:  0.4286 - val_mse:  0.5017\n",
      "Epoch 9/50\n",
      "41s - loss:  0.4108 - mse:  0.4095 - val_mse:  0.5114\n",
      "Epoch 00009: early stopping\n"
     ]
    },
    {
     "data": {
      "image/png": "[encoded data removed]",
      "text/plain": [
       "<Figure size 432x288 with 1 Axes>"
      ]
     },
     "metadata": {},
     "output_type": "display_data"
    },
    {
     "name": "stdout",
     "output_type": "stream",
     "text": [
      "WDL\n",
      "cuda:0\n",
      "Train on 553137 samples, validate on 79020 samples, 2161 steps per epoch\n",
      "Epoch 1/50\n",
      "54s - loss:  0.8345 - mse:  0.8344 - val_mse:  0.5285\n",
      "Epoch 2/50\n",
      "54s - loss:  0.5124 - mse:  0.5123 - val_mse:  0.5168\n",
      "Epoch 3/50\n",
      "54s - loss:  0.5045 - mse:  0.5042 - val_mse:  0.5190\n",
      "Epoch 4/50\n",
      "53s - loss:  0.4993 - mse:  0.4988 - val_mse:  0.5092\n",
      "Epoch 5/50\n",
      "53s - loss:  0.4962 - mse:  0.4957 - val_mse:  0.5185\n",
      "Epoch 6/50\n",
      "52s - loss:  0.4941 - mse:  0.4934 - val_mse:  0.5208\n",
      "Epoch 7/50\n",
      "52s - loss:  0.4913 - mse:  0.4905 - val_mse:  0.5083\n",
      "Epoch 8/50\n",
      "52s - loss:  0.4877 - mse:  0.4867 - val_mse:  0.5045\n",
      "Epoch 9/50\n",
      "53s - loss:  0.4805 - mse:  0.4793 - val_mse:  0.5038\n",
      "Epoch 10/50\n",
      "53s - loss:  0.4733 - mse:  0.4720 - val_mse:  0.4970\n",
      "Epoch 11/50\n",
      "53s - loss:  0.4657 - mse:  0.4643 - val_mse:  0.4998\n",
      "Epoch 12/50\n",
      "53s - loss:  0.4585 - mse:  0.4570 - val_mse:  0.5022\n",
      "Epoch 13/50\n",
      "53s - loss:  0.4510 - mse:  0.4494 - val_mse:  0.4974\n",
      "Epoch 14/50\n",
      "52s - loss:  0.4434 - mse:  0.4417 - val_mse:  0.4991\n",
      "Epoch 15/50\n",
      "52s - loss:  0.4356 - mse:  0.4337 - val_mse:  0.5014\n",
      "Epoch 00015: early stopping\n"
     ]
    },
    {
     "data": {
      "image/png": "[encoded data removed]",
      "text/plain": [
       "<Figure size 432x288 with 1 Axes>"
      ]
     },
     "metadata": {},
     "output_type": "display_data"
    },
    {
     "name": "stdout",
     "output_type": "stream",
     "text": [
      "NFM\n",
      "cuda:0\n",
      "Train on 553137 samples, validate on 79020 samples, 2161 steps per epoch\n",
      "Epoch 1/50\n",
      "53s - loss:  0.9296 - mse:  0.9295 - val_mse:  0.5152\n",
      "Epoch 2/50\n",
      "52s - loss:  0.4813 - mse:  0.4811 - val_mse:  0.4982\n",
      "Epoch 3/50\n",
      "54s - loss:  0.4449 - mse:  0.4445 - val_mse:  0.4966\n",
      "Epoch 4/50\n",
      "53s - loss:  0.4165 - mse:  0.4160 - val_mse:  0.5006\n",
      "Epoch 5/50\n",
      "54s - loss:  0.3928 - mse:  0.3921 - val_mse:  0.5088\n",
      "Epoch 6/50\n",
      "68s - loss:  0.3693 - mse:  0.3685 - val_mse:  0.5118\n",
      "Epoch 7/50\n",
      "76s - loss:  0.3447 - mse:  0.3438 - val_mse:  0.5263\n",
      "Epoch 8/50\n",
      "62s - loss:  0.3184 - mse:  0.3173 - val_mse:  0.5382\n",
      "Epoch 00008: early stopping\n"
     ]
    },
    {
     "data": {
      "image/png": "[encoded data removed]",
      "text/plain": [
       "<Figure size 432x288 with 1 Axes>"
      ]
     },
     "metadata": {},
     "output_type": "display_data"
    },
    {
     "name": "stdout",
     "output_type": "stream",
     "text": [
      "DCN\n",
      "cuda:0\n",
      "Train on 553137 samples, validate on 79020 samples, 2161 steps per epoch\n",
      "Epoch 1/50\n",
      "59s - loss:  0.6628 - mse:  0.6628 - val_mse:  0.5153\n",
      "Epoch 2/50\n",
      "63s - loss:  0.4972 - mse:  0.4971 - val_mse:  0.5033\n",
      "Epoch 3/50\n",
      "57s - loss:  0.4751 - mse:  0.4749 - val_mse:  0.4971\n",
      "Epoch 4/50\n",
      "54s - loss:  0.4534 - mse:  0.4531 - val_mse:  0.4997\n",
      "Epoch 5/50\n",
      "54s - loss:  0.4310 - mse:  0.4306 - val_mse:  0.4977\n",
      "Epoch 6/50\n",
      "56s - loss:  0.4086 - mse:  0.4080 - val_mse:  0.4983\n",
      "Epoch 7/50\n",
      "54s - loss:  0.3872 - mse:  0.3864 - val_mse:  0.5127\n",
      "Epoch 8/50\n",
      "56s - loss:  0.3668 - mse:  0.3660 - val_mse:  0.5102\n",
      "Epoch 00008: early stopping\n"
     ]
    },
    {
     "data": {
      "image/png": "[encoded data removed]",
      "text/plain": [
       "<Figure size 432x288 with 1 Axes>"
      ]
     },
     "metadata": {},
     "output_type": "display_data"
    },
    {
     "name": "stdout",
     "output_type": "stream",
     "text": [
      "xDeepFM\n",
      "cuda:0\n",
      "Train on 553137 samples, validate on 79020 samples, 2161 steps per epoch\n",
      "Epoch 1/50\n",
      "66s - loss:  0.5995 - mse:  0.5994 - val_mse:  0.5254\n",
      "Epoch 2/50\n",
      "68s - loss:  0.4979 - mse:  0.4978 - val_mse:  0.5013\n",
      "Epoch 3/50\n",
      "66s - loss:  0.4721 - mse:  0.4719 - val_mse:  0.4942\n",
      "Epoch 4/50\n",
      "66s - loss:  0.4436 - mse:  0.4433 - val_mse:  0.4882\n",
      "Epoch 5/50\n",
      "66s - loss:  0.4009 - mse:  0.4004 - val_mse:  0.4992\n",
      "Epoch 6/50\n",
      "67s - loss:  0.3419 - mse:  0.3412 - val_mse:  0.5163\n",
      "Epoch 7/50\n",
      "66s - loss:  0.2868 - mse:  0.2860 - val_mse:  0.5387\n",
      "Epoch 8/50\n",
      "66s - loss:  0.2465 - mse:  0.2456 - val_mse:  0.5661\n",
      "Epoch 9/50\n",
      "66s - loss:  0.2182 - mse:  0.2172 - val_mse:  0.5834\n",
      "Epoch 00009: early stopping\n"
     ]
    },
    {
     "data": {
      "image/png": "[encoded data removed]",
      "text/plain": [
       "<Figure size 432x288 with 1 Axes>"
      ]
     },
     "metadata": {},
     "output_type": "display_data"
    },
    {
     "name": "stdout",
     "output_type": "stream",
     "text": [
      "DIFM\n",
      "cuda:0\n",
      "Train on 553137 samples, validate on 79020 samples, 2161 steps per epoch\n",
      "Epoch 1/50\n",
      "58s - loss:  0.8789 - mse:  0.8789 - val_mse:  0.5263\n",
      "Epoch 2/50\n",
      "56s - loss:  0.5055 - mse:  0.5054 - val_mse:  0.5075\n",
      "Epoch 3/50\n",
      "56s - loss:  0.4644 - mse:  0.4642 - val_mse:  0.4955\n",
      "Epoch 4/50\n",
      "56s - loss:  0.4059 - mse:  0.4056 - val_mse:  0.5064\n",
      "Epoch 5/50\n",
      "56s - loss:  0.3365 - mse:  0.3360 - val_mse:  0.5314\n",
      "Epoch 6/50\n",
      "56s - loss:  0.2849 - mse:  0.2843 - val_mse:  0.5331\n",
      "Epoch 7/50\n",
      "57s - loss:  0.2496 - mse:  0.2489 - val_mse:  0.5548\n",
      "Epoch 8/50\n",
      "56s - loss:  0.2257 - mse:  0.2248 - val_mse:  0.5620\n",
      "Epoch 00008: early stopping\n"
     ]
    },
    {
     "data": {
      "image/png": "[encoded data removed]",
      "text/plain": [
       "<Figure size 432x288 with 1 Axes>"
      ]
     },
     "metadata": {},
     "output_type": "display_data"
    }
   ],
   "source": [
    "for i in range(1):\n",
    "    train_ind = np.load(os.path.join(train_path, 'train_ind'+ str(i) +'.npy'))\n",
    "    val_ind = np.load(os.path.join(val_path, 'val_ind'+ str(i) +'.npy'))\n",
    "    test_ind = np.load(os.path.join(test_path, 'test_ind'+ str(i) +'.npy'))\n",
    "    \n",
    "    train_x = sparse_x[train_ind]\n",
    "    val_x = sparse_x[val_ind]\n",
    "    test_x = sparse_x[test_ind]\n",
    "\n",
    "    train_y=target[train_ind]\n",
    "    val_y=target[val_ind]\n",
    "    test_y=target[test_ind]\n",
    "    \n",
    "    train_x_tensor = sparse2tensor(train_x)\n",
    "    val_x_tensor = sparse2tensor(val_x)\n",
    "    test_x_tensor = sparse2tensor(test_x)\n",
    "    \n",
    "    print('==================================================')\n",
    "    print('number:', i)\n",
    "    print('DeepFM')\n",
    "    DeepFM_train(train_x_tensor, train_y, val_x_tensor, val_y)\n",
    "    print('AFM')\n",
    "    AFM_train(train_x_tensor, train_y, val_x_tensor, val_y)\n",
    "    print('CCPM')\n",
    "    CCPM_train(train_x_tensor, train_y, val_x_tensor, val_y)\n",
    "    print('IPNN')\n",
    "    IPNN_train(train_x_tensor, train_y, val_x_tensor, val_y)\n",
    "    print('OPNN')\n",
    "    OPNN_train(train_x_tensor, train_y, val_x_tensor, val_y)\n",
    "    print('WDL')\n",
    "    WDL_train(train_x_tensor, train_y, val_x_tensor, val_y)\n",
    "    print('NFM')\n",
    "    NFM_train(train_x_tensor, train_y, val_x_tensor, val_y)\n",
    "    print('DCN')\n",
    "    DCN_train(train_x_tensor, train_y, val_x_tensor, val_y)\n",
    "    print('xDeepFM')\n",
    "    xDeepFM_train(train_x_tensor, train_y, val_x_tensor, val_y)\n",
    "    print('DIFM')\n",
    "    DIFM_train(train_x_tensor, train_y, val_x_tensor, val_y)"
   ]
  },
  {
   "cell_type": "code",
   "execution_count": 20,
   "id": "1646a618",
   "metadata": {},
   "outputs": [],
   "source": []
  },
  {
   "cell_type": "code",
   "execution_count": null,
   "id": "77c9ee50",
   "metadata": {},
   "outputs": [],
   "source": []
  },
  {
   "cell_type": "code",
   "execution_count": null,
   "id": "16b05118",
   "metadata": {},
   "outputs": [],
   "source": []
  },
  {
   "cell_type": "code",
   "execution_count": null,
   "id": "9f568012",
   "metadata": {},
   "outputs": [],
   "source": []
  },
  {
   "cell_type": "code",
   "execution_count": null,
   "id": "43d1826f",
   "metadata": {},
   "outputs": [],
   "source": []
  },
  {
   "cell_type": "code",
   "execution_count": null,
   "id": "9fd67257",
   "metadata": {},
   "outputs": [],
   "source": []
  },
  {
   "cell_type": "code",
   "execution_count": null,
   "id": "4d099694",
   "metadata": {},
   "outputs": [],
   "source": []
  },
  {
   "cell_type": "code",
   "execution_count": null,
   "id": "13bf227c",
   "metadata": {},
   "outputs": [],
   "source": []
  },
  {
   "cell_type": "code",
   "execution_count": null,
   "id": "b86da69a",
   "metadata": {},
   "outputs": [],
   "source": []
  },
  {
   "cell_type": "code",
   "execution_count": null,
   "id": "30fded38",
   "metadata": {},
   "outputs": [],
   "source": []
  },
  {
   "cell_type": "code",
   "execution_count": null,
   "id": "d3e1c5e1",
   "metadata": {},
   "outputs": [],
   "source": []
  },
  {
   "cell_type": "code",
   "execution_count": null,
   "id": "ed418cb3",
   "metadata": {},
   "outputs": [],
   "source": []
  },
  {
   "cell_type": "code",
   "execution_count": null,
   "id": "72dd29cc",
   "metadata": {},
   "outputs": [],
   "source": []
  },
  {
   "cell_type": "code",
   "execution_count": null,
   "id": "79656e17",
   "metadata": {},
   "outputs": [],
   "source": []
  },
  {
   "cell_type": "code",
   "execution_count": null,
   "id": "ce166273",
   "metadata": {},
   "outputs": [],
   "source": []
  },
  {
   "cell_type": "code",
   "execution_count": 22,
   "id": "b6df2582",
   "metadata": {},
   "outputs": [],
   "source": [
    "m = torch.load('test.ckpt')"
   ]
  },
  {
   "cell_type": "code",
   "execution_count": 33,
   "id": "c2f23cab",
   "metadata": {},
   "outputs": [
    {
     "data": {
      "text/plain": [
       "array([[4.00951767],\n",
       "       [3.93800592],\n",
       "       [4.28843737],\n",
       "       ...,\n",
       "       [4.74223948],\n",
       "       [3.6681757 ],\n",
       "       [3.4003098 ]])"
      ]
     },
     "execution_count": 33,
     "metadata": {},
     "output_type": "execute_result"
    }
   ],
   "source": [
    "m.predict(test_x_tensor)"
   ]
  },
  {
   "cell_type": "code",
   "execution_count": null,
   "id": "c7393fce",
   "metadata": {},
   "outputs": [],
   "source": []
  },
  {
   "cell_type": "code",
   "execution_count": 15,
   "id": "77191772",
   "metadata": {},
   "outputs": [],
   "source": []
  },
  {
   "cell_type": "code",
   "execution_count": null,
   "id": "3224e619",
   "metadata": {},
   "outputs": [],
   "source": []
  },
  {
   "cell_type": "code",
   "execution_count": null,
   "id": "61aeb40f",
   "metadata": {},
   "outputs": [],
   "source": []
  },
  {
   "cell_type": "code",
   "execution_count": 45,
   "id": "941841ab",
   "metadata": {},
   "outputs": [],
   "source": []
  }
 ],
 "metadata": {
  "kernelspec": {
   "display_name": "Python 3",
   "language": "python",
   "name": "python3"
  },
  "language_info": {
   "codemirror_mode": {
    "name": "ipython",
    "version": 3
   },
   "file_extension": ".py",
   "mimetype": "text/x-python",
   "name": "python",
   "nbconvert_exporter": "python",
   "pygments_lexer": "ipython3",
   "version": "3.8.8"
  }
 },
 "nbformat": 4,
 "nbformat_minor": 5
}
