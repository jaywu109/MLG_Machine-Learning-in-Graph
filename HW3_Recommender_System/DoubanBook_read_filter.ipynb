{
 "cells": [
  {
   "cell_type": "code",
   "execution_count": 1,
   "id": "96b89066",
   "metadata": {},
   "outputs": [],
   "source": [
    "import pandas as pd\n",
    "import numpy as np\n",
    "\n",
    "from tqdm import tqdm\n",
    "\n",
    "import random\n",
    "import math\n",
    "from random import sample\n",
    "import os \n",
    "from sklearn.model_selection import KFold\n",
    "from sklearn.model_selection import StratifiedKFold\n",
    "from sklearn.model_selection import train_test_split\n",
    "from sklearn import preprocessing\n",
    "\n",
    "from scipy.sparse import coo_matrix, csr_matrix, lil_matrix, vstack, hstack\n",
    "from scipy import sparse\n",
    "\n",
    "random.seed(10)"
   ]
  },
  {
   "cell_type": "code",
   "execution_count": 2,
   "id": "0ce6f92b",
   "metadata": {},
   "outputs": [],
   "source": [
    "def read_txt(path):\n",
    "    data_list = []\n",
    "    with open(path) as f:\n",
    "        for line in tqdm(f):\n",
    "            line_data = []\n",
    "            for word in line.split():\n",
    "                line_data.append(float(word))\n",
    "            data_list.append(line_data)\n",
    "    return data_list"
   ]
  },
  {
   "cell_type": "code",
   "execution_count": 3,
   "id": "fea0ca37",
   "metadata": {},
   "outputs": [],
   "source": [
    "# import os\n",
    "\n",
    "\n",
    "# path = 'C:/Users/bbb50/Desktop/Python/hw3/DoubanBook/'\n",
    "# files = os.listdir(path)\n",
    "\n",
    "# for filename in files:\n",
    "#     portion = os.path.splitext(filename)\n",
    "#     # 如果后缀是.dat\n",
    "#     if portion[1] == \".dat\":  \n",
    "#         # 重新组合文件名和后缀名\n",
    "#         newname = portion[0] + \".txt\"   \n",
    "#         os.rename(os.path.join(path, filename),os.path.join(path, newname))\n"
   ]
  },
  {
   "cell_type": "code",
   "execution_count": 26,
   "id": "05581622",
   "metadata": {},
   "outputs": [
    {
     "name": "stderr",
     "output_type": "stream",
     "text": [
      "792062it [00:01, 663386.52it/s]\n"
     ]
    }
   ],
   "source": [
    "user_book = read_txt('C:/Users/bbb50/Desktop/Python/hw3/DoubanBook/user_book.txt')\n",
    "user_book = pd.DataFrame(np.array(user_book).astype(int))\n",
    "user_book.columns = ['user', 'book', 'rate']\n",
    "user_book = user_book.groupby(\"user\").filter(lambda x: len(x) >= 3)\n",
    "\n",
    "user_book.index = user_book.reset_index().index\n",
    "user_label = preprocessing.LabelEncoder()\n",
    "book_label = preprocessing.LabelEncoder()\n",
    "\n",
    "user_book.user = user_label.fit_transform(user_book.user.values)\n",
    "user_book.book = book_label.fit_transform(user_book.book.values)\n",
    "\n",
    "user_list = user_book.user.value_counts().index.to_numpy()\n",
    "user_list = np.sort(user_list)\n",
    "\n",
    "book_list = user_book.book.value_counts().index.to_numpy()\n",
    "book_list = np.sort(book_list)\n"
   ]
  },
  {
   "cell_type": "code",
   "execution_count": 27,
   "id": "6652169e",
   "metadata": {},
   "outputs": [
    {
     "name": "stderr",
     "output_type": "stream",
     "text": [
      "169150it [00:00, 948293.22it/s]\n"
     ]
    }
   ],
   "source": [
    "user_user = read_txt('C:/Users/bbb50/Desktop/Python/hw3/DoubanBook/user_user.txt')\n",
    "user_user = pd.DataFrame(np.array(user_user).astype(int))\n",
    "user_user.columns = ['user1', 'user2']\n",
    "user_user = user_user[user_user.user1.isin(user_label.classes_) & user_user.user2.isin(user_label.classes_)]\n",
    "\n",
    "user_user.user1 = user_label.transform(user_user.user1.values)\n",
    "user_user.user2 = user_label.transform(user_user.user2.values)"
   ]
  },
  {
   "cell_type": "code",
   "execution_count": 28,
   "id": "e4f8e993",
   "metadata": {},
   "outputs": [
    {
     "name": "stderr",
     "output_type": "stream",
     "text": [
      "1189271it [00:01, 799384.12it/s]\n"
     ]
    }
   ],
   "source": [
    "user_group = read_txt('C:/Users/bbb50/Desktop/Python/hw3/DoubanBook/user_group.txt')\n",
    "user_group = pd.DataFrame(np.array(user_group).astype(int))\n",
    "user_group.columns = ['user', 'group']\n",
    "user_group = user_group[user_group.user.isin(user_label.classes_)]\n",
    "\n",
    "group_label = preprocessing.LabelEncoder()\n",
    "user_group.group  = group_label.fit_transform(user_group.group.values)\n",
    "user_group.user  = user_label.transform(user_group.user.values)\n",
    "\n",
    "group_list = user_group.group.value_counts().index.to_numpy()\n",
    "group_list = np.sort(group_list)"
   ]
  },
  {
   "cell_type": "code",
   "execution_count": 29,
   "id": "45361d8c",
   "metadata": {},
   "outputs": [
    {
     "name": "stderr",
     "output_type": "stream",
     "text": [
      "10592it [00:00, 1016452.01it/s]\n"
     ]
    }
   ],
   "source": [
    "user_location = read_txt('C:/Users/bbb50/Desktop/Python/hw3/DoubanBook/user_location.txt')\n",
    "user_location = pd.DataFrame(np.array(user_location).astype(int))\n",
    "user_location.columns = ['user', 'location']\n",
    "user_location = user_location[user_location.user.isin(user_label.classes_)]\n",
    "\n",
    "location_label = preprocessing.LabelEncoder()\n",
    "user_location.location  = location_label.fit_transform(user_location.location.values)\n",
    "user_location.user  = user_label.transform(user_location.user.values)\n",
    "\n",
    "location_list = user_location.location.value_counts().index.to_numpy()\n",
    "location_list = np.sort(location_list)"
   ]
  },
  {
   "cell_type": "code",
   "execution_count": 30,
   "id": "60d4156b",
   "metadata": {},
   "outputs": [
    {
     "name": "stderr",
     "output_type": "stream",
     "text": [
      "21907it [00:00, 1043088.44it/s]\n"
     ]
    }
   ],
   "source": [
    "book_author = read_txt('C:/Users/bbb50/Desktop/Python/hw3/DoubanBook/book_author.txt')\n",
    "book_author = pd.DataFrame(np.array(book_author).astype(int))\n",
    "book_author.columns = ['book', 'author']\n",
    "book_author = book_author[book_author.book.isin(book_label.classes_)]\n",
    "\n",
    "author_label = preprocessing.LabelEncoder()\n",
    "book_author.author  = author_label.fit_transform(book_author.author.values)\n",
    "book_author.book  = book_label.transform(book_author.book.values)\n",
    "\n",
    "author_list = book_author.author.value_counts().index.to_numpy()\n",
    "author_list = np.sort(author_list)\n"
   ]
  },
  {
   "cell_type": "code",
   "execution_count": 31,
   "id": "d16cbaed",
   "metadata": {},
   "outputs": [
    {
     "name": "stderr",
     "output_type": "stream",
     "text": [
      "21773it [00:00, 763496.51it/s]\n"
     ]
    }
   ],
   "source": [
    "book_publisher = read_txt('C:/Users/bbb50/Desktop/Python/hw3/DoubanBook/book_publisher.txt')\n",
    "book_publisher = pd.DataFrame(np.array(book_publisher).astype(int))\n",
    "book_publisher.columns = ['book', 'publisher']\n",
    "book_publisher = book_publisher[book_publisher.book.isin(book_label.classes_)]\n",
    "\n",
    "publisher_label = preprocessing.LabelEncoder()\n",
    "book_publisher.publisher  = publisher_label.fit_transform(book_publisher.publisher.values)\n",
    "book_publisher.book  = book_label.transform(book_publisher.book.values)\n",
    "\n",
    "publisher_list = book_publisher.publisher.value_counts().index.to_numpy()\n",
    "publisher_list = np.sort(publisher_list)\n"
   ]
  },
  {
   "cell_type": "code",
   "execution_count": 32,
   "id": "c7a594ea",
   "metadata": {},
   "outputs": [
    {
     "name": "stderr",
     "output_type": "stream",
     "text": [
      "21192it [00:00, 963029.43it/s]\n"
     ]
    }
   ],
   "source": [
    "book_year = read_txt('C:/Users/bbb50/Desktop/Python/hw3/DoubanBook/book_year.txt')\n",
    "book_year = pd.DataFrame(np.array(book_year).astype(int))\n",
    "book_year.columns = ['book', 'year']\n",
    "book_year = book_year[book_year.book.isin(book_label.classes_)]\n",
    "\n",
    "year_label = preprocessing.LabelEncoder()\n",
    "book_year.year  = year_label.fit_transform(book_year.year.values)\n",
    "book_year.book  = book_label.transform(book_year.book.values)\n",
    "\n",
    "year_list = book_year.year.value_counts().index.to_numpy()\n",
    "year_list = np.sort(year_list)\n"
   ]
  },
  {
   "cell_type": "code",
   "execution_count": 33,
   "id": "37ae5e92",
   "metadata": {},
   "outputs": [],
   "source": [
    "user_book.reset_index().to_feather('C:/Users/bbb50/Desktop/Python/hw3/DoubanBook/user_book.ftr')\n",
    "user_user.reset_index().to_feather('C:/Users/bbb50/Desktop/Python/hw3/DoubanBook/user_user.ftr')\n",
    "user_group.reset_index().to_feather('C:/Users/bbb50/Desktop/Python/hw3/DoubanBook/user_group.ftr')\n",
    "user_location.reset_index().to_feather('C:/Users/bbb50/Desktop/Python/hw3/DoubanBook/user_location.ftr')\n",
    "book_author.reset_index().to_feather('C:/Users/bbb50/Desktop/Python/hw3/DoubanBook/book_author.ftr')\n",
    "book_year.reset_index().to_feather('C:/Users/bbb50/Desktop/Python/hw3/DoubanBook/book_year.ftr')\n",
    "book_publisher.reset_index().to_feather('C:/Users/bbb50/Desktop/Python/hw3/DoubanBook/user_book.ftr')\n"
   ]
  },
  {
   "cell_type": "code",
   "execution_count": 34,
   "id": "d1eaa297",
   "metadata": {},
   "outputs": [],
   "source": [
    "n_users = user_list.shape[0]\n",
    "n_books = book_list.shape[0]\n",
    "n_groups = group_list.shape[0]\n",
    "n_locations = location_list.shape[0]\n",
    "n_authors = author_list.shape[0]\n",
    "n_years = year_list.shape[0]\n",
    "n_publishers = publisher_list.shape[0]"
   ]
  },
  {
   "cell_type": "code",
   "execution_count": 39,
   "id": "19cb8eb5",
   "metadata": {},
   "outputs": [
    {
     "name": "stderr",
     "output_type": "stream",
     "text": [
      "100%|██████████████████████████████████████████████████████████████████████████| 22347/22347 [00:05<00:00, 3907.47it/s]\n",
      "100%|█████████████████████████████████████████████████████████████████████| 790197/790197 [00:00<00:00, 1828974.32it/s]\n"
     ]
    }
   ],
   "source": [
    "b_a_dict = {}\n",
    "for b in tqdm(book_list):\n",
    "    if b in book_author.book.values:\n",
    "        b_a = book_author[book_author.book == b].author.values[0]\n",
    "        b_a_dict[b] = b_a\n",
    "    else:\n",
    "        b_a_dict[b] = n_authors\n",
    "        \n",
    "author = []\n",
    "\n",
    "for b in tqdm(user_book.book):\n",
    "    author.append(b_a_dict[b])"
   ]
  },
  {
   "cell_type": "code",
   "execution_count": 40,
   "id": "cd38fe89",
   "metadata": {},
   "outputs": [
    {
     "name": "stderr",
     "output_type": "stream",
     "text": [
      "100%|██████████████████████████████████████████████████████████████████████████| 22347/22347 [00:05<00:00, 4061.72it/s]\n",
      "100%|█████████████████████████████████████████████████████████████████████| 790197/790197 [00:00<00:00, 1949327.44it/s]\n"
     ]
    }
   ],
   "source": [
    "b_p_dict = {}\n",
    "for b in tqdm(book_list):\n",
    "    if b in book_publisher.book.values:\n",
    "        b_p = book_publisher[book_publisher.book == b].publisher.values[0]\n",
    "        b_p_dict[b] = b_p\n",
    "    else:\n",
    "        b_p_dict[b] = n_publishers\n",
    "        \n",
    "publisher = []\n",
    "\n",
    "for b in tqdm(user_book.book):\n",
    "    publisher.append(b_p_dict[b])"
   ]
  },
  {
   "cell_type": "code",
   "execution_count": 42,
   "id": "cea93638",
   "metadata": {},
   "outputs": [
    {
     "name": "stderr",
     "output_type": "stream",
     "text": [
      "100%|██████████████████████████████████████████████████████████████████████████| 22347/22347 [00:06<00:00, 3529.56it/s]\n",
      "100%|█████████████████████████████████████████████████████████████████████| 790197/790197 [00:00<00:00, 1770688.24it/s]\n"
     ]
    }
   ],
   "source": [
    "b_y_dict = {}\n",
    "for b in tqdm(book_list):\n",
    "    if b in book_year.book.values:\n",
    "        b_y = book_year[book_year.book == b].year.values[0]\n",
    "        b_y_dict[b] = b_y\n",
    "    else:\n",
    "        b_y_dict[b] = n_years\n",
    "        \n",
    "year = []\n",
    "\n",
    "for b in tqdm(user_book.book):\n",
    "    year.append(b_y_dict[b])"
   ]
  },
  {
   "cell_type": "code",
   "execution_count": 45,
   "id": "565b2126",
   "metadata": {},
   "outputs": [
    {
     "name": "stderr",
     "output_type": "stream",
     "text": [
      "100%|██████████████████████████████████████████████████████████████████████████| 11699/11699 [00:02<00:00, 4227.86it/s]\n",
      "100%|█████████████████████████████████████████████████████████████████████| 790197/790197 [00:00<00:00, 1647279.54it/s]\n"
     ]
    }
   ],
   "source": [
    "u_l_dict = {}\n",
    "for u in tqdm(user_list):\n",
    "    if u in user_location.user.values:\n",
    "        u_l = user_location[user_location.user == u].location.values[0]\n",
    "        u_l_dict[u] = u_l\n",
    "    else:\n",
    "        u_l_dict[u] = n_locations\n",
    "        \n",
    "location = []\n",
    "\n",
    "for u in tqdm(user_book.user):\n",
    "    location.append(u_l_dict[u])"
   ]
  },
  {
   "cell_type": "code",
   "execution_count": 53,
   "id": "9a424fe3",
   "metadata": {},
   "outputs": [
    {
     "name": "stderr",
     "output_type": "stream",
     "text": [
      "100%|███████████████████████████████████████████████████████████████████████████| 11699/11699 [00:34<00:00, 342.23it/s]\n",
      "100%|█████████████████████████████████████████████████████████████████████| 790197/790197 [00:00<00:00, 1747690.99it/s]\n"
     ]
    }
   ],
   "source": [
    "u_g_dict = {}\n",
    "for u in tqdm(user_list):\n",
    "    if u in user_group.user.values:\n",
    "        u_g = user_group[user_group.user == u].group.values\n",
    "        u_g_dict[u] = np.sort(u_g)\n",
    "    else:\n",
    "        u_g_dict[u] = [n_groups]\n",
    "group = []\n",
    "\n",
    "for u in tqdm(user_book.user):\n",
    "    group.append(u_g_dict[u])"
   ]
  },
  {
   "cell_type": "code",
   "execution_count": 48,
   "id": "2f6f4ca3",
   "metadata": {},
   "outputs": [
    {
     "name": "stderr",
     "output_type": "stream",
     "text": [
      "100%|██████████████████████████████████████████████████████████████████████████| 11699/11699 [00:05<00:00, 1976.94it/s]\n",
      "100%|█████████████████████████████████████████████████████████████████████| 790197/790197 [00:00<00:00, 1684564.34it/s]\n"
     ]
    }
   ],
   "source": [
    "u_u_dict = {}\n",
    "for u in tqdm(user_list):\n",
    "    if u in user_user.user1.values:\n",
    "        u_u = user_user[user_user.user1 == u].user2.values\n",
    "        u_u_dict[u] = np.sort(u_u)\n",
    "    else:\n",
    "        u_u_dict[u] = [n_users]\n",
    "user = []\n",
    "\n",
    "for u in tqdm(user_book.user):\n",
    "    user.append(u_u_dict[u])"
   ]
  },
  {
   "cell_type": "code",
   "execution_count": null,
   "id": "29f32f4f",
   "metadata": {},
   "outputs": [],
   "source": []
  },
  {
   "cell_type": "code",
   "execution_count": null,
   "id": "d3d73b42",
   "metadata": {},
   "outputs": [],
   "source": []
  },
  {
   "cell_type": "code",
   "execution_count": 54,
   "id": "8d715bbe",
   "metadata": {},
   "outputs": [],
   "source": [
    "user_book['author'] = author\n",
    "user_book['publisher'] = publisher\n",
    "user_book['year'] = year\n",
    "user_book['location'] = location\n",
    "user_book['user_inter'] = user\n",
    "user_book['group'] = group"
   ]
  },
  {
   "cell_type": "code",
   "execution_count": 55,
   "id": "6f1698ee",
   "metadata": {},
   "outputs": [],
   "source": [
    "user_book.reset_index().to_feather('C:/Users/bbb50/Desktop/Python/hw3/DoubanBook/user_book_fea.ftr')"
   ]
  },
  {
   "cell_type": "code",
   "execution_count": 56,
   "id": "7100b14a",
   "metadata": {},
   "outputs": [
    {
     "data": {
      "text/html": [
       "<div>\n",
       "<style scoped>\n",
       "    .dataframe tbody tr th:only-of-type {\n",
       "        vertical-align: middle;\n",
       "    }\n",
       "\n",
       "    .dataframe tbody tr th {\n",
       "        vertical-align: top;\n",
       "    }\n",
       "\n",
       "    .dataframe thead th {\n",
       "        text-align: right;\n",
       "    }\n",
       "</style>\n",
       "<table border=\"1\" class=\"dataframe\">\n",
       "  <thead>\n",
       "    <tr style=\"text-align: right;\">\n",
       "      <th></th>\n",
       "      <th>user</th>\n",
       "      <th>book</th>\n",
       "      <th>rate</th>\n",
       "      <th>author</th>\n",
       "      <th>publisher</th>\n",
       "      <th>year</th>\n",
       "      <th>location</th>\n",
       "      <th>user_inter</th>\n",
       "      <th>group</th>\n",
       "    </tr>\n",
       "  </thead>\n",
       "  <tbody>\n",
       "    <tr>\n",
       "      <th>0</th>\n",
       "      <td>9756</td>\n",
       "      <td>937</td>\n",
       "      <td>4</td>\n",
       "      <td>4386</td>\n",
       "      <td>943</td>\n",
       "      <td>19</td>\n",
       "      <td>32</td>\n",
       "      <td>[181, 769, 841, 1833, 1861, 2164, 3589, 3890, ...</td>\n",
       "      <td>[0, 1, 2, 3, 7, 8, 9, 10, 13, 14, 23, 27, 28, ...</td>\n",
       "    </tr>\n",
       "    <tr>\n",
       "      <th>1</th>\n",
       "      <td>9019</td>\n",
       "      <td>2</td>\n",
       "      <td>3</td>\n",
       "      <td>9485</td>\n",
       "      <td>1742</td>\n",
       "      <td>13</td>\n",
       "      <td>377</td>\n",
       "      <td>[5301, 8480, 11271]</td>\n",
       "      <td>[0, 3, 5, 6, 8, 9, 10, 13, 15, 18, 19, 25, 26,...</td>\n",
       "    </tr>\n",
       "    <tr>\n",
       "      <th>2</th>\n",
       "      <td>672</td>\n",
       "      <td>2425</td>\n",
       "      <td>5</td>\n",
       "      <td>10547</td>\n",
       "      <td>1474</td>\n",
       "      <td>20</td>\n",
       "      <td>12</td>\n",
       "      <td>[645, 1139, 1364, 1547, 1677, 2322, 3612, 4141...</td>\n",
       "      <td>[0, 1, 4, 7, 10, 11, 18, 20, 22, 23, 25, 26, 2...</td>\n",
       "    </tr>\n",
       "    <tr>\n",
       "      <th>3</th>\n",
       "      <td>407</td>\n",
       "      <td>1262</td>\n",
       "      <td>4</td>\n",
       "      <td>10313</td>\n",
       "      <td>430</td>\n",
       "      <td>34</td>\n",
       "      <td>32</td>\n",
       "      <td>[1625, 1637, 1806, 1823, 1918, 2453, 3028, 323...</td>\n",
       "      <td>[0, 12, 14, 17, 38, 46, 65, 68, 69, 74, 86, 99...</td>\n",
       "    </tr>\n",
       "    <tr>\n",
       "      <th>4</th>\n",
       "      <td>10482</td>\n",
       "      <td>7716</td>\n",
       "      <td>5</td>\n",
       "      <td>5719</td>\n",
       "      <td>1048</td>\n",
       "      <td>17</td>\n",
       "      <td>436</td>\n",
       "      <td>[1313, 5030, 7523]</td>\n",
       "      <td>[0, 1, 2, 5, 6, 7, 8, 9, 13, 15, 20, 21, 23, 2...</td>\n",
       "    </tr>\n",
       "    <tr>\n",
       "      <th>...</th>\n",
       "      <td>...</td>\n",
       "      <td>...</td>\n",
       "      <td>...</td>\n",
       "      <td>...</td>\n",
       "      <td>...</td>\n",
       "      <td>...</td>\n",
       "      <td>...</td>\n",
       "      <td>...</td>\n",
       "      <td>...</td>\n",
       "    </tr>\n",
       "    <tr>\n",
       "      <th>790192</th>\n",
       "      <td>11524</td>\n",
       "      <td>2649</td>\n",
       "      <td>5</td>\n",
       "      <td>10650</td>\n",
       "      <td>1272</td>\n",
       "      <td>35</td>\n",
       "      <td>32</td>\n",
       "      <td>[3092, 4085, 5932, 6090, 9375, 9961]</td>\n",
       "      <td>[0, 3, 6, 9, 13, 46, 52, 57, 63, 76, 84, 86, 8...</td>\n",
       "    </tr>\n",
       "    <tr>\n",
       "      <th>790193</th>\n",
       "      <td>7041</td>\n",
       "      <td>3049</td>\n",
       "      <td>4</td>\n",
       "      <td>7194</td>\n",
       "      <td>1330</td>\n",
       "      <td>7</td>\n",
       "      <td>396</td>\n",
       "      <td>[404, 3595, 3986, 4983, 5347, 5674, 6268, 7464...</td>\n",
       "      <td>[0, 1, 4, 6, 8, 12, 13, 14, 21, 24, 25, 39, 42...</td>\n",
       "    </tr>\n",
       "    <tr>\n",
       "      <th>790194</th>\n",
       "      <td>8418</td>\n",
       "      <td>18016</td>\n",
       "      <td>5</td>\n",
       "      <td>5242</td>\n",
       "      <td>1768</td>\n",
       "      <td>17</td>\n",
       "      <td>12</td>\n",
       "      <td>[311, 1139, 3564, 3971, 5254, 5978, 6894, 7631...</td>\n",
       "      <td>[0, 1, 3, 4, 5, 6, 7, 10, 11, 12, 13, 14, 20, ...</td>\n",
       "    </tr>\n",
       "    <tr>\n",
       "      <th>790195</th>\n",
       "      <td>9832</td>\n",
       "      <td>1442</td>\n",
       "      <td>4</td>\n",
       "      <td>8377</td>\n",
       "      <td>1791</td>\n",
       "      <td>19</td>\n",
       "      <td>358</td>\n",
       "      <td>[115, 351, 3023, 3971, 4276, 6567, 6894, 8099,...</td>\n",
       "      <td>[0, 1, 2, 4, 5, 7, 8, 9, 10, 13, 17, 18, 19, 2...</td>\n",
       "    </tr>\n",
       "    <tr>\n",
       "      <th>790196</th>\n",
       "      <td>4655</td>\n",
       "      <td>771</td>\n",
       "      <td>3</td>\n",
       "      <td>4358</td>\n",
       "      <td>1742</td>\n",
       "      <td>46</td>\n",
       "      <td>358</td>\n",
       "      <td>[1168, 1540, 5190, 6632, 6821, 7508, 8703, 922...</td>\n",
       "      <td>[0, 1, 2, 4, 5, 6, 7, 8, 9, 10, 13, 15, 16, 18...</td>\n",
       "    </tr>\n",
       "  </tbody>\n",
       "</table>\n",
       "<p>790197 rows × 9 columns</p>\n",
       "</div>"
      ],
      "text/plain": [
       "         user   book  rate  author  publisher  year  location  \\\n",
       "0        9756    937     4    4386        943    19        32   \n",
       "1        9019      2     3    9485       1742    13       377   \n",
       "2         672   2425     5   10547       1474    20        12   \n",
       "3         407   1262     4   10313        430    34        32   \n",
       "4       10482   7716     5    5719       1048    17       436   \n",
       "...       ...    ...   ...     ...        ...   ...       ...   \n",
       "790192  11524   2649     5   10650       1272    35        32   \n",
       "790193   7041   3049     4    7194       1330     7       396   \n",
       "790194   8418  18016     5    5242       1768    17        12   \n",
       "790195   9832   1442     4    8377       1791    19       358   \n",
       "790196   4655    771     3    4358       1742    46       358   \n",
       "\n",
       "                                               user_inter  \\\n",
       "0       [181, 769, 841, 1833, 1861, 2164, 3589, 3890, ...   \n",
       "1                                     [5301, 8480, 11271]   \n",
       "2       [645, 1139, 1364, 1547, 1677, 2322, 3612, 4141...   \n",
       "3       [1625, 1637, 1806, 1823, 1918, 2453, 3028, 323...   \n",
       "4                                      [1313, 5030, 7523]   \n",
       "...                                                   ...   \n",
       "790192               [3092, 4085, 5932, 6090, 9375, 9961]   \n",
       "790193  [404, 3595, 3986, 4983, 5347, 5674, 6268, 7464...   \n",
       "790194  [311, 1139, 3564, 3971, 5254, 5978, 6894, 7631...   \n",
       "790195  [115, 351, 3023, 3971, 4276, 6567, 6894, 8099,...   \n",
       "790196  [1168, 1540, 5190, 6632, 6821, 7508, 8703, 922...   \n",
       "\n",
       "                                                    group  \n",
       "0       [0, 1, 2, 3, 7, 8, 9, 10, 13, 14, 23, 27, 28, ...  \n",
       "1       [0, 3, 5, 6, 8, 9, 10, 13, 15, 18, 19, 25, 26,...  \n",
       "2       [0, 1, 4, 7, 10, 11, 18, 20, 22, 23, 25, 26, 2...  \n",
       "3       [0, 12, 14, 17, 38, 46, 65, 68, 69, 74, 86, 99...  \n",
       "4       [0, 1, 2, 5, 6, 7, 8, 9, 13, 15, 20, 21, 23, 2...  \n",
       "...                                                   ...  \n",
       "790192  [0, 3, 6, 9, 13, 46, 52, 57, 63, 76, 84, 86, 8...  \n",
       "790193  [0, 1, 4, 6, 8, 12, 13, 14, 21, 24, 25, 39, 42...  \n",
       "790194  [0, 1, 3, 4, 5, 6, 7, 10, 11, 12, 13, 14, 20, ...  \n",
       "790195  [0, 1, 2, 4, 5, 7, 8, 9, 10, 13, 17, 18, 19, 2...  \n",
       "790196  [0, 1, 2, 4, 5, 6, 7, 8, 9, 10, 13, 15, 16, 18...  \n",
       "\n",
       "[790197 rows x 9 columns]"
      ]
     },
     "execution_count": 56,
     "metadata": {},
     "output_type": "execute_result"
    }
   ],
   "source": [
    "user_book"
   ]
  },
  {
   "cell_type": "code",
   "execution_count": 57,
   "id": "1d99ae92",
   "metadata": {},
   "outputs": [
    {
     "name": "stderr",
     "output_type": "stream",
     "text": [
      "100%|███████████████████████████████████████████████████████████████████████| 790197/790197 [00:52<00:00, 15073.67it/s]\n"
     ]
    }
   ],
   "source": [
    "group_mat = lil_matrix((user_book.shape[0], (n_groups+1)), dtype=int)\n",
    "for ind in tqdm(user_book.index.to_numpy()):\n",
    "    group_mat[ind, user_book.group[ind]] = 1\n",
    "    \n",
    "group_mat = group_mat.tocsr()"
   ]
  },
  {
   "cell_type": "code",
   "execution_count": 58,
   "id": "6b78b4c4",
   "metadata": {},
   "outputs": [
    {
     "name": "stderr",
     "output_type": "stream",
     "text": [
      "100%|███████████████████████████████████████████████████████████████████████| 790197/790197 [00:46<00:00, 16973.40it/s]\n"
     ]
    }
   ],
   "source": [
    "ui_mat = lil_matrix((user_book.shape[0], (n_users+1)), dtype=int)\n",
    "for ind in tqdm(user_book.index.to_numpy()):\n",
    "    ui_mat[ind, user_book.user_inter[ind]] = 1\n",
    "    \n",
    "ui_mat = ui_mat.tocsr()"
   ]
  },
  {
   "cell_type": "code",
   "execution_count": null,
   "id": "0a6237e1",
   "metadata": {},
   "outputs": [],
   "source": []
  },
  {
   "cell_type": "code",
   "execution_count": 63,
   "id": "d8aa4bb2",
   "metadata": {},
   "outputs": [],
   "source": [
    "row  = user_book.user.index.to_numpy()\n",
    "data = np.ones(user_book.shape[0]).astype(int)\n",
    "\n",
    "col  = user_book.user.values\n",
    "user_mat = csr_matrix((data, (row, col)), shape=(user_book.shape[0], n_users))\n",
    "\n",
    "col  = user_book.book.values\n",
    "book_mat = csr_matrix((data, (row, col)), shape=(user_book.shape[0], n_books))\n",
    "\n",
    "col  = user_book.author.values\n",
    "author_mat = csr_matrix((data, (row, col)), shape=(user_book.shape[0], (n_authors+1)))\n",
    "\n",
    "col  = user_book.publisher.values\n",
    "publisher_mat = csr_matrix((data, (row, col)), shape=(user_book.shape[0], (n_publishers+1)))\n",
    "\n",
    "col  = user_book.year.values\n",
    "year_mat = csr_matrix((data, (row, col)), shape=(user_book.shape[0], (n_years+1)))\n",
    "\n",
    "col  = user_book.location.values\n",
    "location_mat = csr_matrix((data, (row, col)), shape=(user_book.shape[0], (n_locations+1)))"
   ]
  },
  {
   "cell_type": "code",
   "execution_count": 64,
   "id": "4ce6a961",
   "metadata": {},
   "outputs": [],
   "source": [
    "ub_fea_mat = hstack([user_mat, book_mat, author_mat, publisher_mat, year_mat, location_mat, ui_mat, group_mat])\n",
    "ub_fea_mat = ub_fea_mat.tocsr()\n",
    "sparse.save_npz('C:/Users/bbb50/Desktop/Python/hw3/DoubanBook/ub_fea_mat.npz', ub_fea_mat, True) "
   ]
  },
  {
   "cell_type": "code",
   "execution_count": 66,
   "id": "513d01bf",
   "metadata": {},
   "outputs": [
    {
     "name": "stderr",
     "output_type": "stream",
     "text": [
      "C:\\Users\\bbb50\\anaconda3\\envs\\graph\\lib\\site-packages\\sklearn\\model_selection\\_split.py:666: UserWarning: The least populated class in y has only 3 members, which is less than n_splits=5.\n",
      "  warnings.warn((\"The least populated class in y has only %d\"\n"
     ]
    }
   ],
   "source": [
    "root = 'C:/Users/bbb50/Desktop/Python/hw3/DoubanBook'\n",
    "\n",
    "train_val_list, test_list = [], []\n",
    "test_ind_list = []\n",
    "\n",
    "skf = StratifiedKFold(n_splits=5)\n",
    "ub_i = user_book.index.to_numpy()\n",
    "\n",
    "for train_index, test_index in skf.split(ub_i, user_book.user.to_numpy()):\n",
    "    train, test =ub_i[train_index], ub_i[test_index]\n",
    "    test_ind_list.append(test_index)\n",
    "    train_val_list.append(user_book.loc[train])\n",
    "    test_list.append(user_book.loc[test])\n",
    "    \n",
    "train_list, val_list = [], []\n",
    "train_ind_list, val_ind_list = [], []\n",
    "\n",
    "for df in train_val_list:\n",
    "    train_ind, val_ind, _ , _ = train_test_split(df.index.to_numpy(), df.user.to_numpy(), stratify = df.user.to_numpy(), test_size = 1/8)\n",
    "    \n",
    "    val_list.append(df.loc[val_ind])\n",
    "    train_list.append(df.loc[train_ind])    \n",
    "\n",
    "    val_ind_list.append(val_ind)\n",
    "    train_ind_list.append(train_ind)    \n",
    "    "
   ]
  },
  {
   "cell_type": "code",
   "execution_count": 67,
   "id": "db3ce4eb",
   "metadata": {},
   "outputs": [],
   "source": [
    "sub_dir =  os.path.join(root, 'train')\n",
    "if not(os.path.isdir(sub_dir)):\n",
    "    os.makedirs(sub_dir)\n",
    "for i, ind in enumerate(train_ind_list):\n",
    "    \n",
    "    path = os.path.join(sub_dir, 'train_ind'+str(i)+'.npy')\n",
    "    np.save(path, ind)\n",
    "\n",
    "sub_dir =  os.path.join(root, 'test')\n",
    "if not(os.path.isdir(sub_dir)):\n",
    "    os.makedirs(sub_dir)\n",
    "for i, ind in enumerate(test_ind_list):\n",
    "    \n",
    "    path = os.path.join(sub_dir, 'test_ind'+str(i)+'.npy')\n",
    "    np.save(path, ind)\n",
    "    \n",
    "sub_dir =  os.path.join(root, 'val')\n",
    "if not(os.path.isdir(sub_dir)):\n",
    "    os.makedirs(sub_dir)\n",
    "for i, ind in enumerate(val_ind_list):\n",
    "    \n",
    "    path = os.path.join(sub_dir, 'val_ind'+str(i)+'.npy')\n",
    "    np.save(path, ind)"
   ]
  },
  {
   "cell_type": "code",
   "execution_count": null,
   "id": "886b4cff",
   "metadata": {},
   "outputs": [],
   "source": []
  }
 ],
 "metadata": {
  "kernelspec": {
   "display_name": "Python 3",
   "language": "python",
   "name": "python3"
  },
  "language_info": {
   "codemirror_mode": {
    "name": "ipython",
    "version": 3
   },
   "file_extension": ".py",
   "mimetype": "text/x-python",
   "name": "python",
   "nbconvert_exporter": "python",
   "pygments_lexer": "ipython3",
   "version": "3.8.8"
  }
 },
 "nbformat": 4,
 "nbformat_minor": 5
}
