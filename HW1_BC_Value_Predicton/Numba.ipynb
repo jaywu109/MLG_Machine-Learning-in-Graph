{
 "cells": [
  {
   "cell_type": "code",
   "execution_count": 1,
   "id": "f00b386e",
   "metadata": {},
   "outputs": [],
   "source": [
    "import numpy as np\n",
    "import networkx as nx\n",
    "import random \n",
    "import math\n",
    "import pandas as pd\n",
    "import os \n",
    "from tqdm import tqdm"
   ]
  },
  {
   "cell_type": "code",
   "execution_count": 2,
   "id": "b63725a0",
   "metadata": {},
   "outputs": [],
   "source": [
    "from multiprocessing import Pool\n",
    "import time\n",
    "import itertools\n",
    "\n",
    "import matplotlib.pyplot as plt\n",
    "import networkx as nx\n",
    "import numba as nb\n",
    "\n",
    "\n",
    "def chunks(l, n):\n",
    "    \"\"\"Divide a list of nodes `l` in `n` chunks\"\"\"\n",
    "    l_c = iter(l)\n",
    "    while 1:\n",
    "        x = tuple(itertools.islice(l_c, n))\n",
    "        if not x:\n",
    "            return\n",
    "        yield x\n",
    "\n",
    "\n",
    "def betweenness_centrality_parallel(G, processes=None):\n",
    "    \"\"\"Parallel betweenness centrality  function\"\"\"\n",
    "    p = Pool(processes=processes)\n",
    "    node_divisor = len(p._pool) * 4\n",
    "    node_chunks = list(chunks(G.nodes(), int(G.order() / node_divisor)))\n",
    "    num_chunks = len(node_chunks)\n",
    "    bt_sc = p.starmap(\n",
    "        nx.betweenness_centrality_subset,\n",
    "        zip(\n",
    "            [G] * num_chunks,\n",
    "            node_chunks,\n",
    "            [list(G)] * num_chunks,\n",
    "            [True] * num_chunks,\n",
    "            [None] * num_chunks,\n",
    "        ),\n",
    "    )\n",
    "\n",
    "    # Reduce the partial solutions\n",
    "    bt_c = bt_sc[0]\n",
    "    for bt in bt_sc[1:]:\n",
    "        for n in bt:\n",
    "            bt_c[n] += bt[n]\n",
    "    return bt_c\n"
   ]
  },
  {
   "cell_type": "code",
   "execution_count": 3,
   "id": "366792c3",
   "metadata": {},
   "outputs": [],
   "source": [
    "graph_dir = 'C:\\\\Users\\\\bbb50\\\\Desktop\\\\Python\\\\hw1\\\\test_graph_20000\\\\'\n",
    "bc_val_dir = 'C:\\\\Users\\\\bbb50\\\\Desktop\\\\Python\\\\hw1\\\\test_bc_val_20000\\\\'"
   ]
  },
  {
   "cell_type": "code",
   "execution_count": null,
   "id": "b93ac876",
   "metadata": {},
   "outputs": [
    {
     "name": "stderr",
     "output_type": "stream",
     "text": [
      "\r",
      "  0%|                                                                                            | 0/6 [00:00<?, ?it/s]"
     ]
    }
   ],
   "source": [
    "for i in tqdm(range(24,30)):\n",
    "    g = nx.powerlaw_cluster_graph(n=20000 , m=4, p=0.05, seed=None)\n",
    "    bc = betweenness_centrality_parallel(g, processes=8)\n",
    "    bc_val = [bc[j] for j in bc]\n",
    "    nx.write_adjlist(g, (graph_dir + str(i)))\n",
    "    np.save((bc_val_dir + str(i) + '.npy'), np.array(bc_val))"
   ]
  },
  {
   "cell_type": "code",
   "execution_count": null,
   "id": "69305e68",
   "metadata": {},
   "outputs": [],
   "source": []
  }
 ],
 "metadata": {
  "kernelspec": {
   "display_name": "Python 3",
   "language": "python",
   "name": "python3"
  },
  "language_info": {
   "codemirror_mode": {
    "name": "ipython",
    "version": 3
   },
   "file_extension": ".py",
   "mimetype": "text/x-python",
   "name": "python",
   "nbconvert_exporter": "python",
   "pygments_lexer": "ipython3",
   "version": "3.8.8"
  }
 },
 "nbformat": 4,
 "nbformat_minor": 5
}
