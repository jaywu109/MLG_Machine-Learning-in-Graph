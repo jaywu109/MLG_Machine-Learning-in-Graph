{
 "cells": [
  {
   "cell_type": "code",
   "execution_count": 1,
   "id": "f94b15e3",
   "metadata": {},
   "outputs": [],
   "source": [
    "import torch\n",
    "from torch_geometric.data import InMemoryDataset, download_url\n",
    "from torch_geometric.data import DataLoader\n",
    "\n",
    "import torch.nn as nn\n",
    "from torch_geometric.nn import MessagePassing\n",
    "from torch_geometric.utils import add_self_loops, degree\n",
    "\n",
    "from torch.optim import Adam\n",
    "from torch.utils.tensorboard import SummaryWriter   \n",
    "\n",
    "from tqdm import tqdm\n",
    "import random\n",
    "import numpy as np"
   ]
  },
  {
   "cell_type": "code",
   "execution_count": 2,
   "id": "84bcd3bc",
   "metadata": {},
   "outputs": [],
   "source": [
    "class train_5000(InMemoryDataset):\n",
    "    def __init__(self, root, transform=None, pre_transform=None):\n",
    "        super(train_5000, self).__init__(root, transform, pre_transform)\n",
    "        self.data, self.slices = torch.load(self.processed_paths[0])\n",
    "\n",
    "    @property\n",
    "    def raw_file_names(self):\n",
    "        return []\n",
    "\n",
    "    @property\n",
    "    def processed_file_names(self):\n",
    "        return ['data.pt']\n",
    "\n",
    "\n",
    "\n",
    "    def process(self):\n",
    "        # Read data into huge `Data` list.\n",
    "\n",
    "\n",
    "\n",
    "        data, slices = self.collate(dl)\n",
    "        torch.save((data, slices), self.processed_paths[0])"
   ]
  },
  {
   "cell_type": "code",
   "execution_count": 3,
   "id": "6078351d",
   "metadata": {},
   "outputs": [],
   "source": [
    "import torch\n",
    "from torch_geometric.data import InMemoryDataset, download_url\n",
    "\n",
    "\n",
    "class val_5000(InMemoryDataset):\n",
    "    def __init__(self, root, transform=None, pre_transform=None):\n",
    "        super(val_5000, self).__init__(root, transform, pre_transform)\n",
    "        self.data, self.slices = torch.load(self.processed_paths[0])\n",
    "\n",
    "    @property\n",
    "    def raw_file_names(self):\n",
    "        return []\n",
    "\n",
    "    @property\n",
    "    def processed_file_names(self):\n",
    "        return ['data.pt']\n",
    "\n",
    "\n",
    "\n",
    "    def process(self):\n",
    "        # Read data into huge `Data` list.\n",
    "\n",
    "\n",
    "\n",
    "        data, slices = self.collate(dl_test)\n",
    "        torch.save((data, slices), self.processed_paths[0])"
   ]
  },
  {
   "cell_type": "code",
   "execution_count": 4,
   "id": "9b8de103",
   "metadata": {},
   "outputs": [],
   "source": [
    "\n",
    "class GCNConv(MessagePassing):\n",
    "    def __init__(self, in_channels, out_channels):\n",
    "        super(GCNConv, self).__init__(aggr='add')\n",
    "        self.lin = torch.nn.Linear(in_channels, out_channels)\n",
    "\n",
    "\n",
    "    def forward(self, x, edge_index):\n",
    "        edge_index, _ = add_self_loops(edge_index, num_nodes=x.size(0))\n",
    "        x = self.lin(x)\n",
    "        row, col = edge_index\n",
    "        deg = degree(row, x.size(0), dtype=x.dtype) + 1\n",
    "        deg_inv_sqrt = deg.pow(-0.5)\n",
    "        norm = deg_inv_sqrt[row] * deg_inv_sqrt[col]\n",
    "\n",
    "        return self.propagate(edge_index, size=(x.size(0), x.size(0)), x=x, norm=norm)\n",
    "\n",
    "    def message(self, x_j, norm):\n",
    "\n",
    "        return norm.view(-1, 1) * x_j\n",
    "\n",
    "    def update(self, aggr_out):\n",
    "\n",
    "        return aggr_out\n",
    "\n",
    "class dr_bc(nn.Module):\n",
    "    def __init__(self,):\n",
    "        super(dr_bc, self).__init__()\n",
    "\n",
    "        self.fc1 = nn.Linear(3, 128)\n",
    "        self.relu = nn.LeakyReLU()\n",
    "        \n",
    "        self.gru1 = nn.GRU(128, 128)\n",
    "        self.gru2 = nn.GRU(128, 128)\n",
    "        self.gru3 = nn.GRU(128, 128)\n",
    "        self.gru4 = nn.GRU(128, 128)\n",
    "        \n",
    "        \n",
    "        self.gcn1 = GCNConv(128, 128)\n",
    "        self.gcn2 = GCNConv(128, 128)\n",
    "        self.gcn3 = GCNConv(128, 128)\n",
    "        self.gcn4 = GCNConv(128, 128)\n",
    "        self.gcn5 = GCNConv(128, 128)\n",
    "\n",
    "        # Decoder\n",
    "        self.fc2 = nn.Linear(128, 64)\n",
    "        self.relu2 = nn.LeakyReLU()\n",
    "        self.fc3 = nn.Linear(64, 1)\n",
    "\n",
    "    def forward(self, x, edge_index):\n",
    "        \n",
    "        x = self.fc1(x)\n",
    "        x_1v = self.relu(x)\n",
    "        x_1v = x_1v/torch.norm(x_1v, p=2)\n",
    "        x_2n = self.gcn1(x_1v, edge_index)\n",
    "        x_2v, _ = self.gru1(x_2n.view(1, *x_2n.shape), x_1v.view(1, *x_1v.shape))\n",
    "        x_3n = self.gcn2(x_2v[0], edge_index)\n",
    "        x_3v, _ = self.gru2(x_3n.view(1, *x_3n.shape), x_2v)\n",
    "        x_4n = self.gcn3(x_3v[0], edge_index)\n",
    "        x_4v, _ = self.gru3(x_4n.view(1, *x_4n.shape), x_3v)\n",
    "        x_5n = self.gcn4(x_4v[0], edge_index)\n",
    "        x_5v, _ = self.gru4(x_5n.view(1, *x_5n.shape), x_4v)\n",
    "\n",
    "        \n",
    "        # max\n",
    "        l = torch.stack([x_1v, x_2v[0], x_3v[0], x_4v[0], x_5v[0]])\n",
    "        emb = torch.max(l, dim=0).values\n",
    "\n",
    "\n",
    "        # decoder\n",
    "        y = self.fc2(emb)\n",
    "        y = self.relu2(y)\n",
    "        y = self.fc3(y)\n",
    "        return y\n",
    "\n"
   ]
  },
  {
   "cell_type": "code",
   "execution_count": 5,
   "id": "c4b063a4",
   "metadata": {},
   "outputs": [],
   "source": [
    "\n",
    "# class GCNConv(MessagePassing):\n",
    "#     def __init__(self, in_channels, out_channels):\n",
    "#         super(GCNConv, self).__init__(aggr='add')\n",
    "#         self.lin = torch.nn.Linear(in_channels, out_channels)\n",
    "\n",
    "\n",
    "#     def forward(self, x, edge_index):\n",
    "#         edge_index, _ = add_self_loops(edge_index, num_nodes=x.size(0))\n",
    "#         x = self.lin(x)\n",
    "#         row, col = edge_index\n",
    "#         deg = degree(row, x.size(0), dtype=x.dtype) + 1\n",
    "#         deg_inv_sqrt = deg.pow(-0.5)\n",
    "#         norm = deg_inv_sqrt[row] * deg_inv_sqrt[col]\n",
    "\n",
    "#         return self.propagate(edge_index, size=(x.size(0), x.size(0)), x=x, norm=norm)\n",
    "\n",
    "#     def message(self, x_j, norm):\n",
    "\n",
    "#         return norm.view(-1, 1) * x_j\n",
    "\n",
    "#     def update(self, aggr_out):\n",
    "\n",
    "#         return aggr_out\n",
    "\n",
    "# class dr_bc(nn.Module):\n",
    "#     def __init__(self,):\n",
    "#         super(dr_bc, self).__init__()\n",
    "\n",
    "#         self.fc1 = nn.Linear(3, 128)\n",
    "#         self.relu = nn.LeakyReLU()\n",
    "        \n",
    "#         self.gru = nn.GRU(128, 128)\n",
    "        \n",
    "        \n",
    "#         self.gcn1 = GCNConv(128, 128)\n",
    "#         self.gcn2 = GCNConv(128, 128)\n",
    "#         self.gcn3 = GCNConv(128, 128)\n",
    "#         self.gcn4 = GCNConv(128, 128)\n",
    "#         self.gcn5 = GCNConv(128, 128)\n",
    "\n",
    "#         # Decoder\n",
    "#         self.fc2 = nn.Linear(128, 64)\n",
    "#         self.relu2 = nn.LeakyReLU()\n",
    "#         self.fc3 = nn.Linear(64, 1)\n",
    "\n",
    "#     def forward(self, x, edge_index):\n",
    "        \n",
    "#         x = self.fc1(x)\n",
    "#         x_1v = self.relu(x)\n",
    "#         x_1v = x_1v/torch.norm(x_1v, p=2)\n",
    "#         x_2n = self.gcn1(x_1v, edge_index)\n",
    "#         x_2v, _ = self.gru(x_2n.view(1, *x_2n.shape), x_1v.view(1, *x_1v.shape))\n",
    "#         x_3n = self.gcn2(x_2v[0], edge_index)\n",
    "#         x_3v, _ = self.gru(x_3n.view(1, *x_3n.shape), x_2v)\n",
    "#         x_4n = self.gcn3(x_3v[0], edge_index)\n",
    "#         x_4v, _ = self.gru(x_4n.view(1, *x_4n.shape), x_3v)\n",
    "#         x_5n = self.gcn4(x_4v[0], edge_index)\n",
    "#         x_5v, _ = self.gru(x_5n.view(1, *x_5n.shape), x_4v)\n",
    "\n",
    "        \n",
    "#         # max\n",
    "#         l = torch.stack([x_1v, x_2v[0], x_3v[0], x_4v[0], x_5v[0]])\n",
    "#         emb = torch.max(l, dim=0).values\n",
    "\n",
    "\n",
    "#         # decoder\n",
    "#         y = self.fc2(emb)\n",
    "#         y = self.relu2(y)\n",
    "#         y = self.fc3(y)\n",
    "#         return y\n",
    "\n"
   ]
  },
  {
   "cell_type": "code",
   "execution_count": 6,
   "id": "b7738d75",
   "metadata": {},
   "outputs": [],
   "source": [
    "batch_size = 25\n",
    "train_d = train_5000(root='C:/Users/bbb50/Desktop/Python/hw1/train_5000')\n",
    "train_loader = DataLoader(train_d, batch_size=batch_size, shuffle=True)\n",
    "\n",
    "val_d = val_5000(root='C:/Users/bbb50/Desktop/Python/hw1/val_5000')\n",
    "val_loader = DataLoader(val_d, batch_size=batch_size, shuffle=True)"
   ]
  },
  {
   "cell_type": "code",
   "execution_count": null,
   "id": "84400377",
   "metadata": {},
   "outputs": [],
   "source": []
  },
  {
   "cell_type": "code",
   "execution_count": 7,
   "id": "e305ea78",
   "metadata": {},
   "outputs": [],
   "source": [
    "# node_num = 5000\n",
    "\n",
    "# np_list = []\n",
    "# for n in tqdm(range(50)):\n",
    "#     node_pair = []\n",
    "#     for i in range(batch_size):\n",
    "#         for j in range(node_num*5):\n",
    "#             node_pair.append(random.sample(range(i*node_num, node_num+i*node_num), 2))\n",
    "#     np_list.append(node_pair)\n",
    "# np_list = torch.tensor( np_list, dtype=torch.long)\n",
    "# torch.save(np_list, 'node_pair_5000_size25')"
   ]
  },
  {
   "cell_type": "code",
   "execution_count": 8,
   "id": "a2c1e653",
   "metadata": {},
   "outputs": [],
   "source": [
    "node_pair = torch.load('node_pair_5000_size25').cuda()"
   ]
  },
  {
   "cell_type": "code",
   "execution_count": 9,
   "id": "fc67b9fb",
   "metadata": {},
   "outputs": [],
   "source": [
    "writer = SummaryWriter('./path/to/log')"
   ]
  },
  {
   "cell_type": "code",
   "execution_count": 10,
   "id": "9156ba2d",
   "metadata": {},
   "outputs": [],
   "source": [
    "def train(data, node_pair):\n",
    "    \n",
    "    model.train()\n",
    "    optimizer.zero_grad() \n",
    "\n",
    "    output = model(data.x.cuda(), data.edge_index.cuda()) \n",
    "\n",
    "    if data.num_graphs == batch_size:\n",
    "        pair = node_pair\n",
    "    else:\n",
    "        pair = node_pair[:data.num_graphs*node_num*5]\n",
    "\n",
    "    yij = output[pair[:, 0]] - output[pair[:, 1]]\n",
    "    bij = torch.sigmoid((data.y.cuda()[pair[:, 0]] - data.y.cuda()[pair[:, 1]]))\n",
    "    bij = bij.view(yij.shape)\n",
    "\n",
    "    train_loss = criterion(yij, bij)\n",
    "    train_loss.backward()\n",
    "    optimizer.step()\n",
    "    \n",
    "    return train_loss\n",
    "\n",
    "def val(data, node_pair):\n",
    "    with torch.no_grad():\n",
    "        \n",
    "        model.eval()\n",
    "        output = model(data.x.cuda(), data.edge_index.cuda()) \n",
    "\n",
    "        if data.num_graphs == batch_size:\n",
    "            pair = node_pair\n",
    "        else:\n",
    "            pair = node_pair[:data.num_graphs*node_num*5]\n",
    "\n",
    "        yij = output[pair[:, 0]] - output[pair[:, 1]]\n",
    "        bij = torch.sigmoid((data.y.cuda()[pair[:, 0]] - data.y.cuda()[pair[:, 1]]))\n",
    "        bij = bij.view(yij.shape)\n",
    "\n",
    "        val_loss = criterion(yij, bij)\n",
    "    \n",
    "    return val_loss"
   ]
  },
  {
   "cell_type": "code",
   "execution_count": 13,
   "id": "bd482f0a",
   "metadata": {},
   "outputs": [],
   "source": [
    "model = dr_bc()\n",
    "\n",
    "criterion = nn.BCEWithLogitsLoss()\n",
    "checkpoint = torch.load('5000_train.pth')\n",
    "model.load_state_dict(checkpoint['model_state_dict'])\n",
    "model = model.cuda()\n",
    "optimizer = torch.optim.Adam(model.parameters(), lr=0.0001)\n",
    "optimizer.load_state_dict(checkpoint['optimizer_state_dict'])\n",
    "\n",
    "epoch_start = checkpoint['epoch']\n",
    "epochs = 10000\n",
    "node_num = 5000\n",
    "count = 0\n",
    "\n",
    "early_count = 0"
   ]
  },
  {
   "cell_type": "code",
   "execution_count": 14,
   "id": "c6f7b65c",
   "metadata": {},
   "outputs": [
    {
     "data": {
      "text/plain": [
       "23"
      ]
     },
     "execution_count": 14,
     "metadata": {},
     "output_type": "execute_result"
    }
   ],
   "source": [
    "epoch_start"
   ]
  },
  {
   "cell_type": "code",
   "execution_count": 14,
   "id": "c293452f",
   "metadata": {},
   "outputs": [],
   "source": [
    "# model = dr_bc()\n",
    "# criterion = nn.BCEWithLogitsLoss()\n",
    "# optimizer = torch.optim.Adam(model.parameters(), lr=0.0001)\n",
    "# model = model.cuda()\n",
    "# epochs = 10000\n",
    "# node_num = 5000\n",
    "# count = 0\n",
    "# early_count = 0"
   ]
  },
  {
   "cell_type": "code",
   "execution_count": 15,
   "id": "3476bd9e",
   "metadata": {
    "scrolled": true
   },
   "outputs": [
    {
     "name": "stderr",
     "output_type": "stream",
     "text": [
      "100%|████████████████████████████████████████████████████████████████████████████████| 280/280 [08:40<00:00,  1.86s/it]\n",
      "  0%|                                                                                          | 0/280 [00:00<?, ?it/s]"
     ]
    },
    {
     "name": "stdout",
     "output_type": "stream",
     "text": [
      "Epoch: 00023, train_loss: 0.6931467249989509, val_loss: 0.6931466857592264, last_val_loss: 0.6931466857592264, not_improve_count: 00\n"
     ]
    },
    {
     "name": "stderr",
     "output_type": "stream",
     "text": [
      "100%|████████████████████████████████████████████████████████████████████████████████| 280/280 [07:24<00:00,  1.59s/it]\n",
      "  0%|                                                                                          | 0/280 [00:00<?, ?it/s]"
     ]
    },
    {
     "name": "stdout",
     "output_type": "stream",
     "text": [
      "Epoch: 00024, train_loss: 0.6931467228702136, val_loss: 0.6931467254956564, last_val_loss: 0.6931466857592264, not_improve_count: 01\n"
     ]
    },
    {
     "name": "stderr",
     "output_type": "stream",
     "text": [
      " 14%|██████████▉                                                                      | 38/280 [01:00<06:23,  1.58s/it]\n"
     ]
    },
    {
     "ename": "KeyboardInterrupt",
     "evalue": "",
     "output_type": "error",
     "traceback": [
      "\u001b[1;31m---------------------------------------------------------------------------\u001b[0m",
      "\u001b[1;31mKeyboardInterrupt\u001b[0m                         Traceback (most recent call last)",
      "\u001b[1;32m<ipython-input-15-d1befb5e4893>\u001b[0m in \u001b[0;36m<module>\u001b[1;34m\u001b[0m\n\u001b[0;32m      7\u001b[0m     \u001b[1;32mfor\u001b[0m \u001b[0mtrain_data\u001b[0m \u001b[1;32min\u001b[0m \u001b[0mtqdm\u001b[0m\u001b[1;33m(\u001b[0m\u001b[0mtrain_loader\u001b[0m\u001b[1;33m)\u001b[0m\u001b[1;33m:\u001b[0m\u001b[1;33m\u001b[0m\u001b[1;33m\u001b[0m\u001b[0m\n\u001b[0;32m      8\u001b[0m         \u001b[0mt_loss\u001b[0m \u001b[1;33m=\u001b[0m \u001b[0mtrain\u001b[0m\u001b[1;33m(\u001b[0m\u001b[0mtrain_data\u001b[0m\u001b[1;33m,\u001b[0m \u001b[0mn_p\u001b[0m\u001b[1;33m)\u001b[0m\u001b[1;33m\u001b[0m\u001b[1;33m\u001b[0m\u001b[0m\n\u001b[1;32m----> 9\u001b[1;33m         \u001b[0mtrain_loss\u001b[0m\u001b[1;33m.\u001b[0m\u001b[0mappend\u001b[0m\u001b[1;33m(\u001b[0m\u001b[0mt_loss\u001b[0m\u001b[1;33m.\u001b[0m\u001b[0mitem\u001b[0m\u001b[1;33m(\u001b[0m\u001b[1;33m)\u001b[0m\u001b[1;33m)\u001b[0m\u001b[1;33m\u001b[0m\u001b[1;33m\u001b[0m\u001b[0m\n\u001b[0m\u001b[0;32m     10\u001b[0m \u001b[1;33m\u001b[0m\u001b[0m\n\u001b[0;32m     11\u001b[0m \u001b[1;33m\u001b[0m\u001b[0m\n",
      "\u001b[1;31mKeyboardInterrupt\u001b[0m: "
     ]
    }
   ],
   "source": [
    "\n",
    "for epoch in range(epoch_start, epochs):\n",
    "    \n",
    "    n_p = node_pair[0]\n",
    "    train_loss = []\n",
    "    val_loss = []\n",
    "    \n",
    "    for train_data in tqdm(train_loader):\n",
    "        t_loss = train(train_data, n_p)\n",
    "        train_loss.append(t_loss.item())\n",
    "\n",
    "    \n",
    "    for val_data in val_loader:\n",
    "        v_loss = val(val_data, node_pair[0])\n",
    "        val_loss.append(v_loss.item()) \n",
    "\n",
    "    new_train_loss = np.array(train_loss).mean()\n",
    "    new_val_loss = np.array(val_loss).mean()\n",
    "    \n",
    "    writer.add_scalar('loss/train_loss', new_train_loss, epoch)\n",
    "    writer.add_scalar('loss/val_loss', new_val_loss, epoch)\n",
    "    \n",
    "    if epoch > epoch_start:\n",
    "        if new_val_loss > last_val_loss:\n",
    "            count = count + 1\n",
    "        elif new_val_loss < last_val_loss:\n",
    "\n",
    "            torch.save({\n",
    "            'epoch': epoch,\n",
    "            'model_state_dict': model.state_dict(),\n",
    "            'optimizer_state_dict': optimizer.state_dict(),\n",
    "            'loss': new_train_loss,\n",
    "            }, \"5000_train.pth\")\n",
    "            last_val_loss = new_val_loss\n",
    "            count = 0\n",
    "            \n",
    "    if epoch == epoch_start:\n",
    "        last_val_loss = new_val_loss\n",
    "    if count> 50:\n",
    "        n_p = node_pair[np.random.randint(0, node_pair.shape[0], 1)[0]]\n",
    "        early_count = early_count + 1\n",
    "        \n",
    "    if early_count > 15:\n",
    "        break\n",
    "\n",
    "    log = 'Epoch: {:05d}, train_loss: {:}, val_loss: {:}, last_val_loss: {:}, not_improve_count: {:02d}'\n",
    "    print(log.format(epoch, new_train_loss, new_val_loss, last_val_loss, count))"
   ]
  },
  {
   "cell_type": "code",
   "execution_count": 13,
   "id": "a7815ac9",
   "metadata": {},
   "outputs": [
    {
     "name": "stderr",
     "output_type": "stream",
     "text": [
      "100%|████████████████████████████████████████████████████████████████████████████████| 280/280 [01:17<00:00,  3.60it/s]\n",
      "  0%|                                                                                          | 0/280 [00:00<?, ?it/s]"
     ]
    },
    {
     "name": "stdout",
     "output_type": "stream",
     "text": [
      "Epoch: 00000, train_loss: 0.6931468078068325, val_loss: 0.6931467851003011, not_improve_count: 00\n"
     ]
    },
    {
     "name": "stderr",
     "output_type": "stream",
     "text": [
      "100%|████████████████████████████████████████████████████████████████████████████████| 280/280 [01:08<00:00,  4.07it/s]\n",
      "  0%|                                                                                          | 0/280 [00:00<?, ?it/s]"
     ]
    },
    {
     "name": "stdout",
     "output_type": "stream",
     "text": [
      "Epoch: 00001, train_loss: 0.6931467824748584, val_loss: 0.6931467652320862, not_improve_count: 00\n"
     ]
    },
    {
     "name": "stderr",
     "output_type": "stream",
     "text": [
      "100%|████████████████████████████████████████████████████████████████████████████████| 280/280 [01:08<00:00,  4.06it/s]\n",
      "  0%|                                                                                          | 0/280 [00:00<?, ?it/s]"
     ]
    },
    {
     "name": "stdout",
     "output_type": "stream",
     "text": [
      "Epoch: 00002, train_loss: 0.6931467769401414, val_loss: 0.6931467254956564, not_improve_count: 00\n"
     ]
    },
    {
     "name": "stderr",
     "output_type": "stream",
     "text": [
      "100%|████████████████████████████████████████████████████████████████████████████████| 280/280 [01:09<00:00,  4.05it/s]\n",
      "  0%|                                                                                          | 0/280 [00:00<?, ?it/s]"
     ]
    },
    {
     "name": "stdout",
     "output_type": "stream",
     "text": [
      "Epoch: 00003, train_loss: 0.6931467728955405, val_loss: 0.6931467652320862, not_improve_count: 01\n"
     ]
    },
    {
     "name": "stderr",
     "output_type": "stream",
     "text": [
      "100%|████████████████████████████████████████████████████████████████████████████████| 280/280 [01:09<00:00,  4.05it/s]\n",
      "  0%|                                                                                          | 0/280 [00:00<?, ?it/s]"
     ]
    },
    {
     "name": "stdout",
     "output_type": "stream",
     "text": [
      "Epoch: 00004, train_loss: 0.6931467671479498, val_loss: 0.6931467851003011, not_improve_count: 02\n"
     ]
    },
    {
     "name": "stderr",
     "output_type": "stream",
     "text": [
      "100%|████████████████████████████████████████████████████████████████████████████████| 280/280 [01:09<00:00,  4.04it/s]\n",
      "  0%|                                                                                          | 0/280 [00:00<?, ?it/s]"
     ]
    },
    {
     "name": "stdout",
     "output_type": "stream",
     "text": [
      "Epoch: 00005, train_loss: 0.693146759058748, val_loss: 0.6931467652320862, not_improve_count: 00\n"
     ]
    },
    {
     "name": "stderr",
     "output_type": "stream",
     "text": [
      "100%|████████████████████████████████████████████████████████████████████████████████| 280/280 [01:09<00:00,  4.04it/s]\n",
      "  0%|                                                                                          | 0/280 [00:00<?, ?it/s]"
     ]
    },
    {
     "name": "stdout",
     "output_type": "stream",
     "text": [
      "Epoch: 00006, train_loss: 0.6931467569300107, val_loss: 0.6931467652320862, not_improve_count: 00\n"
     ]
    },
    {
     "name": "stderr",
     "output_type": "stream",
     "text": [
      "100%|████████████████████████████████████████████████████████████████████████████████| 280/280 [01:09<00:00,  4.04it/s]\n",
      "  0%|                                                                                          | 0/280 [00:00<?, ?it/s]"
     ]
    },
    {
     "name": "stdout",
     "output_type": "stream",
     "text": [
      "Epoch: 00007, train_loss: 0.6931467584201267, val_loss: 0.6931467453638712, not_improve_count: 00\n"
     ]
    },
    {
     "name": "stderr",
     "output_type": "stream",
     "text": [
      "100%|████████████████████████████████████████████████████████████████████████████████| 280/280 [01:09<00:00,  4.02it/s]\n",
      "  0%|                                                                                          | 0/280 [00:00<?, ?it/s]"
     ]
    },
    {
     "name": "stdout",
     "output_type": "stream",
     "text": [
      "Epoch: 00008, train_loss: 0.6931467511824199, val_loss: 0.6931467453638712, not_improve_count: 00\n"
     ]
    },
    {
     "name": "stderr",
     "output_type": "stream",
     "text": [
      "100%|████████████████████████████████████████████████████████████████████████████████| 280/280 [01:09<00:00,  4.02it/s]\n"
     ]
    },
    {
     "name": "stdout",
     "output_type": "stream",
     "text": [
      "Epoch: 00009, train_loss: 0.6931467539497784, val_loss: 0.6931467652320862, not_improve_count: 01\n"
     ]
    }
   ],
   "source": [
    "# # train_loss_l = []\n",
    "# # val_loss_l = []\n",
    "# for epoch in range(epochs):\n",
    "    \n",
    "#     train_loss = []\n",
    "#     val_loss = []\n",
    "    \n",
    "#     for train_data in tqdm(train_loader):\n",
    "#         t_loss = train(train_data, node_pair)\n",
    "#         train_loss.append(t_loss.item())\n",
    "# #         print(t_loss.item())\n",
    "    \n",
    "# #     print('/')\n",
    "# #     print('validation')\n",
    "    \n",
    "#     for val_data in val_loader:\n",
    "#         v_loss = val(val_data, node_pair)\n",
    "#         val_loss.append(v_loss.item()) \n",
    "# #         print(v_loss.item())\n",
    "    \n",
    "# #     train_loss_l.append(train_loss)\n",
    "# #     val_loss_l.append(val_loss)\n",
    "#     new_train_loss = np.array(train_loss).mean()\n",
    "#     new_val_loss = np.array(val_loss).mean()\n",
    "    \n",
    "#     writer.add_scalar('loss/train_loss', new_train_loss, epoch)\n",
    "#     writer.add_scalar('loss/val_loss', new_val_loss, epoch)\n",
    "    \n",
    "#     if epoch > 1:\n",
    "#         if new_val_loss > last_val_loss:\n",
    "#             count = count + 1\n",
    "#         else:\n",
    "#             torch.save(model.state_dict(), \"weight.pth\")\n",
    "#             count = 0\n",
    "#     if count> 50:\n",
    "#         break\n",
    " \n",
    "#     last_val_loss = new_val_loss\n",
    "\n",
    "#     log = 'Epoch: {:05d}, train_loss: {:}, val_loss: {:}, not_improve_count: {:02d}'\n",
    "#     print(log.format(epoch, new_train_loss, new_val_loss, count))"
   ]
  },
  {
   "cell_type": "code",
   "execution_count": 16,
   "id": "ad0fd821",
   "metadata": {},
   "outputs": [
    {
     "name": "stdout",
     "output_type": "stream",
     "text": [
      "Epoch: 00000, train_loss: 0.6977, val_loss: 0.6931\n"
     ]
    }
   ],
   "source": [
    "# print(log.format(epoch, new_train_loss, new_val_loss))"
   ]
  },
  {
   "cell_type": "code",
   "execution_count": 24,
   "id": "ce754962",
   "metadata": {},
   "outputs": [],
   "source": [
    "from numba import cuda \n",
    "device = cuda.get_current_device()\n",
    "device.reset()"
   ]
  }
 ],
 "metadata": {
  "kernelspec": {
   "display_name": "Python 3",
   "language": "python",
   "name": "python3"
  },
  "language_info": {
   "codemirror_mode": {
    "name": "ipython",
    "version": 3
   },
   "file_extension": ".py",
   "mimetype": "text/x-python",
   "name": "python",
   "nbconvert_exporter": "python",
   "pygments_lexer": "ipython3",
   "version": "3.8.8"
  }
 },
 "nbformat": 4,
 "nbformat_minor": 5
}
